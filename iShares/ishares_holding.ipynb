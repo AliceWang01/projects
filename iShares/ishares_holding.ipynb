{
 "cells": [
  {
   "cell_type": "code",
   "execution_count": 3,
   "metadata": {},
   "outputs": [],
   "source": [
    "import pandas as pd\n",
    "from io import StringIO\n",
    "import requests\n",
    "from datetime import datetime, timedelta"
   ]
  },
  {
   "cell_type": "code",
   "execution_count": 4,
   "metadata": {},
   "outputs": [],
   "source": [
    "num_days_back = 30\n",
    "# start_date = '20240923'"
   ]
  },
  {
   "cell_type": "code",
   "execution_count": 40,
   "metadata": {},
   "outputs": [],
   "source": [
    "def fetch_data_for_dates(num_days_back, start_date=None):\n",
    "    \"\"\"\n",
    "    Fetch data for the latest date back to a number of days (num_days_back)\n",
    "    \"\"\"\n",
    "\n",
    "    if start_date is None:\n",
    "        start_date = datetime.today().strftime('%Y%m%d')\n",
    "\n",
    "    all_dataframes = []\n",
    "    current_date = datetime.strptime(str(start_date), '%Y%m%d')\n",
    "\n",
    "    for i in range(num_days_back + 1):\n",
    "        as_of_date = current_date.strftime('%Y%m%d')\n",
    "        url = f'https://www.ishares.com/us/products/239467/ishares-tips-bond-etf/1467271812596.ajax?fileType=csv&fileName=TIP_holdings&dataType=fund&asOfDate={as_of_date}'\n",
    "        response = requests.get(url)\n",
    "        \n",
    "        if response.status_code == 200:\n",
    "            try:\n",
    "                csv_data = StringIO(response.text)\n",
    "                df = pd.read_csv(csv_data, skiprows=9)  # Need to skip because header formats are messed up\n",
    "\n",
    "                # If the dataframe is empty, raise an error\n",
    "                if df.empty:\n",
    "                    raise pd.errors.EmptyDataError\n",
    "                \n",
    "                df = df[df['Name'] == 'TREASURY (CPI) NOTE']\n",
    "                df['As_of'] = as_of_date\n",
    "                \n",
    "                all_dataframes.append(df)\n",
    "            except pd.errors.EmptyDataError:\n",
    "                print(f\"No data available for {as_of_date}.\")\n",
    "        else:\n",
    "            print(f\"Failed to fetch data for {as_of_date}. Status code: {response.status_code}\")\n",
    "        \n",
    "        current_date -= timedelta(days=1)\n",
    "    \n",
    "    # Concatenate all dataframes into one\n",
    "    if all_dataframes:\n",
    "        final_df = pd.concat(all_dataframes, ignore_index=True)\n",
    "        final_df['Market Value'] = final_df['Market Value'].replace({',': ''}, regex=True).astype('float')/1000000\n",
    "        final_df['Market Value (in MM)'] = final_df['Market Value'].round(1)\n",
    "        final_df['Maturity'] = pd.to_datetime(final_df['Maturity'])\n",
    "        final_df['Coupon (%)'] = final_df['Coupon (%)'].astype(str) + '%' \n",
    "\n",
    "        final_df = final_df.pivot_table(\n",
    "            columns='As_of',\n",
    "            values='Market Value (in MM)', \n",
    "            index=['Maturity', 'Coupon (%)']\n",
    "        )\n",
    "\n",
    "        final_df = final_df.sort_index(level='Maturity')\n",
    "        final_df.index = final_df.index.set_levels(final_df.index.levels[0].strftime('%m/%d/%Y'), level=0)\n",
    "        final_df.columns = pd.to_datetime(final_df.columns).strftime('%m/%d/%Y')\n",
    "        return final_df\n",
    "    else:\n",
    "        return pd.DataFrame()  \n"
   ]
  },
  {
   "cell_type": "code",
   "execution_count": 44,
   "metadata": {},
   "outputs": [
    {
     "name": "stdout",
     "output_type": "stream",
     "text": [
      "No data available for 20240923.\n",
      "No data available for 20240922.\n",
      "No data available for 20240921.\n",
      "No data available for 20240915.\n",
      "No data available for 20240914.\n",
      "No data available for 20240908.\n",
      "No data available for 20240907.\n",
      "No data available for 20240902.\n",
      "No data available for 20240901.\n",
      "No data available for 20240831.\n",
      "No data available for 20240825.\n",
      "No data available for 20240824.\n"
     ]
    }
   ],
   "source": [
    "final_data = fetch_data_for_dates(num_days_back=num_days_back)"
   ]
  },
  {
   "cell_type": "code",
   "execution_count": 45,
   "metadata": {},
   "outputs": [],
   "source": [
    "final_data = final_data[sorted(final_data.columns, reverse=True)]\n",
    "latest_col = final_data.columns[0]  \n",
    "oldest_col = final_data.columns[-1]  \n",
    "\n",
    "# Calculate the difference between the latest and oldest values\n",
    "final_data[f'{num_days_back}_chg'] = final_data[latest_col] - final_data[oldest_col]\n",
    "cols = final_data.columns.tolist()  \n",
    "cols.insert(1, cols.pop(cols.index(f'{num_days_back}_chg'))) \n",
    "final_data = final_data[cols].iloc[:, :6]\n",
    "timestamp = datetime.now().strftime('%Y%m%d')\n",
    "final_data.to_excel(f'ishare_holdings_{timestamp}.xlsx')"
   ]
  }
 ],
 "metadata": {
  "kernelspec": {
   "display_name": "Python 3",
   "language": "python",
   "name": "python3"
  },
  "language_info": {
   "codemirror_mode": {
    "name": "ipython",
    "version": 3
   },
   "file_extension": ".py",
   "mimetype": "text/x-python",
   "name": "python",
   "nbconvert_exporter": "python",
   "pygments_lexer": "ipython3",
   "version": "3.10.11"
  }
 },
 "nbformat": 4,
 "nbformat_minor": 2
}
