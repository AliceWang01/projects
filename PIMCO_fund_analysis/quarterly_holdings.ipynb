{
 "cells": [
  {
   "cell_type": "code",
   "execution_count": 1,
   "metadata": {},
   "outputs": [
    {
     "name": "stdout",
     "output_type": "stream",
     "text": [
      "All downloads completed!\n",
      "Data has been written to PIMCO_fund_analysis_output.xlsx\n"
     ]
    }
   ],
   "source": [
    "import pandas as pd\n",
    "from selenium import webdriver\n",
    "from selenium.webdriver.chrome.service import Service\n",
    "from webdriver_manager.chrome import ChromeDriverManager\n",
    "import time\n",
    "import os\n",
    "\n",
    "options = webdriver.ChromeOptions()\n",
    "options.add_argument('--headless')  # Run in headless mode\n",
    "download_directory = os.path.abspath(os.path.join(os.getcwd(), \"inputs\"))\n",
    "prefs = {\"download.default_directory\": download_directory}\n",
    "options.add_experimental_option(\"prefs\", prefs)\n",
    "driver = webdriver.Chrome(service=Service(ChromeDriverManager().install()), options=options)\n",
    "\n",
    "# List of URLs to download: https://www.pimco.com/us/en/product-finder?filters=assetClass%3Dfxi%26fixedIncome%3Dinf_ass \n",
    "urls = [\n",
    "    \"https://fund-ui.pimco.com/fund-detail-api/api/funds/documents/content/view?documentId=Gz5zDyrmed3KGHFXm6XTTydbOXIsX84jJlyfQMH7fO0\",\n",
    "    \"https://fund-ui.pimco.com/fund-detail-api/api/funds/documents/content/view?documentId=1sv1xNFcBSE2xYkLCvV1ICdbOXIsX84jJlyfQMH7fO0\",\n",
    "    \"https://fund-ui.pimco.com/fund-detail-api/api/funds/documents/content/view?documentId=wYHetYuoNap8QwQWXKZYYidbOXIsX84jJlyfQMH7fO0\",\n",
    "    \"https://fund-ui.pimco.com/fund-detail-api/api/funds/documents/content/view?documentId=k3j1YqIgD4q2honL01OpWydbOXIsX84jJlyfQMH7fO0\",\n",
    "    \"https://fund-ui.pimco.com/fund-detail-api/api/funds/documents/content/view?documentId=w2sb9Hpa4VOR6cNSV9E9uidbOXIsX84jJlyfQMH7fO0\"\n",
    "]\n",
    "\n",
    "# Loop through each URL and download the file\n",
    "for url in urls:\n",
    "    before_download = set(os.listdir(download_directory))\n",
    "    driver.get(url)\n",
    "    time.sleep(3)  # Wait for the download to complete\n",
    "driver.quit()\n",
    "\n",
    "print(\"All downloads completed!\")\n",
    "\n",
    "input_directory = download_directory  \n",
    "output_filename = 'PIMCO_fund_analysis_output.xlsx'\n",
    "\n",
    "df_dict = {}\n",
    "\n",
    "for filename in os.listdir(input_directory):\n",
    "    if filename.endswith('.xlsx') or filename.endswith('.xls'):\n",
    "        filepath = os.path.join(input_directory, filename)\n",
    "        \n",
    "    \n",
    "        df = pd.read_excel(filepath, header=[15, 16])\n",
    "        df.columns = [' '.join(col).strip() for col in df.columns.values]\n",
    "        df.rename({'Unnamed: 0_level_0 Unnamed: 0_level_1':'INSTRUMENT'}, axis=1, inplace=True)\n",
    "        \n",
    "        # Filter and clean the dataframe\n",
    "        df = df[['INSTRUMENT','RATE','MATURITY DATE','AMOUNT OWNED','% OF NET ASSETS']]\n",
    "        df = df[df['INSTRUMENT'] == 'U.S. Treasury Inflation Protected Securities']\n",
    "        df['RATE'] = (df['RATE'] * 100).astype(float).round(3)\n",
    "        df['AMOUNT OWNED (MM)'] = (df['AMOUNT OWNED'] / 1000000).astype(float).round(2)\n",
    "        df['MATURITY DATE'] = pd.to_datetime(df['MATURITY DATE']).dt.date\n",
    "        df = df[['RATE','MATURITY DATE','AMOUNT OWNED (MM)']].groupby(['RATE','MATURITY DATE'], as_index=False)['AMOUNT OWNED (MM)'].sum()\n",
    "        df = df.sort_values(by='MATURITY DATE').reset_index(drop=True)\n",
    "   \n",
    "        fund_name = os.path.splitext(os.path.basename(filename))[0]\n",
    "        df_dict[fund_name] = df\n",
    "\n",
    "total_df = pd.concat(df_dict.values(), ignore_index=True).groupby(['RATE','MATURITY DATE'], as_index=False)['AMOUNT OWNED (MM)'].sum()\n",
    "total_df = total_df.sort_values(by='MATURITY DATE').reset_index(drop=True)\n",
    "df_dict['Total_Aggregated'] = total_df\n",
    "\n",
    "with pd.ExcelWriter(output_filename) as writer:\n",
    "    for fund_name, df in df_dict.items():\n",
    "        df.to_excel(writer, sheet_name=fund_name.replace('PIMCO Funds ',\"\")[:30], index=False)\n",
    "\n",
    "print(f\"Data has been written to {output_filename}\")"
   ]
  }
 ],
 "metadata": {
  "kernelspec": {
   "display_name": "Python 3",
   "language": "python",
   "name": "python3"
  },
  "language_info": {
   "codemirror_mode": {
    "name": "ipython",
    "version": 3
   },
   "file_extension": ".py",
   "mimetype": "text/x-python",
   "name": "python",
   "nbconvert_exporter": "python",
   "pygments_lexer": "ipython3",
   "version": "3.10.11"
  }
 },
 "nbformat": 4,
 "nbformat_minor": 2
}
