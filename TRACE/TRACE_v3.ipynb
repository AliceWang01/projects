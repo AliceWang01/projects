{
 "cells": [
  {
   "cell_type": "code",
   "execution_count": 1,
   "metadata": {},
   "outputs": [],
   "source": [
    "# !pip install -U kaleido"
   ]
  },
  {
   "cell_type": "code",
   "execution_count": 2,
   "metadata": {},
   "outputs": [],
   "source": [
    "import pandas as pd\n",
    "import requests\n",
    "from io import BytesIO\n",
    "from datetime import datetime\n",
    "from pandas.tseries.offsets import CustomBusinessDay\n",
    "import holidays\n",
    "import plotly.graph_objects as go\n",
    "from plotly.subplots import make_subplots\n",
    "import numpy as np\n",
    "import plotly.io as pio\n",
    "import re"
   ]
  },
  {
   "cell_type": "code",
   "execution_count": 3,
   "metadata": {},
   "outputs": [],
   "source": [
    "us_bd = CustomBusinessDay(calendar=holidays.US())\n",
    "look_back = 30"
   ]
  },
  {
   "cell_type": "code",
   "execution_count": 4,
   "metadata": {},
   "outputs": [],
   "source": [
    "def hist_trace(days=look_back):\n",
    "    \n",
    "    data_frames = []\n",
    "    \n",
    "    business_dates = pd.date_range(end=datetime.now(), periods=days+1, freq=us_bd)\n",
    "    \n",
    "    for date in business_dates:\n",
    "        date_str = date.strftime('%Y-%m-%d')\n",
    "        url = f\"https://cdn.finra.org/trace/treasury-aggregates/daily/ts-daily-aggregates-{date_str}.xlsx\"\n",
    "        \n",
    "        try:\n",
    "            response = requests.get(url)\n",
    "            response.raise_for_status()  \n",
    "            df = pd.read_excel(BytesIO(response.content), header=[3, 4])\n",
    "\n",
    "            # Clean the DataFrame\n",
    "            df = df.drop(columns=[('Total', 'VWAP')])\n",
    "            tips_index = df[df[('Category', 'Unnamed: 0_level_1')] == 'TIPS'].index[0]\n",
    "            df = df.loc[tips_index:].dropna(axis=0)\n",
    "            df = df[df[('Category', 'Unnamed: 0_level_1')] != 'Total'].reset_index(drop=True)\n",
    "            df['Date'] = date_str\n",
    "            \n",
    "            data_frames.append(df)\n",
    "        \n",
    "        except requests.exceptions.HTTPError:\n",
    "            print(f\"Data for {date_str} is not available. Skipping this date.\")\n",
    "            continue\n",
    "    \n",
    "    if not data_frames:\n",
    "        print(\"No data available for the specified date range.\")\n",
    "        return None\n",
    "    \n",
    "    combined_df = pd.concat(data_frames).reset_index(drop=True)\n",
    "\n",
    "    # for easier display\n",
    "    combined_df[('Category', 'Unnamed: 0_level_1')] = combined_df[('Category', 'Unnamed: 0_level_1')].replace('> 5 years and <= 10 years', '> 5 and <= 10 years')\n",
    "\n",
    "    return combined_df"
   ]
  },
  {
   "cell_type": "code",
   "execution_count": 5,
   "metadata": {},
   "outputs": [],
   "source": [
    "def relabel(df):\n",
    "    \"\"\"\n",
    "    concat row names with its higher level category\n",
    "    \"\"\"\n",
    "    # Get the index positions of the higher categories (e.g., rows that are not \"On-the-run\" or \"Off-the-run\")\n",
    "    higher_category_indices = df.index[~df[('Category', 'Unnamed: 0_level_1')].str.contains('On-the-run|Off-the-run', case=False, na=False)]\n",
    "\n",
    "    # Iterate through each higher category index\n",
    "    for i in higher_category_indices:\n",
    "        higher_category_name = df.at[i, ('Category', 'Unnamed: 0_level_1')]\n",
    "        j = i + 1\n",
    "        while j < len(df) and ('On-the-run' in df.at[j, ('Category', 'Unnamed: 0_level_1')] or 'Off-the-run' in df.at[j, ('Category', 'Unnamed: 0_level_1')]):\n",
    "            df.at[j, ('Category', 'Unnamed: 0_level_1')] = higher_category_name + ' ' + df.at[j, ('Category', 'Unnamed: 0_level_1')]\n",
    "            j += 1\n",
    "\n",
    "    return df\n"
   ]
  },
  {
   "cell_type": "code",
   "execution_count": 6,
   "metadata": {},
   "outputs": [
    {
     "name": "stdout",
     "output_type": "stream",
     "text": [
      "Data for 2024-05-27 is not available. Skipping this date.\n",
      "Data for 2024-06-19 is not available. Skipping this date.\n",
      "Data for 2024-07-04 is not available. Skipping this date.\n",
      "Data for 2024-09-02 is not available. Skipping this date.\n",
      "Data for 2024-09-19 is not available. Skipping this date.\n",
      "Data for 2024-01-15 is not available. Skipping this date.\n",
      "Data for 2024-02-19 is not available. Skipping this date.\n",
      "Data for 2024-03-29 is not available. Skipping this date.\n",
      "Data for 2024-05-27 is not available. Skipping this date.\n",
      "Data for 2024-06-19 is not available. Skipping this date.\n",
      "Data for 2024-07-04 is not available. Skipping this date.\n",
      "Data for 2024-09-02 is not available. Skipping this date.\n",
      "Data for 2024-09-19 is not available. Skipping this date.\n"
     ]
    }
   ],
   "source": [
    "df_90 = relabel(hist_trace(days=90))\n",
    "df_180 = relabel(hist_trace(days=180))"
   ]
  },
  {
   "cell_type": "code",
   "execution_count": 7,
   "metadata": {},
   "outputs": [],
   "source": [
    "def histogram_with_std(data, col_name, row, col, fig):\n",
    "    mean = np.mean(data[col_name])\n",
    "    std = np.std(data[col_name])\n",
    "\n",
    "    latest_date = data[('Date', '')].max()\n",
    "    latest_value = data[data[('Date', '')] == latest_date][col_name].values[0]\n",
    "\n",
    "    counts, bin_edges = np.histogram(data[col_name], bins=50)\n",
    "    bin_colors = ['blue'] * len(counts)\n",
    "\n",
    "    # Find which bin the latest value falls into\n",
    "    for i in range(len(bin_edges) - 1):\n",
    "        if bin_edges[i] <= latest_value < bin_edges[i + 1]:\n",
    "            bin_colors[i] = 'red'  \n",
    "            break\n",
    "\n",
    "    # Create the histogram trace\n",
    "    hist = go.Bar(\n",
    "        x=0.5 * (bin_edges[1:] + bin_edges[:-1]),  # Midpoints of bins for bar positions\n",
    "        y=counts,\n",
    "        marker_color=bin_colors,  # Assign custom colors\n",
    "        name=f'{col_name[1]} Histogram'\n",
    "    )\n",
    "\n",
    "    # Add the histogram to the figure\n",
    "    fig.add_trace(hist, row=row, col=col)\n",
    "\n",
    "    # Extract the maximum y value from the histogram (height of the tallest bin)\n",
    "    y_max = max(counts) + 10\n",
    "\n",
    "    # Add lines for mean and standard deviation, scaled to y_max\n",
    "    fig.add_shape(type=\"line\", x0=mean, x1=mean, y0=0, y1=y_max, xref='x', yref='y',\n",
    "                  line=dict(color=\"black\", width=2, dash=\"dot\"), row=row, col=col)\n",
    "    fig.add_shape(type=\"line\", x0=mean + std, x1=mean + std, y0=0, y1=y_max, xref='x', yref='y',\n",
    "                  line=dict(color=\"green\", width=2, dash=\"dot\"), row=row, col=col)\n",
    "    fig.add_shape(type=\"line\", x0=mean - std, x1=mean - std, y0=0, y1=y_max, xref='x', yref='y',\n",
    "                  line=dict(color=\"green\", width=2, dash=\"dot\"), row=row, col=col)\n",
    "\n",
    "    # Add annotations for mean and standard deviation\n",
    "    fig.add_annotation(x=mean, y=y_max + 1, yref=\"y\", text=f\"Mean:{mean:.0f}\", showarrow=False, \n",
    "                       font=dict(color=\"black\"), row=row, col=col)\n",
    "    fig.add_annotation(x=mean + std, y=y_max + 1, yref=\"y\", text=f\"+1SD:{mean + std:.0f}\", showarrow=False, \n",
    "                       font=dict(color=\"green\"), row=row, col=col)\n",
    "    fig.add_annotation(x=mean - std, y=y_max + 1, yref=\"y\", text=f\"-1SD:{mean - std:.0f}\", showarrow=False, \n",
    "                       font=dict(color=\"green\"), row=row, col=col)\n",
    "    fig.update_annotations(font_size=10)"
   ]
  },
  {
   "cell_type": "code",
   "execution_count": 8,
   "metadata": {},
   "outputs": [],
   "source": [
    "def plot_hist(df, days):\n",
    "    tenors = df[('Category', 'Unnamed: 0_level_1')].unique()\n",
    "    \n",
    "    for tenor in tenors:\n",
    "        df_tenor = df[df[('Category', 'Unnamed: 0_level_1')] == tenor]\n",
    "        \n",
    "        fig = make_subplots(\n",
    "            rows=2, cols=3,\n",
    "  \n",
    "            horizontal_spacing=0.06,  # Reduce horizontal space between plots\n",
    "            vertical_spacing=0.09      # Reduce vertical space between plots\n",
    "        )\n",
    "        \n",
    "        # Define columns to iterate over for each row\n",
    "        par_value_cols = [\n",
    "            ('Total', 'Par Value'), \n",
    "            ('ATS & Interdealer', 'Par Value'), \n",
    "            ('Dealer to Customer', 'Par Value')\n",
    "        ]\n",
    "        trade_cols = [\n",
    "            ('Total', 'Trades'), \n",
    "            ('ATS & Interdealer', 'Trades'), \n",
    "            ('Dealer to Customer', 'Trades')\n",
    "        ]\n",
    "        \n",
    "        # Plot Par Values and Trades\n",
    "        for i, col in enumerate(par_value_cols, 1):\n",
    "            histogram_with_std(df_tenor[[col, ('Date', '')]], col_name=col, row=1, col=i, fig=fig)\n",
    "        for i, col in enumerate(trade_cols, 1):\n",
    "            histogram_with_std(df_tenor[[col, ('Date', '')]], col_name=col, row=2, col=i, fig=fig)\n",
    "        \n",
    "        fig.update_layout(title=f'{tenor} TRACE {days}-day Dist, As of: {df_tenor[(\"Date\", \"\")].max()}', height=600, width=1400, showlegend=False)  \n",
    "\n",
    "        # Custom size subplot title (this is to avoid changing previous std annotation size)\n",
    "        subplot_titles = [\n",
    "            'Total Par Value in Billion', 'ATS & Interdealer Par Value', 'Dealer to Customer Par Value',\n",
    "            'Total Number of Trades', 'ATS & Interdealer Trades', 'Dealer to Customer Trades'\n",
    "        ]\n",
    "\n",
    "\n",
    "        title_coords = [\n",
    "            (0.12, 1.05), (0.5, 1.05), (0.85, 1.05),  # Row 1 titles\n",
    "            (0.12, 0.48), (0.5, 0.48), (0.85, 0.48)   # Row 2 titles\n",
    "        ]\n",
    "        \n",
    "        # Add annotations for each subplot title\n",
    "        for i, (title, (x, y)) in enumerate(zip(subplot_titles, title_coords)):\n",
    "            fig.add_annotation(\n",
    "                text=title,  \n",
    "                xref=\"paper\", yref=\"paper\",\n",
    "                x=x, y=y,  \n",
    "                showarrow=False,\n",
    "                font=dict(size=13), \n",
    "                xanchor='center'\n",
    "            )\n",
    "        fig.update_layout(\n",
    "            font=dict(\n",
    "                family=\"Times New Roman\"\n",
    "            )\n",
    "        )\n",
    "        safe_tenor = re.sub(r'[^a-zA-Z0-9_]', '', tenor)\n",
    "        file_name = f\"tenor_{safe_tenor}_distribution_{days}_days.png\"\n",
    "        pio.write_image(fig, file_name, format='png')\n",
    "        print(f\"Saved plot as {file_name}\")\n",
    "        fig.show()"
   ]
  },
  {
   "cell_type": "code",
   "execution_count": 9,
   "metadata": {},
   "outputs": [
    {
     "name": "stdout",
     "output_type": "stream",
     "text": [
      "Saved plot as tenor_TIPS_distribution_180_days.png\n"
     ]
    },
    {
     "data": {
      "application/vnd.plotly.v1+json": {
       "config": {
        "plotlyServerURL": "https://plot.ly"
       },
       "data": [
        {
         "marker": {
          "color": [
           "blue",
           "blue",
           "red",
           "blue",
           "blue",
           "blue",
           "blue",
           "blue",
           "blue",
           "blue",
           "blue",
           "blue",
           "blue",
           "blue",
           "blue",
           "blue",
           "blue",
           "blue",
           "blue",
           "blue",
           "blue",
           "blue",
           "blue",
           "blue",
           "blue",
           "blue",
           "blue",
           "blue",
           "blue",
           "blue",
           "blue",
           "blue",
           "blue",
           "blue",
           "blue",
           "blue",
           "blue",
           "blue",
           "blue",
           "blue",
           "blue",
           "blue",
           "blue",
           "blue",
           "blue",
           "blue",
           "blue",
           "blue",
           "blue",
           "blue"
          ]
         },
         "name": "Par Value Histogram",
         "type": "bar",
         "x": [
          8.859,
          10.376999999999999,
          11.895,
          13.413,
          14.931000000000001,
          16.448999999999998,
          17.967,
          19.485,
          21.003,
          22.521,
          24.039,
          25.557000000000002,
          27.075000000000003,
          28.593,
          30.110999999999997,
          31.628999999999998,
          33.147,
          34.665,
          36.183,
          37.701,
          39.219,
          40.737,
          42.255,
          43.773,
          45.291000000000004,
          46.809000000000005,
          48.327,
          49.845,
          51.363,
          52.881,
          54.399,
          55.917,
          57.435,
          58.953,
          60.471000000000004,
          61.989000000000004,
          63.507000000000005,
          65.025,
          66.54299999999999,
          68.06099999999999,
          69.579,
          71.097,
          72.615,
          74.133,
          75.651,
          77.169,
          78.687,
          80.205,
          81.723,
          83.241
         ],
         "xaxis": "x",
         "y": [
          11,
          11,
          16,
          14,
          27,
          28,
          16,
          14,
          6,
          10,
          4,
          1,
          2,
          3,
          1,
          1,
          1,
          1,
          0,
          1,
          0,
          0,
          0,
          0,
          0,
          0,
          0,
          1,
          0,
          0,
          0,
          0,
          0,
          0,
          0,
          0,
          0,
          1,
          0,
          1,
          0,
          0,
          1,
          0,
          0,
          0,
          0,
          0,
          0,
          1
         ],
         "yaxis": "y"
        },
        {
         "marker": {
          "color": [
           "blue",
           "blue",
           "red",
           "blue",
           "blue",
           "blue",
           "blue",
           "blue",
           "blue",
           "blue",
           "blue",
           "blue",
           "blue",
           "blue",
           "blue",
           "blue",
           "blue",
           "blue",
           "blue",
           "blue",
           "blue",
           "blue",
           "blue",
           "blue",
           "blue",
           "blue",
           "blue",
           "blue",
           "blue",
           "blue",
           "blue",
           "blue",
           "blue",
           "blue",
           "blue",
           "blue",
           "blue",
           "blue",
           "blue",
           "blue",
           "blue",
           "blue",
           "blue",
           "blue",
           "blue",
           "blue",
           "blue",
           "blue",
           "blue",
           "blue"
          ]
         },
         "name": "Par Value Histogram",
         "type": "bar",
         "x": [
          2.3,
          2.7,
          3.1000000000000005,
          3.5,
          3.9,
          4.3,
          4.7,
          5.1000000000000005,
          5.5,
          5.9,
          6.3,
          6.7,
          7.1000000000000005,
          7.500000000000001,
          7.9,
          8.3,
          8.7,
          9.100000000000001,
          9.5,
          9.9,
          10.3,
          10.7,
          11.100000000000001,
          11.5,
          11.9,
          12.3,
          12.7,
          13.100000000000001,
          13.5,
          13.9,
          14.3,
          14.7,
          15.100000000000001,
          15.5,
          15.900000000000002,
          16.3,
          16.700000000000003,
          17.1,
          17.5,
          17.900000000000002,
          18.300000000000004,
          18.700000000000003,
          19.1,
          19.5,
          19.900000000000002,
          20.300000000000004,
          20.700000000000003,
          21.1,
          21.500000000000004,
          21.900000000000002
         ],
         "xaxis": "x2",
         "y": [
          4,
          7,
          11,
          13,
          13,
          11,
          22,
          15,
          12,
          16,
          13,
          10,
          6,
          7,
          0,
          0,
          2,
          1,
          1,
          2,
          1,
          0,
          0,
          0,
          1,
          0,
          0,
          0,
          0,
          0,
          0,
          0,
          1,
          0,
          0,
          1,
          1,
          0,
          0,
          0,
          0,
          1,
          0,
          0,
          0,
          0,
          0,
          0,
          0,
          1
         ],
         "yaxis": "y2"
        },
        {
         "marker": {
          "color": [
           "blue",
           "blue",
           "red",
           "blue",
           "blue",
           "blue",
           "blue",
           "blue",
           "blue",
           "blue",
           "blue",
           "blue",
           "blue",
           "blue",
           "blue",
           "blue",
           "blue",
           "blue",
           "blue",
           "blue",
           "blue",
           "blue",
           "blue",
           "blue",
           "blue",
           "blue",
           "blue",
           "blue",
           "blue",
           "blue",
           "blue",
           "blue",
           "blue",
           "blue",
           "blue",
           "blue",
           "blue",
           "blue",
           "blue",
           "blue",
           "blue",
           "blue",
           "blue",
           "blue",
           "blue",
           "blue",
           "blue",
           "blue",
           "blue",
           "blue"
          ]
         },
         "name": "Par Value Histogram",
         "type": "bar",
         "x": [
          5.998,
          7.194000000000001,
          8.39,
          9.586000000000002,
          10.782,
          11.978000000000002,
          13.174000000000001,
          14.370000000000001,
          15.566000000000003,
          16.762,
          17.958000000000002,
          19.154000000000003,
          20.35,
          21.546000000000003,
          22.742000000000004,
          23.938000000000002,
          25.134000000000004,
          26.330000000000005,
          27.526000000000003,
          28.722,
          29.918000000000003,
          31.114000000000004,
          32.31,
          33.506,
          34.702000000000005,
          35.898,
          37.094,
          38.290000000000006,
          39.486000000000004,
          40.682,
          41.878,
          43.074000000000005,
          44.27,
          45.46600000000001,
          46.662000000000006,
          47.858000000000004,
          49.054,
          50.25000000000001,
          51.446000000000005,
          52.642,
          53.83800000000001,
          55.034000000000006,
          56.230000000000004,
          57.426,
          58.62200000000001,
          59.818000000000005,
          61.01400000000001,
          62.21000000000001,
          63.406000000000006,
          64.602
         ],
         "xaxis": "x3",
         "y": [
          13,
          11,
          22,
          24,
          27,
          21,
          13,
          10,
          6,
          8,
          4,
          1,
          4,
          1,
          0,
          1,
          1,
          1,
          0,
          0,
          0,
          0,
          0,
          1,
          0,
          0,
          0,
          0,
          0,
          0,
          0,
          0,
          0,
          0,
          0,
          0,
          1,
          1,
          0,
          1,
          0,
          0,
          0,
          0,
          0,
          0,
          0,
          0,
          0,
          1
         ],
         "yaxis": "y3"
        },
        {
         "marker": {
          "color": [
           "blue",
           "blue",
           "blue",
           "blue",
           "blue",
           "red",
           "blue",
           "blue",
           "blue",
           "blue",
           "blue",
           "blue",
           "blue",
           "blue",
           "blue",
           "blue",
           "blue",
           "blue",
           "blue",
           "blue",
           "blue",
           "blue",
           "blue",
           "blue",
           "blue",
           "blue",
           "blue",
           "blue",
           "blue",
           "blue",
           "blue",
           "blue",
           "blue",
           "blue",
           "blue",
           "blue",
           "blue",
           "blue",
           "blue",
           "blue",
           "blue",
           "blue",
           "blue",
           "blue",
           "blue",
           "blue",
           "blue",
           "blue",
           "blue",
           "blue"
          ]
         },
         "name": "Trades Histogram",
         "type": "bar",
         "x": [
          1468.37,
          1591.1100000000001,
          1713.85,
          1836.5900000000001,
          1959.33,
          2082.0699999999997,
          2204.81,
          2327.55,
          2450.29,
          2573.0299999999997,
          2695.7699999999995,
          2818.51,
          2941.25,
          3063.99,
          3186.7299999999996,
          3309.4700000000003,
          3432.21,
          3554.95,
          3677.6899999999996,
          3800.43,
          3923.17,
          4045.91,
          4168.65,
          4291.39,
          4414.13,
          4536.87,
          4659.61,
          4782.349999999999,
          4905.09,
          5027.83,
          5150.57,
          5273.31,
          5396.05,
          5518.79,
          5641.53,
          5764.2699999999995,
          5887.01,
          6009.75,
          6132.49,
          6255.23,
          6377.969999999999,
          6500.71,
          6623.45,
          6746.19,
          6868.93,
          6991.67,
          7114.41,
          7237.15,
          7359.889999999999,
          7482.629999999999
         ],
         "xaxis": "x4",
         "y": [
          3,
          2,
          4,
          6,
          5,
          15,
          24,
          16,
          15,
          12,
          14,
          8,
          5,
          2,
          3,
          4,
          5,
          3,
          3,
          1,
          2,
          1,
          0,
          2,
          2,
          1,
          0,
          3,
          1,
          0,
          1,
          0,
          0,
          0,
          1,
          1,
          1,
          0,
          1,
          0,
          1,
          0,
          2,
          0,
          0,
          1,
          0,
          1,
          0,
          1
         ],
         "yaxis": "y4"
        },
        {
         "marker": {
          "color": [
           "blue",
           "blue",
           "blue",
           "red",
           "blue",
           "blue",
           "blue",
           "blue",
           "blue",
           "blue",
           "blue",
           "blue",
           "blue",
           "blue",
           "blue",
           "blue",
           "blue",
           "blue",
           "blue",
           "blue",
           "blue",
           "blue",
           "blue",
           "blue",
           "blue",
           "blue",
           "blue",
           "blue",
           "blue",
           "blue",
           "blue",
           "blue",
           "blue",
           "blue",
           "blue",
           "blue",
           "blue",
           "blue",
           "blue",
           "blue",
           "blue",
           "blue",
           "blue",
           "blue",
           "blue",
           "blue",
           "blue",
           "blue",
           "blue",
           "blue"
          ]
         },
         "name": "Trades Histogram",
         "type": "bar",
         "x": [
          530.74,
          626.22,
          721.7,
          817.1800000000001,
          912.6600000000001,
          1008.1400000000001,
          1103.6200000000001,
          1199.1000000000001,
          1294.5800000000002,
          1390.0600000000002,
          1485.54,
          1581.02,
          1676.5,
          1771.98,
          1867.46,
          1962.94,
          2058.42,
          2153.9,
          2249.38,
          2344.86,
          2440.34,
          2535.8199999999997,
          2631.3,
          2726.7799999999997,
          2822.26,
          2917.74,
          3013.2200000000003,
          3108.7,
          3204.1800000000003,
          3299.66,
          3395.1400000000003,
          3490.62,
          3586.1000000000004,
          3681.58,
          3777.0600000000004,
          3872.54,
          3968.0200000000004,
          4063.5,
          4158.98,
          4254.460000000001,
          4349.9400000000005,
          4445.42,
          4540.9,
          4636.38,
          4731.860000000001,
          4827.34,
          4922.82,
          5018.3,
          5113.780000000001,
          5209.26
         ],
         "xaxis": "x5",
         "y": [
          2,
          2,
          11,
          20,
          26,
          17,
          23,
          12,
          7,
          4,
          2,
          11,
          4,
          2,
          2,
          2,
          3,
          1,
          3,
          0,
          3,
          1,
          1,
          1,
          1,
          2,
          0,
          2,
          0,
          0,
          0,
          0,
          1,
          0,
          1,
          0,
          0,
          0,
          0,
          0,
          0,
          0,
          2,
          2,
          0,
          0,
          0,
          1,
          0,
          1
         ],
         "yaxis": "y5"
        },
        {
         "marker": {
          "color": [
           "blue",
           "blue",
           "blue",
           "blue",
           "blue",
           "blue",
           "red",
           "blue",
           "blue",
           "blue",
           "blue",
           "blue",
           "blue",
           "blue",
           "blue",
           "blue",
           "blue",
           "blue",
           "blue",
           "blue",
           "blue",
           "blue",
           "blue",
           "blue",
           "blue",
           "blue",
           "blue",
           "blue",
           "blue",
           "blue",
           "blue",
           "blue",
           "blue",
           "blue",
           "blue",
           "blue",
           "blue",
           "blue",
           "blue",
           "blue",
           "blue",
           "blue",
           "blue",
           "blue",
           "blue",
           "blue",
           "blue",
           "blue",
           "blue",
           "blue"
          ]
         },
         "name": "Trades Histogram",
         "type": "bar",
         "x": [
          773.09,
          847.27,
          921.45,
          995.63,
          1069.81,
          1143.99,
          1218.17,
          1292.35,
          1366.5300000000002,
          1440.71,
          1514.89,
          1589.0700000000002,
          1663.25,
          1737.43,
          1811.6100000000001,
          1885.79,
          1959.9700000000003,
          2034.15,
          2108.33,
          2182.51,
          2256.6900000000005,
          2330.87,
          2405.05,
          2479.2300000000005,
          2553.41,
          2627.59,
          2701.7700000000004,
          2775.95,
          2850.13,
          2924.3100000000004,
          2998.4900000000002,
          3072.67,
          3146.8500000000004,
          3221.03,
          3295.21,
          3369.3900000000003,
          3443.5700000000006,
          3517.75,
          3591.9300000000003,
          3666.1100000000006,
          3740.29,
          3814.4700000000003,
          3888.6500000000005,
          3962.83,
          4037.01,
          4111.1900000000005,
          4185.370000000001,
          4259.550000000001,
          4333.73,
          4407.91
         ],
         "xaxis": "x6",
         "y": [
          2,
          0,
          3,
          4,
          8,
          14,
          27,
          26,
          22,
          22,
          12,
          7,
          6,
          3,
          4,
          1,
          1,
          1,
          1,
          0,
          0,
          0,
          1,
          0,
          0,
          0,
          0,
          0,
          0,
          1,
          0,
          0,
          0,
          2,
          0,
          0,
          0,
          1,
          1,
          0,
          0,
          0,
          0,
          0,
          0,
          0,
          0,
          0,
          1,
          2
         ],
         "yaxis": "y6"
        }
       ],
       "layout": {
        "annotations": [
         {
          "font": {
           "color": "black",
           "size": 10
          },
          "showarrow": false,
          "text": "Mean:18",
          "x": 18.08034682080925,
          "xref": "x",
          "y": 39,
          "yref": "y"
         },
         {
          "font": {
           "color": "green",
           "size": 10
          },
          "showarrow": false,
          "text": "+1SD:28",
          "x": 28.257662972013605,
          "xref": "x",
          "y": 39,
          "yref": "y"
         },
         {
          "font": {
           "color": "green",
           "size": 10
          },
          "showarrow": false,
          "text": "-1SD:8",
          "x": 7.903030669604895,
          "xref": "x",
          "y": 39,
          "yref": "y"
         },
         {
          "font": {
           "color": "black",
           "size": 10
          },
          "showarrow": false,
          "text": "Mean:6",
          "x": 5.534104046242774,
          "xref": "x2",
          "y": 33,
          "yref": "y2"
         },
         {
          "font": {
           "color": "green",
           "size": 10
          },
          "showarrow": false,
          "text": "+1SD:8",
          "x": 8.247727124127312,
          "xref": "x2",
          "y": 33,
          "yref": "y2"
         },
         {
          "font": {
           "color": "green",
           "size": 10
          },
          "showarrow": false,
          "text": "-1SD:3",
          "x": 2.8204809683582353,
          "xref": "x2",
          "y": 33,
          "yref": "y2"
         },
         {
          "font": {
           "color": "black",
           "size": 10
          },
          "showarrow": false,
          "text": "Mean:13",
          "x": 12.547398843930637,
          "xref": "x3",
          "y": 38,
          "yref": "y3"
         },
         {
          "font": {
           "color": "green",
           "size": 10
          },
          "showarrow": false,
          "text": "+1SD:20",
          "x": 20.273150141919732,
          "xref": "x3",
          "y": 38,
          "yref": "y3"
         },
         {
          "font": {
           "color": "green",
           "size": 10
          },
          "showarrow": false,
          "text": "-1SD:5",
          "x": 4.821647545941542,
          "xref": "x3",
          "y": 38,
          "yref": "y3"
         },
         {
          "font": {
           "color": "black",
           "size": 10
          },
          "showarrow": false,
          "text": "Mean:2855",
          "x": 2854.6531791907514,
          "xref": "x4",
          "y": 35,
          "yref": "y4"
         },
         {
          "font": {
           "color": "green",
           "size": 10
          },
          "showarrow": false,
          "text": "+1SD:4005",
          "x": 4004.7975259766886,
          "xref": "x4",
          "y": 35,
          "yref": "y4"
         },
         {
          "font": {
           "color": "green",
           "size": 10
          },
          "showarrow": false,
          "text": "-1SD:1705",
          "x": 1704.5088324048143,
          "xref": "x4",
          "y": 35,
          "yref": "y4"
         },
         {
          "font": {
           "color": "black",
           "size": 10
          },
          "showarrow": false,
          "text": "Mean:1392",
          "x": 1392.121387283237,
          "xref": "x5",
          "y": 37,
          "yref": "y5"
         },
         {
          "font": {
           "color": "green",
           "size": 10
          },
          "showarrow": false,
          "text": "+1SD:2266",
          "x": 2266.1224271196147,
          "xref": "x5",
          "y": 37,
          "yref": "y5"
         },
         {
          "font": {
           "color": "green",
           "size": 10
          },
          "showarrow": false,
          "text": "-1SD:518",
          "x": 518.1203474468592,
          "xref": "x5",
          "y": 37,
          "yref": "y5"
         },
         {
          "font": {
           "color": "black",
           "size": 10
          },
          "showarrow": false,
          "text": "Mean:1463",
          "x": 1462.5317919075144,
          "xref": "x6",
          "y": 38,
          "yref": "y6"
         },
         {
          "font": {
           "color": "green",
           "size": 10
          },
          "showarrow": false,
          "text": "+1SD:2020",
          "x": 2019.625598285652,
          "xref": "x6",
          "y": 38,
          "yref": "y6"
         },
         {
          "font": {
           "color": "green",
           "size": 10
          },
          "showarrow": false,
          "text": "-1SD:905",
          "x": 905.437985529377,
          "xref": "x6",
          "y": 38,
          "yref": "y6"
         },
         {
          "font": {
           "size": 13
          },
          "showarrow": false,
          "text": "Total Par Value in Billion",
          "x": 0.12,
          "xanchor": "center",
          "xref": "paper",
          "y": 1.05,
          "yref": "paper"
         },
         {
          "font": {
           "size": 13
          },
          "showarrow": false,
          "text": "ATS & Interdealer Par Value",
          "x": 0.5,
          "xanchor": "center",
          "xref": "paper",
          "y": 1.05,
          "yref": "paper"
         },
         {
          "font": {
           "size": 13
          },
          "showarrow": false,
          "text": "Dealer to Customer Par Value",
          "x": 0.85,
          "xanchor": "center",
          "xref": "paper",
          "y": 1.05,
          "yref": "paper"
         },
         {
          "font": {
           "size": 13
          },
          "showarrow": false,
          "text": "Total Number of Trades",
          "x": 0.12,
          "xanchor": "center",
          "xref": "paper",
          "y": 0.48,
          "yref": "paper"
         },
         {
          "font": {
           "size": 13
          },
          "showarrow": false,
          "text": "ATS & Interdealer Trades",
          "x": 0.5,
          "xanchor": "center",
          "xref": "paper",
          "y": 0.48,
          "yref": "paper"
         },
         {
          "font": {
           "size": 13
          },
          "showarrow": false,
          "text": "Dealer to Customer Trades",
          "x": 0.85,
          "xanchor": "center",
          "xref": "paper",
          "y": 0.48,
          "yref": "paper"
         }
        ],
        "font": {
         "family": "Times New Roman"
        },
        "height": 600,
        "shapes": [
         {
          "line": {
           "color": "black",
           "dash": "dot",
           "width": 2
          },
          "type": "line",
          "x0": 18.08034682080925,
          "x1": 18.08034682080925,
          "xref": "x",
          "y0": 0,
          "y1": 38,
          "yref": "y"
         },
         {
          "line": {
           "color": "green",
           "dash": "dot",
           "width": 2
          },
          "type": "line",
          "x0": 28.257662972013605,
          "x1": 28.257662972013605,
          "xref": "x",
          "y0": 0,
          "y1": 38,
          "yref": "y"
         },
         {
          "line": {
           "color": "green",
           "dash": "dot",
           "width": 2
          },
          "type": "line",
          "x0": 7.903030669604895,
          "x1": 7.903030669604895,
          "xref": "x",
          "y0": 0,
          "y1": 38,
          "yref": "y"
         },
         {
          "line": {
           "color": "black",
           "dash": "dot",
           "width": 2
          },
          "type": "line",
          "x0": 5.534104046242774,
          "x1": 5.534104046242774,
          "xref": "x2",
          "y0": 0,
          "y1": 32,
          "yref": "y2"
         },
         {
          "line": {
           "color": "green",
           "dash": "dot",
           "width": 2
          },
          "type": "line",
          "x0": 8.247727124127312,
          "x1": 8.247727124127312,
          "xref": "x2",
          "y0": 0,
          "y1": 32,
          "yref": "y2"
         },
         {
          "line": {
           "color": "green",
           "dash": "dot",
           "width": 2
          },
          "type": "line",
          "x0": 2.8204809683582353,
          "x1": 2.8204809683582353,
          "xref": "x2",
          "y0": 0,
          "y1": 32,
          "yref": "y2"
         },
         {
          "line": {
           "color": "black",
           "dash": "dot",
           "width": 2
          },
          "type": "line",
          "x0": 12.547398843930637,
          "x1": 12.547398843930637,
          "xref": "x3",
          "y0": 0,
          "y1": 37,
          "yref": "y3"
         },
         {
          "line": {
           "color": "green",
           "dash": "dot",
           "width": 2
          },
          "type": "line",
          "x0": 20.273150141919732,
          "x1": 20.273150141919732,
          "xref": "x3",
          "y0": 0,
          "y1": 37,
          "yref": "y3"
         },
         {
          "line": {
           "color": "green",
           "dash": "dot",
           "width": 2
          },
          "type": "line",
          "x0": 4.821647545941542,
          "x1": 4.821647545941542,
          "xref": "x3",
          "y0": 0,
          "y1": 37,
          "yref": "y3"
         },
         {
          "line": {
           "color": "black",
           "dash": "dot",
           "width": 2
          },
          "type": "line",
          "x0": 2854.6531791907514,
          "x1": 2854.6531791907514,
          "xref": "x4",
          "y0": 0,
          "y1": 34,
          "yref": "y4"
         },
         {
          "line": {
           "color": "green",
           "dash": "dot",
           "width": 2
          },
          "type": "line",
          "x0": 4004.7975259766886,
          "x1": 4004.7975259766886,
          "xref": "x4",
          "y0": 0,
          "y1": 34,
          "yref": "y4"
         },
         {
          "line": {
           "color": "green",
           "dash": "dot",
           "width": 2
          },
          "type": "line",
          "x0": 1704.5088324048143,
          "x1": 1704.5088324048143,
          "xref": "x4",
          "y0": 0,
          "y1": 34,
          "yref": "y4"
         },
         {
          "line": {
           "color": "black",
           "dash": "dot",
           "width": 2
          },
          "type": "line",
          "x0": 1392.121387283237,
          "x1": 1392.121387283237,
          "xref": "x5",
          "y0": 0,
          "y1": 36,
          "yref": "y5"
         },
         {
          "line": {
           "color": "green",
           "dash": "dot",
           "width": 2
          },
          "type": "line",
          "x0": 2266.1224271196147,
          "x1": 2266.1224271196147,
          "xref": "x5",
          "y0": 0,
          "y1": 36,
          "yref": "y5"
         },
         {
          "line": {
           "color": "green",
           "dash": "dot",
           "width": 2
          },
          "type": "line",
          "x0": 518.1203474468592,
          "x1": 518.1203474468592,
          "xref": "x5",
          "y0": 0,
          "y1": 36,
          "yref": "y5"
         },
         {
          "line": {
           "color": "black",
           "dash": "dot",
           "width": 2
          },
          "type": "line",
          "x0": 1462.5317919075144,
          "x1": 1462.5317919075144,
          "xref": "x6",
          "y0": 0,
          "y1": 37,
          "yref": "y6"
         },
         {
          "line": {
           "color": "green",
           "dash": "dot",
           "width": 2
          },
          "type": "line",
          "x0": 2019.625598285652,
          "x1": 2019.625598285652,
          "xref": "x6",
          "y0": 0,
          "y1": 37,
          "yref": "y6"
         },
         {
          "line": {
           "color": "green",
           "dash": "dot",
           "width": 2
          },
          "type": "line",
          "x0": 905.437985529377,
          "x1": 905.437985529377,
          "xref": "x6",
          "y0": 0,
          "y1": 37,
          "yref": "y6"
         }
        ],
        "showlegend": false,
        "template": {
         "data": {
          "bar": [
           {
            "error_x": {
             "color": "#2a3f5f"
            },
            "error_y": {
             "color": "#2a3f5f"
            },
            "marker": {
             "line": {
              "color": "#E5ECF6",
              "width": 0.5
             },
             "pattern": {
              "fillmode": "overlay",
              "size": 10,
              "solidity": 0.2
             }
            },
            "type": "bar"
           }
          ],
          "barpolar": [
           {
            "marker": {
             "line": {
              "color": "#E5ECF6",
              "width": 0.5
             },
             "pattern": {
              "fillmode": "overlay",
              "size": 10,
              "solidity": 0.2
             }
            },
            "type": "barpolar"
           }
          ],
          "carpet": [
           {
            "aaxis": {
             "endlinecolor": "#2a3f5f",
             "gridcolor": "white",
             "linecolor": "white",
             "minorgridcolor": "white",
             "startlinecolor": "#2a3f5f"
            },
            "baxis": {
             "endlinecolor": "#2a3f5f",
             "gridcolor": "white",
             "linecolor": "white",
             "minorgridcolor": "white",
             "startlinecolor": "#2a3f5f"
            },
            "type": "carpet"
           }
          ],
          "choropleth": [
           {
            "colorbar": {
             "outlinewidth": 0,
             "ticks": ""
            },
            "type": "choropleth"
           }
          ],
          "contour": [
           {
            "colorbar": {
             "outlinewidth": 0,
             "ticks": ""
            },
            "colorscale": [
             [
              0,
              "#0d0887"
             ],
             [
              0.1111111111111111,
              "#46039f"
             ],
             [
              0.2222222222222222,
              "#7201a8"
             ],
             [
              0.3333333333333333,
              "#9c179e"
             ],
             [
              0.4444444444444444,
              "#bd3786"
             ],
             [
              0.5555555555555556,
              "#d8576b"
             ],
             [
              0.6666666666666666,
              "#ed7953"
             ],
             [
              0.7777777777777778,
              "#fb9f3a"
             ],
             [
              0.8888888888888888,
              "#fdca26"
             ],
             [
              1,
              "#f0f921"
             ]
            ],
            "type": "contour"
           }
          ],
          "contourcarpet": [
           {
            "colorbar": {
             "outlinewidth": 0,
             "ticks": ""
            },
            "type": "contourcarpet"
           }
          ],
          "heatmap": [
           {
            "colorbar": {
             "outlinewidth": 0,
             "ticks": ""
            },
            "colorscale": [
             [
              0,
              "#0d0887"
             ],
             [
              0.1111111111111111,
              "#46039f"
             ],
             [
              0.2222222222222222,
              "#7201a8"
             ],
             [
              0.3333333333333333,
              "#9c179e"
             ],
             [
              0.4444444444444444,
              "#bd3786"
             ],
             [
              0.5555555555555556,
              "#d8576b"
             ],
             [
              0.6666666666666666,
              "#ed7953"
             ],
             [
              0.7777777777777778,
              "#fb9f3a"
             ],
             [
              0.8888888888888888,
              "#fdca26"
             ],
             [
              1,
              "#f0f921"
             ]
            ],
            "type": "heatmap"
           }
          ],
          "heatmapgl": [
           {
            "colorbar": {
             "outlinewidth": 0,
             "ticks": ""
            },
            "colorscale": [
             [
              0,
              "#0d0887"
             ],
             [
              0.1111111111111111,
              "#46039f"
             ],
             [
              0.2222222222222222,
              "#7201a8"
             ],
             [
              0.3333333333333333,
              "#9c179e"
             ],
             [
              0.4444444444444444,
              "#bd3786"
             ],
             [
              0.5555555555555556,
              "#d8576b"
             ],
             [
              0.6666666666666666,
              "#ed7953"
             ],
             [
              0.7777777777777778,
              "#fb9f3a"
             ],
             [
              0.8888888888888888,
              "#fdca26"
             ],
             [
              1,
              "#f0f921"
             ]
            ],
            "type": "heatmapgl"
           }
          ],
          "histogram": [
           {
            "marker": {
             "pattern": {
              "fillmode": "overlay",
              "size": 10,
              "solidity": 0.2
             }
            },
            "type": "histogram"
           }
          ],
          "histogram2d": [
           {
            "colorbar": {
             "outlinewidth": 0,
             "ticks": ""
            },
            "colorscale": [
             [
              0,
              "#0d0887"
             ],
             [
              0.1111111111111111,
              "#46039f"
             ],
             [
              0.2222222222222222,
              "#7201a8"
             ],
             [
              0.3333333333333333,
              "#9c179e"
             ],
             [
              0.4444444444444444,
              "#bd3786"
             ],
             [
              0.5555555555555556,
              "#d8576b"
             ],
             [
              0.6666666666666666,
              "#ed7953"
             ],
             [
              0.7777777777777778,
              "#fb9f3a"
             ],
             [
              0.8888888888888888,
              "#fdca26"
             ],
             [
              1,
              "#f0f921"
             ]
            ],
            "type": "histogram2d"
           }
          ],
          "histogram2dcontour": [
           {
            "colorbar": {
             "outlinewidth": 0,
             "ticks": ""
            },
            "colorscale": [
             [
              0,
              "#0d0887"
             ],
             [
              0.1111111111111111,
              "#46039f"
             ],
             [
              0.2222222222222222,
              "#7201a8"
             ],
             [
              0.3333333333333333,
              "#9c179e"
             ],
             [
              0.4444444444444444,
              "#bd3786"
             ],
             [
              0.5555555555555556,
              "#d8576b"
             ],
             [
              0.6666666666666666,
              "#ed7953"
             ],
             [
              0.7777777777777778,
              "#fb9f3a"
             ],
             [
              0.8888888888888888,
              "#fdca26"
             ],
             [
              1,
              "#f0f921"
             ]
            ],
            "type": "histogram2dcontour"
           }
          ],
          "mesh3d": [
           {
            "colorbar": {
             "outlinewidth": 0,
             "ticks": ""
            },
            "type": "mesh3d"
           }
          ],
          "parcoords": [
           {
            "line": {
             "colorbar": {
              "outlinewidth": 0,
              "ticks": ""
             }
            },
            "type": "parcoords"
           }
          ],
          "pie": [
           {
            "automargin": true,
            "type": "pie"
           }
          ],
          "scatter": [
           {
            "fillpattern": {
             "fillmode": "overlay",
             "size": 10,
             "solidity": 0.2
            },
            "type": "scatter"
           }
          ],
          "scatter3d": [
           {
            "line": {
             "colorbar": {
              "outlinewidth": 0,
              "ticks": ""
             }
            },
            "marker": {
             "colorbar": {
              "outlinewidth": 0,
              "ticks": ""
             }
            },
            "type": "scatter3d"
           }
          ],
          "scattercarpet": [
           {
            "marker": {
             "colorbar": {
              "outlinewidth": 0,
              "ticks": ""
             }
            },
            "type": "scattercarpet"
           }
          ],
          "scattergeo": [
           {
            "marker": {
             "colorbar": {
              "outlinewidth": 0,
              "ticks": ""
             }
            },
            "type": "scattergeo"
           }
          ],
          "scattergl": [
           {
            "marker": {
             "colorbar": {
              "outlinewidth": 0,
              "ticks": ""
             }
            },
            "type": "scattergl"
           }
          ],
          "scattermapbox": [
           {
            "marker": {
             "colorbar": {
              "outlinewidth": 0,
              "ticks": ""
             }
            },
            "type": "scattermapbox"
           }
          ],
          "scatterpolar": [
           {
            "marker": {
             "colorbar": {
              "outlinewidth": 0,
              "ticks": ""
             }
            },
            "type": "scatterpolar"
           }
          ],
          "scatterpolargl": [
           {
            "marker": {
             "colorbar": {
              "outlinewidth": 0,
              "ticks": ""
             }
            },
            "type": "scatterpolargl"
           }
          ],
          "scatterternary": [
           {
            "marker": {
             "colorbar": {
              "outlinewidth": 0,
              "ticks": ""
             }
            },
            "type": "scatterternary"
           }
          ],
          "surface": [
           {
            "colorbar": {
             "outlinewidth": 0,
             "ticks": ""
            },
            "colorscale": [
             [
              0,
              "#0d0887"
             ],
             [
              0.1111111111111111,
              "#46039f"
             ],
             [
              0.2222222222222222,
              "#7201a8"
             ],
             [
              0.3333333333333333,
              "#9c179e"
             ],
             [
              0.4444444444444444,
              "#bd3786"
             ],
             [
              0.5555555555555556,
              "#d8576b"
             ],
             [
              0.6666666666666666,
              "#ed7953"
             ],
             [
              0.7777777777777778,
              "#fb9f3a"
             ],
             [
              0.8888888888888888,
              "#fdca26"
             ],
             [
              1,
              "#f0f921"
             ]
            ],
            "type": "surface"
           }
          ],
          "table": [
           {
            "cells": {
             "fill": {
              "color": "#EBF0F8"
             },
             "line": {
              "color": "white"
             }
            },
            "header": {
             "fill": {
              "color": "#C8D4E3"
             },
             "line": {
              "color": "white"
             }
            },
            "type": "table"
           }
          ]
         },
         "layout": {
          "annotationdefaults": {
           "arrowcolor": "#2a3f5f",
           "arrowhead": 0,
           "arrowwidth": 1
          },
          "autotypenumbers": "strict",
          "coloraxis": {
           "colorbar": {
            "outlinewidth": 0,
            "ticks": ""
           }
          },
          "colorscale": {
           "diverging": [
            [
             0,
             "#8e0152"
            ],
            [
             0.1,
             "#c51b7d"
            ],
            [
             0.2,
             "#de77ae"
            ],
            [
             0.3,
             "#f1b6da"
            ],
            [
             0.4,
             "#fde0ef"
            ],
            [
             0.5,
             "#f7f7f7"
            ],
            [
             0.6,
             "#e6f5d0"
            ],
            [
             0.7,
             "#b8e186"
            ],
            [
             0.8,
             "#7fbc41"
            ],
            [
             0.9,
             "#4d9221"
            ],
            [
             1,
             "#276419"
            ]
           ],
           "sequential": [
            [
             0,
             "#0d0887"
            ],
            [
             0.1111111111111111,
             "#46039f"
            ],
            [
             0.2222222222222222,
             "#7201a8"
            ],
            [
             0.3333333333333333,
             "#9c179e"
            ],
            [
             0.4444444444444444,
             "#bd3786"
            ],
            [
             0.5555555555555556,
             "#d8576b"
            ],
            [
             0.6666666666666666,
             "#ed7953"
            ],
            [
             0.7777777777777778,
             "#fb9f3a"
            ],
            [
             0.8888888888888888,
             "#fdca26"
            ],
            [
             1,
             "#f0f921"
            ]
           ],
           "sequentialminus": [
            [
             0,
             "#0d0887"
            ],
            [
             0.1111111111111111,
             "#46039f"
            ],
            [
             0.2222222222222222,
             "#7201a8"
            ],
            [
             0.3333333333333333,
             "#9c179e"
            ],
            [
             0.4444444444444444,
             "#bd3786"
            ],
            [
             0.5555555555555556,
             "#d8576b"
            ],
            [
             0.6666666666666666,
             "#ed7953"
            ],
            [
             0.7777777777777778,
             "#fb9f3a"
            ],
            [
             0.8888888888888888,
             "#fdca26"
            ],
            [
             1,
             "#f0f921"
            ]
           ]
          },
          "colorway": [
           "#636efa",
           "#EF553B",
           "#00cc96",
           "#ab63fa",
           "#FFA15A",
           "#19d3f3",
           "#FF6692",
           "#B6E880",
           "#FF97FF",
           "#FECB52"
          ],
          "font": {
           "color": "#2a3f5f"
          },
          "geo": {
           "bgcolor": "white",
           "lakecolor": "white",
           "landcolor": "#E5ECF6",
           "showlakes": true,
           "showland": true,
           "subunitcolor": "white"
          },
          "hoverlabel": {
           "align": "left"
          },
          "hovermode": "closest",
          "mapbox": {
           "style": "light"
          },
          "paper_bgcolor": "white",
          "plot_bgcolor": "#E5ECF6",
          "polar": {
           "angularaxis": {
            "gridcolor": "white",
            "linecolor": "white",
            "ticks": ""
           },
           "bgcolor": "#E5ECF6",
           "radialaxis": {
            "gridcolor": "white",
            "linecolor": "white",
            "ticks": ""
           }
          },
          "scene": {
           "xaxis": {
            "backgroundcolor": "#E5ECF6",
            "gridcolor": "white",
            "gridwidth": 2,
            "linecolor": "white",
            "showbackground": true,
            "ticks": "",
            "zerolinecolor": "white"
           },
           "yaxis": {
            "backgroundcolor": "#E5ECF6",
            "gridcolor": "white",
            "gridwidth": 2,
            "linecolor": "white",
            "showbackground": true,
            "ticks": "",
            "zerolinecolor": "white"
           },
           "zaxis": {
            "backgroundcolor": "#E5ECF6",
            "gridcolor": "white",
            "gridwidth": 2,
            "linecolor": "white",
            "showbackground": true,
            "ticks": "",
            "zerolinecolor": "white"
           }
          },
          "shapedefaults": {
           "line": {
            "color": "#2a3f5f"
           }
          },
          "ternary": {
           "aaxis": {
            "gridcolor": "white",
            "linecolor": "white",
            "ticks": ""
           },
           "baxis": {
            "gridcolor": "white",
            "linecolor": "white",
            "ticks": ""
           },
           "bgcolor": "#E5ECF6",
           "caxis": {
            "gridcolor": "white",
            "linecolor": "white",
            "ticks": ""
           }
          },
          "title": {
           "x": 0.05
          },
          "xaxis": {
           "automargin": true,
           "gridcolor": "white",
           "linecolor": "white",
           "ticks": "",
           "title": {
            "standoff": 15
           },
           "zerolinecolor": "white",
           "zerolinewidth": 2
          },
          "yaxis": {
           "automargin": true,
           "gridcolor": "white",
           "linecolor": "white",
           "ticks": "",
           "title": {
            "standoff": 15
           },
           "zerolinecolor": "white",
           "zerolinewidth": 2
          }
         }
        },
        "title": {
         "text": "TIPS TRACE 180-day Dist, As of: 2024-09-18"
        },
        "width": 1400,
        "xaxis": {
         "anchor": "y",
         "domain": [
          0,
          0.29333333333333333
         ]
        },
        "xaxis2": {
         "anchor": "y2",
         "domain": [
          0.35333333333333333,
          0.6466666666666667
         ]
        },
        "xaxis3": {
         "anchor": "y3",
         "domain": [
          0.7066666666666667,
          1
         ]
        },
        "xaxis4": {
         "anchor": "y4",
         "domain": [
          0,
          0.29333333333333333
         ]
        },
        "xaxis5": {
         "anchor": "y5",
         "domain": [
          0.35333333333333333,
          0.6466666666666667
         ]
        },
        "xaxis6": {
         "anchor": "y6",
         "domain": [
          0.7066666666666667,
          1
         ]
        },
        "yaxis": {
         "anchor": "x",
         "domain": [
          0.545,
          1
         ]
        },
        "yaxis2": {
         "anchor": "x2",
         "domain": [
          0.545,
          1
         ]
        },
        "yaxis3": {
         "anchor": "x3",
         "domain": [
          0.545,
          1
         ]
        },
        "yaxis4": {
         "anchor": "x4",
         "domain": [
          0,
          0.455
         ]
        },
        "yaxis5": {
         "anchor": "x5",
         "domain": [
          0,
          0.455
         ]
        },
        "yaxis6": {
         "anchor": "x6",
         "domain": [
          0,
          0.455
         ]
        }
       }
      }
     },
     "metadata": {},
     "output_type": "display_data"
    },
    {
     "name": "stdout",
     "output_type": "stream",
     "text": [
      "Saved plot as tenor_5years_distribution_180_days.png\n"
     ]
    },
    {
     "data": {
      "application/vnd.plotly.v1+json": {
       "config": {
        "plotlyServerURL": "https://plot.ly"
       },
       "data": [
        {
         "marker": {
          "color": [
           "blue",
           "red",
           "blue",
           "blue",
           "blue",
           "blue",
           "blue",
           "blue",
           "blue",
           "blue",
           "blue",
           "blue",
           "blue",
           "blue",
           "blue",
           "blue",
           "blue",
           "blue",
           "blue",
           "blue",
           "blue",
           "blue",
           "blue",
           "blue",
           "blue",
           "blue",
           "blue",
           "blue",
           "blue",
           "blue",
           "blue",
           "blue",
           "blue",
           "blue",
           "blue",
           "blue",
           "blue",
           "blue",
           "blue",
           "blue",
           "blue",
           "blue",
           "blue",
           "blue",
           "blue",
           "blue",
           "blue",
           "blue",
           "blue",
           "blue"
          ]
         },
         "name": "Par Value Histogram",
         "type": "bar",
         "x": [
          4.1259999999999994,
          5.378,
          6.629999999999999,
          7.882,
          9.133999999999999,
          10.386,
          11.637999999999998,
          12.889999999999999,
          14.141999999999998,
          15.393999999999997,
          16.645999999999997,
          17.897999999999996,
          19.15,
          20.401999999999997,
          21.653999999999996,
          22.906,
          24.157999999999994,
          25.409999999999997,
          26.661999999999995,
          27.913999999999994,
          29.165999999999997,
          30.417999999999996,
          31.669999999999995,
          32.922,
          34.17399999999999,
          35.425999999999995,
          36.678,
          37.92999999999999,
          39.181999999999995,
          40.434,
          41.68599999999999,
          42.93799999999999,
          44.19,
          45.44199999999999,
          46.69399999999999,
          47.94599999999999,
          49.19799999999999,
          50.44999999999999,
          51.70199999999999,
          52.95399999999999,
          54.20599999999999,
          55.45799999999999,
          56.709999999999994,
          57.96199999999999,
          59.21399999999999,
          60.465999999999994,
          61.71799999999999,
          62.969999999999985,
          64.22199999999998,
          65.47399999999999
         ],
         "xaxis": "x",
         "y": [
          7,
          19,
          21,
          25,
          29,
          30,
          12,
          9,
          0,
          5,
          4,
          2,
          1,
          1,
          0,
          2,
          1,
          0,
          0,
          0,
          0,
          0,
          0,
          0,
          0,
          0,
          1,
          0,
          0,
          0,
          1,
          0,
          0,
          0,
          0,
          2,
          0,
          0,
          0,
          0,
          0,
          0,
          0,
          0,
          0,
          0,
          0,
          0,
          0,
          1
         ],
         "yaxis": "y"
        },
        {
         "marker": {
          "color": [
           "blue",
           "red",
           "blue",
           "blue",
           "blue",
           "blue",
           "blue",
           "blue",
           "blue",
           "blue",
           "blue",
           "blue",
           "blue",
           "blue",
           "blue",
           "blue",
           "blue",
           "blue",
           "blue",
           "blue",
           "blue",
           "blue",
           "blue",
           "blue",
           "blue",
           "blue",
           "blue",
           "blue",
           "blue",
           "blue",
           "blue",
           "blue",
           "blue",
           "blue",
           "blue",
           "blue",
           "blue",
           "blue",
           "blue",
           "blue",
           "blue",
           "blue",
           "blue",
           "blue",
           "blue",
           "blue",
           "blue",
           "blue",
           "blue",
           "blue"
          ]
         },
         "name": "Par Value Histogram",
         "type": "bar",
         "x": [
          1.086,
          1.4580000000000002,
          1.83,
          2.202,
          2.5740000000000003,
          2.946,
          3.3180000000000005,
          3.6900000000000004,
          4.062,
          4.434000000000001,
          4.806000000000001,
          5.178000000000001,
          5.550000000000001,
          5.922000000000001,
          6.294000000000001,
          6.666000000000001,
          7.038000000000001,
          7.410000000000001,
          7.782000000000002,
          8.154000000000002,
          8.526000000000002,
          8.898000000000001,
          9.270000000000001,
          9.642000000000001,
          10.014000000000001,
          10.386000000000001,
          10.758000000000003,
          11.130000000000003,
          11.502000000000002,
          11.874000000000002,
          12.246000000000002,
          12.618000000000002,
          12.990000000000002,
          13.362000000000002,
          13.734000000000002,
          14.106000000000002,
          14.478000000000002,
          14.850000000000001,
          15.222000000000003,
          15.594000000000003,
          15.966000000000001,
          16.338,
          16.71,
          17.082,
          17.454,
          17.826,
          18.198,
          18.57,
          18.942,
          19.314
         ],
         "xaxis": "x2",
         "y": [
          4,
          19,
          20,
          19,
          26,
          24,
          24,
          11,
          7,
          3,
          2,
          2,
          3,
          0,
          3,
          0,
          0,
          0,
          1,
          0,
          0,
          0,
          1,
          1,
          0,
          0,
          0,
          0,
          0,
          1,
          0,
          0,
          0,
          0,
          0,
          1,
          0,
          0,
          0,
          0,
          0,
          0,
          0,
          0,
          0,
          0,
          0,
          0,
          0,
          1
         ],
         "yaxis": "y2"
        },
        {
         "marker": {
          "color": [
           "blue",
           "red",
           "blue",
           "blue",
           "blue",
           "blue",
           "blue",
           "blue",
           "blue",
           "blue",
           "blue",
           "blue",
           "blue",
           "blue",
           "blue",
           "blue",
           "blue",
           "blue",
           "blue",
           "blue",
           "blue",
           "blue",
           "blue",
           "blue",
           "blue",
           "blue",
           "blue",
           "blue",
           "blue",
           "blue",
           "blue",
           "blue",
           "blue",
           "blue",
           "blue",
           "blue",
           "blue",
           "blue",
           "blue",
           "blue",
           "blue",
           "blue",
           "blue",
           "blue",
           "blue",
           "blue",
           "blue",
           "blue",
           "blue",
           "blue"
          ]
         },
         "name": "Par Value Histogram",
         "type": "bar",
         "x": [
          2.644,
          3.532,
          4.42,
          5.308000000000001,
          6.196000000000001,
          7.0840000000000005,
          7.972,
          8.86,
          9.748000000000001,
          10.636000000000001,
          11.524000000000001,
          12.412,
          13.3,
          14.188,
          15.076,
          15.964,
          16.852,
          17.740000000000002,
          18.628,
          19.516,
          20.404,
          21.292,
          22.18,
          23.067999999999998,
          23.956,
          24.844,
          25.732,
          26.619999999999997,
          27.508,
          28.396,
          29.284,
          30.171999999999997,
          31.060000000000002,
          31.948,
          32.836,
          33.724000000000004,
          34.612,
          35.5,
          36.388000000000005,
          37.276,
          38.164,
          39.05200000000001,
          39.94,
          40.828,
          41.71600000000001,
          42.604,
          43.492000000000004,
          44.38,
          45.268,
          46.156000000000006
         ],
         "xaxis": "x3",
         "y": [
          5,
          14,
          27,
          21,
          29,
          27,
          13,
          12,
          5,
          1,
          2,
          5,
          4,
          0,
          0,
          1,
          0,
          2,
          0,
          0,
          0,
          0,
          0,
          0,
          0,
          0,
          0,
          0,
          0,
          1,
          1,
          0,
          0,
          0,
          0,
          0,
          0,
          0,
          1,
          0,
          0,
          1,
          0,
          0,
          0,
          0,
          0,
          0,
          0,
          1
         ],
         "yaxis": "y3"
        },
        {
         "marker": {
          "color": [
           "blue",
           "blue",
           "blue",
           "red",
           "blue",
           "blue",
           "blue",
           "blue",
           "blue",
           "blue",
           "blue",
           "blue",
           "blue",
           "blue",
           "blue",
           "blue",
           "blue",
           "blue",
           "blue",
           "blue",
           "blue",
           "blue",
           "blue",
           "blue",
           "blue",
           "blue",
           "blue",
           "blue",
           "blue",
           "blue",
           "blue",
           "blue",
           "blue",
           "blue",
           "blue",
           "blue",
           "blue",
           "blue",
           "blue",
           "blue",
           "blue",
           "blue",
           "blue",
           "blue",
           "blue",
           "blue",
           "blue",
           "blue",
           "blue",
           "blue"
          ]
         },
         "name": "Trades Histogram",
         "type": "bar",
         "x": [
          708.9,
          784.7,
          860.5,
          936.3,
          1012.1,
          1087.9,
          1163.6999999999998,
          1239.5,
          1315.3,
          1391.1,
          1466.9,
          1542.6999999999998,
          1618.5,
          1694.3000000000002,
          1770.1,
          1845.9,
          1921.6999999999998,
          1997.5,
          2073.2999999999997,
          2149.1,
          2224.9,
          2300.7,
          2376.5,
          2452.2999999999997,
          2528.1,
          2603.9,
          2679.7,
          2755.5,
          2831.3,
          2907.1,
          2982.8999999999996,
          3058.7,
          3134.5,
          3210.3,
          3286.1,
          3361.8999999999996,
          3437.7,
          3513.5,
          3589.3,
          3665.1,
          3740.8999999999996,
          3816.7,
          3892.5,
          3968.3,
          4044.1,
          4119.9,
          4195.7,
          4271.5,
          4347.299999999999,
          4423.1
         ],
         "xaxis": "x4",
         "y": [
          4,
          2,
          7,
          15,
          17,
          21,
          18,
          18,
          8,
          12,
          6,
          7,
          1,
          4,
          4,
          1,
          5,
          3,
          1,
          0,
          3,
          1,
          2,
          1,
          1,
          0,
          0,
          0,
          1,
          0,
          0,
          0,
          1,
          0,
          1,
          0,
          1,
          1,
          0,
          0,
          1,
          1,
          0,
          1,
          1,
          0,
          0,
          0,
          1,
          1
         ],
         "yaxis": "y4"
        },
        {
         "marker": {
          "color": [
           "blue",
           "red",
           "blue",
           "blue",
           "blue",
           "blue",
           "blue",
           "blue",
           "blue",
           "blue",
           "blue",
           "blue",
           "blue",
           "blue",
           "blue",
           "blue",
           "blue",
           "blue",
           "blue",
           "blue",
           "blue",
           "blue",
           "blue",
           "blue",
           "blue",
           "blue",
           "blue",
           "blue",
           "blue",
           "blue",
           "blue",
           "blue",
           "blue",
           "blue",
           "blue",
           "blue",
           "blue",
           "blue",
           "blue",
           "blue",
           "blue",
           "blue",
           "blue",
           "blue",
           "blue",
           "blue",
           "blue",
           "blue",
           "blue",
           "blue"
          ]
         },
         "name": "Trades Histogram",
         "type": "bar",
         "x": [
          253.8,
          325.4,
          397,
          468.59999999999997,
          540.2,
          611.8,
          683.3999999999999,
          755,
          826.5999999999999,
          898.2,
          969.8,
          1041.3999999999999,
          1113,
          1184.6,
          1256.1999999999998,
          1327.8,
          1399.3999999999999,
          1471,
          1542.6,
          1614.1999999999998,
          1685.8,
          1757.3999999999999,
          1829,
          1900.6,
          1972.1999999999998,
          2043.7999999999997,
          2115.3999999999996,
          2187,
          2258.5999999999995,
          2330.2,
          2401.8,
          2473.3999999999996,
          2545,
          2616.5999999999995,
          2688.2,
          2759.8,
          2831.3999999999996,
          2903,
          2974.5999999999995,
          3046.2,
          3117.8,
          3189.3999999999996,
          3261,
          3332.5999999999995,
          3404.2,
          3475.7999999999997,
          3547.3999999999996,
          3619,
          3690.5999999999995,
          3762.2
         ],
         "xaxis": "x5",
         "y": [
          3,
          18,
          34,
          32,
          21,
          10,
          10,
          8,
          3,
          4,
          2,
          5,
          0,
          2,
          4,
          2,
          1,
          1,
          2,
          1,
          1,
          1,
          0,
          1,
          0,
          0,
          0,
          0,
          0,
          0,
          0,
          0,
          1,
          1,
          0,
          0,
          0,
          0,
          0,
          0,
          1,
          0,
          0,
          1,
          1,
          1,
          0,
          0,
          0,
          1
         ],
         "yaxis": "y5"
        },
        {
         "marker": {
          "color": [
           "blue",
           "blue",
           "blue",
           "blue",
           "red",
           "blue",
           "blue",
           "blue",
           "blue",
           "blue",
           "blue",
           "blue",
           "blue",
           "blue",
           "blue",
           "blue",
           "blue",
           "blue",
           "blue",
           "blue",
           "blue",
           "blue",
           "blue",
           "blue",
           "blue",
           "blue",
           "blue",
           "blue",
           "blue",
           "blue",
           "blue",
           "blue",
           "blue",
           "blue",
           "blue",
           "blue",
           "blue",
           "blue",
           "blue",
           "blue",
           "blue",
           "blue",
           "blue",
           "blue",
           "blue",
           "blue",
           "blue",
           "blue",
           "blue",
           "blue"
          ]
         },
         "name": "Trades Histogram",
         "type": "bar",
         "x": [
          377.61,
          416.83000000000004,
          456.04999999999995,
          495.27,
          534.49,
          573.71,
          612.93,
          652.15,
          691.37,
          730.59,
          769.81,
          809.03,
          848.25,
          887.47,
          926.6899999999999,
          965.91,
          1005.13,
          1044.35,
          1083.57,
          1122.79,
          1162.01,
          1201.23,
          1240.4499999999998,
          1279.67,
          1318.8899999999999,
          1358.1100000000001,
          1397.33,
          1436.55,
          1475.77,
          1514.9899999999998,
          1554.21,
          1593.4299999999998,
          1632.65,
          1671.87,
          1711.0900000000001,
          1750.31,
          1789.53,
          1828.75,
          1867.9699999999998,
          1907.19,
          1946.4099999999999,
          1985.63,
          2024.85,
          2064.0699999999997,
          2103.29,
          2142.5099999999998,
          2181.73,
          2220.95,
          2260.17,
          2299.39
         ],
         "xaxis": "x6",
         "y": [
          2,
          0,
          2,
          5,
          17,
          18,
          20,
          28,
          17,
          11,
          23,
          5,
          6,
          5,
          1,
          3,
          1,
          0,
          1,
          0,
          0,
          0,
          0,
          0,
          1,
          1,
          0,
          0,
          0,
          1,
          1,
          0,
          0,
          0,
          1,
          0,
          0,
          0,
          0,
          0,
          0,
          0,
          0,
          0,
          1,
          1,
          0,
          0,
          0,
          1
         ],
         "yaxis": "y6"
        }
       ],
       "layout": {
        "annotations": [
         {
          "font": {
           "color": "black",
           "size": 10
          },
          "showarrow": false,
          "text": "Mean:11",
          "x": 10.592485549132949,
          "xref": "x",
          "y": 41,
          "yref": "y"
         },
         {
          "font": {
           "color": "green",
           "size": 10
          },
          "showarrow": false,
          "text": "+1SD:18",
          "x": 18.184716226240663,
          "xref": "x",
          "y": 41,
          "yref": "y"
         },
         {
          "font": {
           "color": "green",
           "size": 10
          },
          "showarrow": false,
          "text": "-1SD:3",
          "x": 3.000254872025235,
          "xref": "x",
          "y": 41,
          "yref": "y"
         },
         {
          "font": {
           "color": "black",
           "size": 10
          },
          "showarrow": false,
          "text": "Mean:3",
          "x": 3.0907514450867053,
          "xref": "x2",
          "y": 37,
          "yref": "y2"
         },
         {
          "font": {
           "color": "green",
           "size": 10
          },
          "showarrow": false,
          "text": "+1SD:5",
          "x": 5.203587528161537,
          "xref": "x2",
          "y": 37,
          "yref": "y2"
         },
         {
          "font": {
           "color": "green",
           "size": 10
          },
          "showarrow": false,
          "text": "-1SD:1",
          "x": 0.9779153620118732,
          "xref": "x2",
          "y": 37,
          "yref": "y2"
         },
         {
          "font": {
           "color": "black",
           "size": 10
          },
          "showarrow": false,
          "text": "Mean:8",
          "x": 7.508092485549134,
          "xref": "x3",
          "y": 40,
          "yref": "y3"
         },
         {
          "font": {
           "color": "green",
           "size": 10
          },
          "showarrow": false,
          "text": "+1SD:13",
          "x": 13.195299847274345,
          "xref": "x3",
          "y": 40,
          "yref": "y3"
         },
         {
          "font": {
           "color": "green",
           "size": 10
          },
          "showarrow": false,
          "text": "-1SD:2",
          "x": 1.8208851238239214,
          "xref": "x3",
          "y": 40,
          "yref": "y3"
         },
         {
          "font": {
           "color": "black",
           "size": 10
          },
          "showarrow": false,
          "text": "Mean:1441",
          "x": 1440.5664739884394,
          "xref": "x4",
          "y": 32,
          "yref": "y4"
         },
         {
          "font": {
           "color": "green",
           "size": 10
          },
          "showarrow": false,
          "text": "+1SD:2143",
          "x": 2143.3310909498264,
          "xref": "x4",
          "y": 32,
          "yref": "y4"
         },
         {
          "font": {
           "color": "green",
           "size": 10
          },
          "showarrow": false,
          "text": "-1SD:738",
          "x": 737.8018570270523,
          "xref": "x4",
          "y": 32,
          "yref": "y4"
         },
         {
          "font": {
           "color": "black",
           "size": 10
          },
          "showarrow": false,
          "text": "Mean:717",
          "x": 716.6473988439307,
          "xref": "x5",
          "y": 45,
          "yref": "y5"
         },
         {
          "font": {
           "color": "green",
           "size": 10
          },
          "showarrow": false,
          "text": "+1SD:1322",
          "x": 1322.2624614011002,
          "xref": "x5",
          "y": 45,
          "yref": "y5"
         },
         {
          "font": {
           "color": "green",
           "size": 10
          },
          "showarrow": false,
          "text": "-1SD:111",
          "x": 111.03233628676128,
          "xref": "x5",
          "y": 45,
          "yref": "y5"
         },
         {
          "font": {
           "color": "black",
           "size": 10
          },
          "showarrow": false,
          "text": "Mean:724",
          "x": 723.9190751445087,
          "xref": "x6",
          "y": 39,
          "yref": "y6"
         },
         {
          "font": {
           "color": "green",
           "size": 10
          },
          "showarrow": false,
          "text": "+1SD:989",
          "x": 989.420137779701,
          "xref": "x6",
          "y": 39,
          "yref": "y6"
         },
         {
          "font": {
           "color": "green",
           "size": 10
          },
          "showarrow": false,
          "text": "-1SD:458",
          "x": 458.4180125093164,
          "xref": "x6",
          "y": 39,
          "yref": "y6"
         },
         {
          "font": {
           "size": 13
          },
          "showarrow": false,
          "text": "Total Par Value in Billion",
          "x": 0.12,
          "xanchor": "center",
          "xref": "paper",
          "y": 1.05,
          "yref": "paper"
         },
         {
          "font": {
           "size": 13
          },
          "showarrow": false,
          "text": "ATS & Interdealer Par Value",
          "x": 0.5,
          "xanchor": "center",
          "xref": "paper",
          "y": 1.05,
          "yref": "paper"
         },
         {
          "font": {
           "size": 13
          },
          "showarrow": false,
          "text": "Dealer to Customer Par Value",
          "x": 0.85,
          "xanchor": "center",
          "xref": "paper",
          "y": 1.05,
          "yref": "paper"
         },
         {
          "font": {
           "size": 13
          },
          "showarrow": false,
          "text": "Total Number of Trades",
          "x": 0.12,
          "xanchor": "center",
          "xref": "paper",
          "y": 0.48,
          "yref": "paper"
         },
         {
          "font": {
           "size": 13
          },
          "showarrow": false,
          "text": "ATS & Interdealer Trades",
          "x": 0.5,
          "xanchor": "center",
          "xref": "paper",
          "y": 0.48,
          "yref": "paper"
         },
         {
          "font": {
           "size": 13
          },
          "showarrow": false,
          "text": "Dealer to Customer Trades",
          "x": 0.85,
          "xanchor": "center",
          "xref": "paper",
          "y": 0.48,
          "yref": "paper"
         }
        ],
        "font": {
         "family": "Times New Roman"
        },
        "height": 600,
        "shapes": [
         {
          "line": {
           "color": "black",
           "dash": "dot",
           "width": 2
          },
          "type": "line",
          "x0": 10.592485549132949,
          "x1": 10.592485549132949,
          "xref": "x",
          "y0": 0,
          "y1": 40,
          "yref": "y"
         },
         {
          "line": {
           "color": "green",
           "dash": "dot",
           "width": 2
          },
          "type": "line",
          "x0": 18.184716226240663,
          "x1": 18.184716226240663,
          "xref": "x",
          "y0": 0,
          "y1": 40,
          "yref": "y"
         },
         {
          "line": {
           "color": "green",
           "dash": "dot",
           "width": 2
          },
          "type": "line",
          "x0": 3.000254872025235,
          "x1": 3.000254872025235,
          "xref": "x",
          "y0": 0,
          "y1": 40,
          "yref": "y"
         },
         {
          "line": {
           "color": "black",
           "dash": "dot",
           "width": 2
          },
          "type": "line",
          "x0": 3.0907514450867053,
          "x1": 3.0907514450867053,
          "xref": "x2",
          "y0": 0,
          "y1": 36,
          "yref": "y2"
         },
         {
          "line": {
           "color": "green",
           "dash": "dot",
           "width": 2
          },
          "type": "line",
          "x0": 5.203587528161537,
          "x1": 5.203587528161537,
          "xref": "x2",
          "y0": 0,
          "y1": 36,
          "yref": "y2"
         },
         {
          "line": {
           "color": "green",
           "dash": "dot",
           "width": 2
          },
          "type": "line",
          "x0": 0.9779153620118732,
          "x1": 0.9779153620118732,
          "xref": "x2",
          "y0": 0,
          "y1": 36,
          "yref": "y2"
         },
         {
          "line": {
           "color": "black",
           "dash": "dot",
           "width": 2
          },
          "type": "line",
          "x0": 7.508092485549134,
          "x1": 7.508092485549134,
          "xref": "x3",
          "y0": 0,
          "y1": 39,
          "yref": "y3"
         },
         {
          "line": {
           "color": "green",
           "dash": "dot",
           "width": 2
          },
          "type": "line",
          "x0": 13.195299847274345,
          "x1": 13.195299847274345,
          "xref": "x3",
          "y0": 0,
          "y1": 39,
          "yref": "y3"
         },
         {
          "line": {
           "color": "green",
           "dash": "dot",
           "width": 2
          },
          "type": "line",
          "x0": 1.8208851238239214,
          "x1": 1.8208851238239214,
          "xref": "x3",
          "y0": 0,
          "y1": 39,
          "yref": "y3"
         },
         {
          "line": {
           "color": "black",
           "dash": "dot",
           "width": 2
          },
          "type": "line",
          "x0": 1440.5664739884394,
          "x1": 1440.5664739884394,
          "xref": "x4",
          "y0": 0,
          "y1": 31,
          "yref": "y4"
         },
         {
          "line": {
           "color": "green",
           "dash": "dot",
           "width": 2
          },
          "type": "line",
          "x0": 2143.3310909498264,
          "x1": 2143.3310909498264,
          "xref": "x4",
          "y0": 0,
          "y1": 31,
          "yref": "y4"
         },
         {
          "line": {
           "color": "green",
           "dash": "dot",
           "width": 2
          },
          "type": "line",
          "x0": 737.8018570270523,
          "x1": 737.8018570270523,
          "xref": "x4",
          "y0": 0,
          "y1": 31,
          "yref": "y4"
         },
         {
          "line": {
           "color": "black",
           "dash": "dot",
           "width": 2
          },
          "type": "line",
          "x0": 716.6473988439307,
          "x1": 716.6473988439307,
          "xref": "x5",
          "y0": 0,
          "y1": 44,
          "yref": "y5"
         },
         {
          "line": {
           "color": "green",
           "dash": "dot",
           "width": 2
          },
          "type": "line",
          "x0": 1322.2624614011002,
          "x1": 1322.2624614011002,
          "xref": "x5",
          "y0": 0,
          "y1": 44,
          "yref": "y5"
         },
         {
          "line": {
           "color": "green",
           "dash": "dot",
           "width": 2
          },
          "type": "line",
          "x0": 111.03233628676128,
          "x1": 111.03233628676128,
          "xref": "x5",
          "y0": 0,
          "y1": 44,
          "yref": "y5"
         },
         {
          "line": {
           "color": "black",
           "dash": "dot",
           "width": 2
          },
          "type": "line",
          "x0": 723.9190751445087,
          "x1": 723.9190751445087,
          "xref": "x6",
          "y0": 0,
          "y1": 38,
          "yref": "y6"
         },
         {
          "line": {
           "color": "green",
           "dash": "dot",
           "width": 2
          },
          "type": "line",
          "x0": 989.420137779701,
          "x1": 989.420137779701,
          "xref": "x6",
          "y0": 0,
          "y1": 38,
          "yref": "y6"
         },
         {
          "line": {
           "color": "green",
           "dash": "dot",
           "width": 2
          },
          "type": "line",
          "x0": 458.4180125093164,
          "x1": 458.4180125093164,
          "xref": "x6",
          "y0": 0,
          "y1": 38,
          "yref": "y6"
         }
        ],
        "showlegend": false,
        "template": {
         "data": {
          "bar": [
           {
            "error_x": {
             "color": "#2a3f5f"
            },
            "error_y": {
             "color": "#2a3f5f"
            },
            "marker": {
             "line": {
              "color": "#E5ECF6",
              "width": 0.5
             },
             "pattern": {
              "fillmode": "overlay",
              "size": 10,
              "solidity": 0.2
             }
            },
            "type": "bar"
           }
          ],
          "barpolar": [
           {
            "marker": {
             "line": {
              "color": "#E5ECF6",
              "width": 0.5
             },
             "pattern": {
              "fillmode": "overlay",
              "size": 10,
              "solidity": 0.2
             }
            },
            "type": "barpolar"
           }
          ],
          "carpet": [
           {
            "aaxis": {
             "endlinecolor": "#2a3f5f",
             "gridcolor": "white",
             "linecolor": "white",
             "minorgridcolor": "white",
             "startlinecolor": "#2a3f5f"
            },
            "baxis": {
             "endlinecolor": "#2a3f5f",
             "gridcolor": "white",
             "linecolor": "white",
             "minorgridcolor": "white",
             "startlinecolor": "#2a3f5f"
            },
            "type": "carpet"
           }
          ],
          "choropleth": [
           {
            "colorbar": {
             "outlinewidth": 0,
             "ticks": ""
            },
            "type": "choropleth"
           }
          ],
          "contour": [
           {
            "colorbar": {
             "outlinewidth": 0,
             "ticks": ""
            },
            "colorscale": [
             [
              0,
              "#0d0887"
             ],
             [
              0.1111111111111111,
              "#46039f"
             ],
             [
              0.2222222222222222,
              "#7201a8"
             ],
             [
              0.3333333333333333,
              "#9c179e"
             ],
             [
              0.4444444444444444,
              "#bd3786"
             ],
             [
              0.5555555555555556,
              "#d8576b"
             ],
             [
              0.6666666666666666,
              "#ed7953"
             ],
             [
              0.7777777777777778,
              "#fb9f3a"
             ],
             [
              0.8888888888888888,
              "#fdca26"
             ],
             [
              1,
              "#f0f921"
             ]
            ],
            "type": "contour"
           }
          ],
          "contourcarpet": [
           {
            "colorbar": {
             "outlinewidth": 0,
             "ticks": ""
            },
            "type": "contourcarpet"
           }
          ],
          "heatmap": [
           {
            "colorbar": {
             "outlinewidth": 0,
             "ticks": ""
            },
            "colorscale": [
             [
              0,
              "#0d0887"
             ],
             [
              0.1111111111111111,
              "#46039f"
             ],
             [
              0.2222222222222222,
              "#7201a8"
             ],
             [
              0.3333333333333333,
              "#9c179e"
             ],
             [
              0.4444444444444444,
              "#bd3786"
             ],
             [
              0.5555555555555556,
              "#d8576b"
             ],
             [
              0.6666666666666666,
              "#ed7953"
             ],
             [
              0.7777777777777778,
              "#fb9f3a"
             ],
             [
              0.8888888888888888,
              "#fdca26"
             ],
             [
              1,
              "#f0f921"
             ]
            ],
            "type": "heatmap"
           }
          ],
          "heatmapgl": [
           {
            "colorbar": {
             "outlinewidth": 0,
             "ticks": ""
            },
            "colorscale": [
             [
              0,
              "#0d0887"
             ],
             [
              0.1111111111111111,
              "#46039f"
             ],
             [
              0.2222222222222222,
              "#7201a8"
             ],
             [
              0.3333333333333333,
              "#9c179e"
             ],
             [
              0.4444444444444444,
              "#bd3786"
             ],
             [
              0.5555555555555556,
              "#d8576b"
             ],
             [
              0.6666666666666666,
              "#ed7953"
             ],
             [
              0.7777777777777778,
              "#fb9f3a"
             ],
             [
              0.8888888888888888,
              "#fdca26"
             ],
             [
              1,
              "#f0f921"
             ]
            ],
            "type": "heatmapgl"
           }
          ],
          "histogram": [
           {
            "marker": {
             "pattern": {
              "fillmode": "overlay",
              "size": 10,
              "solidity": 0.2
             }
            },
            "type": "histogram"
           }
          ],
          "histogram2d": [
           {
            "colorbar": {
             "outlinewidth": 0,
             "ticks": ""
            },
            "colorscale": [
             [
              0,
              "#0d0887"
             ],
             [
              0.1111111111111111,
              "#46039f"
             ],
             [
              0.2222222222222222,
              "#7201a8"
             ],
             [
              0.3333333333333333,
              "#9c179e"
             ],
             [
              0.4444444444444444,
              "#bd3786"
             ],
             [
              0.5555555555555556,
              "#d8576b"
             ],
             [
              0.6666666666666666,
              "#ed7953"
             ],
             [
              0.7777777777777778,
              "#fb9f3a"
             ],
             [
              0.8888888888888888,
              "#fdca26"
             ],
             [
              1,
              "#f0f921"
             ]
            ],
            "type": "histogram2d"
           }
          ],
          "histogram2dcontour": [
           {
            "colorbar": {
             "outlinewidth": 0,
             "ticks": ""
            },
            "colorscale": [
             [
              0,
              "#0d0887"
             ],
             [
              0.1111111111111111,
              "#46039f"
             ],
             [
              0.2222222222222222,
              "#7201a8"
             ],
             [
              0.3333333333333333,
              "#9c179e"
             ],
             [
              0.4444444444444444,
              "#bd3786"
             ],
             [
              0.5555555555555556,
              "#d8576b"
             ],
             [
              0.6666666666666666,
              "#ed7953"
             ],
             [
              0.7777777777777778,
              "#fb9f3a"
             ],
             [
              0.8888888888888888,
              "#fdca26"
             ],
             [
              1,
              "#f0f921"
             ]
            ],
            "type": "histogram2dcontour"
           }
          ],
          "mesh3d": [
           {
            "colorbar": {
             "outlinewidth": 0,
             "ticks": ""
            },
            "type": "mesh3d"
           }
          ],
          "parcoords": [
           {
            "line": {
             "colorbar": {
              "outlinewidth": 0,
              "ticks": ""
             }
            },
            "type": "parcoords"
           }
          ],
          "pie": [
           {
            "automargin": true,
            "type": "pie"
           }
          ],
          "scatter": [
           {
            "fillpattern": {
             "fillmode": "overlay",
             "size": 10,
             "solidity": 0.2
            },
            "type": "scatter"
           }
          ],
          "scatter3d": [
           {
            "line": {
             "colorbar": {
              "outlinewidth": 0,
              "ticks": ""
             }
            },
            "marker": {
             "colorbar": {
              "outlinewidth": 0,
              "ticks": ""
             }
            },
            "type": "scatter3d"
           }
          ],
          "scattercarpet": [
           {
            "marker": {
             "colorbar": {
              "outlinewidth": 0,
              "ticks": ""
             }
            },
            "type": "scattercarpet"
           }
          ],
          "scattergeo": [
           {
            "marker": {
             "colorbar": {
              "outlinewidth": 0,
              "ticks": ""
             }
            },
            "type": "scattergeo"
           }
          ],
          "scattergl": [
           {
            "marker": {
             "colorbar": {
              "outlinewidth": 0,
              "ticks": ""
             }
            },
            "type": "scattergl"
           }
          ],
          "scattermapbox": [
           {
            "marker": {
             "colorbar": {
              "outlinewidth": 0,
              "ticks": ""
             }
            },
            "type": "scattermapbox"
           }
          ],
          "scatterpolar": [
           {
            "marker": {
             "colorbar": {
              "outlinewidth": 0,
              "ticks": ""
             }
            },
            "type": "scatterpolar"
           }
          ],
          "scatterpolargl": [
           {
            "marker": {
             "colorbar": {
              "outlinewidth": 0,
              "ticks": ""
             }
            },
            "type": "scatterpolargl"
           }
          ],
          "scatterternary": [
           {
            "marker": {
             "colorbar": {
              "outlinewidth": 0,
              "ticks": ""
             }
            },
            "type": "scatterternary"
           }
          ],
          "surface": [
           {
            "colorbar": {
             "outlinewidth": 0,
             "ticks": ""
            },
            "colorscale": [
             [
              0,
              "#0d0887"
             ],
             [
              0.1111111111111111,
              "#46039f"
             ],
             [
              0.2222222222222222,
              "#7201a8"
             ],
             [
              0.3333333333333333,
              "#9c179e"
             ],
             [
              0.4444444444444444,
              "#bd3786"
             ],
             [
              0.5555555555555556,
              "#d8576b"
             ],
             [
              0.6666666666666666,
              "#ed7953"
             ],
             [
              0.7777777777777778,
              "#fb9f3a"
             ],
             [
              0.8888888888888888,
              "#fdca26"
             ],
             [
              1,
              "#f0f921"
             ]
            ],
            "type": "surface"
           }
          ],
          "table": [
           {
            "cells": {
             "fill": {
              "color": "#EBF0F8"
             },
             "line": {
              "color": "white"
             }
            },
            "header": {
             "fill": {
              "color": "#C8D4E3"
             },
             "line": {
              "color": "white"
             }
            },
            "type": "table"
           }
          ]
         },
         "layout": {
          "annotationdefaults": {
           "arrowcolor": "#2a3f5f",
           "arrowhead": 0,
           "arrowwidth": 1
          },
          "autotypenumbers": "strict",
          "coloraxis": {
           "colorbar": {
            "outlinewidth": 0,
            "ticks": ""
           }
          },
          "colorscale": {
           "diverging": [
            [
             0,
             "#8e0152"
            ],
            [
             0.1,
             "#c51b7d"
            ],
            [
             0.2,
             "#de77ae"
            ],
            [
             0.3,
             "#f1b6da"
            ],
            [
             0.4,
             "#fde0ef"
            ],
            [
             0.5,
             "#f7f7f7"
            ],
            [
             0.6,
             "#e6f5d0"
            ],
            [
             0.7,
             "#b8e186"
            ],
            [
             0.8,
             "#7fbc41"
            ],
            [
             0.9,
             "#4d9221"
            ],
            [
             1,
             "#276419"
            ]
           ],
           "sequential": [
            [
             0,
             "#0d0887"
            ],
            [
             0.1111111111111111,
             "#46039f"
            ],
            [
             0.2222222222222222,
             "#7201a8"
            ],
            [
             0.3333333333333333,
             "#9c179e"
            ],
            [
             0.4444444444444444,
             "#bd3786"
            ],
            [
             0.5555555555555556,
             "#d8576b"
            ],
            [
             0.6666666666666666,
             "#ed7953"
            ],
            [
             0.7777777777777778,
             "#fb9f3a"
            ],
            [
             0.8888888888888888,
             "#fdca26"
            ],
            [
             1,
             "#f0f921"
            ]
           ],
           "sequentialminus": [
            [
             0,
             "#0d0887"
            ],
            [
             0.1111111111111111,
             "#46039f"
            ],
            [
             0.2222222222222222,
             "#7201a8"
            ],
            [
             0.3333333333333333,
             "#9c179e"
            ],
            [
             0.4444444444444444,
             "#bd3786"
            ],
            [
             0.5555555555555556,
             "#d8576b"
            ],
            [
             0.6666666666666666,
             "#ed7953"
            ],
            [
             0.7777777777777778,
             "#fb9f3a"
            ],
            [
             0.8888888888888888,
             "#fdca26"
            ],
            [
             1,
             "#f0f921"
            ]
           ]
          },
          "colorway": [
           "#636efa",
           "#EF553B",
           "#00cc96",
           "#ab63fa",
           "#FFA15A",
           "#19d3f3",
           "#FF6692",
           "#B6E880",
           "#FF97FF",
           "#FECB52"
          ],
          "font": {
           "color": "#2a3f5f"
          },
          "geo": {
           "bgcolor": "white",
           "lakecolor": "white",
           "landcolor": "#E5ECF6",
           "showlakes": true,
           "showland": true,
           "subunitcolor": "white"
          },
          "hoverlabel": {
           "align": "left"
          },
          "hovermode": "closest",
          "mapbox": {
           "style": "light"
          },
          "paper_bgcolor": "white",
          "plot_bgcolor": "#E5ECF6",
          "polar": {
           "angularaxis": {
            "gridcolor": "white",
            "linecolor": "white",
            "ticks": ""
           },
           "bgcolor": "#E5ECF6",
           "radialaxis": {
            "gridcolor": "white",
            "linecolor": "white",
            "ticks": ""
           }
          },
          "scene": {
           "xaxis": {
            "backgroundcolor": "#E5ECF6",
            "gridcolor": "white",
            "gridwidth": 2,
            "linecolor": "white",
            "showbackground": true,
            "ticks": "",
            "zerolinecolor": "white"
           },
           "yaxis": {
            "backgroundcolor": "#E5ECF6",
            "gridcolor": "white",
            "gridwidth": 2,
            "linecolor": "white",
            "showbackground": true,
            "ticks": "",
            "zerolinecolor": "white"
           },
           "zaxis": {
            "backgroundcolor": "#E5ECF6",
            "gridcolor": "white",
            "gridwidth": 2,
            "linecolor": "white",
            "showbackground": true,
            "ticks": "",
            "zerolinecolor": "white"
           }
          },
          "shapedefaults": {
           "line": {
            "color": "#2a3f5f"
           }
          },
          "ternary": {
           "aaxis": {
            "gridcolor": "white",
            "linecolor": "white",
            "ticks": ""
           },
           "baxis": {
            "gridcolor": "white",
            "linecolor": "white",
            "ticks": ""
           },
           "bgcolor": "#E5ECF6",
           "caxis": {
            "gridcolor": "white",
            "linecolor": "white",
            "ticks": ""
           }
          },
          "title": {
           "x": 0.05
          },
          "xaxis": {
           "automargin": true,
           "gridcolor": "white",
           "linecolor": "white",
           "ticks": "",
           "title": {
            "standoff": 15
           },
           "zerolinecolor": "white",
           "zerolinewidth": 2
          },
          "yaxis": {
           "automargin": true,
           "gridcolor": "white",
           "linecolor": "white",
           "ticks": "",
           "title": {
            "standoff": 15
           },
           "zerolinecolor": "white",
           "zerolinewidth": 2
          }
         }
        },
        "title": {
         "text": "<= 5 years TRACE 180-day Dist, As of: 2024-09-18"
        },
        "width": 1400,
        "xaxis": {
         "anchor": "y",
         "domain": [
          0,
          0.29333333333333333
         ]
        },
        "xaxis2": {
         "anchor": "y2",
         "domain": [
          0.35333333333333333,
          0.6466666666666667
         ]
        },
        "xaxis3": {
         "anchor": "y3",
         "domain": [
          0.7066666666666667,
          1
         ]
        },
        "xaxis4": {
         "anchor": "y4",
         "domain": [
          0,
          0.29333333333333333
         ]
        },
        "xaxis5": {
         "anchor": "y5",
         "domain": [
          0.35333333333333333,
          0.6466666666666667
         ]
        },
        "xaxis6": {
         "anchor": "y6",
         "domain": [
          0.7066666666666667,
          1
         ]
        },
        "yaxis": {
         "anchor": "x",
         "domain": [
          0.545,
          1
         ]
        },
        "yaxis2": {
         "anchor": "x2",
         "domain": [
          0.545,
          1
         ]
        },
        "yaxis3": {
         "anchor": "x3",
         "domain": [
          0.545,
          1
         ]
        },
        "yaxis4": {
         "anchor": "x4",
         "domain": [
          0,
          0.455
         ]
        },
        "yaxis5": {
         "anchor": "x5",
         "domain": [
          0,
          0.455
         ]
        },
        "yaxis6": {
         "anchor": "x6",
         "domain": [
          0,
          0.455
         ]
        }
       }
      }
     },
     "metadata": {},
     "output_type": "display_data"
    },
    {
     "name": "stdout",
     "output_type": "stream",
     "text": [
      "Saved plot as tenor_5yearsOntherun_distribution_180_days.png\n"
     ]
    },
    {
     "data": {
      "application/vnd.plotly.v1+json": {
       "config": {
        "plotlyServerURL": "https://plot.ly"
       },
       "data": [
        {
         "marker": {
          "color": [
           "blue",
           "blue",
           "red",
           "blue",
           "blue",
           "blue",
           "blue",
           "blue",
           "blue",
           "blue",
           "blue",
           "blue",
           "blue",
           "blue",
           "blue",
           "blue",
           "blue",
           "blue",
           "blue",
           "blue",
           "blue",
           "blue",
           "blue",
           "blue",
           "blue",
           "blue",
           "blue",
           "blue",
           "blue",
           "blue",
           "blue",
           "blue",
           "blue",
           "blue",
           "blue",
           "blue",
           "blue",
           "blue",
           "blue",
           "blue",
           "blue",
           "blue",
           "blue",
           "blue",
           "blue",
           "blue",
           "blue",
           "blue",
           "blue",
           "blue"
          ]
         },
         "name": "Par Value Histogram",
         "type": "bar",
         "x": [
          1.916,
          2.348,
          2.7800000000000002,
          3.212,
          3.644,
          4.0760000000000005,
          4.508000000000001,
          4.94,
          5.372,
          5.804,
          6.236000000000001,
          6.668000000000001,
          7.100000000000001,
          7.532000000000001,
          7.964,
          8.396,
          8.828,
          9.260000000000002,
          9.692,
          10.123999999999999,
          10.556000000000001,
          10.988,
          11.420000000000002,
          11.852,
          12.284,
          12.716000000000001,
          13.148,
          13.580000000000002,
          14.012,
          14.444,
          14.876000000000001,
          15.308,
          15.740000000000002,
          16.172,
          16.604,
          17.036,
          17.468000000000004,
          17.9,
          18.332,
          18.764000000000003,
          19.196,
          19.628,
          20.060000000000002,
          20.492,
          20.924,
          21.356,
          21.788000000000004,
          22.220000000000002,
          22.652,
          23.084000000000003
         ],
         "xaxis": "x",
         "y": [
          7,
          12,
          16,
          24,
          15,
          13,
          16,
          10,
          8,
          16,
          9,
          5,
          3,
          4,
          4,
          1,
          0,
          1,
          1,
          0,
          0,
          3,
          1,
          0,
          0,
          0,
          1,
          0,
          0,
          0,
          1,
          0,
          0,
          0,
          0,
          0,
          1,
          0,
          0,
          0,
          0,
          0,
          0,
          0,
          0,
          0,
          0,
          0,
          0,
          1
         ],
         "yaxis": "y"
        },
        {
         "marker": {
          "color": [
           "blue",
           "blue",
           "blue",
           "red",
           "blue",
           "blue",
           "blue",
           "blue",
           "blue",
           "blue",
           "blue",
           "blue",
           "blue",
           "blue",
           "blue",
           "blue",
           "blue",
           "blue",
           "blue",
           "blue",
           "blue",
           "blue",
           "blue",
           "blue",
           "blue",
           "blue",
           "blue",
           "blue",
           "blue",
           "blue",
           "blue",
           "blue",
           "blue",
           "blue",
           "blue",
           "blue",
           "blue",
           "blue",
           "blue",
           "blue",
           "blue",
           "blue",
           "blue",
           "blue",
           "blue",
           "blue",
           "blue",
           "blue",
           "blue",
           "blue"
          ]
         },
         "name": "Par Value Histogram",
         "type": "bar",
         "x": [
          0.5549999999999999,
          0.665,
          0.775,
          0.885,
          0.995,
          1.105,
          1.215,
          1.325,
          1.435,
          1.545,
          1.655,
          1.7650000000000001,
          1.875,
          1.9849999999999999,
          2.0949999999999998,
          2.205,
          2.315,
          2.425,
          2.535,
          2.645,
          2.755,
          2.865,
          2.9749999999999996,
          3.085,
          3.1950000000000003,
          3.3049999999999997,
          3.415,
          3.5250000000000004,
          3.635,
          3.745,
          3.855,
          3.965,
          4.074999999999999,
          4.1850000000000005,
          4.295,
          4.404999999999999,
          4.515000000000001,
          4.625,
          4.734999999999999,
          4.845000000000001,
          4.955,
          5.0649999999999995,
          5.175000000000001,
          5.285,
          5.395,
          5.505,
          5.615,
          5.725,
          5.835,
          5.945
         ],
         "xaxis": "x2",
         "y": [
          3,
          2,
          7,
          9,
          8,
          12,
          10,
          12,
          8,
          12,
          16,
          13,
          10,
          8,
          4,
          2,
          0,
          8,
          4,
          4,
          6,
          4,
          0,
          1,
          1,
          1,
          1,
          0,
          2,
          0,
          2,
          0,
          0,
          0,
          0,
          0,
          0,
          0,
          1,
          0,
          0,
          0,
          0,
          0,
          0,
          0,
          0,
          1,
          0,
          1
         ],
         "yaxis": "y2"
        },
        {
         "marker": {
          "color": [
           "blue",
           "blue",
           "blue",
           "red",
           "blue",
           "blue",
           "blue",
           "blue",
           "blue",
           "blue",
           "blue",
           "blue",
           "blue",
           "blue",
           "blue",
           "blue",
           "blue",
           "blue",
           "blue",
           "blue",
           "blue",
           "blue",
           "blue",
           "blue",
           "blue",
           "blue",
           "blue",
           "blue",
           "blue",
           "blue",
           "blue",
           "blue",
           "blue",
           "blue",
           "blue",
           "blue",
           "blue",
           "blue",
           "blue",
           "blue",
           "blue",
           "blue",
           "blue",
           "blue",
           "blue",
           "blue",
           "blue",
           "blue",
           "blue",
           "blue"
          ]
         },
         "name": "Par Value Histogram",
         "type": "bar",
         "x": [
          1.063,
          1.389,
          1.715,
          2.0410000000000004,
          2.367,
          2.693,
          3.019,
          3.3449999999999998,
          3.6710000000000003,
          3.997,
          4.323,
          4.649000000000001,
          4.9750000000000005,
          5.301,
          5.627000000000001,
          5.953000000000001,
          6.279,
          6.605,
          6.931000000000001,
          7.257000000000001,
          7.583,
          7.909000000000001,
          8.235,
          8.561,
          8.887,
          9.213000000000001,
          9.539000000000001,
          9.865,
          10.191,
          10.517000000000001,
          10.843,
          11.169,
          11.495000000000001,
          11.821000000000002,
          12.147,
          12.473,
          12.799000000000001,
          13.125,
          13.451,
          13.777000000000001,
          14.103000000000002,
          14.429,
          14.755,
          15.081000000000001,
          15.407,
          15.733,
          16.059,
          16.384999999999998,
          16.711,
          17.037
         ],
         "xaxis": "x3",
         "y": [
          8,
          14,
          21,
          23,
          19,
          17,
          12,
          13,
          5,
          10,
          5,
          7,
          3,
          3,
          2,
          1,
          0,
          1,
          1,
          3,
          0,
          0,
          0,
          0,
          1,
          0,
          0,
          0,
          1,
          0,
          1,
          0,
          0,
          1,
          0,
          0,
          0,
          0,
          0,
          0,
          0,
          0,
          0,
          0,
          0,
          0,
          0,
          0,
          0,
          1
         ],
         "yaxis": "y3"
        },
        {
         "marker": {
          "color": [
           "blue",
           "blue",
           "blue",
           "blue",
           "blue",
           "blue",
           "red",
           "blue",
           "blue",
           "blue",
           "blue",
           "blue",
           "blue",
           "blue",
           "blue",
           "blue",
           "blue",
           "blue",
           "blue",
           "blue",
           "blue",
           "blue",
           "blue",
           "blue",
           "blue",
           "blue",
           "blue",
           "blue",
           "blue",
           "blue",
           "blue",
           "blue",
           "blue",
           "blue",
           "blue",
           "blue",
           "blue",
           "blue",
           "blue",
           "blue",
           "blue",
           "blue",
           "blue",
           "blue",
           "blue",
           "blue",
           "blue",
           "blue",
           "blue",
           "blue"
          ]
         },
         "name": "Trades Histogram",
         "type": "bar",
         "x": [
          85.52,
          96.56,
          107.6,
          118.64,
          129.68,
          140.72,
          151.76,
          162.8,
          173.83999999999997,
          184.88,
          195.92,
          206.95999999999998,
          218,
          229.04,
          240.07999999999998,
          251.12,
          262.15999999999997,
          273.19999999999993,
          284.24,
          295.28,
          306.31999999999994,
          317.36,
          328.4,
          339.43999999999994,
          350.48,
          361.52,
          372.55999999999995,
          383.6,
          394.64,
          405.67999999999995,
          416.71999999999997,
          427.76,
          438.79999999999995,
          449.84,
          460.88,
          471.91999999999996,
          482.9599999999999,
          494,
          505.03999999999996,
          516.0799999999999,
          527.1199999999999,
          538.16,
          549.2,
          560.24,
          571.28,
          582.3199999999999,
          593.3599999999999,
          604.4,
          615.4399999999999,
          626.48
         ],
         "xaxis": "x4",
         "y": [
          1,
          3,
          7,
          5,
          18,
          12,
          12,
          15,
          14,
          10,
          18,
          8,
          5,
          4,
          10,
          2,
          3,
          6,
          2,
          6,
          1,
          1,
          0,
          1,
          1,
          0,
          3,
          1,
          1,
          0,
          1,
          0,
          0,
          0,
          0,
          0,
          0,
          1,
          0,
          0,
          0,
          0,
          0,
          0,
          0,
          0,
          0,
          0,
          0,
          1
         ],
         "yaxis": "y4"
        },
        {
         "marker": {
          "color": [
           "blue",
           "blue",
           "blue",
           "blue",
           "blue",
           "blue",
           "blue",
           "blue",
           "red",
           "blue",
           "blue",
           "blue",
           "blue",
           "blue",
           "blue",
           "blue",
           "blue",
           "blue",
           "blue",
           "blue",
           "blue",
           "blue",
           "blue",
           "blue",
           "blue",
           "blue",
           "blue",
           "blue",
           "blue",
           "blue",
           "blue",
           "blue",
           "blue",
           "blue",
           "blue",
           "blue",
           "blue",
           "blue",
           "blue",
           "blue",
           "blue",
           "blue",
           "blue",
           "blue",
           "blue",
           "blue",
           "blue",
           "blue",
           "blue",
           "blue"
          ]
         },
         "name": "Trades Histogram",
         "type": "bar",
         "x": [
          37.269999999999996,
          41.81,
          46.35,
          50.89,
          55.43,
          59.97,
          64.51,
          69.05,
          73.59,
          78.13,
          82.67,
          87.21000000000001,
          91.75,
          96.29,
          100.83,
          105.37,
          109.91,
          114.45,
          118.99000000000001,
          123.53,
          128.07,
          132.61,
          137.15,
          141.69,
          146.23000000000002,
          150.77,
          155.31,
          159.85,
          164.39,
          168.93,
          173.47,
          178.01,
          182.55,
          187.09,
          191.63,
          196.17000000000002,
          200.70999999999998,
          205.25,
          209.79000000000002,
          214.32999999999998,
          218.87,
          223.41000000000003,
          227.95,
          232.49,
          237.03,
          241.57,
          246.11,
          250.65,
          255.19000000000003,
          259.73
         ],
         "xaxis": "x5",
         "y": [
          1,
          2,
          1,
          5,
          7,
          8,
          7,
          9,
          8,
          12,
          10,
          8,
          7,
          6,
          9,
          6,
          6,
          12,
          4,
          3,
          6,
          4,
          3,
          0,
          3,
          3,
          0,
          0,
          3,
          3,
          1,
          2,
          2,
          1,
          0,
          0,
          1,
          1,
          4,
          1,
          1,
          0,
          1,
          0,
          1,
          0,
          0,
          0,
          0,
          1
         ],
         "yaxis": "y5"
        },
        {
         "marker": {
          "color": [
           "blue",
           "blue",
           "blue",
           "blue",
           "blue",
           "red",
           "blue",
           "blue",
           "blue",
           "blue",
           "blue",
           "blue",
           "blue",
           "blue",
           "blue",
           "blue",
           "blue",
           "blue",
           "blue",
           "blue",
           "blue",
           "blue",
           "blue",
           "blue",
           "blue",
           "blue",
           "blue",
           "blue",
           "blue",
           "blue",
           "blue",
           "blue",
           "blue",
           "blue",
           "blue",
           "blue",
           "blue",
           "blue",
           "blue",
           "blue",
           "blue",
           "blue",
           "blue",
           "blue",
           "blue",
           "blue",
           "blue",
           "blue",
           "blue",
           "blue"
          ]
         },
         "name": "Trades Histogram",
         "type": "bar",
         "x": [
          44.29,
          50.87,
          57.45,
          64.03,
          70.61,
          77.19,
          83.77000000000001,
          90.35,
          96.93,
          103.50999999999999,
          110.09,
          116.67,
          123.25,
          129.83,
          136.41,
          142.99,
          149.57,
          156.15,
          162.73,
          169.31,
          175.89,
          182.47,
          189.05,
          195.63,
          202.21,
          208.79000000000002,
          215.37,
          221.95,
          228.53,
          235.11,
          241.69,
          248.26999999999998,
          254.85,
          261.43,
          268.01,
          274.59000000000003,
          281.17,
          287.75,
          294.33,
          300.90999999999997,
          307.49,
          314.07000000000005,
          320.65,
          327.23,
          333.81,
          340.39,
          346.97,
          353.55,
          360.13,
          366.71000000000004
         ],
         "xaxis": "x6",
         "y": [
          4,
          8,
          10,
          22,
          15,
          22,
          20,
          17,
          10,
          9,
          10,
          6,
          3,
          3,
          1,
          2,
          1,
          0,
          2,
          2,
          1,
          0,
          1,
          0,
          0,
          0,
          0,
          0,
          0,
          0,
          2,
          0,
          0,
          1,
          0,
          0,
          0,
          0,
          0,
          0,
          0,
          0,
          0,
          0,
          0,
          0,
          0,
          0,
          0,
          1
         ],
         "yaxis": "y6"
        }
       ],
       "layout": {
        "annotations": [
         {
          "font": {
           "color": "black",
           "size": 10
          },
          "showarrow": false,
          "text": "Mean:5",
          "x": 4.858959537572254,
          "xref": "x",
          "y": 35,
          "yref": "y"
         },
         {
          "font": {
           "color": "green",
           "size": 10
          },
          "showarrow": false,
          "text": "+1SD:8",
          "x": 7.620481498686342,
          "xref": "x",
          "y": 35,
          "yref": "y"
         },
         {
          "font": {
           "color": "green",
           "size": 10
          },
          "showarrow": false,
          "text": "-1SD:2",
          "x": 2.0974375764581663,
          "xref": "x",
          "y": 35,
          "yref": "y"
         },
         {
          "font": {
           "color": "black",
           "size": 10
          },
          "showarrow": false,
          "text": "Mean:2",
          "x": 1.7595375722543352,
          "xref": "x2",
          "y": 27,
          "yref": "y2"
         },
         {
          "font": {
           "color": "green",
           "size": 10
          },
          "showarrow": false,
          "text": "+1SD:3",
          "x": 2.6101638733288173,
          "xref": "x2",
          "y": 27,
          "yref": "y2"
         },
         {
          "font": {
           "color": "green",
           "size": 10
          },
          "showarrow": false,
          "text": "-1SD:1",
          "x": 0.9089112711798533,
          "xref": "x2",
          "y": 27,
          "yref": "y2"
         },
         {
          "font": {
           "color": "black",
           "size": 10
          },
          "showarrow": false,
          "text": "Mean:3",
          "x": 3.1005780346820813,
          "xref": "x3",
          "y": 34,
          "yref": "y3"
         },
         {
          "font": {
           "color": "green",
           "size": 10
          },
          "showarrow": false,
          "text": "+1SD:5",
          "x": 5.156262304253876,
          "xref": "x3",
          "y": 34,
          "yref": "y3"
         },
         {
          "font": {
           "color": "green",
           "size": 10
          },
          "showarrow": false,
          "text": "-1SD:1",
          "x": 1.0448937651102863,
          "xref": "x3",
          "y": 34,
          "yref": "y3"
         },
         {
          "font": {
           "color": "black",
           "size": 10
          },
          "showarrow": false,
          "text": "Mean:196",
          "x": 195.78034682080926,
          "xref": "x4",
          "y": 29,
          "yref": "y4"
         },
         {
          "font": {
           "color": "green",
           "size": 10
          },
          "showarrow": false,
          "text": "+1SD:272",
          "x": 271.9553678802466,
          "xref": "x4",
          "y": 29,
          "yref": "y4"
         },
         {
          "font": {
           "color": "green",
           "size": 10
          },
          "showarrow": false,
          "text": "-1SD:120",
          "x": 119.60532576137189,
          "xref": "x4",
          "y": 29,
          "yref": "y4"
         },
         {
          "font": {
           "color": "black",
           "size": 10
          },
          "showarrow": false,
          "text": "Mean:105",
          "x": 104.878612716763,
          "xref": "x5",
          "y": 23,
          "yref": "y5"
         },
         {
          "font": {
           "color": "green",
           "size": 10
          },
          "showarrow": false,
          "text": "+1SD:149",
          "x": 149.07682959204044,
          "xref": "x5",
          "y": 23,
          "yref": "y5"
         },
         {
          "font": {
           "color": "green",
           "size": 10
          },
          "showarrow": false,
          "text": "-1SD:61",
          "x": 60.68039584148558,
          "xref": "x5",
          "y": 23,
          "yref": "y5"
         },
         {
          "font": {
           "color": "black",
           "size": 10
          },
          "showarrow": false,
          "text": "Mean:91",
          "x": 90.90173410404624,
          "xref": "x6",
          "y": 33,
          "yref": "y6"
         },
         {
          "font": {
           "color": "green",
           "size": 10
          },
          "showarrow": false,
          "text": "+1SD:131",
          "x": 131.2358394591468,
          "xref": "x6",
          "y": 33,
          "yref": "y6"
         },
         {
          "font": {
           "color": "green",
           "size": 10
          },
          "showarrow": false,
          "text": "-1SD:51",
          "x": 50.56762874894569,
          "xref": "x6",
          "y": 33,
          "yref": "y6"
         },
         {
          "font": {
           "size": 13
          },
          "showarrow": false,
          "text": "Total Par Value in Billion",
          "x": 0.12,
          "xanchor": "center",
          "xref": "paper",
          "y": 1.05,
          "yref": "paper"
         },
         {
          "font": {
           "size": 13
          },
          "showarrow": false,
          "text": "ATS & Interdealer Par Value",
          "x": 0.5,
          "xanchor": "center",
          "xref": "paper",
          "y": 1.05,
          "yref": "paper"
         },
         {
          "font": {
           "size": 13
          },
          "showarrow": false,
          "text": "Dealer to Customer Par Value",
          "x": 0.85,
          "xanchor": "center",
          "xref": "paper",
          "y": 1.05,
          "yref": "paper"
         },
         {
          "font": {
           "size": 13
          },
          "showarrow": false,
          "text": "Total Number of Trades",
          "x": 0.12,
          "xanchor": "center",
          "xref": "paper",
          "y": 0.48,
          "yref": "paper"
         },
         {
          "font": {
           "size": 13
          },
          "showarrow": false,
          "text": "ATS & Interdealer Trades",
          "x": 0.5,
          "xanchor": "center",
          "xref": "paper",
          "y": 0.48,
          "yref": "paper"
         },
         {
          "font": {
           "size": 13
          },
          "showarrow": false,
          "text": "Dealer to Customer Trades",
          "x": 0.85,
          "xanchor": "center",
          "xref": "paper",
          "y": 0.48,
          "yref": "paper"
         }
        ],
        "font": {
         "family": "Times New Roman"
        },
        "height": 600,
        "shapes": [
         {
          "line": {
           "color": "black",
           "dash": "dot",
           "width": 2
          },
          "type": "line",
          "x0": 4.858959537572254,
          "x1": 4.858959537572254,
          "xref": "x",
          "y0": 0,
          "y1": 34,
          "yref": "y"
         },
         {
          "line": {
           "color": "green",
           "dash": "dot",
           "width": 2
          },
          "type": "line",
          "x0": 7.620481498686342,
          "x1": 7.620481498686342,
          "xref": "x",
          "y0": 0,
          "y1": 34,
          "yref": "y"
         },
         {
          "line": {
           "color": "green",
           "dash": "dot",
           "width": 2
          },
          "type": "line",
          "x0": 2.0974375764581663,
          "x1": 2.0974375764581663,
          "xref": "x",
          "y0": 0,
          "y1": 34,
          "yref": "y"
         },
         {
          "line": {
           "color": "black",
           "dash": "dot",
           "width": 2
          },
          "type": "line",
          "x0": 1.7595375722543352,
          "x1": 1.7595375722543352,
          "xref": "x2",
          "y0": 0,
          "y1": 26,
          "yref": "y2"
         },
         {
          "line": {
           "color": "green",
           "dash": "dot",
           "width": 2
          },
          "type": "line",
          "x0": 2.6101638733288173,
          "x1": 2.6101638733288173,
          "xref": "x2",
          "y0": 0,
          "y1": 26,
          "yref": "y2"
         },
         {
          "line": {
           "color": "green",
           "dash": "dot",
           "width": 2
          },
          "type": "line",
          "x0": 0.9089112711798533,
          "x1": 0.9089112711798533,
          "xref": "x2",
          "y0": 0,
          "y1": 26,
          "yref": "y2"
         },
         {
          "line": {
           "color": "black",
           "dash": "dot",
           "width": 2
          },
          "type": "line",
          "x0": 3.1005780346820813,
          "x1": 3.1005780346820813,
          "xref": "x3",
          "y0": 0,
          "y1": 33,
          "yref": "y3"
         },
         {
          "line": {
           "color": "green",
           "dash": "dot",
           "width": 2
          },
          "type": "line",
          "x0": 5.156262304253876,
          "x1": 5.156262304253876,
          "xref": "x3",
          "y0": 0,
          "y1": 33,
          "yref": "y3"
         },
         {
          "line": {
           "color": "green",
           "dash": "dot",
           "width": 2
          },
          "type": "line",
          "x0": 1.0448937651102863,
          "x1": 1.0448937651102863,
          "xref": "x3",
          "y0": 0,
          "y1": 33,
          "yref": "y3"
         },
         {
          "line": {
           "color": "black",
           "dash": "dot",
           "width": 2
          },
          "type": "line",
          "x0": 195.78034682080926,
          "x1": 195.78034682080926,
          "xref": "x4",
          "y0": 0,
          "y1": 28,
          "yref": "y4"
         },
         {
          "line": {
           "color": "green",
           "dash": "dot",
           "width": 2
          },
          "type": "line",
          "x0": 271.9553678802466,
          "x1": 271.9553678802466,
          "xref": "x4",
          "y0": 0,
          "y1": 28,
          "yref": "y4"
         },
         {
          "line": {
           "color": "green",
           "dash": "dot",
           "width": 2
          },
          "type": "line",
          "x0": 119.60532576137189,
          "x1": 119.60532576137189,
          "xref": "x4",
          "y0": 0,
          "y1": 28,
          "yref": "y4"
         },
         {
          "line": {
           "color": "black",
           "dash": "dot",
           "width": 2
          },
          "type": "line",
          "x0": 104.878612716763,
          "x1": 104.878612716763,
          "xref": "x5",
          "y0": 0,
          "y1": 22,
          "yref": "y5"
         },
         {
          "line": {
           "color": "green",
           "dash": "dot",
           "width": 2
          },
          "type": "line",
          "x0": 149.07682959204044,
          "x1": 149.07682959204044,
          "xref": "x5",
          "y0": 0,
          "y1": 22,
          "yref": "y5"
         },
         {
          "line": {
           "color": "green",
           "dash": "dot",
           "width": 2
          },
          "type": "line",
          "x0": 60.68039584148558,
          "x1": 60.68039584148558,
          "xref": "x5",
          "y0": 0,
          "y1": 22,
          "yref": "y5"
         },
         {
          "line": {
           "color": "black",
           "dash": "dot",
           "width": 2
          },
          "type": "line",
          "x0": 90.90173410404624,
          "x1": 90.90173410404624,
          "xref": "x6",
          "y0": 0,
          "y1": 32,
          "yref": "y6"
         },
         {
          "line": {
           "color": "green",
           "dash": "dot",
           "width": 2
          },
          "type": "line",
          "x0": 131.2358394591468,
          "x1": 131.2358394591468,
          "xref": "x6",
          "y0": 0,
          "y1": 32,
          "yref": "y6"
         },
         {
          "line": {
           "color": "green",
           "dash": "dot",
           "width": 2
          },
          "type": "line",
          "x0": 50.56762874894569,
          "x1": 50.56762874894569,
          "xref": "x6",
          "y0": 0,
          "y1": 32,
          "yref": "y6"
         }
        ],
        "showlegend": false,
        "template": {
         "data": {
          "bar": [
           {
            "error_x": {
             "color": "#2a3f5f"
            },
            "error_y": {
             "color": "#2a3f5f"
            },
            "marker": {
             "line": {
              "color": "#E5ECF6",
              "width": 0.5
             },
             "pattern": {
              "fillmode": "overlay",
              "size": 10,
              "solidity": 0.2
             }
            },
            "type": "bar"
           }
          ],
          "barpolar": [
           {
            "marker": {
             "line": {
              "color": "#E5ECF6",
              "width": 0.5
             },
             "pattern": {
              "fillmode": "overlay",
              "size": 10,
              "solidity": 0.2
             }
            },
            "type": "barpolar"
           }
          ],
          "carpet": [
           {
            "aaxis": {
             "endlinecolor": "#2a3f5f",
             "gridcolor": "white",
             "linecolor": "white",
             "minorgridcolor": "white",
             "startlinecolor": "#2a3f5f"
            },
            "baxis": {
             "endlinecolor": "#2a3f5f",
             "gridcolor": "white",
             "linecolor": "white",
             "minorgridcolor": "white",
             "startlinecolor": "#2a3f5f"
            },
            "type": "carpet"
           }
          ],
          "choropleth": [
           {
            "colorbar": {
             "outlinewidth": 0,
             "ticks": ""
            },
            "type": "choropleth"
           }
          ],
          "contour": [
           {
            "colorbar": {
             "outlinewidth": 0,
             "ticks": ""
            },
            "colorscale": [
             [
              0,
              "#0d0887"
             ],
             [
              0.1111111111111111,
              "#46039f"
             ],
             [
              0.2222222222222222,
              "#7201a8"
             ],
             [
              0.3333333333333333,
              "#9c179e"
             ],
             [
              0.4444444444444444,
              "#bd3786"
             ],
             [
              0.5555555555555556,
              "#d8576b"
             ],
             [
              0.6666666666666666,
              "#ed7953"
             ],
             [
              0.7777777777777778,
              "#fb9f3a"
             ],
             [
              0.8888888888888888,
              "#fdca26"
             ],
             [
              1,
              "#f0f921"
             ]
            ],
            "type": "contour"
           }
          ],
          "contourcarpet": [
           {
            "colorbar": {
             "outlinewidth": 0,
             "ticks": ""
            },
            "type": "contourcarpet"
           }
          ],
          "heatmap": [
           {
            "colorbar": {
             "outlinewidth": 0,
             "ticks": ""
            },
            "colorscale": [
             [
              0,
              "#0d0887"
             ],
             [
              0.1111111111111111,
              "#46039f"
             ],
             [
              0.2222222222222222,
              "#7201a8"
             ],
             [
              0.3333333333333333,
              "#9c179e"
             ],
             [
              0.4444444444444444,
              "#bd3786"
             ],
             [
              0.5555555555555556,
              "#d8576b"
             ],
             [
              0.6666666666666666,
              "#ed7953"
             ],
             [
              0.7777777777777778,
              "#fb9f3a"
             ],
             [
              0.8888888888888888,
              "#fdca26"
             ],
             [
              1,
              "#f0f921"
             ]
            ],
            "type": "heatmap"
           }
          ],
          "heatmapgl": [
           {
            "colorbar": {
             "outlinewidth": 0,
             "ticks": ""
            },
            "colorscale": [
             [
              0,
              "#0d0887"
             ],
             [
              0.1111111111111111,
              "#46039f"
             ],
             [
              0.2222222222222222,
              "#7201a8"
             ],
             [
              0.3333333333333333,
              "#9c179e"
             ],
             [
              0.4444444444444444,
              "#bd3786"
             ],
             [
              0.5555555555555556,
              "#d8576b"
             ],
             [
              0.6666666666666666,
              "#ed7953"
             ],
             [
              0.7777777777777778,
              "#fb9f3a"
             ],
             [
              0.8888888888888888,
              "#fdca26"
             ],
             [
              1,
              "#f0f921"
             ]
            ],
            "type": "heatmapgl"
           }
          ],
          "histogram": [
           {
            "marker": {
             "pattern": {
              "fillmode": "overlay",
              "size": 10,
              "solidity": 0.2
             }
            },
            "type": "histogram"
           }
          ],
          "histogram2d": [
           {
            "colorbar": {
             "outlinewidth": 0,
             "ticks": ""
            },
            "colorscale": [
             [
              0,
              "#0d0887"
             ],
             [
              0.1111111111111111,
              "#46039f"
             ],
             [
              0.2222222222222222,
              "#7201a8"
             ],
             [
              0.3333333333333333,
              "#9c179e"
             ],
             [
              0.4444444444444444,
              "#bd3786"
             ],
             [
              0.5555555555555556,
              "#d8576b"
             ],
             [
              0.6666666666666666,
              "#ed7953"
             ],
             [
              0.7777777777777778,
              "#fb9f3a"
             ],
             [
              0.8888888888888888,
              "#fdca26"
             ],
             [
              1,
              "#f0f921"
             ]
            ],
            "type": "histogram2d"
           }
          ],
          "histogram2dcontour": [
           {
            "colorbar": {
             "outlinewidth": 0,
             "ticks": ""
            },
            "colorscale": [
             [
              0,
              "#0d0887"
             ],
             [
              0.1111111111111111,
              "#46039f"
             ],
             [
              0.2222222222222222,
              "#7201a8"
             ],
             [
              0.3333333333333333,
              "#9c179e"
             ],
             [
              0.4444444444444444,
              "#bd3786"
             ],
             [
              0.5555555555555556,
              "#d8576b"
             ],
             [
              0.6666666666666666,
              "#ed7953"
             ],
             [
              0.7777777777777778,
              "#fb9f3a"
             ],
             [
              0.8888888888888888,
              "#fdca26"
             ],
             [
              1,
              "#f0f921"
             ]
            ],
            "type": "histogram2dcontour"
           }
          ],
          "mesh3d": [
           {
            "colorbar": {
             "outlinewidth": 0,
             "ticks": ""
            },
            "type": "mesh3d"
           }
          ],
          "parcoords": [
           {
            "line": {
             "colorbar": {
              "outlinewidth": 0,
              "ticks": ""
             }
            },
            "type": "parcoords"
           }
          ],
          "pie": [
           {
            "automargin": true,
            "type": "pie"
           }
          ],
          "scatter": [
           {
            "fillpattern": {
             "fillmode": "overlay",
             "size": 10,
             "solidity": 0.2
            },
            "type": "scatter"
           }
          ],
          "scatter3d": [
           {
            "line": {
             "colorbar": {
              "outlinewidth": 0,
              "ticks": ""
             }
            },
            "marker": {
             "colorbar": {
              "outlinewidth": 0,
              "ticks": ""
             }
            },
            "type": "scatter3d"
           }
          ],
          "scattercarpet": [
           {
            "marker": {
             "colorbar": {
              "outlinewidth": 0,
              "ticks": ""
             }
            },
            "type": "scattercarpet"
           }
          ],
          "scattergeo": [
           {
            "marker": {
             "colorbar": {
              "outlinewidth": 0,
              "ticks": ""
             }
            },
            "type": "scattergeo"
           }
          ],
          "scattergl": [
           {
            "marker": {
             "colorbar": {
              "outlinewidth": 0,
              "ticks": ""
             }
            },
            "type": "scattergl"
           }
          ],
          "scattermapbox": [
           {
            "marker": {
             "colorbar": {
              "outlinewidth": 0,
              "ticks": ""
             }
            },
            "type": "scattermapbox"
           }
          ],
          "scatterpolar": [
           {
            "marker": {
             "colorbar": {
              "outlinewidth": 0,
              "ticks": ""
             }
            },
            "type": "scatterpolar"
           }
          ],
          "scatterpolargl": [
           {
            "marker": {
             "colorbar": {
              "outlinewidth": 0,
              "ticks": ""
             }
            },
            "type": "scatterpolargl"
           }
          ],
          "scatterternary": [
           {
            "marker": {
             "colorbar": {
              "outlinewidth": 0,
              "ticks": ""
             }
            },
            "type": "scatterternary"
           }
          ],
          "surface": [
           {
            "colorbar": {
             "outlinewidth": 0,
             "ticks": ""
            },
            "colorscale": [
             [
              0,
              "#0d0887"
             ],
             [
              0.1111111111111111,
              "#46039f"
             ],
             [
              0.2222222222222222,
              "#7201a8"
             ],
             [
              0.3333333333333333,
              "#9c179e"
             ],
             [
              0.4444444444444444,
              "#bd3786"
             ],
             [
              0.5555555555555556,
              "#d8576b"
             ],
             [
              0.6666666666666666,
              "#ed7953"
             ],
             [
              0.7777777777777778,
              "#fb9f3a"
             ],
             [
              0.8888888888888888,
              "#fdca26"
             ],
             [
              1,
              "#f0f921"
             ]
            ],
            "type": "surface"
           }
          ],
          "table": [
           {
            "cells": {
             "fill": {
              "color": "#EBF0F8"
             },
             "line": {
              "color": "white"
             }
            },
            "header": {
             "fill": {
              "color": "#C8D4E3"
             },
             "line": {
              "color": "white"
             }
            },
            "type": "table"
           }
          ]
         },
         "layout": {
          "annotationdefaults": {
           "arrowcolor": "#2a3f5f",
           "arrowhead": 0,
           "arrowwidth": 1
          },
          "autotypenumbers": "strict",
          "coloraxis": {
           "colorbar": {
            "outlinewidth": 0,
            "ticks": ""
           }
          },
          "colorscale": {
           "diverging": [
            [
             0,
             "#8e0152"
            ],
            [
             0.1,
             "#c51b7d"
            ],
            [
             0.2,
             "#de77ae"
            ],
            [
             0.3,
             "#f1b6da"
            ],
            [
             0.4,
             "#fde0ef"
            ],
            [
             0.5,
             "#f7f7f7"
            ],
            [
             0.6,
             "#e6f5d0"
            ],
            [
             0.7,
             "#b8e186"
            ],
            [
             0.8,
             "#7fbc41"
            ],
            [
             0.9,
             "#4d9221"
            ],
            [
             1,
             "#276419"
            ]
           ],
           "sequential": [
            [
             0,
             "#0d0887"
            ],
            [
             0.1111111111111111,
             "#46039f"
            ],
            [
             0.2222222222222222,
             "#7201a8"
            ],
            [
             0.3333333333333333,
             "#9c179e"
            ],
            [
             0.4444444444444444,
             "#bd3786"
            ],
            [
             0.5555555555555556,
             "#d8576b"
            ],
            [
             0.6666666666666666,
             "#ed7953"
            ],
            [
             0.7777777777777778,
             "#fb9f3a"
            ],
            [
             0.8888888888888888,
             "#fdca26"
            ],
            [
             1,
             "#f0f921"
            ]
           ],
           "sequentialminus": [
            [
             0,
             "#0d0887"
            ],
            [
             0.1111111111111111,
             "#46039f"
            ],
            [
             0.2222222222222222,
             "#7201a8"
            ],
            [
             0.3333333333333333,
             "#9c179e"
            ],
            [
             0.4444444444444444,
             "#bd3786"
            ],
            [
             0.5555555555555556,
             "#d8576b"
            ],
            [
             0.6666666666666666,
             "#ed7953"
            ],
            [
             0.7777777777777778,
             "#fb9f3a"
            ],
            [
             0.8888888888888888,
             "#fdca26"
            ],
            [
             1,
             "#f0f921"
            ]
           ]
          },
          "colorway": [
           "#636efa",
           "#EF553B",
           "#00cc96",
           "#ab63fa",
           "#FFA15A",
           "#19d3f3",
           "#FF6692",
           "#B6E880",
           "#FF97FF",
           "#FECB52"
          ],
          "font": {
           "color": "#2a3f5f"
          },
          "geo": {
           "bgcolor": "white",
           "lakecolor": "white",
           "landcolor": "#E5ECF6",
           "showlakes": true,
           "showland": true,
           "subunitcolor": "white"
          },
          "hoverlabel": {
           "align": "left"
          },
          "hovermode": "closest",
          "mapbox": {
           "style": "light"
          },
          "paper_bgcolor": "white",
          "plot_bgcolor": "#E5ECF6",
          "polar": {
           "angularaxis": {
            "gridcolor": "white",
            "linecolor": "white",
            "ticks": ""
           },
           "bgcolor": "#E5ECF6",
           "radialaxis": {
            "gridcolor": "white",
            "linecolor": "white",
            "ticks": ""
           }
          },
          "scene": {
           "xaxis": {
            "backgroundcolor": "#E5ECF6",
            "gridcolor": "white",
            "gridwidth": 2,
            "linecolor": "white",
            "showbackground": true,
            "ticks": "",
            "zerolinecolor": "white"
           },
           "yaxis": {
            "backgroundcolor": "#E5ECF6",
            "gridcolor": "white",
            "gridwidth": 2,
            "linecolor": "white",
            "showbackground": true,
            "ticks": "",
            "zerolinecolor": "white"
           },
           "zaxis": {
            "backgroundcolor": "#E5ECF6",
            "gridcolor": "white",
            "gridwidth": 2,
            "linecolor": "white",
            "showbackground": true,
            "ticks": "",
            "zerolinecolor": "white"
           }
          },
          "shapedefaults": {
           "line": {
            "color": "#2a3f5f"
           }
          },
          "ternary": {
           "aaxis": {
            "gridcolor": "white",
            "linecolor": "white",
            "ticks": ""
           },
           "baxis": {
            "gridcolor": "white",
            "linecolor": "white",
            "ticks": ""
           },
           "bgcolor": "#E5ECF6",
           "caxis": {
            "gridcolor": "white",
            "linecolor": "white",
            "ticks": ""
           }
          },
          "title": {
           "x": 0.05
          },
          "xaxis": {
           "automargin": true,
           "gridcolor": "white",
           "linecolor": "white",
           "ticks": "",
           "title": {
            "standoff": 15
           },
           "zerolinecolor": "white",
           "zerolinewidth": 2
          },
          "yaxis": {
           "automargin": true,
           "gridcolor": "white",
           "linecolor": "white",
           "ticks": "",
           "title": {
            "standoff": 15
           },
           "zerolinecolor": "white",
           "zerolinewidth": 2
          }
         }
        },
        "title": {
         "text": "<= 5 years On-the-run TRACE 180-day Dist, As of: 2024-09-18"
        },
        "width": 1400,
        "xaxis": {
         "anchor": "y",
         "domain": [
          0,
          0.29333333333333333
         ]
        },
        "xaxis2": {
         "anchor": "y2",
         "domain": [
          0.35333333333333333,
          0.6466666666666667
         ]
        },
        "xaxis3": {
         "anchor": "y3",
         "domain": [
          0.7066666666666667,
          1
         ]
        },
        "xaxis4": {
         "anchor": "y4",
         "domain": [
          0,
          0.29333333333333333
         ]
        },
        "xaxis5": {
         "anchor": "y5",
         "domain": [
          0.35333333333333333,
          0.6466666666666667
         ]
        },
        "xaxis6": {
         "anchor": "y6",
         "domain": [
          0.7066666666666667,
          1
         ]
        },
        "yaxis": {
         "anchor": "x",
         "domain": [
          0.545,
          1
         ]
        },
        "yaxis2": {
         "anchor": "x2",
         "domain": [
          0.545,
          1
         ]
        },
        "yaxis3": {
         "anchor": "x3",
         "domain": [
          0.545,
          1
         ]
        },
        "yaxis4": {
         "anchor": "x4",
         "domain": [
          0,
          0.455
         ]
        },
        "yaxis5": {
         "anchor": "x5",
         "domain": [
          0,
          0.455
         ]
        },
        "yaxis6": {
         "anchor": "x6",
         "domain": [
          0,
          0.455
         ]
        }
       }
      }
     },
     "metadata": {},
     "output_type": "display_data"
    },
    {
     "name": "stdout",
     "output_type": "stream",
     "text": [
      "Saved plot as tenor_5yearsOfftherun_distribution_180_days.png\n"
     ]
    },
    {
     "data": {
      "application/vnd.plotly.v1+json": {
       "config": {
        "plotlyServerURL": "https://plot.ly"
       },
       "data": [
        {
         "marker": {
          "color": [
           "red",
           "blue",
           "blue",
           "blue",
           "blue",
           "blue",
           "blue",
           "blue",
           "blue",
           "blue",
           "blue",
           "blue",
           "blue",
           "blue",
           "blue",
           "blue",
           "blue",
           "blue",
           "blue",
           "blue",
           "blue",
           "blue",
           "blue",
           "blue",
           "blue",
           "blue",
           "blue",
           "blue",
           "blue",
           "blue",
           "blue",
           "blue",
           "blue",
           "blue",
           "blue",
           "blue",
           "blue",
           "blue",
           "blue",
           "blue",
           "blue",
           "blue",
           "blue",
           "blue",
           "blue",
           "blue",
           "blue",
           "blue",
           "blue",
           "blue"
          ]
         },
         "name": "Par Value Histogram",
         "type": "bar",
         "x": [
          1.775,
          2.925,
          4.074999999999999,
          5.225,
          6.375,
          7.525,
          8.674999999999999,
          9.825,
          10.974999999999998,
          12.125,
          13.274999999999999,
          14.424999999999997,
          15.575,
          16.724999999999998,
          17.875,
          19.025,
          20.174999999999997,
          21.324999999999996,
          22.474999999999998,
          23.625,
          24.775,
          25.924999999999997,
          27.074999999999996,
          28.224999999999998,
          29.374999999999996,
          30.525,
          31.674999999999997,
          32.825,
          33.974999999999994,
          35.125,
          36.275000000000006,
          37.425,
          38.575,
          39.724999999999994,
          40.875,
          42.025000000000006,
          43.175,
          44.325,
          45.474999999999994,
          46.625,
          47.775000000000006,
          48.925,
          50.075,
          51.224999999999994,
          52.375,
          53.525,
          54.675,
          55.825,
          56.974999999999994,
          58.125
         ],
         "xaxis": "x",
         "y": [
          17,
          33,
          43,
          32,
          16,
          13,
          7,
          4,
          1,
          0,
          0,
          0,
          1,
          0,
          0,
          1,
          0,
          0,
          0,
          1,
          1,
          0,
          0,
          0,
          0,
          0,
          0,
          0,
          1,
          0,
          0,
          1,
          0,
          0,
          0,
          0,
          0,
          0,
          0,
          0,
          0,
          0,
          0,
          0,
          0,
          0,
          0,
          0,
          0,
          1
         ],
         "yaxis": "y"
        },
        {
         "marker": {
          "color": [
           "red",
           "blue",
           "blue",
           "blue",
           "blue",
           "blue",
           "blue",
           "blue",
           "blue",
           "blue",
           "blue",
           "blue",
           "blue",
           "blue",
           "blue",
           "blue",
           "blue",
           "blue",
           "blue",
           "blue",
           "blue",
           "blue",
           "blue",
           "blue",
           "blue",
           "blue",
           "blue",
           "blue",
           "blue",
           "blue",
           "blue",
           "blue",
           "blue",
           "blue",
           "blue",
           "blue",
           "blue",
           "blue",
           "blue",
           "blue",
           "blue",
           "blue",
           "blue",
           "blue",
           "blue",
           "blue",
           "blue",
           "blue",
           "blue",
           "blue"
          ]
         },
         "name": "Par Value Histogram",
         "type": "bar",
         "x": [
          0.27599999999999997,
          0.6279999999999999,
          0.98,
          1.332,
          1.684,
          2.036,
          2.388,
          2.74,
          3.0919999999999996,
          3.444,
          3.796,
          4.148,
          4.5,
          4.851999999999999,
          5.203999999999999,
          5.555999999999999,
          5.9079999999999995,
          6.26,
          6.611999999999999,
          6.963999999999999,
          7.315999999999999,
          7.667999999999999,
          8.02,
          8.372,
          8.724,
          9.075999999999999,
          9.427999999999999,
          9.78,
          10.132,
          10.483999999999998,
          10.835999999999999,
          11.187999999999999,
          11.54,
          11.892,
          12.244,
          12.595999999999998,
          12.947999999999999,
          13.299999999999999,
          13.652,
          14.003999999999998,
          14.355999999999998,
          14.707999999999998,
          15.059999999999999,
          15.411999999999999,
          15.764,
          16.116,
          16.468000000000004,
          16.82,
          17.172,
          17.524
         ],
         "xaxis": "x2",
         "y": [
          15,
          56,
          37,
          31,
          11,
          11,
          4,
          2,
          0,
          0,
          0,
          0,
          1,
          0,
          0,
          2,
          0,
          0,
          0,
          0,
          0,
          1,
          0,
          0,
          0,
          0,
          0,
          0,
          0,
          0,
          0,
          0,
          0,
          0,
          0,
          0,
          1,
          0,
          0,
          0,
          0,
          0,
          0,
          0,
          0,
          0,
          0,
          0,
          0,
          1
         ],
         "yaxis": "y2"
        },
        {
         "marker": {
          "color": [
           "blue",
           "red",
           "blue",
           "blue",
           "blue",
           "blue",
           "blue",
           "blue",
           "blue",
           "blue",
           "blue",
           "blue",
           "blue",
           "blue",
           "blue",
           "blue",
           "blue",
           "blue",
           "blue",
           "blue",
           "blue",
           "blue",
           "blue",
           "blue",
           "blue",
           "blue",
           "blue",
           "blue",
           "blue",
           "blue",
           "blue",
           "blue",
           "blue",
           "blue",
           "blue",
           "blue",
           "blue",
           "blue",
           "blue",
           "blue",
           "blue",
           "blue",
           "blue",
           "blue",
           "blue",
           "blue",
           "blue",
           "blue",
           "blue",
           "blue"
          ]
         },
         "name": "Par Value Histogram",
         "type": "bar",
         "x": [
          1.3,
          2.1,
          2.9000000000000004,
          3.7,
          4.5,
          5.300000000000001,
          6.100000000000001,
          6.9,
          7.7,
          8.5,
          9.3,
          10.100000000000001,
          10.900000000000002,
          11.700000000000001,
          12.5,
          13.3,
          14.100000000000001,
          14.900000000000002,
          15.700000000000001,
          16.5,
          17.299999999999997,
          18.1,
          18.9,
          19.700000000000003,
          20.5,
          21.299999999999997,
          22.1,
          22.9,
          23.700000000000003,
          24.5,
          25.299999999999997,
          26.1,
          26.9,
          27.700000000000003,
          28.5,
          29.299999999999997,
          30.1,
          30.9,
          31.700000000000003,
          32.5,
          33.3,
          34.1,
          34.9,
          35.7,
          36.5,
          37.3,
          38.1,
          38.900000000000006,
          39.7,
          40.5
         ],
         "xaxis": "x3",
         "y": [
          13,
          30,
          40,
          33,
          15,
          18,
          5,
          7,
          1,
          2,
          2,
          0,
          1,
          0,
          0,
          0,
          1,
          0,
          0,
          0,
          0,
          0,
          2,
          0,
          0,
          0,
          0,
          0,
          0,
          1,
          0,
          0,
          0,
          0,
          1,
          0,
          0,
          0,
          0,
          0,
          0,
          0,
          0,
          0,
          0,
          0,
          0,
          0,
          0,
          1
         ],
         "yaxis": "y3"
        },
        {
         "marker": {
          "color": [
           "blue",
           "blue",
           "red",
           "blue",
           "blue",
           "blue",
           "blue",
           "blue",
           "blue",
           "blue",
           "blue",
           "blue",
           "blue",
           "blue",
           "blue",
           "blue",
           "blue",
           "blue",
           "blue",
           "blue",
           "blue",
           "blue",
           "blue",
           "blue",
           "blue",
           "blue",
           "blue",
           "blue",
           "blue",
           "blue",
           "blue",
           "blue",
           "blue",
           "blue",
           "blue",
           "blue",
           "blue",
           "blue",
           "blue",
           "blue",
           "blue",
           "blue",
           "blue",
           "blue",
           "blue",
           "blue",
           "blue",
           "blue",
           "blue",
           "blue"
          ]
         },
         "name": "Trades Histogram",
         "type": "bar",
         "x": [
          581.39,
          654.17,
          726.95,
          799.73,
          872.51,
          945.29,
          1018.07,
          1090.85,
          1163.63,
          1236.4099999999999,
          1309.19,
          1381.97,
          1454.75,
          1527.53,
          1600.31,
          1673.0900000000001,
          1745.87,
          1818.65,
          1891.4299999999998,
          1964.21,
          2036.99,
          2109.77,
          2182.55,
          2255.33,
          2328.11,
          2400.89,
          2473.67,
          2546.45,
          2619.23,
          2692.01,
          2764.79,
          2837.5699999999997,
          2910.3500000000004,
          2983.13,
          3055.91,
          3128.69,
          3201.4700000000003,
          3274.25,
          3347.0299999999997,
          3419.81,
          3492.59,
          3565.37,
          3638.15,
          3710.9300000000003,
          3783.71,
          3856.49,
          3929.27,
          4002.05,
          4074.83,
          4147.610000000001
         ],
         "xaxis": "x4",
         "y": [
          4,
          2,
          9,
          16,
          25,
          18,
          17,
          15,
          14,
          7,
          5,
          3,
          5,
          4,
          2,
          2,
          3,
          2,
          1,
          4,
          1,
          1,
          1,
          1,
          0,
          0,
          1,
          0,
          0,
          0,
          0,
          1,
          0,
          0,
          2,
          1,
          0,
          0,
          1,
          0,
          2,
          0,
          0,
          0,
          1,
          0,
          0,
          0,
          1,
          1
         ],
         "yaxis": "y4"
        },
        {
         "marker": {
          "color": [
           "blue",
           "red",
           "blue",
           "blue",
           "blue",
           "blue",
           "blue",
           "blue",
           "blue",
           "blue",
           "blue",
           "blue",
           "blue",
           "blue",
           "blue",
           "blue",
           "blue",
           "blue",
           "blue",
           "blue",
           "blue",
           "blue",
           "blue",
           "blue",
           "blue",
           "blue",
           "blue",
           "blue",
           "blue",
           "blue",
           "blue",
           "blue",
           "blue",
           "blue",
           "blue",
           "blue",
           "blue",
           "blue",
           "blue",
           "blue",
           "blue",
           "blue",
           "blue",
           "blue",
           "blue",
           "blue",
           "blue",
           "blue",
           "blue",
           "blue"
          ]
         },
         "name": "Trades Histogram",
         "type": "bar",
         "x": [
          183.37,
          252.11,
          320.85,
          389.59,
          458.33,
          527.0699999999999,
          595.81,
          664.55,
          733.29,
          802.03,
          870.77,
          939.51,
          1008.2499999999999,
          1076.9899999999998,
          1145.73,
          1214.4699999999998,
          1283.21,
          1351.9499999999998,
          1420.69,
          1489.4299999999998,
          1558.17,
          1626.9099999999999,
          1695.65,
          1764.3899999999999,
          1833.1299999999997,
          1901.87,
          1970.6099999999997,
          2039.35,
          2108.09,
          2176.83,
          2245.5699999999997,
          2314.31,
          2383.0499999999997,
          2451.79,
          2520.5299999999997,
          2589.2699999999995,
          2658.0099999999998,
          2726.75,
          2795.49,
          2864.2299999999996,
          2932.97,
          3001.71,
          3070.45,
          3139.1899999999996,
          3207.93,
          3276.67,
          3345.41,
          3414.1499999999996,
          3482.8899999999994,
          3551.63
         ],
         "xaxis": "x5",
         "y": [
          4,
          18,
          39,
          29,
          19,
          13,
          11,
          5,
          4,
          3,
          3,
          2,
          1,
          2,
          4,
          0,
          2,
          0,
          5,
          0,
          1,
          0,
          1,
          0,
          0,
          0,
          0,
          0,
          0,
          0,
          0,
          1,
          0,
          1,
          0,
          0,
          0,
          0,
          0,
          0,
          1,
          0,
          0,
          1,
          1,
          1,
          0,
          0,
          0,
          1
         ],
         "yaxis": "y5"
        },
        {
         "marker": {
          "color": [
           "blue",
           "blue",
           "blue",
           "blue",
           "blue",
           "red",
           "blue",
           "blue",
           "blue",
           "blue",
           "blue",
           "blue",
           "blue",
           "blue",
           "blue",
           "blue",
           "blue",
           "blue",
           "blue",
           "blue",
           "blue",
           "blue",
           "blue",
           "blue",
           "blue",
           "blue",
           "blue",
           "blue",
           "blue",
           "blue",
           "blue",
           "blue",
           "blue",
           "blue",
           "blue",
           "blue",
           "blue",
           "blue",
           "blue",
           "blue",
           "blue",
           "blue",
           "blue",
           "blue",
           "blue",
           "blue",
           "blue",
           "blue",
           "blue",
           "blue"
          ]
         },
         "name": "Trades Histogram",
         "type": "bar",
         "x": [
          314.51,
          347.53,
          380.55,
          413.57000000000005,
          446.59000000000003,
          479.61,
          512.63,
          545.6500000000001,
          578.6700000000001,
          611.69,
          644.71,
          677.73,
          710.75,
          743.77,
          776.79,
          809.8100000000001,
          842.83,
          875.85,
          908.8700000000001,
          941.8900000000001,
          974.9100000000001,
          1007.9300000000001,
          1040.95,
          1073.97,
          1106.99,
          1140.01,
          1173.03,
          1206.05,
          1239.07,
          1272.0900000000001,
          1305.1100000000001,
          1338.13,
          1371.15,
          1404.17,
          1437.19,
          1470.21,
          1503.23,
          1536.25,
          1569.2700000000002,
          1602.2900000000002,
          1635.3100000000002,
          1668.3300000000002,
          1701.3500000000001,
          1734.3700000000001,
          1767.39,
          1800.41,
          1833.43,
          1866.45,
          1899.4700000000003,
          1932.4900000000002
         ],
         "xaxis": "x6",
         "y": [
          2,
          0,
          1,
          3,
          8,
          18,
          17,
          16,
          33,
          19,
          13,
          9,
          10,
          4,
          4,
          3,
          1,
          3,
          0,
          1,
          0,
          0,
          0,
          0,
          0,
          0,
          0,
          0,
          2,
          0,
          0,
          0,
          1,
          0,
          2,
          0,
          0,
          0,
          0,
          0,
          0,
          0,
          0,
          0,
          0,
          0,
          0,
          1,
          1,
          1
         ],
         "yaxis": "y6"
        }
       ],
       "layout": {
        "annotations": [
         {
          "font": {
           "color": "black",
           "size": 10
          },
          "showarrow": false,
          "text": "Mean:6",
          "x": 5.735838150289018,
          "xref": "x",
          "y": 54,
          "yref": "y"
         },
         {
          "font": {
           "color": "green",
           "size": 10
          },
          "showarrow": false,
          "text": "+1SD:12",
          "x": 11.790024015790332,
          "xref": "x",
          "y": 54,
          "yref": "y"
         },
         {
          "font": {
           "color": "green",
           "size": 10
          },
          "showarrow": false,
          "text": "-1SD:-0",
          "x": -0.31834771521229577,
          "xref": "x",
          "y": 54,
          "yref": "y"
         },
         {
          "font": {
           "color": "black",
           "size": 10
          },
          "showarrow": false,
          "text": "Mean:1",
          "x": 1.3341040462427747,
          "xref": "x2",
          "y": 67,
          "yref": "y2"
         },
         {
          "font": {
           "color": "green",
           "size": 10
          },
          "showarrow": false,
          "text": "+1SD:3",
          "x": 3.1192203960188793,
          "xref": "x2",
          "y": 67,
          "yref": "y2"
         },
         {
          "font": {
           "color": "green",
           "size": 10
          },
          "showarrow": false,
          "text": "-1SD:-0",
          "x": -0.45101230353333,
          "xref": "x2",
          "y": 67,
          "yref": "y2"
         },
         {
          "font": {
           "color": "black",
           "size": 10
          },
          "showarrow": false,
          "text": "Mean:4",
          "x": 4.404046242774567,
          "xref": "x3",
          "y": 51,
          "yref": "y3"
         },
         {
          "font": {
           "color": "green",
           "size": 10
          },
          "showarrow": false,
          "text": "+1SD:9",
          "x": 8.835494007631928,
          "xref": "x3",
          "y": 51,
          "yref": "y3"
         },
         {
          "font": {
           "color": "green",
           "size": 10
          },
          "showarrow": false,
          "text": "-1SD:-0",
          "x": -0.027401522082794116,
          "xref": "x3",
          "y": 51,
          "yref": "y3"
         },
         {
          "font": {
           "color": "black",
           "size": 10
          },
          "showarrow": false,
          "text": "Mean:1245",
          "x": 1244.78612716763,
          "xref": "x4",
          "y": 36,
          "yref": "y4"
         },
         {
          "font": {
           "color": "green",
           "size": 10
          },
          "showarrow": false,
          "text": "+1SD:1902",
          "x": 1902.2826538368672,
          "xref": "x4",
          "y": 36,
          "yref": "y4"
         },
         {
          "font": {
           "color": "green",
           "size": 10
          },
          "showarrow": false,
          "text": "-1SD:587",
          "x": 587.2896004983928,
          "xref": "x4",
          "y": 36,
          "yref": "y4"
         },
         {
          "font": {
           "color": "black",
           "size": 10
          },
          "showarrow": false,
          "text": "Mean:612",
          "x": 611.7687861271677,
          "xref": "x5",
          "y": 50,
          "yref": "y5"
         },
         {
          "font": {
           "color": "green",
           "size": 10
          },
          "showarrow": false,
          "text": "+1SD:1190",
          "x": 1190.4035094820117,
          "xref": "x5",
          "y": 50,
          "yref": "y5"
         },
         {
          "font": {
           "color": "green",
           "size": 10
          },
          "showarrow": false,
          "text": "-1SD:33",
          "x": 33.13406277232366,
          "xref": "x5",
          "y": 50,
          "yref": "y5"
         },
         {
          "font": {
           "color": "black",
           "size": 10
          },
          "showarrow": false,
          "text": "Mean:633",
          "x": 633.0173410404624,
          "xref": "x6",
          "y": 44,
          "yref": "y6"
         },
         {
          "font": {
           "color": "green",
           "size": 10
          },
          "showarrow": false,
          "text": "+1SD:869",
          "x": 869.1430661971916,
          "xref": "x6",
          "y": 44,
          "yref": "y6"
         },
         {
          "font": {
           "color": "green",
           "size": 10
          },
          "showarrow": false,
          "text": "-1SD:397",
          "x": 396.89161588373315,
          "xref": "x6",
          "y": 44,
          "yref": "y6"
         },
         {
          "font": {
           "size": 13
          },
          "showarrow": false,
          "text": "Total Par Value in Billion",
          "x": 0.12,
          "xanchor": "center",
          "xref": "paper",
          "y": 1.05,
          "yref": "paper"
         },
         {
          "font": {
           "size": 13
          },
          "showarrow": false,
          "text": "ATS & Interdealer Par Value",
          "x": 0.5,
          "xanchor": "center",
          "xref": "paper",
          "y": 1.05,
          "yref": "paper"
         },
         {
          "font": {
           "size": 13
          },
          "showarrow": false,
          "text": "Dealer to Customer Par Value",
          "x": 0.85,
          "xanchor": "center",
          "xref": "paper",
          "y": 1.05,
          "yref": "paper"
         },
         {
          "font": {
           "size": 13
          },
          "showarrow": false,
          "text": "Total Number of Trades",
          "x": 0.12,
          "xanchor": "center",
          "xref": "paper",
          "y": 0.48,
          "yref": "paper"
         },
         {
          "font": {
           "size": 13
          },
          "showarrow": false,
          "text": "ATS & Interdealer Trades",
          "x": 0.5,
          "xanchor": "center",
          "xref": "paper",
          "y": 0.48,
          "yref": "paper"
         },
         {
          "font": {
           "size": 13
          },
          "showarrow": false,
          "text": "Dealer to Customer Trades",
          "x": 0.85,
          "xanchor": "center",
          "xref": "paper",
          "y": 0.48,
          "yref": "paper"
         }
        ],
        "font": {
         "family": "Times New Roman"
        },
        "height": 600,
        "shapes": [
         {
          "line": {
           "color": "black",
           "dash": "dot",
           "width": 2
          },
          "type": "line",
          "x0": 5.735838150289018,
          "x1": 5.735838150289018,
          "xref": "x",
          "y0": 0,
          "y1": 53,
          "yref": "y"
         },
         {
          "line": {
           "color": "green",
           "dash": "dot",
           "width": 2
          },
          "type": "line",
          "x0": 11.790024015790332,
          "x1": 11.790024015790332,
          "xref": "x",
          "y0": 0,
          "y1": 53,
          "yref": "y"
         },
         {
          "line": {
           "color": "green",
           "dash": "dot",
           "width": 2
          },
          "type": "line",
          "x0": -0.31834771521229577,
          "x1": -0.31834771521229577,
          "xref": "x",
          "y0": 0,
          "y1": 53,
          "yref": "y"
         },
         {
          "line": {
           "color": "black",
           "dash": "dot",
           "width": 2
          },
          "type": "line",
          "x0": 1.3341040462427747,
          "x1": 1.3341040462427747,
          "xref": "x2",
          "y0": 0,
          "y1": 66,
          "yref": "y2"
         },
         {
          "line": {
           "color": "green",
           "dash": "dot",
           "width": 2
          },
          "type": "line",
          "x0": 3.1192203960188793,
          "x1": 3.1192203960188793,
          "xref": "x2",
          "y0": 0,
          "y1": 66,
          "yref": "y2"
         },
         {
          "line": {
           "color": "green",
           "dash": "dot",
           "width": 2
          },
          "type": "line",
          "x0": -0.45101230353333,
          "x1": -0.45101230353333,
          "xref": "x2",
          "y0": 0,
          "y1": 66,
          "yref": "y2"
         },
         {
          "line": {
           "color": "black",
           "dash": "dot",
           "width": 2
          },
          "type": "line",
          "x0": 4.404046242774567,
          "x1": 4.404046242774567,
          "xref": "x3",
          "y0": 0,
          "y1": 50,
          "yref": "y3"
         },
         {
          "line": {
           "color": "green",
           "dash": "dot",
           "width": 2
          },
          "type": "line",
          "x0": 8.835494007631928,
          "x1": 8.835494007631928,
          "xref": "x3",
          "y0": 0,
          "y1": 50,
          "yref": "y3"
         },
         {
          "line": {
           "color": "green",
           "dash": "dot",
           "width": 2
          },
          "type": "line",
          "x0": -0.027401522082794116,
          "x1": -0.027401522082794116,
          "xref": "x3",
          "y0": 0,
          "y1": 50,
          "yref": "y3"
         },
         {
          "line": {
           "color": "black",
           "dash": "dot",
           "width": 2
          },
          "type": "line",
          "x0": 1244.78612716763,
          "x1": 1244.78612716763,
          "xref": "x4",
          "y0": 0,
          "y1": 35,
          "yref": "y4"
         },
         {
          "line": {
           "color": "green",
           "dash": "dot",
           "width": 2
          },
          "type": "line",
          "x0": 1902.2826538368672,
          "x1": 1902.2826538368672,
          "xref": "x4",
          "y0": 0,
          "y1": 35,
          "yref": "y4"
         },
         {
          "line": {
           "color": "green",
           "dash": "dot",
           "width": 2
          },
          "type": "line",
          "x0": 587.2896004983928,
          "x1": 587.2896004983928,
          "xref": "x4",
          "y0": 0,
          "y1": 35,
          "yref": "y4"
         },
         {
          "line": {
           "color": "black",
           "dash": "dot",
           "width": 2
          },
          "type": "line",
          "x0": 611.7687861271677,
          "x1": 611.7687861271677,
          "xref": "x5",
          "y0": 0,
          "y1": 49,
          "yref": "y5"
         },
         {
          "line": {
           "color": "green",
           "dash": "dot",
           "width": 2
          },
          "type": "line",
          "x0": 1190.4035094820117,
          "x1": 1190.4035094820117,
          "xref": "x5",
          "y0": 0,
          "y1": 49,
          "yref": "y5"
         },
         {
          "line": {
           "color": "green",
           "dash": "dot",
           "width": 2
          },
          "type": "line",
          "x0": 33.13406277232366,
          "x1": 33.13406277232366,
          "xref": "x5",
          "y0": 0,
          "y1": 49,
          "yref": "y5"
         },
         {
          "line": {
           "color": "black",
           "dash": "dot",
           "width": 2
          },
          "type": "line",
          "x0": 633.0173410404624,
          "x1": 633.0173410404624,
          "xref": "x6",
          "y0": 0,
          "y1": 43,
          "yref": "y6"
         },
         {
          "line": {
           "color": "green",
           "dash": "dot",
           "width": 2
          },
          "type": "line",
          "x0": 869.1430661971916,
          "x1": 869.1430661971916,
          "xref": "x6",
          "y0": 0,
          "y1": 43,
          "yref": "y6"
         },
         {
          "line": {
           "color": "green",
           "dash": "dot",
           "width": 2
          },
          "type": "line",
          "x0": 396.89161588373315,
          "x1": 396.89161588373315,
          "xref": "x6",
          "y0": 0,
          "y1": 43,
          "yref": "y6"
         }
        ],
        "showlegend": false,
        "template": {
         "data": {
          "bar": [
           {
            "error_x": {
             "color": "#2a3f5f"
            },
            "error_y": {
             "color": "#2a3f5f"
            },
            "marker": {
             "line": {
              "color": "#E5ECF6",
              "width": 0.5
             },
             "pattern": {
              "fillmode": "overlay",
              "size": 10,
              "solidity": 0.2
             }
            },
            "type": "bar"
           }
          ],
          "barpolar": [
           {
            "marker": {
             "line": {
              "color": "#E5ECF6",
              "width": 0.5
             },
             "pattern": {
              "fillmode": "overlay",
              "size": 10,
              "solidity": 0.2
             }
            },
            "type": "barpolar"
           }
          ],
          "carpet": [
           {
            "aaxis": {
             "endlinecolor": "#2a3f5f",
             "gridcolor": "white",
             "linecolor": "white",
             "minorgridcolor": "white",
             "startlinecolor": "#2a3f5f"
            },
            "baxis": {
             "endlinecolor": "#2a3f5f",
             "gridcolor": "white",
             "linecolor": "white",
             "minorgridcolor": "white",
             "startlinecolor": "#2a3f5f"
            },
            "type": "carpet"
           }
          ],
          "choropleth": [
           {
            "colorbar": {
             "outlinewidth": 0,
             "ticks": ""
            },
            "type": "choropleth"
           }
          ],
          "contour": [
           {
            "colorbar": {
             "outlinewidth": 0,
             "ticks": ""
            },
            "colorscale": [
             [
              0,
              "#0d0887"
             ],
             [
              0.1111111111111111,
              "#46039f"
             ],
             [
              0.2222222222222222,
              "#7201a8"
             ],
             [
              0.3333333333333333,
              "#9c179e"
             ],
             [
              0.4444444444444444,
              "#bd3786"
             ],
             [
              0.5555555555555556,
              "#d8576b"
             ],
             [
              0.6666666666666666,
              "#ed7953"
             ],
             [
              0.7777777777777778,
              "#fb9f3a"
             ],
             [
              0.8888888888888888,
              "#fdca26"
             ],
             [
              1,
              "#f0f921"
             ]
            ],
            "type": "contour"
           }
          ],
          "contourcarpet": [
           {
            "colorbar": {
             "outlinewidth": 0,
             "ticks": ""
            },
            "type": "contourcarpet"
           }
          ],
          "heatmap": [
           {
            "colorbar": {
             "outlinewidth": 0,
             "ticks": ""
            },
            "colorscale": [
             [
              0,
              "#0d0887"
             ],
             [
              0.1111111111111111,
              "#46039f"
             ],
             [
              0.2222222222222222,
              "#7201a8"
             ],
             [
              0.3333333333333333,
              "#9c179e"
             ],
             [
              0.4444444444444444,
              "#bd3786"
             ],
             [
              0.5555555555555556,
              "#d8576b"
             ],
             [
              0.6666666666666666,
              "#ed7953"
             ],
             [
              0.7777777777777778,
              "#fb9f3a"
             ],
             [
              0.8888888888888888,
              "#fdca26"
             ],
             [
              1,
              "#f0f921"
             ]
            ],
            "type": "heatmap"
           }
          ],
          "heatmapgl": [
           {
            "colorbar": {
             "outlinewidth": 0,
             "ticks": ""
            },
            "colorscale": [
             [
              0,
              "#0d0887"
             ],
             [
              0.1111111111111111,
              "#46039f"
             ],
             [
              0.2222222222222222,
              "#7201a8"
             ],
             [
              0.3333333333333333,
              "#9c179e"
             ],
             [
              0.4444444444444444,
              "#bd3786"
             ],
             [
              0.5555555555555556,
              "#d8576b"
             ],
             [
              0.6666666666666666,
              "#ed7953"
             ],
             [
              0.7777777777777778,
              "#fb9f3a"
             ],
             [
              0.8888888888888888,
              "#fdca26"
             ],
             [
              1,
              "#f0f921"
             ]
            ],
            "type": "heatmapgl"
           }
          ],
          "histogram": [
           {
            "marker": {
             "pattern": {
              "fillmode": "overlay",
              "size": 10,
              "solidity": 0.2
             }
            },
            "type": "histogram"
           }
          ],
          "histogram2d": [
           {
            "colorbar": {
             "outlinewidth": 0,
             "ticks": ""
            },
            "colorscale": [
             [
              0,
              "#0d0887"
             ],
             [
              0.1111111111111111,
              "#46039f"
             ],
             [
              0.2222222222222222,
              "#7201a8"
             ],
             [
              0.3333333333333333,
              "#9c179e"
             ],
             [
              0.4444444444444444,
              "#bd3786"
             ],
             [
              0.5555555555555556,
              "#d8576b"
             ],
             [
              0.6666666666666666,
              "#ed7953"
             ],
             [
              0.7777777777777778,
              "#fb9f3a"
             ],
             [
              0.8888888888888888,
              "#fdca26"
             ],
             [
              1,
              "#f0f921"
             ]
            ],
            "type": "histogram2d"
           }
          ],
          "histogram2dcontour": [
           {
            "colorbar": {
             "outlinewidth": 0,
             "ticks": ""
            },
            "colorscale": [
             [
              0,
              "#0d0887"
             ],
             [
              0.1111111111111111,
              "#46039f"
             ],
             [
              0.2222222222222222,
              "#7201a8"
             ],
             [
              0.3333333333333333,
              "#9c179e"
             ],
             [
              0.4444444444444444,
              "#bd3786"
             ],
             [
              0.5555555555555556,
              "#d8576b"
             ],
             [
              0.6666666666666666,
              "#ed7953"
             ],
             [
              0.7777777777777778,
              "#fb9f3a"
             ],
             [
              0.8888888888888888,
              "#fdca26"
             ],
             [
              1,
              "#f0f921"
             ]
            ],
            "type": "histogram2dcontour"
           }
          ],
          "mesh3d": [
           {
            "colorbar": {
             "outlinewidth": 0,
             "ticks": ""
            },
            "type": "mesh3d"
           }
          ],
          "parcoords": [
           {
            "line": {
             "colorbar": {
              "outlinewidth": 0,
              "ticks": ""
             }
            },
            "type": "parcoords"
           }
          ],
          "pie": [
           {
            "automargin": true,
            "type": "pie"
           }
          ],
          "scatter": [
           {
            "fillpattern": {
             "fillmode": "overlay",
             "size": 10,
             "solidity": 0.2
            },
            "type": "scatter"
           }
          ],
          "scatter3d": [
           {
            "line": {
             "colorbar": {
              "outlinewidth": 0,
              "ticks": ""
             }
            },
            "marker": {
             "colorbar": {
              "outlinewidth": 0,
              "ticks": ""
             }
            },
            "type": "scatter3d"
           }
          ],
          "scattercarpet": [
           {
            "marker": {
             "colorbar": {
              "outlinewidth": 0,
              "ticks": ""
             }
            },
            "type": "scattercarpet"
           }
          ],
          "scattergeo": [
           {
            "marker": {
             "colorbar": {
              "outlinewidth": 0,
              "ticks": ""
             }
            },
            "type": "scattergeo"
           }
          ],
          "scattergl": [
           {
            "marker": {
             "colorbar": {
              "outlinewidth": 0,
              "ticks": ""
             }
            },
            "type": "scattergl"
           }
          ],
          "scattermapbox": [
           {
            "marker": {
             "colorbar": {
              "outlinewidth": 0,
              "ticks": ""
             }
            },
            "type": "scattermapbox"
           }
          ],
          "scatterpolar": [
           {
            "marker": {
             "colorbar": {
              "outlinewidth": 0,
              "ticks": ""
             }
            },
            "type": "scatterpolar"
           }
          ],
          "scatterpolargl": [
           {
            "marker": {
             "colorbar": {
              "outlinewidth": 0,
              "ticks": ""
             }
            },
            "type": "scatterpolargl"
           }
          ],
          "scatterternary": [
           {
            "marker": {
             "colorbar": {
              "outlinewidth": 0,
              "ticks": ""
             }
            },
            "type": "scatterternary"
           }
          ],
          "surface": [
           {
            "colorbar": {
             "outlinewidth": 0,
             "ticks": ""
            },
            "colorscale": [
             [
              0,
              "#0d0887"
             ],
             [
              0.1111111111111111,
              "#46039f"
             ],
             [
              0.2222222222222222,
              "#7201a8"
             ],
             [
              0.3333333333333333,
              "#9c179e"
             ],
             [
              0.4444444444444444,
              "#bd3786"
             ],
             [
              0.5555555555555556,
              "#d8576b"
             ],
             [
              0.6666666666666666,
              "#ed7953"
             ],
             [
              0.7777777777777778,
              "#fb9f3a"
             ],
             [
              0.8888888888888888,
              "#fdca26"
             ],
             [
              1,
              "#f0f921"
             ]
            ],
            "type": "surface"
           }
          ],
          "table": [
           {
            "cells": {
             "fill": {
              "color": "#EBF0F8"
             },
             "line": {
              "color": "white"
             }
            },
            "header": {
             "fill": {
              "color": "#C8D4E3"
             },
             "line": {
              "color": "white"
             }
            },
            "type": "table"
           }
          ]
         },
         "layout": {
          "annotationdefaults": {
           "arrowcolor": "#2a3f5f",
           "arrowhead": 0,
           "arrowwidth": 1
          },
          "autotypenumbers": "strict",
          "coloraxis": {
           "colorbar": {
            "outlinewidth": 0,
            "ticks": ""
           }
          },
          "colorscale": {
           "diverging": [
            [
             0,
             "#8e0152"
            ],
            [
             0.1,
             "#c51b7d"
            ],
            [
             0.2,
             "#de77ae"
            ],
            [
             0.3,
             "#f1b6da"
            ],
            [
             0.4,
             "#fde0ef"
            ],
            [
             0.5,
             "#f7f7f7"
            ],
            [
             0.6,
             "#e6f5d0"
            ],
            [
             0.7,
             "#b8e186"
            ],
            [
             0.8,
             "#7fbc41"
            ],
            [
             0.9,
             "#4d9221"
            ],
            [
             1,
             "#276419"
            ]
           ],
           "sequential": [
            [
             0,
             "#0d0887"
            ],
            [
             0.1111111111111111,
             "#46039f"
            ],
            [
             0.2222222222222222,
             "#7201a8"
            ],
            [
             0.3333333333333333,
             "#9c179e"
            ],
            [
             0.4444444444444444,
             "#bd3786"
            ],
            [
             0.5555555555555556,
             "#d8576b"
            ],
            [
             0.6666666666666666,
             "#ed7953"
            ],
            [
             0.7777777777777778,
             "#fb9f3a"
            ],
            [
             0.8888888888888888,
             "#fdca26"
            ],
            [
             1,
             "#f0f921"
            ]
           ],
           "sequentialminus": [
            [
             0,
             "#0d0887"
            ],
            [
             0.1111111111111111,
             "#46039f"
            ],
            [
             0.2222222222222222,
             "#7201a8"
            ],
            [
             0.3333333333333333,
             "#9c179e"
            ],
            [
             0.4444444444444444,
             "#bd3786"
            ],
            [
             0.5555555555555556,
             "#d8576b"
            ],
            [
             0.6666666666666666,
             "#ed7953"
            ],
            [
             0.7777777777777778,
             "#fb9f3a"
            ],
            [
             0.8888888888888888,
             "#fdca26"
            ],
            [
             1,
             "#f0f921"
            ]
           ]
          },
          "colorway": [
           "#636efa",
           "#EF553B",
           "#00cc96",
           "#ab63fa",
           "#FFA15A",
           "#19d3f3",
           "#FF6692",
           "#B6E880",
           "#FF97FF",
           "#FECB52"
          ],
          "font": {
           "color": "#2a3f5f"
          },
          "geo": {
           "bgcolor": "white",
           "lakecolor": "white",
           "landcolor": "#E5ECF6",
           "showlakes": true,
           "showland": true,
           "subunitcolor": "white"
          },
          "hoverlabel": {
           "align": "left"
          },
          "hovermode": "closest",
          "mapbox": {
           "style": "light"
          },
          "paper_bgcolor": "white",
          "plot_bgcolor": "#E5ECF6",
          "polar": {
           "angularaxis": {
            "gridcolor": "white",
            "linecolor": "white",
            "ticks": ""
           },
           "bgcolor": "#E5ECF6",
           "radialaxis": {
            "gridcolor": "white",
            "linecolor": "white",
            "ticks": ""
           }
          },
          "scene": {
           "xaxis": {
            "backgroundcolor": "#E5ECF6",
            "gridcolor": "white",
            "gridwidth": 2,
            "linecolor": "white",
            "showbackground": true,
            "ticks": "",
            "zerolinecolor": "white"
           },
           "yaxis": {
            "backgroundcolor": "#E5ECF6",
            "gridcolor": "white",
            "gridwidth": 2,
            "linecolor": "white",
            "showbackground": true,
            "ticks": "",
            "zerolinecolor": "white"
           },
           "zaxis": {
            "backgroundcolor": "#E5ECF6",
            "gridcolor": "white",
            "gridwidth": 2,
            "linecolor": "white",
            "showbackground": true,
            "ticks": "",
            "zerolinecolor": "white"
           }
          },
          "shapedefaults": {
           "line": {
            "color": "#2a3f5f"
           }
          },
          "ternary": {
           "aaxis": {
            "gridcolor": "white",
            "linecolor": "white",
            "ticks": ""
           },
           "baxis": {
            "gridcolor": "white",
            "linecolor": "white",
            "ticks": ""
           },
           "bgcolor": "#E5ECF6",
           "caxis": {
            "gridcolor": "white",
            "linecolor": "white",
            "ticks": ""
           }
          },
          "title": {
           "x": 0.05
          },
          "xaxis": {
           "automargin": true,
           "gridcolor": "white",
           "linecolor": "white",
           "ticks": "",
           "title": {
            "standoff": 15
           },
           "zerolinecolor": "white",
           "zerolinewidth": 2
          },
          "yaxis": {
           "automargin": true,
           "gridcolor": "white",
           "linecolor": "white",
           "ticks": "",
           "title": {
            "standoff": 15
           },
           "zerolinecolor": "white",
           "zerolinewidth": 2
          }
         }
        },
        "title": {
         "text": "<= 5 years Off-the-run TRACE 180-day Dist, As of: 2024-09-18"
        },
        "width": 1400,
        "xaxis": {
         "anchor": "y",
         "domain": [
          0,
          0.29333333333333333
         ]
        },
        "xaxis2": {
         "anchor": "y2",
         "domain": [
          0.35333333333333333,
          0.6466666666666667
         ]
        },
        "xaxis3": {
         "anchor": "y3",
         "domain": [
          0.7066666666666667,
          1
         ]
        },
        "xaxis4": {
         "anchor": "y4",
         "domain": [
          0,
          0.29333333333333333
         ]
        },
        "xaxis5": {
         "anchor": "y5",
         "domain": [
          0.35333333333333333,
          0.6466666666666667
         ]
        },
        "xaxis6": {
         "anchor": "y6",
         "domain": [
          0.7066666666666667,
          1
         ]
        },
        "yaxis": {
         "anchor": "x",
         "domain": [
          0.545,
          1
         ]
        },
        "yaxis2": {
         "anchor": "x2",
         "domain": [
          0.545,
          1
         ]
        },
        "yaxis3": {
         "anchor": "x3",
         "domain": [
          0.545,
          1
         ]
        },
        "yaxis4": {
         "anchor": "x4",
         "domain": [
          0,
          0.455
         ]
        },
        "yaxis5": {
         "anchor": "x5",
         "domain": [
          0,
          0.455
         ]
        },
        "yaxis6": {
         "anchor": "x6",
         "domain": [
          0,
          0.455
         ]
        }
       }
      }
     },
     "metadata": {},
     "output_type": "display_data"
    },
    {
     "name": "stdout",
     "output_type": "stream",
     "text": [
      "Saved plot as tenor_5and10years_distribution_180_days.png\n"
     ]
    },
    {
     "data": {
      "application/vnd.plotly.v1+json": {
       "config": {
        "plotlyServerURL": "https://plot.ly"
       },
       "data": [
        {
         "marker": {
          "color": [
           "blue",
           "blue",
           "blue",
           "blue",
           "red",
           "blue",
           "blue",
           "blue",
           "blue",
           "blue",
           "blue",
           "blue",
           "blue",
           "blue",
           "blue",
           "blue",
           "blue",
           "blue",
           "blue",
           "blue",
           "blue",
           "blue",
           "blue",
           "blue",
           "blue",
           "blue",
           "blue",
           "blue",
           "blue",
           "blue",
           "blue",
           "blue",
           "blue",
           "blue",
           "blue",
           "blue",
           "blue",
           "blue",
           "blue",
           "blue",
           "blue",
           "blue",
           "blue",
           "blue",
           "blue",
           "blue",
           "blue",
           "blue",
           "blue",
           "blue"
          ]
         },
         "name": "Par Value Histogram",
         "type": "bar",
         "x": [
          2.383,
          2.949,
          3.515,
          4.0809999999999995,
          4.647,
          5.213,
          5.779,
          6.345,
          6.911,
          7.476999999999999,
          8.043,
          8.608999999999998,
          9.175,
          9.741,
          10.306999999999999,
          10.872999999999998,
          11.439,
          12.004999999999999,
          12.570999999999998,
          13.136999999999999,
          13.703,
          14.268999999999998,
          14.834999999999997,
          15.401,
          15.966999999999999,
          16.533,
          17.098999999999997,
          17.665,
          18.231,
          18.796999999999997,
          19.363,
          19.929000000000002,
          20.494999999999997,
          21.061,
          21.627000000000002,
          22.192999999999998,
          22.759,
          23.325,
          23.891,
          24.457,
          25.023,
          25.589,
          26.155,
          26.720999999999997,
          27.287,
          27.853,
          28.418999999999997,
          28.985,
          29.551000000000002,
          30.116999999999997
         ],
         "xaxis": "x",
         "y": [
          1,
          10,
          15,
          32,
          21,
          20,
          14,
          17,
          10,
          4,
          3,
          3,
          6,
          4,
          1,
          4,
          1,
          1,
          2,
          0,
          1,
          0,
          0,
          0,
          0,
          1,
          0,
          0,
          0,
          0,
          0,
          0,
          0,
          0,
          0,
          0,
          0,
          0,
          0,
          0,
          0,
          0,
          0,
          0,
          1,
          0,
          0,
          0,
          0,
          1
         ],
         "yaxis": "y"
        },
        {
         "marker": {
          "color": [
           "blue",
           "blue",
           "blue",
           "blue",
           "blue",
           "red",
           "blue",
           "blue",
           "blue",
           "blue",
           "blue",
           "blue",
           "blue",
           "blue",
           "blue",
           "blue",
           "blue",
           "blue",
           "blue",
           "blue",
           "blue",
           "blue",
           "blue",
           "blue",
           "blue",
           "blue",
           "blue",
           "blue",
           "blue",
           "blue",
           "blue",
           "blue",
           "blue",
           "blue",
           "blue",
           "blue",
           "blue",
           "blue",
           "blue",
           "blue",
           "blue",
           "blue",
           "blue",
           "blue",
           "blue",
           "blue",
           "blue",
           "blue",
           "blue",
           "blue"
          ]
         },
         "name": "Par Value Histogram",
         "type": "bar",
         "x": [
          0.871,
          1.0130000000000001,
          1.155,
          1.2970000000000002,
          1.439,
          1.5810000000000002,
          1.723,
          1.8650000000000002,
          2.007,
          2.149,
          2.2910000000000004,
          2.4330000000000003,
          2.575,
          2.717,
          2.8590000000000004,
          3.0010000000000003,
          3.1430000000000002,
          3.285,
          3.427,
          3.5690000000000004,
          3.7110000000000003,
          3.853,
          3.9950000000000006,
          4.1370000000000005,
          4.279,
          4.421,
          4.563000000000001,
          4.705,
          4.847,
          4.989000000000001,
          5.131,
          5.273,
          5.415000000000001,
          5.557,
          5.699,
          5.841,
          5.9830000000000005,
          6.125,
          6.267,
          6.409000000000001,
          6.551,
          6.6930000000000005,
          6.835000000000001,
          6.977,
          7.119000000000001,
          7.261000000000001,
          7.4030000000000005,
          7.545,
          7.687000000000001,
          7.829000000000001
         ],
         "xaxis": "x2",
         "y": [
          5,
          7,
          14,
          11,
          29,
          7,
          10,
          21,
          4,
          20,
          4,
          8,
          4,
          2,
          3,
          2,
          5,
          2,
          2,
          4,
          2,
          2,
          0,
          2,
          0,
          0,
          1,
          0,
          0,
          0,
          0,
          0,
          0,
          0,
          0,
          0,
          0,
          0,
          1,
          0,
          0,
          0,
          0,
          0,
          0,
          0,
          0,
          0,
          0,
          1
         ],
         "yaxis": "y2"
        },
        {
         "marker": {
          "color": [
           "blue",
           "blue",
           "blue",
           "blue",
           "red",
           "blue",
           "blue",
           "blue",
           "blue",
           "blue",
           "blue",
           "blue",
           "blue",
           "blue",
           "blue",
           "blue",
           "blue",
           "blue",
           "blue",
           "blue",
           "blue",
           "blue",
           "blue",
           "blue",
           "blue",
           "blue",
           "blue",
           "blue",
           "blue",
           "blue",
           "blue",
           "blue",
           "blue",
           "blue",
           "blue",
           "blue",
           "blue",
           "blue",
           "blue",
           "blue",
           "blue",
           "blue",
           "blue",
           "blue",
           "blue",
           "blue",
           "blue",
           "blue",
           "blue",
           "blue"
          ]
         },
         "name": "Par Value Histogram",
         "type": "bar",
         "x": [
          1.512,
          1.936,
          2.3600000000000003,
          2.784,
          3.208,
          3.632,
          4.056,
          4.48,
          4.904,
          5.327999999999999,
          5.752,
          6.176,
          6.6,
          7.023999999999999,
          7.4479999999999995,
          7.872,
          8.296,
          8.72,
          9.144,
          9.568000000000001,
          9.992,
          10.416,
          10.84,
          11.264,
          11.688,
          12.112,
          12.536000000000001,
          12.96,
          13.384,
          13.808,
          14.232,
          14.656,
          15.08,
          15.504000000000001,
          15.928,
          16.352,
          16.776,
          17.2,
          17.624,
          18.048000000000002,
          18.472,
          18.896,
          19.32,
          19.744,
          20.168,
          20.592,
          21.016,
          21.44,
          21.864,
          22.288
         ],
         "xaxis": "x3",
         "y": [
          3,
          11,
          26,
          33,
          20,
          16,
          10,
          11,
          9,
          9,
          6,
          3,
          2,
          1,
          4,
          1,
          1,
          1,
          1,
          1,
          0,
          1,
          0,
          0,
          1,
          0,
          0,
          0,
          0,
          0,
          0,
          0,
          0,
          0,
          0,
          0,
          0,
          0,
          0,
          0,
          0,
          0,
          0,
          0,
          0,
          0,
          1,
          0,
          0,
          1
         ],
         "yaxis": "y3"
        },
        {
         "marker": {
          "color": [
           "blue",
           "blue",
           "blue",
           "blue",
           "blue",
           "blue",
           "red",
           "blue",
           "blue",
           "blue",
           "blue",
           "blue",
           "blue",
           "blue",
           "blue",
           "blue",
           "blue",
           "blue",
           "blue",
           "blue",
           "blue",
           "blue",
           "blue",
           "blue",
           "blue",
           "blue",
           "blue",
           "blue",
           "blue",
           "blue",
           "blue",
           "blue",
           "blue",
           "blue",
           "blue",
           "blue",
           "blue",
           "blue",
           "blue",
           "blue",
           "blue",
           "blue",
           "blue",
           "blue",
           "blue",
           "blue",
           "blue",
           "blue",
           "blue",
           "blue"
          ]
         },
         "name": "Trades Histogram",
         "type": "bar",
         "x": [
          450.25,
          484.75,
          519.25,
          553.75,
          588.25,
          622.75,
          657.25,
          691.75,
          726.25,
          760.75,
          795.25,
          829.75,
          864.25,
          898.75,
          933.25,
          967.75,
          1002.25,
          1036.75,
          1071.25,
          1105.75,
          1140.25,
          1174.75,
          1209.25,
          1243.75,
          1278.25,
          1312.75,
          1347.25,
          1381.75,
          1416.25,
          1450.75,
          1485.25,
          1519.75,
          1554.25,
          1588.75,
          1623.25,
          1657.75,
          1692.25,
          1726.75,
          1761.25,
          1795.75,
          1830.25,
          1864.75,
          1899.25,
          1933.75,
          1968.25,
          2002.75,
          2037.25,
          2071.75,
          2106.25,
          2140.75
         ],
         "xaxis": "x4",
         "y": [
          2,
          7,
          3,
          5,
          11,
          13,
          21,
          9,
          14,
          13,
          12,
          9,
          9,
          6,
          3,
          5,
          5,
          4,
          4,
          0,
          2,
          2,
          1,
          0,
          1,
          1,
          0,
          2,
          0,
          2,
          2,
          0,
          0,
          0,
          1,
          0,
          0,
          0,
          0,
          0,
          0,
          0,
          1,
          0,
          1,
          0,
          0,
          0,
          0,
          2
         ],
         "yaxis": "y4"
        },
        {
         "marker": {
          "color": [
           "blue",
           "blue",
           "blue",
           "blue",
           "red",
           "blue",
           "blue",
           "blue",
           "blue",
           "blue",
           "blue",
           "blue",
           "blue",
           "blue",
           "blue",
           "blue",
           "blue",
           "blue",
           "blue",
           "blue",
           "blue",
           "blue",
           "blue",
           "blue",
           "blue",
           "blue",
           "blue",
           "blue",
           "blue",
           "blue",
           "blue",
           "blue",
           "blue",
           "blue",
           "blue",
           "blue",
           "blue",
           "blue",
           "blue",
           "blue",
           "blue",
           "blue",
           "blue",
           "blue",
           "blue",
           "blue",
           "blue",
           "blue",
           "blue",
           "blue"
          ]
         },
         "name": "Trades Histogram",
         "type": "bar",
         "x": [
          186.93,
          206.79000000000002,
          226.64999999999998,
          246.51,
          266.37,
          286.23,
          306.09,
          325.95,
          345.81,
          365.67,
          385.53,
          405.39,
          425.25,
          445.11,
          464.96999999999997,
          484.83,
          504.69,
          524.55,
          544.41,
          564.27,
          584.13,
          603.99,
          623.8499999999999,
          643.71,
          663.5699999999999,
          683.4300000000001,
          703.29,
          723.15,
          743.01,
          762.8699999999999,
          782.73,
          802.5899999999999,
          822.45,
          842.31,
          862.1700000000001,
          882.03,
          901.89,
          921.75,
          941.6099999999999,
          961.47,
          981.3299999999999,
          1001.19,
          1021.05,
          1040.9099999999999,
          1060.77,
          1080.6299999999999,
          1100.49,
          1120.35,
          1140.21,
          1160.07
         ],
         "xaxis": "x5",
         "y": [
          5,
          6,
          11,
          13,
          16,
          15,
          14,
          10,
          12,
          6,
          5,
          6,
          6,
          5,
          3,
          1,
          4,
          8,
          2,
          2,
          1,
          3,
          1,
          0,
          1,
          0,
          3,
          2,
          1,
          0,
          1,
          0,
          2,
          1,
          3,
          0,
          1,
          0,
          1,
          0,
          0,
          0,
          0,
          0,
          0,
          0,
          0,
          0,
          1,
          1
         ],
         "yaxis": "y5"
        },
        {
         "marker": {
          "color": [
           "blue",
           "blue",
           "blue",
           "blue",
           "blue",
           "blue",
           "blue",
           "blue",
           "red",
           "blue",
           "blue",
           "blue",
           "blue",
           "blue",
           "blue",
           "blue",
           "blue",
           "blue",
           "blue",
           "blue",
           "blue",
           "blue",
           "blue",
           "blue",
           "blue",
           "blue",
           "blue",
           "blue",
           "blue",
           "blue",
           "blue",
           "blue",
           "blue",
           "blue",
           "blue",
           "blue",
           "blue",
           "blue",
           "blue",
           "blue",
           "blue",
           "blue",
           "blue",
           "blue",
           "blue",
           "blue",
           "blue",
           "blue",
           "blue",
           "blue"
          ]
         },
         "name": "Trades Histogram",
         "type": "bar",
         "x": [
          202.84,
          226.52,
          250.2,
          273.88,
          297.56,
          321.24,
          344.91999999999996,
          368.6,
          392.28,
          415.96000000000004,
          439.64,
          463.32,
          487,
          510.67999999999995,
          534.36,
          558.04,
          581.72,
          605.4,
          629.08,
          652.76,
          676.44,
          700.12,
          723.8,
          747.48,
          771.16,
          794.8399999999999,
          818.52,
          842.2,
          865.88,
          889.56,
          913.24,
          936.9200000000001,
          960.5999999999999,
          984.28,
          1007.96,
          1031.6399999999999,
          1055.32,
          1079,
          1102.68,
          1126.3600000000001,
          1150.04,
          1173.72,
          1197.4,
          1221.08,
          1244.76,
          1268.44,
          1292.12,
          1315.8,
          1339.48,
          1363.1599999999999
         ],
         "xaxis": "x6",
         "y": [
          1,
          0,
          2,
          6,
          9,
          19,
          19,
          29,
          16,
          24,
          13,
          8,
          5,
          7,
          1,
          2,
          0,
          1,
          0,
          1,
          1,
          0,
          1,
          0,
          0,
          0,
          0,
          0,
          1,
          0,
          0,
          0,
          3,
          1,
          0,
          0,
          0,
          0,
          0,
          0,
          1,
          0,
          0,
          0,
          0,
          0,
          0,
          1,
          0,
          1
         ],
         "yaxis": "y6"
        }
       ],
       "layout": {
        "annotations": [
         {
          "font": {
           "color": "black",
           "size": 10
          },
          "showarrow": false,
          "text": "Mean:6",
          "x": 5.989595375722542,
          "xref": "x",
          "y": 43,
          "yref": "y"
         },
         {
          "font": {
           "color": "green",
           "size": 10
          },
          "showarrow": false,
          "text": "+1SD:9",
          "x": 9.404304523600718,
          "xref": "x",
          "y": 43,
          "yref": "y"
         },
         {
          "font": {
           "color": "green",
           "size": 10
          },
          "showarrow": false,
          "text": "-1SD:3",
          "x": 2.5748862278443676,
          "xref": "x",
          "y": 43,
          "yref": "y"
         },
         {
          "font": {
           "color": "black",
           "size": 10
          },
          "showarrow": false,
          "text": "Mean:2",
          "x": 2.0052023121387283,
          "xref": "x2",
          "y": 40,
          "yref": "y2"
         },
         {
          "font": {
           "color": "green",
           "size": 10
          },
          "showarrow": false,
          "text": "+1SD:3",
          "x": 2.955058759823602,
          "xref": "x2",
          "y": 40,
          "yref": "y2"
         },
         {
          "font": {
           "color": "green",
           "size": 10
          },
          "showarrow": false,
          "text": "-1SD:1",
          "x": 1.0553458644538547,
          "xref": "x2",
          "y": 40,
          "yref": "y2"
         },
         {
          "font": {
           "color": "black",
           "size": 10
          },
          "showarrow": false,
          "text": "Mean:4",
          "x": 3.9930635838150286,
          "xref": "x3",
          "y": 44,
          "yref": "y3"
         },
         {
          "font": {
           "color": "green",
           "size": 10
          },
          "showarrow": false,
          "text": "+1SD:7",
          "x": 6.591141659931818,
          "xref": "x3",
          "y": 44,
          "yref": "y3"
         },
         {
          "font": {
           "color": "green",
           "size": 10
          },
          "showarrow": false,
          "text": "-1SD:1",
          "x": 1.3949855076982396,
          "xref": "x3",
          "y": 44,
          "yref": "y3"
         },
         {
          "font": {
           "color": "black",
           "size": 10
          },
          "showarrow": false,
          "text": "Mean:815",
          "x": 815.0057803468208,
          "xref": "x4",
          "y": 32,
          "yref": "y4"
         },
         {
          "font": {
           "color": "green",
           "size": 10
          },
          "showarrow": false,
          "text": "+1SD:1105",
          "x": 1104.7863530452132,
          "xref": "x4",
          "y": 32,
          "yref": "y4"
         },
         {
          "font": {
           "color": "green",
           "size": 10
          },
          "showarrow": false,
          "text": "-1SD:525",
          "x": 525.2252076484282,
          "xref": "x4",
          "y": 32,
          "yref": "y4"
         },
         {
          "font": {
           "color": "black",
           "size": 10
          },
          "showarrow": false,
          "text": "Mean:392",
          "x": 392.4566473988439,
          "xref": "x5",
          "y": 27,
          "yref": "y5"
         },
         {
          "font": {
           "color": "green",
           "size": 10
          },
          "showarrow": false,
          "text": "+1SD:578",
          "x": 577.9807593019348,
          "xref": "x5",
          "y": 27,
          "yref": "y5"
         },
         {
          "font": {
           "color": "green",
           "size": 10
          },
          "showarrow": false,
          "text": "-1SD:207",
          "x": 206.93253549575303,
          "xref": "x5",
          "y": 27,
          "yref": "y5"
         },
         {
          "font": {
           "color": "black",
           "size": 10
          },
          "showarrow": false,
          "text": "Mean:423",
          "x": 422.5491329479769,
          "xref": "x6",
          "y": 40,
          "yref": "y6"
         },
         {
          "font": {
           "color": "green",
           "size": 10
          },
          "showarrow": false,
          "text": "+1SD:589",
          "x": 589.4021337796414,
          "xref": "x6",
          "y": 40,
          "yref": "y6"
         },
         {
          "font": {
           "color": "green",
           "size": 10
          },
          "showarrow": false,
          "text": "-1SD:256",
          "x": 255.69613211631233,
          "xref": "x6",
          "y": 40,
          "yref": "y6"
         },
         {
          "font": {
           "size": 13
          },
          "showarrow": false,
          "text": "Total Par Value in Billion",
          "x": 0.12,
          "xanchor": "center",
          "xref": "paper",
          "y": 1.05,
          "yref": "paper"
         },
         {
          "font": {
           "size": 13
          },
          "showarrow": false,
          "text": "ATS & Interdealer Par Value",
          "x": 0.5,
          "xanchor": "center",
          "xref": "paper",
          "y": 1.05,
          "yref": "paper"
         },
         {
          "font": {
           "size": 13
          },
          "showarrow": false,
          "text": "Dealer to Customer Par Value",
          "x": 0.85,
          "xanchor": "center",
          "xref": "paper",
          "y": 1.05,
          "yref": "paper"
         },
         {
          "font": {
           "size": 13
          },
          "showarrow": false,
          "text": "Total Number of Trades",
          "x": 0.12,
          "xanchor": "center",
          "xref": "paper",
          "y": 0.48,
          "yref": "paper"
         },
         {
          "font": {
           "size": 13
          },
          "showarrow": false,
          "text": "ATS & Interdealer Trades",
          "x": 0.5,
          "xanchor": "center",
          "xref": "paper",
          "y": 0.48,
          "yref": "paper"
         },
         {
          "font": {
           "size": 13
          },
          "showarrow": false,
          "text": "Dealer to Customer Trades",
          "x": 0.85,
          "xanchor": "center",
          "xref": "paper",
          "y": 0.48,
          "yref": "paper"
         }
        ],
        "font": {
         "family": "Times New Roman"
        },
        "height": 600,
        "shapes": [
         {
          "line": {
           "color": "black",
           "dash": "dot",
           "width": 2
          },
          "type": "line",
          "x0": 5.989595375722542,
          "x1": 5.989595375722542,
          "xref": "x",
          "y0": 0,
          "y1": 42,
          "yref": "y"
         },
         {
          "line": {
           "color": "green",
           "dash": "dot",
           "width": 2
          },
          "type": "line",
          "x0": 9.404304523600718,
          "x1": 9.404304523600718,
          "xref": "x",
          "y0": 0,
          "y1": 42,
          "yref": "y"
         },
         {
          "line": {
           "color": "green",
           "dash": "dot",
           "width": 2
          },
          "type": "line",
          "x0": 2.5748862278443676,
          "x1": 2.5748862278443676,
          "xref": "x",
          "y0": 0,
          "y1": 42,
          "yref": "y"
         },
         {
          "line": {
           "color": "black",
           "dash": "dot",
           "width": 2
          },
          "type": "line",
          "x0": 2.0052023121387283,
          "x1": 2.0052023121387283,
          "xref": "x2",
          "y0": 0,
          "y1": 39,
          "yref": "y2"
         },
         {
          "line": {
           "color": "green",
           "dash": "dot",
           "width": 2
          },
          "type": "line",
          "x0": 2.955058759823602,
          "x1": 2.955058759823602,
          "xref": "x2",
          "y0": 0,
          "y1": 39,
          "yref": "y2"
         },
         {
          "line": {
           "color": "green",
           "dash": "dot",
           "width": 2
          },
          "type": "line",
          "x0": 1.0553458644538547,
          "x1": 1.0553458644538547,
          "xref": "x2",
          "y0": 0,
          "y1": 39,
          "yref": "y2"
         },
         {
          "line": {
           "color": "black",
           "dash": "dot",
           "width": 2
          },
          "type": "line",
          "x0": 3.9930635838150286,
          "x1": 3.9930635838150286,
          "xref": "x3",
          "y0": 0,
          "y1": 43,
          "yref": "y3"
         },
         {
          "line": {
           "color": "green",
           "dash": "dot",
           "width": 2
          },
          "type": "line",
          "x0": 6.591141659931818,
          "x1": 6.591141659931818,
          "xref": "x3",
          "y0": 0,
          "y1": 43,
          "yref": "y3"
         },
         {
          "line": {
           "color": "green",
           "dash": "dot",
           "width": 2
          },
          "type": "line",
          "x0": 1.3949855076982396,
          "x1": 1.3949855076982396,
          "xref": "x3",
          "y0": 0,
          "y1": 43,
          "yref": "y3"
         },
         {
          "line": {
           "color": "black",
           "dash": "dot",
           "width": 2
          },
          "type": "line",
          "x0": 815.0057803468208,
          "x1": 815.0057803468208,
          "xref": "x4",
          "y0": 0,
          "y1": 31,
          "yref": "y4"
         },
         {
          "line": {
           "color": "green",
           "dash": "dot",
           "width": 2
          },
          "type": "line",
          "x0": 1104.7863530452132,
          "x1": 1104.7863530452132,
          "xref": "x4",
          "y0": 0,
          "y1": 31,
          "yref": "y4"
         },
         {
          "line": {
           "color": "green",
           "dash": "dot",
           "width": 2
          },
          "type": "line",
          "x0": 525.2252076484282,
          "x1": 525.2252076484282,
          "xref": "x4",
          "y0": 0,
          "y1": 31,
          "yref": "y4"
         },
         {
          "line": {
           "color": "black",
           "dash": "dot",
           "width": 2
          },
          "type": "line",
          "x0": 392.4566473988439,
          "x1": 392.4566473988439,
          "xref": "x5",
          "y0": 0,
          "y1": 26,
          "yref": "y5"
         },
         {
          "line": {
           "color": "green",
           "dash": "dot",
           "width": 2
          },
          "type": "line",
          "x0": 577.9807593019348,
          "x1": 577.9807593019348,
          "xref": "x5",
          "y0": 0,
          "y1": 26,
          "yref": "y5"
         },
         {
          "line": {
           "color": "green",
           "dash": "dot",
           "width": 2
          },
          "type": "line",
          "x0": 206.93253549575303,
          "x1": 206.93253549575303,
          "xref": "x5",
          "y0": 0,
          "y1": 26,
          "yref": "y5"
         },
         {
          "line": {
           "color": "black",
           "dash": "dot",
           "width": 2
          },
          "type": "line",
          "x0": 422.5491329479769,
          "x1": 422.5491329479769,
          "xref": "x6",
          "y0": 0,
          "y1": 39,
          "yref": "y6"
         },
         {
          "line": {
           "color": "green",
           "dash": "dot",
           "width": 2
          },
          "type": "line",
          "x0": 589.4021337796414,
          "x1": 589.4021337796414,
          "xref": "x6",
          "y0": 0,
          "y1": 39,
          "yref": "y6"
         },
         {
          "line": {
           "color": "green",
           "dash": "dot",
           "width": 2
          },
          "type": "line",
          "x0": 255.69613211631233,
          "x1": 255.69613211631233,
          "xref": "x6",
          "y0": 0,
          "y1": 39,
          "yref": "y6"
         }
        ],
        "showlegend": false,
        "template": {
         "data": {
          "bar": [
           {
            "error_x": {
             "color": "#2a3f5f"
            },
            "error_y": {
             "color": "#2a3f5f"
            },
            "marker": {
             "line": {
              "color": "#E5ECF6",
              "width": 0.5
             },
             "pattern": {
              "fillmode": "overlay",
              "size": 10,
              "solidity": 0.2
             }
            },
            "type": "bar"
           }
          ],
          "barpolar": [
           {
            "marker": {
             "line": {
              "color": "#E5ECF6",
              "width": 0.5
             },
             "pattern": {
              "fillmode": "overlay",
              "size": 10,
              "solidity": 0.2
             }
            },
            "type": "barpolar"
           }
          ],
          "carpet": [
           {
            "aaxis": {
             "endlinecolor": "#2a3f5f",
             "gridcolor": "white",
             "linecolor": "white",
             "minorgridcolor": "white",
             "startlinecolor": "#2a3f5f"
            },
            "baxis": {
             "endlinecolor": "#2a3f5f",
             "gridcolor": "white",
             "linecolor": "white",
             "minorgridcolor": "white",
             "startlinecolor": "#2a3f5f"
            },
            "type": "carpet"
           }
          ],
          "choropleth": [
           {
            "colorbar": {
             "outlinewidth": 0,
             "ticks": ""
            },
            "type": "choropleth"
           }
          ],
          "contour": [
           {
            "colorbar": {
             "outlinewidth": 0,
             "ticks": ""
            },
            "colorscale": [
             [
              0,
              "#0d0887"
             ],
             [
              0.1111111111111111,
              "#46039f"
             ],
             [
              0.2222222222222222,
              "#7201a8"
             ],
             [
              0.3333333333333333,
              "#9c179e"
             ],
             [
              0.4444444444444444,
              "#bd3786"
             ],
             [
              0.5555555555555556,
              "#d8576b"
             ],
             [
              0.6666666666666666,
              "#ed7953"
             ],
             [
              0.7777777777777778,
              "#fb9f3a"
             ],
             [
              0.8888888888888888,
              "#fdca26"
             ],
             [
              1,
              "#f0f921"
             ]
            ],
            "type": "contour"
           }
          ],
          "contourcarpet": [
           {
            "colorbar": {
             "outlinewidth": 0,
             "ticks": ""
            },
            "type": "contourcarpet"
           }
          ],
          "heatmap": [
           {
            "colorbar": {
             "outlinewidth": 0,
             "ticks": ""
            },
            "colorscale": [
             [
              0,
              "#0d0887"
             ],
             [
              0.1111111111111111,
              "#46039f"
             ],
             [
              0.2222222222222222,
              "#7201a8"
             ],
             [
              0.3333333333333333,
              "#9c179e"
             ],
             [
              0.4444444444444444,
              "#bd3786"
             ],
             [
              0.5555555555555556,
              "#d8576b"
             ],
             [
              0.6666666666666666,
              "#ed7953"
             ],
             [
              0.7777777777777778,
              "#fb9f3a"
             ],
             [
              0.8888888888888888,
              "#fdca26"
             ],
             [
              1,
              "#f0f921"
             ]
            ],
            "type": "heatmap"
           }
          ],
          "heatmapgl": [
           {
            "colorbar": {
             "outlinewidth": 0,
             "ticks": ""
            },
            "colorscale": [
             [
              0,
              "#0d0887"
             ],
             [
              0.1111111111111111,
              "#46039f"
             ],
             [
              0.2222222222222222,
              "#7201a8"
             ],
             [
              0.3333333333333333,
              "#9c179e"
             ],
             [
              0.4444444444444444,
              "#bd3786"
             ],
             [
              0.5555555555555556,
              "#d8576b"
             ],
             [
              0.6666666666666666,
              "#ed7953"
             ],
             [
              0.7777777777777778,
              "#fb9f3a"
             ],
             [
              0.8888888888888888,
              "#fdca26"
             ],
             [
              1,
              "#f0f921"
             ]
            ],
            "type": "heatmapgl"
           }
          ],
          "histogram": [
           {
            "marker": {
             "pattern": {
              "fillmode": "overlay",
              "size": 10,
              "solidity": 0.2
             }
            },
            "type": "histogram"
           }
          ],
          "histogram2d": [
           {
            "colorbar": {
             "outlinewidth": 0,
             "ticks": ""
            },
            "colorscale": [
             [
              0,
              "#0d0887"
             ],
             [
              0.1111111111111111,
              "#46039f"
             ],
             [
              0.2222222222222222,
              "#7201a8"
             ],
             [
              0.3333333333333333,
              "#9c179e"
             ],
             [
              0.4444444444444444,
              "#bd3786"
             ],
             [
              0.5555555555555556,
              "#d8576b"
             ],
             [
              0.6666666666666666,
              "#ed7953"
             ],
             [
              0.7777777777777778,
              "#fb9f3a"
             ],
             [
              0.8888888888888888,
              "#fdca26"
             ],
             [
              1,
              "#f0f921"
             ]
            ],
            "type": "histogram2d"
           }
          ],
          "histogram2dcontour": [
           {
            "colorbar": {
             "outlinewidth": 0,
             "ticks": ""
            },
            "colorscale": [
             [
              0,
              "#0d0887"
             ],
             [
              0.1111111111111111,
              "#46039f"
             ],
             [
              0.2222222222222222,
              "#7201a8"
             ],
             [
              0.3333333333333333,
              "#9c179e"
             ],
             [
              0.4444444444444444,
              "#bd3786"
             ],
             [
              0.5555555555555556,
              "#d8576b"
             ],
             [
              0.6666666666666666,
              "#ed7953"
             ],
             [
              0.7777777777777778,
              "#fb9f3a"
             ],
             [
              0.8888888888888888,
              "#fdca26"
             ],
             [
              1,
              "#f0f921"
             ]
            ],
            "type": "histogram2dcontour"
           }
          ],
          "mesh3d": [
           {
            "colorbar": {
             "outlinewidth": 0,
             "ticks": ""
            },
            "type": "mesh3d"
           }
          ],
          "parcoords": [
           {
            "line": {
             "colorbar": {
              "outlinewidth": 0,
              "ticks": ""
             }
            },
            "type": "parcoords"
           }
          ],
          "pie": [
           {
            "automargin": true,
            "type": "pie"
           }
          ],
          "scatter": [
           {
            "fillpattern": {
             "fillmode": "overlay",
             "size": 10,
             "solidity": 0.2
            },
            "type": "scatter"
           }
          ],
          "scatter3d": [
           {
            "line": {
             "colorbar": {
              "outlinewidth": 0,
              "ticks": ""
             }
            },
            "marker": {
             "colorbar": {
              "outlinewidth": 0,
              "ticks": ""
             }
            },
            "type": "scatter3d"
           }
          ],
          "scattercarpet": [
           {
            "marker": {
             "colorbar": {
              "outlinewidth": 0,
              "ticks": ""
             }
            },
            "type": "scattercarpet"
           }
          ],
          "scattergeo": [
           {
            "marker": {
             "colorbar": {
              "outlinewidth": 0,
              "ticks": ""
             }
            },
            "type": "scattergeo"
           }
          ],
          "scattergl": [
           {
            "marker": {
             "colorbar": {
              "outlinewidth": 0,
              "ticks": ""
             }
            },
            "type": "scattergl"
           }
          ],
          "scattermapbox": [
           {
            "marker": {
             "colorbar": {
              "outlinewidth": 0,
              "ticks": ""
             }
            },
            "type": "scattermapbox"
           }
          ],
          "scatterpolar": [
           {
            "marker": {
             "colorbar": {
              "outlinewidth": 0,
              "ticks": ""
             }
            },
            "type": "scatterpolar"
           }
          ],
          "scatterpolargl": [
           {
            "marker": {
             "colorbar": {
              "outlinewidth": 0,
              "ticks": ""
             }
            },
            "type": "scatterpolargl"
           }
          ],
          "scatterternary": [
           {
            "marker": {
             "colorbar": {
              "outlinewidth": 0,
              "ticks": ""
             }
            },
            "type": "scatterternary"
           }
          ],
          "surface": [
           {
            "colorbar": {
             "outlinewidth": 0,
             "ticks": ""
            },
            "colorscale": [
             [
              0,
              "#0d0887"
             ],
             [
              0.1111111111111111,
              "#46039f"
             ],
             [
              0.2222222222222222,
              "#7201a8"
             ],
             [
              0.3333333333333333,
              "#9c179e"
             ],
             [
              0.4444444444444444,
              "#bd3786"
             ],
             [
              0.5555555555555556,
              "#d8576b"
             ],
             [
              0.6666666666666666,
              "#ed7953"
             ],
             [
              0.7777777777777778,
              "#fb9f3a"
             ],
             [
              0.8888888888888888,
              "#fdca26"
             ],
             [
              1,
              "#f0f921"
             ]
            ],
            "type": "surface"
           }
          ],
          "table": [
           {
            "cells": {
             "fill": {
              "color": "#EBF0F8"
             },
             "line": {
              "color": "white"
             }
            },
            "header": {
             "fill": {
              "color": "#C8D4E3"
             },
             "line": {
              "color": "white"
             }
            },
            "type": "table"
           }
          ]
         },
         "layout": {
          "annotationdefaults": {
           "arrowcolor": "#2a3f5f",
           "arrowhead": 0,
           "arrowwidth": 1
          },
          "autotypenumbers": "strict",
          "coloraxis": {
           "colorbar": {
            "outlinewidth": 0,
            "ticks": ""
           }
          },
          "colorscale": {
           "diverging": [
            [
             0,
             "#8e0152"
            ],
            [
             0.1,
             "#c51b7d"
            ],
            [
             0.2,
             "#de77ae"
            ],
            [
             0.3,
             "#f1b6da"
            ],
            [
             0.4,
             "#fde0ef"
            ],
            [
             0.5,
             "#f7f7f7"
            ],
            [
             0.6,
             "#e6f5d0"
            ],
            [
             0.7,
             "#b8e186"
            ],
            [
             0.8,
             "#7fbc41"
            ],
            [
             0.9,
             "#4d9221"
            ],
            [
             1,
             "#276419"
            ]
           ],
           "sequential": [
            [
             0,
             "#0d0887"
            ],
            [
             0.1111111111111111,
             "#46039f"
            ],
            [
             0.2222222222222222,
             "#7201a8"
            ],
            [
             0.3333333333333333,
             "#9c179e"
            ],
            [
             0.4444444444444444,
             "#bd3786"
            ],
            [
             0.5555555555555556,
             "#d8576b"
            ],
            [
             0.6666666666666666,
             "#ed7953"
            ],
            [
             0.7777777777777778,
             "#fb9f3a"
            ],
            [
             0.8888888888888888,
             "#fdca26"
            ],
            [
             1,
             "#f0f921"
            ]
           ],
           "sequentialminus": [
            [
             0,
             "#0d0887"
            ],
            [
             0.1111111111111111,
             "#46039f"
            ],
            [
             0.2222222222222222,
             "#7201a8"
            ],
            [
             0.3333333333333333,
             "#9c179e"
            ],
            [
             0.4444444444444444,
             "#bd3786"
            ],
            [
             0.5555555555555556,
             "#d8576b"
            ],
            [
             0.6666666666666666,
             "#ed7953"
            ],
            [
             0.7777777777777778,
             "#fb9f3a"
            ],
            [
             0.8888888888888888,
             "#fdca26"
            ],
            [
             1,
             "#f0f921"
            ]
           ]
          },
          "colorway": [
           "#636efa",
           "#EF553B",
           "#00cc96",
           "#ab63fa",
           "#FFA15A",
           "#19d3f3",
           "#FF6692",
           "#B6E880",
           "#FF97FF",
           "#FECB52"
          ],
          "font": {
           "color": "#2a3f5f"
          },
          "geo": {
           "bgcolor": "white",
           "lakecolor": "white",
           "landcolor": "#E5ECF6",
           "showlakes": true,
           "showland": true,
           "subunitcolor": "white"
          },
          "hoverlabel": {
           "align": "left"
          },
          "hovermode": "closest",
          "mapbox": {
           "style": "light"
          },
          "paper_bgcolor": "white",
          "plot_bgcolor": "#E5ECF6",
          "polar": {
           "angularaxis": {
            "gridcolor": "white",
            "linecolor": "white",
            "ticks": ""
           },
           "bgcolor": "#E5ECF6",
           "radialaxis": {
            "gridcolor": "white",
            "linecolor": "white",
            "ticks": ""
           }
          },
          "scene": {
           "xaxis": {
            "backgroundcolor": "#E5ECF6",
            "gridcolor": "white",
            "gridwidth": 2,
            "linecolor": "white",
            "showbackground": true,
            "ticks": "",
            "zerolinecolor": "white"
           },
           "yaxis": {
            "backgroundcolor": "#E5ECF6",
            "gridcolor": "white",
            "gridwidth": 2,
            "linecolor": "white",
            "showbackground": true,
            "ticks": "",
            "zerolinecolor": "white"
           },
           "zaxis": {
            "backgroundcolor": "#E5ECF6",
            "gridcolor": "white",
            "gridwidth": 2,
            "linecolor": "white",
            "showbackground": true,
            "ticks": "",
            "zerolinecolor": "white"
           }
          },
          "shapedefaults": {
           "line": {
            "color": "#2a3f5f"
           }
          },
          "ternary": {
           "aaxis": {
            "gridcolor": "white",
            "linecolor": "white",
            "ticks": ""
           },
           "baxis": {
            "gridcolor": "white",
            "linecolor": "white",
            "ticks": ""
           },
           "bgcolor": "#E5ECF6",
           "caxis": {
            "gridcolor": "white",
            "linecolor": "white",
            "ticks": ""
           }
          },
          "title": {
           "x": 0.05
          },
          "xaxis": {
           "automargin": true,
           "gridcolor": "white",
           "linecolor": "white",
           "ticks": "",
           "title": {
            "standoff": 15
           },
           "zerolinecolor": "white",
           "zerolinewidth": 2
          },
          "yaxis": {
           "automargin": true,
           "gridcolor": "white",
           "linecolor": "white",
           "ticks": "",
           "title": {
            "standoff": 15
           },
           "zerolinecolor": "white",
           "zerolinewidth": 2
          }
         }
        },
        "title": {
         "text": "> 5 and <= 10 years TRACE 180-day Dist, As of: 2024-09-18"
        },
        "width": 1400,
        "xaxis": {
         "anchor": "y",
         "domain": [
          0,
          0.29333333333333333
         ]
        },
        "xaxis2": {
         "anchor": "y2",
         "domain": [
          0.35333333333333333,
          0.6466666666666667
         ]
        },
        "xaxis3": {
         "anchor": "y3",
         "domain": [
          0.7066666666666667,
          1
         ]
        },
        "xaxis4": {
         "anchor": "y4",
         "domain": [
          0,
          0.29333333333333333
         ]
        },
        "xaxis5": {
         "anchor": "y5",
         "domain": [
          0.35333333333333333,
          0.6466666666666667
         ]
        },
        "xaxis6": {
         "anchor": "y6",
         "domain": [
          0.7066666666666667,
          1
         ]
        },
        "yaxis": {
         "anchor": "x",
         "domain": [
          0.545,
          1
         ]
        },
        "yaxis2": {
         "anchor": "x2",
         "domain": [
          0.545,
          1
         ]
        },
        "yaxis3": {
         "anchor": "x3",
         "domain": [
          0.545,
          1
         ]
        },
        "yaxis4": {
         "anchor": "x4",
         "domain": [
          0,
          0.455
         ]
        },
        "yaxis5": {
         "anchor": "x5",
         "domain": [
          0,
          0.455
         ]
        },
        "yaxis6": {
         "anchor": "x6",
         "domain": [
          0,
          0.455
         ]
        }
       }
      }
     },
     "metadata": {},
     "output_type": "display_data"
    },
    {
     "name": "stdout",
     "output_type": "stream",
     "text": [
      "Saved plot as tenor_5and10yearsOntherun_distribution_180_days.png\n"
     ]
    },
    {
     "data": {
      "application/vnd.plotly.v1+json": {
       "config": {
        "plotlyServerURL": "https://plot.ly"
       },
       "data": [
        {
         "marker": {
          "color": [
           "blue",
           "blue",
           "blue",
           "blue",
           "blue",
           "blue",
           "red",
           "blue",
           "blue",
           "blue",
           "blue",
           "blue",
           "blue",
           "blue",
           "blue",
           "blue",
           "blue",
           "blue",
           "blue",
           "blue",
           "blue",
           "blue",
           "blue",
           "blue",
           "blue",
           "blue",
           "blue",
           "blue",
           "blue",
           "blue",
           "blue",
           "blue",
           "blue",
           "blue",
           "blue",
           "blue",
           "blue",
           "blue",
           "blue",
           "blue",
           "blue",
           "blue",
           "blue",
           "blue",
           "blue",
           "blue",
           "blue",
           "blue",
           "blue",
           "blue"
          ]
         },
         "name": "Par Value Histogram",
         "type": "bar",
         "x": [
          1.3900000000000001,
          1.77,
          2.15,
          2.53,
          2.9099999999999997,
          3.29,
          3.6700000000000004,
          4.050000000000001,
          4.43,
          4.8100000000000005,
          5.1899999999999995,
          5.57,
          5.950000000000001,
          6.33,
          6.710000000000001,
          7.09,
          7.470000000000001,
          7.85,
          8.23,
          8.61,
          8.989999999999998,
          9.37,
          9.75,
          10.129999999999999,
          10.51,
          10.89,
          11.27,
          11.649999999999999,
          12.03,
          12.41,
          12.79,
          13.169999999999998,
          13.55,
          13.93,
          14.309999999999999,
          14.69,
          15.07,
          15.45,
          15.829999999999998,
          16.21,
          16.59,
          16.97,
          17.35,
          17.729999999999997,
          18.11,
          18.490000000000002,
          18.869999999999997,
          19.25,
          19.630000000000003,
          20.009999999999998
         ],
         "xaxis": "x",
         "y": [
          1,
          3,
          13,
          15,
          27,
          23,
          19,
          15,
          10,
          7,
          7,
          8,
          7,
          4,
          1,
          6,
          1,
          1,
          0,
          0,
          1,
          1,
          0,
          0,
          0,
          1,
          0,
          0,
          0,
          0,
          0,
          0,
          0,
          0,
          0,
          0,
          0,
          0,
          0,
          0,
          0,
          0,
          0,
          0,
          0,
          0,
          0,
          0,
          1,
          1
         ],
         "yaxis": "y"
        },
        {
         "marker": {
          "color": [
           "blue",
           "blue",
           "blue",
           "blue",
           "blue",
           "blue",
           "blue",
           "red",
           "blue",
           "blue",
           "blue",
           "blue",
           "blue",
           "blue",
           "blue",
           "blue",
           "blue",
           "blue",
           "blue",
           "blue",
           "blue",
           "blue",
           "blue",
           "blue",
           "blue",
           "blue",
           "blue",
           "blue",
           "blue",
           "blue",
           "blue",
           "blue",
           "blue",
           "blue",
           "blue",
           "blue",
           "blue",
           "blue",
           "blue",
           "blue",
           "blue",
           "blue",
           "blue",
           "blue",
           "blue",
           "blue",
           "blue",
           "blue",
           "blue",
           "blue"
          ]
         },
         "name": "Par Value Histogram",
         "type": "bar",
         "x": [
          0.659,
          0.7769999999999999,
          0.895,
          1.013,
          1.131,
          1.249,
          1.367,
          1.485,
          1.603,
          1.721,
          1.8390000000000002,
          1.957,
          2.075,
          2.193,
          2.311,
          2.4290000000000003,
          2.547,
          2.665,
          2.7830000000000004,
          2.9010000000000002,
          3.019,
          3.1370000000000005,
          3.255,
          3.373,
          3.4910000000000005,
          3.609,
          3.7270000000000003,
          3.8450000000000006,
          3.963,
          4.0809999999999995,
          4.199,
          4.317,
          4.4350000000000005,
          4.553,
          4.670999999999999,
          4.789,
          4.907,
          5.025,
          5.143,
          5.261,
          5.379,
          5.497,
          5.615,
          5.7330000000000005,
          5.851,
          5.968999999999999,
          6.087,
          6.205,
          6.323,
          6.441
         ],
         "xaxis": "x2",
         "y": [
          5,
          4,
          7,
          10,
          13,
          38,
          13,
          9,
          5,
          7,
          13,
          13,
          6,
          5,
          3,
          4,
          5,
          3,
          1,
          1,
          1,
          1,
          1,
          0,
          2,
          0,
          1,
          0,
          0,
          0,
          0,
          0,
          0,
          0,
          0,
          0,
          0,
          1,
          0,
          0,
          0,
          0,
          0,
          0,
          0,
          0,
          0,
          0,
          0,
          1
         ],
         "yaxis": "y2"
        },
        {
         "marker": {
          "color": [
           "blue",
           "blue",
           "blue",
           "blue",
           "blue",
           "red",
           "blue",
           "blue",
           "blue",
           "blue",
           "blue",
           "blue",
           "blue",
           "blue",
           "blue",
           "blue",
           "blue",
           "blue",
           "blue",
           "blue",
           "blue",
           "blue",
           "blue",
           "blue",
           "blue",
           "blue",
           "blue",
           "blue",
           "blue",
           "blue",
           "blue",
           "blue",
           "blue",
           "blue",
           "blue",
           "blue",
           "blue",
           "blue",
           "blue",
           "blue",
           "blue",
           "blue",
           "blue",
           "blue",
           "blue",
           "blue",
           "blue",
           "blue",
           "blue",
           "blue"
          ]
         },
         "name": "Par Value Histogram",
         "type": "bar",
         "x": [
          0.746,
          1.0379999999999998,
          1.33,
          1.6219999999999999,
          1.914,
          2.206,
          2.498,
          2.79,
          3.082,
          3.3739999999999997,
          3.666,
          3.9579999999999993,
          4.25,
          4.542,
          4.834,
          5.1259999999999994,
          5.417999999999999,
          5.709999999999999,
          6.001999999999999,
          6.294,
          6.585999999999999,
          6.877999999999999,
          7.169999999999999,
          7.461999999999999,
          7.754,
          8.046,
          8.338000000000001,
          8.629999999999999,
          8.922,
          9.213999999999999,
          9.506,
          9.797999999999998,
          10.09,
          10.381999999999998,
          10.674,
          10.965999999999998,
          11.258,
          11.549999999999999,
          11.841999999999999,
          12.134,
          12.425999999999998,
          12.718,
          13.009999999999998,
          13.302,
          13.593999999999998,
          13.886,
          14.177999999999997,
          14.469999999999999,
          14.761999999999999,
          15.053999999999998
         ],
         "xaxis": "x3",
         "y": [
          1,
          6,
          21,
          32,
          26,
          21,
          11,
          7,
          13,
          10,
          9,
          1,
          4,
          3,
          1,
          2,
          0,
          1,
          1,
          0,
          0,
          0,
          1,
          0,
          0,
          0,
          0,
          0,
          0,
          0,
          0,
          0,
          0,
          0,
          0,
          0,
          0,
          0,
          0,
          0,
          0,
          0,
          1,
          0,
          0,
          0,
          0,
          0,
          0,
          1
         ],
         "yaxis": "y3"
        },
        {
         "marker": {
          "color": [
           "blue",
           "blue",
           "blue",
           "blue",
           "blue",
           "blue",
           "blue",
           "blue",
           "blue",
           "blue",
           "blue",
           "blue",
           "red",
           "blue",
           "blue",
           "blue",
           "blue",
           "blue",
           "blue",
           "blue",
           "blue",
           "blue",
           "blue",
           "blue",
           "blue",
           "blue",
           "blue",
           "blue",
           "blue",
           "blue",
           "blue",
           "blue",
           "blue",
           "blue",
           "blue",
           "blue",
           "blue",
           "blue",
           "blue",
           "blue",
           "blue",
           "blue",
           "blue",
           "blue",
           "blue",
           "blue",
           "blue",
           "blue",
           "blue",
           "blue"
          ]
         },
         "name": "Trades Histogram",
         "type": "bar",
         "x": [
          140.89,
          154.67000000000002,
          168.45,
          182.23000000000002,
          196.01,
          209.79,
          223.57,
          237.35,
          251.13,
          264.90999999999997,
          278.68999999999994,
          292.47,
          306.25,
          320.03,
          333.80999999999995,
          347.59000000000003,
          361.37,
          375.15,
          388.92999999999995,
          402.71,
          416.49,
          430.27,
          444.04999999999995,
          457.83,
          471.61,
          485.39,
          499.16999999999996,
          512.9499999999999,
          526.73,
          540.51,
          554.29,
          568.07,
          581.85,
          595.63,
          609.41,
          623.1899999999999,
          636.9699999999999,
          650.75,
          664.53,
          678.31,
          692.0899999999999,
          705.87,
          719.65,
          733.43,
          747.21,
          760.99,
          774.77,
          788.55,
          802.3299999999999,
          816.1099999999999
         ],
         "xaxis": "x4",
         "y": [
          5,
          1,
          2,
          4,
          7,
          12,
          7,
          12,
          15,
          17,
          13,
          11,
          13,
          6,
          11,
          6,
          4,
          4,
          3,
          2,
          6,
          2,
          0,
          2,
          0,
          1,
          1,
          1,
          0,
          0,
          2,
          0,
          1,
          0,
          0,
          0,
          0,
          0,
          0,
          0,
          1,
          0,
          0,
          0,
          0,
          0,
          0,
          0,
          0,
          1
         ],
         "yaxis": "y4"
        },
        {
         "marker": {
          "color": [
           "blue",
           "blue",
           "blue",
           "blue",
           "blue",
           "blue",
           "blue",
           "blue",
           "blue",
           "blue",
           "blue",
           "blue",
           "blue",
           "blue",
           "blue",
           "red",
           "blue",
           "blue",
           "blue",
           "blue",
           "blue",
           "blue",
           "blue",
           "blue",
           "blue",
           "blue",
           "blue",
           "blue",
           "blue",
           "blue",
           "blue",
           "blue",
           "blue",
           "blue",
           "blue",
           "blue",
           "blue",
           "blue",
           "blue",
           "blue",
           "blue",
           "blue",
           "blue",
           "blue",
           "blue",
           "blue",
           "blue",
           "blue",
           "blue",
           "blue"
          ]
         },
         "name": "Trades Histogram",
         "type": "bar",
         "x": [
          75.49000000000001,
          82.47,
          89.45,
          96.43,
          103.41,
          110.39,
          117.37,
          124.35,
          131.32999999999998,
          138.31,
          145.29000000000002,
          152.26999999999998,
          159.25,
          166.23000000000002,
          173.20999999999998,
          180.19,
          187.17000000000002,
          194.15000000000003,
          201.13,
          208.11,
          215.09000000000003,
          222.07,
          229.05,
          236.03000000000003,
          243.01,
          249.99,
          256.97,
          263.95000000000005,
          270.93,
          277.90999999999997,
          284.89,
          291.87,
          298.85,
          305.83000000000004,
          312.81000000000006,
          319.79,
          326.77,
          333.75,
          340.73,
          347.71000000000004,
          354.69000000000005,
          361.67,
          368.65000000000003,
          375.63,
          382.61,
          389.59000000000003,
          396.57000000000005,
          403.55,
          410.53000000000003,
          417.51
         ],
         "xaxis": "x5",
         "y": [
          4,
          1,
          0,
          4,
          8,
          6,
          10,
          12,
          8,
          11,
          9,
          12,
          11,
          7,
          10,
          10,
          11,
          8,
          6,
          2,
          4,
          1,
          2,
          3,
          1,
          0,
          2,
          2,
          1,
          0,
          3,
          3,
          0,
          0,
          0,
          0,
          0,
          0,
          0,
          0,
          0,
          0,
          0,
          0,
          0,
          0,
          0,
          0,
          0,
          1
         ],
         "yaxis": "y5"
        },
        {
         "marker": {
          "color": [
           "blue",
           "blue",
           "blue",
           "blue",
           "blue",
           "blue",
           "blue",
           "blue",
           "blue",
           "blue",
           "red",
           "blue",
           "blue",
           "blue",
           "blue",
           "blue",
           "blue",
           "blue",
           "blue",
           "blue",
           "blue",
           "blue",
           "blue",
           "blue",
           "blue",
           "blue",
           "blue",
           "blue",
           "blue",
           "blue",
           "blue",
           "blue",
           "blue",
           "blue",
           "blue",
           "blue",
           "blue",
           "blue",
           "blue",
           "blue",
           "blue",
           "blue",
           "blue",
           "blue",
           "blue",
           "blue",
           "blue",
           "blue",
           "blue",
           "blue"
          ]
         },
         "name": "Trades Histogram",
         "type": "bar",
         "x": [
          56.49,
          63.470000000000006,
          70.45,
          77.43,
          84.41,
          91.39,
          98.37,
          105.35,
          112.33000000000001,
          119.31,
          126.29,
          133.26999999999998,
          140.25,
          147.23000000000002,
          154.20999999999998,
          161.19,
          168.17000000000002,
          175.15000000000003,
          182.13,
          189.11,
          196.09000000000003,
          203.07,
          210.05,
          217.03000000000003,
          224.01,
          230.99,
          237.97000000000003,
          244.95,
          251.93,
          258.90999999999997,
          265.89,
          272.87,
          279.85,
          286.83000000000004,
          293.81000000000006,
          300.79,
          307.77,
          314.75,
          321.73,
          328.71000000000004,
          335.69000000000005,
          342.67,
          349.65000000000003,
          356.63,
          363.61,
          370.59000000000003,
          377.57000000000005,
          384.55,
          391.53000000000003,
          398.51
         ],
         "xaxis": "x6",
         "y": [
          1,
          5,
          5,
          3,
          10,
          9,
          17,
          12,
          13,
          17,
          13,
          8,
          3,
          9,
          12,
          8,
          6,
          2,
          1,
          5,
          1,
          3,
          0,
          2,
          1,
          0,
          2,
          0,
          0,
          0,
          0,
          1,
          0,
          1,
          1,
          0,
          0,
          0,
          0,
          0,
          0,
          0,
          0,
          0,
          0,
          0,
          0,
          0,
          0,
          2
         ],
         "yaxis": "y6"
        }
       ],
       "layout": {
        "annotations": [
         {
          "font": {
           "color": "black",
           "size": 10
          },
          "showarrow": false,
          "text": "Mean:4",
          "x": 4.13757225433526,
          "xref": "x",
          "y": 38,
          "yref": "y"
         },
         {
          "font": {
           "color": "green",
           "size": 10
          },
          "showarrow": false,
          "text": "+1SD:6",
          "x": 6.433290536213594,
          "xref": "x",
          "y": 38,
          "yref": "y"
         },
         {
          "font": {
           "color": "green",
           "size": 10
          },
          "showarrow": false,
          "text": "-1SD:2",
          "x": 1.841853972456926,
          "xref": "x",
          "y": 38,
          "yref": "y"
         },
         {
          "font": {
           "color": "black",
           "size": 10
          },
          "showarrow": false,
          "text": "Mean:2",
          "x": 1.6358381502890174,
          "xref": "x2",
          "y": 49,
          "yref": "y2"
         },
         {
          "font": {
           "color": "green",
           "size": 10
          },
          "showarrow": false,
          "text": "+1SD:2",
          "x": 2.385550247123483,
          "xref": "x2",
          "y": 49,
          "yref": "y2"
         },
         {
          "font": {
           "color": "green",
           "size": 10
          },
          "showarrow": false,
          "text": "-1SD:1",
          "x": 0.8861260534545518,
          "xref": "x2",
          "y": 49,
          "yref": "y2"
         },
         {
          "font": {
           "color": "black",
           "size": 10
          },
          "showarrow": false,
          "text": "Mean:3",
          "x": 2.5017341040462426,
          "xref": "x3",
          "y": 43,
          "yref": "y3"
         },
         {
          "font": {
           "color": "green",
           "size": 10
          },
          "showarrow": false,
          "text": "+1SD:4",
          "x": 4.156661026919512,
          "xref": "x3",
          "y": 43,
          "yref": "y3"
         },
         {
          "font": {
           "color": "green",
           "size": 10
          },
          "showarrow": false,
          "text": "-1SD:1",
          "x": 0.8468071811729736,
          "xref": "x3",
          "y": 43,
          "yref": "y3"
         },
         {
          "font": {
           "color": "black",
           "size": 10
          },
          "showarrow": false,
          "text": "Mean:295",
          "x": 294.5491329479769,
          "xref": "x4",
          "y": 28,
          "yref": "y4"
         },
         {
          "font": {
           "color": "green",
           "size": 10
          },
          "showarrow": false,
          "text": "+1SD:390",
          "x": 390.1173101184531,
          "xref": "x4",
          "y": 28,
          "yref": "y4"
         },
         {
          "font": {
           "color": "green",
           "size": 10
          },
          "showarrow": false,
          "text": "-1SD:199",
          "x": 198.9809557775007,
          "xref": "x4",
          "y": 28,
          "yref": "y4"
         },
         {
          "font": {
           "color": "black",
           "size": 10
          },
          "showarrow": false,
          "text": "Mean:163",
          "x": 163.29479768786126,
          "xref": "x5",
          "y": 23,
          "yref": "y5"
         },
         {
          "font": {
           "color": "green",
           "size": 10
          },
          "showarrow": false,
          "text": "+1SD:214",
          "x": 213.95003983268748,
          "xref": "x5",
          "y": 23,
          "yref": "y5"
         },
         {
          "font": {
           "color": "green",
           "size": 10
          },
          "showarrow": false,
          "text": "-1SD:113",
          "x": 112.63955554303504,
          "xref": "x5",
          "y": 23,
          "yref": "y5"
         },
         {
          "font": {
           "color": "black",
           "size": 10
          },
          "showarrow": false,
          "text": "Mean:131",
          "x": 131.2543352601156,
          "xref": "x6",
          "y": 28,
          "yref": "y6"
         },
         {
          "font": {
           "color": "green",
           "size": 10
          },
          "showarrow": false,
          "text": "+1SD:183",
          "x": 182.74241173203066,
          "xref": "x6",
          "y": 28,
          "yref": "y6"
         },
         {
          "font": {
           "color": "green",
           "size": 10
          },
          "showarrow": false,
          "text": "-1SD:80",
          "x": 79.76625878820053,
          "xref": "x6",
          "y": 28,
          "yref": "y6"
         },
         {
          "font": {
           "size": 13
          },
          "showarrow": false,
          "text": "Total Par Value in Billion",
          "x": 0.12,
          "xanchor": "center",
          "xref": "paper",
          "y": 1.05,
          "yref": "paper"
         },
         {
          "font": {
           "size": 13
          },
          "showarrow": false,
          "text": "ATS & Interdealer Par Value",
          "x": 0.5,
          "xanchor": "center",
          "xref": "paper",
          "y": 1.05,
          "yref": "paper"
         },
         {
          "font": {
           "size": 13
          },
          "showarrow": false,
          "text": "Dealer to Customer Par Value",
          "x": 0.85,
          "xanchor": "center",
          "xref": "paper",
          "y": 1.05,
          "yref": "paper"
         },
         {
          "font": {
           "size": 13
          },
          "showarrow": false,
          "text": "Total Number of Trades",
          "x": 0.12,
          "xanchor": "center",
          "xref": "paper",
          "y": 0.48,
          "yref": "paper"
         },
         {
          "font": {
           "size": 13
          },
          "showarrow": false,
          "text": "ATS & Interdealer Trades",
          "x": 0.5,
          "xanchor": "center",
          "xref": "paper",
          "y": 0.48,
          "yref": "paper"
         },
         {
          "font": {
           "size": 13
          },
          "showarrow": false,
          "text": "Dealer to Customer Trades",
          "x": 0.85,
          "xanchor": "center",
          "xref": "paper",
          "y": 0.48,
          "yref": "paper"
         }
        ],
        "font": {
         "family": "Times New Roman"
        },
        "height": 600,
        "shapes": [
         {
          "line": {
           "color": "black",
           "dash": "dot",
           "width": 2
          },
          "type": "line",
          "x0": 4.13757225433526,
          "x1": 4.13757225433526,
          "xref": "x",
          "y0": 0,
          "y1": 37,
          "yref": "y"
         },
         {
          "line": {
           "color": "green",
           "dash": "dot",
           "width": 2
          },
          "type": "line",
          "x0": 6.433290536213594,
          "x1": 6.433290536213594,
          "xref": "x",
          "y0": 0,
          "y1": 37,
          "yref": "y"
         },
         {
          "line": {
           "color": "green",
           "dash": "dot",
           "width": 2
          },
          "type": "line",
          "x0": 1.841853972456926,
          "x1": 1.841853972456926,
          "xref": "x",
          "y0": 0,
          "y1": 37,
          "yref": "y"
         },
         {
          "line": {
           "color": "black",
           "dash": "dot",
           "width": 2
          },
          "type": "line",
          "x0": 1.6358381502890174,
          "x1": 1.6358381502890174,
          "xref": "x2",
          "y0": 0,
          "y1": 48,
          "yref": "y2"
         },
         {
          "line": {
           "color": "green",
           "dash": "dot",
           "width": 2
          },
          "type": "line",
          "x0": 2.385550247123483,
          "x1": 2.385550247123483,
          "xref": "x2",
          "y0": 0,
          "y1": 48,
          "yref": "y2"
         },
         {
          "line": {
           "color": "green",
           "dash": "dot",
           "width": 2
          },
          "type": "line",
          "x0": 0.8861260534545518,
          "x1": 0.8861260534545518,
          "xref": "x2",
          "y0": 0,
          "y1": 48,
          "yref": "y2"
         },
         {
          "line": {
           "color": "black",
           "dash": "dot",
           "width": 2
          },
          "type": "line",
          "x0": 2.5017341040462426,
          "x1": 2.5017341040462426,
          "xref": "x3",
          "y0": 0,
          "y1": 42,
          "yref": "y3"
         },
         {
          "line": {
           "color": "green",
           "dash": "dot",
           "width": 2
          },
          "type": "line",
          "x0": 4.156661026919512,
          "x1": 4.156661026919512,
          "xref": "x3",
          "y0": 0,
          "y1": 42,
          "yref": "y3"
         },
         {
          "line": {
           "color": "green",
           "dash": "dot",
           "width": 2
          },
          "type": "line",
          "x0": 0.8468071811729736,
          "x1": 0.8468071811729736,
          "xref": "x3",
          "y0": 0,
          "y1": 42,
          "yref": "y3"
         },
         {
          "line": {
           "color": "black",
           "dash": "dot",
           "width": 2
          },
          "type": "line",
          "x0": 294.5491329479769,
          "x1": 294.5491329479769,
          "xref": "x4",
          "y0": 0,
          "y1": 27,
          "yref": "y4"
         },
         {
          "line": {
           "color": "green",
           "dash": "dot",
           "width": 2
          },
          "type": "line",
          "x0": 390.1173101184531,
          "x1": 390.1173101184531,
          "xref": "x4",
          "y0": 0,
          "y1": 27,
          "yref": "y4"
         },
         {
          "line": {
           "color": "green",
           "dash": "dot",
           "width": 2
          },
          "type": "line",
          "x0": 198.9809557775007,
          "x1": 198.9809557775007,
          "xref": "x4",
          "y0": 0,
          "y1": 27,
          "yref": "y4"
         },
         {
          "line": {
           "color": "black",
           "dash": "dot",
           "width": 2
          },
          "type": "line",
          "x0": 163.29479768786126,
          "x1": 163.29479768786126,
          "xref": "x5",
          "y0": 0,
          "y1": 22,
          "yref": "y5"
         },
         {
          "line": {
           "color": "green",
           "dash": "dot",
           "width": 2
          },
          "type": "line",
          "x0": 213.95003983268748,
          "x1": 213.95003983268748,
          "xref": "x5",
          "y0": 0,
          "y1": 22,
          "yref": "y5"
         },
         {
          "line": {
           "color": "green",
           "dash": "dot",
           "width": 2
          },
          "type": "line",
          "x0": 112.63955554303504,
          "x1": 112.63955554303504,
          "xref": "x5",
          "y0": 0,
          "y1": 22,
          "yref": "y5"
         },
         {
          "line": {
           "color": "black",
           "dash": "dot",
           "width": 2
          },
          "type": "line",
          "x0": 131.2543352601156,
          "x1": 131.2543352601156,
          "xref": "x6",
          "y0": 0,
          "y1": 27,
          "yref": "y6"
         },
         {
          "line": {
           "color": "green",
           "dash": "dot",
           "width": 2
          },
          "type": "line",
          "x0": 182.74241173203066,
          "x1": 182.74241173203066,
          "xref": "x6",
          "y0": 0,
          "y1": 27,
          "yref": "y6"
         },
         {
          "line": {
           "color": "green",
           "dash": "dot",
           "width": 2
          },
          "type": "line",
          "x0": 79.76625878820053,
          "x1": 79.76625878820053,
          "xref": "x6",
          "y0": 0,
          "y1": 27,
          "yref": "y6"
         }
        ],
        "showlegend": false,
        "template": {
         "data": {
          "bar": [
           {
            "error_x": {
             "color": "#2a3f5f"
            },
            "error_y": {
             "color": "#2a3f5f"
            },
            "marker": {
             "line": {
              "color": "#E5ECF6",
              "width": 0.5
             },
             "pattern": {
              "fillmode": "overlay",
              "size": 10,
              "solidity": 0.2
             }
            },
            "type": "bar"
           }
          ],
          "barpolar": [
           {
            "marker": {
             "line": {
              "color": "#E5ECF6",
              "width": 0.5
             },
             "pattern": {
              "fillmode": "overlay",
              "size": 10,
              "solidity": 0.2
             }
            },
            "type": "barpolar"
           }
          ],
          "carpet": [
           {
            "aaxis": {
             "endlinecolor": "#2a3f5f",
             "gridcolor": "white",
             "linecolor": "white",
             "minorgridcolor": "white",
             "startlinecolor": "#2a3f5f"
            },
            "baxis": {
             "endlinecolor": "#2a3f5f",
             "gridcolor": "white",
             "linecolor": "white",
             "minorgridcolor": "white",
             "startlinecolor": "#2a3f5f"
            },
            "type": "carpet"
           }
          ],
          "choropleth": [
           {
            "colorbar": {
             "outlinewidth": 0,
             "ticks": ""
            },
            "type": "choropleth"
           }
          ],
          "contour": [
           {
            "colorbar": {
             "outlinewidth": 0,
             "ticks": ""
            },
            "colorscale": [
             [
              0,
              "#0d0887"
             ],
             [
              0.1111111111111111,
              "#46039f"
             ],
             [
              0.2222222222222222,
              "#7201a8"
             ],
             [
              0.3333333333333333,
              "#9c179e"
             ],
             [
              0.4444444444444444,
              "#bd3786"
             ],
             [
              0.5555555555555556,
              "#d8576b"
             ],
             [
              0.6666666666666666,
              "#ed7953"
             ],
             [
              0.7777777777777778,
              "#fb9f3a"
             ],
             [
              0.8888888888888888,
              "#fdca26"
             ],
             [
              1,
              "#f0f921"
             ]
            ],
            "type": "contour"
           }
          ],
          "contourcarpet": [
           {
            "colorbar": {
             "outlinewidth": 0,
             "ticks": ""
            },
            "type": "contourcarpet"
           }
          ],
          "heatmap": [
           {
            "colorbar": {
             "outlinewidth": 0,
             "ticks": ""
            },
            "colorscale": [
             [
              0,
              "#0d0887"
             ],
             [
              0.1111111111111111,
              "#46039f"
             ],
             [
              0.2222222222222222,
              "#7201a8"
             ],
             [
              0.3333333333333333,
              "#9c179e"
             ],
             [
              0.4444444444444444,
              "#bd3786"
             ],
             [
              0.5555555555555556,
              "#d8576b"
             ],
             [
              0.6666666666666666,
              "#ed7953"
             ],
             [
              0.7777777777777778,
              "#fb9f3a"
             ],
             [
              0.8888888888888888,
              "#fdca26"
             ],
             [
              1,
              "#f0f921"
             ]
            ],
            "type": "heatmap"
           }
          ],
          "heatmapgl": [
           {
            "colorbar": {
             "outlinewidth": 0,
             "ticks": ""
            },
            "colorscale": [
             [
              0,
              "#0d0887"
             ],
             [
              0.1111111111111111,
              "#46039f"
             ],
             [
              0.2222222222222222,
              "#7201a8"
             ],
             [
              0.3333333333333333,
              "#9c179e"
             ],
             [
              0.4444444444444444,
              "#bd3786"
             ],
             [
              0.5555555555555556,
              "#d8576b"
             ],
             [
              0.6666666666666666,
              "#ed7953"
             ],
             [
              0.7777777777777778,
              "#fb9f3a"
             ],
             [
              0.8888888888888888,
              "#fdca26"
             ],
             [
              1,
              "#f0f921"
             ]
            ],
            "type": "heatmapgl"
           }
          ],
          "histogram": [
           {
            "marker": {
             "pattern": {
              "fillmode": "overlay",
              "size": 10,
              "solidity": 0.2
             }
            },
            "type": "histogram"
           }
          ],
          "histogram2d": [
           {
            "colorbar": {
             "outlinewidth": 0,
             "ticks": ""
            },
            "colorscale": [
             [
              0,
              "#0d0887"
             ],
             [
              0.1111111111111111,
              "#46039f"
             ],
             [
              0.2222222222222222,
              "#7201a8"
             ],
             [
              0.3333333333333333,
              "#9c179e"
             ],
             [
              0.4444444444444444,
              "#bd3786"
             ],
             [
              0.5555555555555556,
              "#d8576b"
             ],
             [
              0.6666666666666666,
              "#ed7953"
             ],
             [
              0.7777777777777778,
              "#fb9f3a"
             ],
             [
              0.8888888888888888,
              "#fdca26"
             ],
             [
              1,
              "#f0f921"
             ]
            ],
            "type": "histogram2d"
           }
          ],
          "histogram2dcontour": [
           {
            "colorbar": {
             "outlinewidth": 0,
             "ticks": ""
            },
            "colorscale": [
             [
              0,
              "#0d0887"
             ],
             [
              0.1111111111111111,
              "#46039f"
             ],
             [
              0.2222222222222222,
              "#7201a8"
             ],
             [
              0.3333333333333333,
              "#9c179e"
             ],
             [
              0.4444444444444444,
              "#bd3786"
             ],
             [
              0.5555555555555556,
              "#d8576b"
             ],
             [
              0.6666666666666666,
              "#ed7953"
             ],
             [
              0.7777777777777778,
              "#fb9f3a"
             ],
             [
              0.8888888888888888,
              "#fdca26"
             ],
             [
              1,
              "#f0f921"
             ]
            ],
            "type": "histogram2dcontour"
           }
          ],
          "mesh3d": [
           {
            "colorbar": {
             "outlinewidth": 0,
             "ticks": ""
            },
            "type": "mesh3d"
           }
          ],
          "parcoords": [
           {
            "line": {
             "colorbar": {
              "outlinewidth": 0,
              "ticks": ""
             }
            },
            "type": "parcoords"
           }
          ],
          "pie": [
           {
            "automargin": true,
            "type": "pie"
           }
          ],
          "scatter": [
           {
            "fillpattern": {
             "fillmode": "overlay",
             "size": 10,
             "solidity": 0.2
            },
            "type": "scatter"
           }
          ],
          "scatter3d": [
           {
            "line": {
             "colorbar": {
              "outlinewidth": 0,
              "ticks": ""
             }
            },
            "marker": {
             "colorbar": {
              "outlinewidth": 0,
              "ticks": ""
             }
            },
            "type": "scatter3d"
           }
          ],
          "scattercarpet": [
           {
            "marker": {
             "colorbar": {
              "outlinewidth": 0,
              "ticks": ""
             }
            },
            "type": "scattercarpet"
           }
          ],
          "scattergeo": [
           {
            "marker": {
             "colorbar": {
              "outlinewidth": 0,
              "ticks": ""
             }
            },
            "type": "scattergeo"
           }
          ],
          "scattergl": [
           {
            "marker": {
             "colorbar": {
              "outlinewidth": 0,
              "ticks": ""
             }
            },
            "type": "scattergl"
           }
          ],
          "scattermapbox": [
           {
            "marker": {
             "colorbar": {
              "outlinewidth": 0,
              "ticks": ""
             }
            },
            "type": "scattermapbox"
           }
          ],
          "scatterpolar": [
           {
            "marker": {
             "colorbar": {
              "outlinewidth": 0,
              "ticks": ""
             }
            },
            "type": "scatterpolar"
           }
          ],
          "scatterpolargl": [
           {
            "marker": {
             "colorbar": {
              "outlinewidth": 0,
              "ticks": ""
             }
            },
            "type": "scatterpolargl"
           }
          ],
          "scatterternary": [
           {
            "marker": {
             "colorbar": {
              "outlinewidth": 0,
              "ticks": ""
             }
            },
            "type": "scatterternary"
           }
          ],
          "surface": [
           {
            "colorbar": {
             "outlinewidth": 0,
             "ticks": ""
            },
            "colorscale": [
             [
              0,
              "#0d0887"
             ],
             [
              0.1111111111111111,
              "#46039f"
             ],
             [
              0.2222222222222222,
              "#7201a8"
             ],
             [
              0.3333333333333333,
              "#9c179e"
             ],
             [
              0.4444444444444444,
              "#bd3786"
             ],
             [
              0.5555555555555556,
              "#d8576b"
             ],
             [
              0.6666666666666666,
              "#ed7953"
             ],
             [
              0.7777777777777778,
              "#fb9f3a"
             ],
             [
              0.8888888888888888,
              "#fdca26"
             ],
             [
              1,
              "#f0f921"
             ]
            ],
            "type": "surface"
           }
          ],
          "table": [
           {
            "cells": {
             "fill": {
              "color": "#EBF0F8"
             },
             "line": {
              "color": "white"
             }
            },
            "header": {
             "fill": {
              "color": "#C8D4E3"
             },
             "line": {
              "color": "white"
             }
            },
            "type": "table"
           }
          ]
         },
         "layout": {
          "annotationdefaults": {
           "arrowcolor": "#2a3f5f",
           "arrowhead": 0,
           "arrowwidth": 1
          },
          "autotypenumbers": "strict",
          "coloraxis": {
           "colorbar": {
            "outlinewidth": 0,
            "ticks": ""
           }
          },
          "colorscale": {
           "diverging": [
            [
             0,
             "#8e0152"
            ],
            [
             0.1,
             "#c51b7d"
            ],
            [
             0.2,
             "#de77ae"
            ],
            [
             0.3,
             "#f1b6da"
            ],
            [
             0.4,
             "#fde0ef"
            ],
            [
             0.5,
             "#f7f7f7"
            ],
            [
             0.6,
             "#e6f5d0"
            ],
            [
             0.7,
             "#b8e186"
            ],
            [
             0.8,
             "#7fbc41"
            ],
            [
             0.9,
             "#4d9221"
            ],
            [
             1,
             "#276419"
            ]
           ],
           "sequential": [
            [
             0,
             "#0d0887"
            ],
            [
             0.1111111111111111,
             "#46039f"
            ],
            [
             0.2222222222222222,
             "#7201a8"
            ],
            [
             0.3333333333333333,
             "#9c179e"
            ],
            [
             0.4444444444444444,
             "#bd3786"
            ],
            [
             0.5555555555555556,
             "#d8576b"
            ],
            [
             0.6666666666666666,
             "#ed7953"
            ],
            [
             0.7777777777777778,
             "#fb9f3a"
            ],
            [
             0.8888888888888888,
             "#fdca26"
            ],
            [
             1,
             "#f0f921"
            ]
           ],
           "sequentialminus": [
            [
             0,
             "#0d0887"
            ],
            [
             0.1111111111111111,
             "#46039f"
            ],
            [
             0.2222222222222222,
             "#7201a8"
            ],
            [
             0.3333333333333333,
             "#9c179e"
            ],
            [
             0.4444444444444444,
             "#bd3786"
            ],
            [
             0.5555555555555556,
             "#d8576b"
            ],
            [
             0.6666666666666666,
             "#ed7953"
            ],
            [
             0.7777777777777778,
             "#fb9f3a"
            ],
            [
             0.8888888888888888,
             "#fdca26"
            ],
            [
             1,
             "#f0f921"
            ]
           ]
          },
          "colorway": [
           "#636efa",
           "#EF553B",
           "#00cc96",
           "#ab63fa",
           "#FFA15A",
           "#19d3f3",
           "#FF6692",
           "#B6E880",
           "#FF97FF",
           "#FECB52"
          ],
          "font": {
           "color": "#2a3f5f"
          },
          "geo": {
           "bgcolor": "white",
           "lakecolor": "white",
           "landcolor": "#E5ECF6",
           "showlakes": true,
           "showland": true,
           "subunitcolor": "white"
          },
          "hoverlabel": {
           "align": "left"
          },
          "hovermode": "closest",
          "mapbox": {
           "style": "light"
          },
          "paper_bgcolor": "white",
          "plot_bgcolor": "#E5ECF6",
          "polar": {
           "angularaxis": {
            "gridcolor": "white",
            "linecolor": "white",
            "ticks": ""
           },
           "bgcolor": "#E5ECF6",
           "radialaxis": {
            "gridcolor": "white",
            "linecolor": "white",
            "ticks": ""
           }
          },
          "scene": {
           "xaxis": {
            "backgroundcolor": "#E5ECF6",
            "gridcolor": "white",
            "gridwidth": 2,
            "linecolor": "white",
            "showbackground": true,
            "ticks": "",
            "zerolinecolor": "white"
           },
           "yaxis": {
            "backgroundcolor": "#E5ECF6",
            "gridcolor": "white",
            "gridwidth": 2,
            "linecolor": "white",
            "showbackground": true,
            "ticks": "",
            "zerolinecolor": "white"
           },
           "zaxis": {
            "backgroundcolor": "#E5ECF6",
            "gridcolor": "white",
            "gridwidth": 2,
            "linecolor": "white",
            "showbackground": true,
            "ticks": "",
            "zerolinecolor": "white"
           }
          },
          "shapedefaults": {
           "line": {
            "color": "#2a3f5f"
           }
          },
          "ternary": {
           "aaxis": {
            "gridcolor": "white",
            "linecolor": "white",
            "ticks": ""
           },
           "baxis": {
            "gridcolor": "white",
            "linecolor": "white",
            "ticks": ""
           },
           "bgcolor": "#E5ECF6",
           "caxis": {
            "gridcolor": "white",
            "linecolor": "white",
            "ticks": ""
           }
          },
          "title": {
           "x": 0.05
          },
          "xaxis": {
           "automargin": true,
           "gridcolor": "white",
           "linecolor": "white",
           "ticks": "",
           "title": {
            "standoff": 15
           },
           "zerolinecolor": "white",
           "zerolinewidth": 2
          },
          "yaxis": {
           "automargin": true,
           "gridcolor": "white",
           "linecolor": "white",
           "ticks": "",
           "title": {
            "standoff": 15
           },
           "zerolinecolor": "white",
           "zerolinewidth": 2
          }
         }
        },
        "title": {
         "text": "> 5 and <= 10 years On-the-run TRACE 180-day Dist, As of: 2024-09-18"
        },
        "width": 1400,
        "xaxis": {
         "anchor": "y",
         "domain": [
          0,
          0.29333333333333333
         ]
        },
        "xaxis2": {
         "anchor": "y2",
         "domain": [
          0.35333333333333333,
          0.6466666666666667
         ]
        },
        "xaxis3": {
         "anchor": "y3",
         "domain": [
          0.7066666666666667,
          1
         ]
        },
        "xaxis4": {
         "anchor": "y4",
         "domain": [
          0,
          0.29333333333333333
         ]
        },
        "xaxis5": {
         "anchor": "y5",
         "domain": [
          0.35333333333333333,
          0.6466666666666667
         ]
        },
        "xaxis6": {
         "anchor": "y6",
         "domain": [
          0.7066666666666667,
          1
         ]
        },
        "yaxis": {
         "anchor": "x",
         "domain": [
          0.545,
          1
         ]
        },
        "yaxis2": {
         "anchor": "x2",
         "domain": [
          0.545,
          1
         ]
        },
        "yaxis3": {
         "anchor": "x3",
         "domain": [
          0.545,
          1
         ]
        },
        "yaxis4": {
         "anchor": "x4",
         "domain": [
          0,
          0.455
         ]
        },
        "yaxis5": {
         "anchor": "x5",
         "domain": [
          0,
          0.455
         ]
        },
        "yaxis6": {
         "anchor": "x6",
         "domain": [
          0,
          0.455
         ]
        }
       }
      }
     },
     "metadata": {},
     "output_type": "display_data"
    },
    {
     "name": "stdout",
     "output_type": "stream",
     "text": [
      "Saved plot as tenor_5and10yearsOfftherun_distribution_180_days.png\n"
     ]
    },
    {
     "data": {
      "application/vnd.plotly.v1+json": {
       "config": {
        "plotlyServerURL": "https://plot.ly"
       },
       "data": [
        {
         "marker": {
          "color": [
           "blue",
           "blue",
           "blue",
           "blue",
           "red",
           "blue",
           "blue",
           "blue",
           "blue",
           "blue",
           "blue",
           "blue",
           "blue",
           "blue",
           "blue",
           "blue",
           "blue",
           "blue",
           "blue",
           "blue",
           "blue",
           "blue",
           "blue",
           "blue",
           "blue",
           "blue",
           "blue",
           "blue",
           "blue",
           "blue",
           "blue",
           "blue",
           "blue",
           "blue",
           "blue",
           "blue",
           "blue",
           "blue",
           "blue",
           "blue",
           "blue",
           "blue",
           "blue",
           "blue",
           "blue",
           "blue",
           "blue",
           "blue",
           "blue",
           "blue"
          ]
         },
         "name": "Par Value Histogram",
         "type": "bar",
         "x": [
          0.30700000000000005,
          0.5210000000000001,
          0.7350000000000001,
          0.9490000000000001,
          1.163,
          1.3770000000000002,
          1.5910000000000002,
          1.8050000000000002,
          2.019,
          2.2330000000000005,
          2.447,
          2.6610000000000005,
          2.875000000000001,
          3.0890000000000004,
          3.303000000000001,
          3.5170000000000003,
          3.7310000000000008,
          3.9450000000000003,
          4.159000000000001,
          4.373000000000001,
          4.587000000000001,
          4.801,
          5.015000000000001,
          5.229000000000001,
          5.443000000000001,
          5.657000000000001,
          5.871,
          6.085000000000001,
          6.299000000000001,
          6.513000000000001,
          6.727,
          6.941000000000001,
          7.155000000000001,
          7.3690000000000015,
          7.583000000000001,
          7.797000000000001,
          8.011000000000001,
          8.225000000000001,
          8.439,
          8.652999999999999,
          8.867,
          9.081,
          9.295000000000002,
          9.509,
          9.722999999999999,
          9.937000000000001,
          10.151,
          10.365000000000002,
          10.579,
          10.793
         ],
         "xaxis": "x",
         "y": [
          3,
          7,
          15,
          20,
          24,
          10,
          18,
          22,
          8,
          6,
          8,
          6,
          2,
          6,
          4,
          1,
          2,
          2,
          1,
          0,
          0,
          1,
          0,
          2,
          1,
          0,
          1,
          0,
          1,
          0,
          0,
          1,
          0,
          0,
          0,
          0,
          0,
          0,
          0,
          0,
          0,
          0,
          0,
          0,
          0,
          0,
          0,
          0,
          0,
          1
         ],
         "yaxis": "y"
        },
        {
         "marker": {
          "color": [
           "blue",
           "blue",
           "blue",
           "red",
           "blue",
           "blue",
           "blue",
           "blue",
           "blue",
           "blue",
           "blue",
           "blue",
           "blue",
           "blue",
           "blue",
           "blue",
           "blue",
           "blue",
           "blue",
           "blue",
           "blue",
           "blue",
           "blue",
           "blue",
           "blue",
           "blue",
           "blue",
           "blue",
           "blue",
           "blue",
           "blue",
           "blue",
           "blue",
           "blue",
           "blue",
           "blue",
           "blue",
           "blue",
           "blue",
           "blue",
           "blue",
           "blue",
           "blue",
           "blue",
           "blue",
           "blue",
           "blue",
           "blue",
           "blue",
           "blue"
          ]
         },
         "name": "Par Value Histogram",
         "type": "bar",
         "x": [
          0.015,
          0.045,
          0.075,
          0.105,
          0.135,
          0.16499999999999998,
          0.195,
          0.22499999999999998,
          0.255,
          0.28500000000000003,
          0.31499999999999995,
          0.345,
          0.375,
          0.405,
          0.43499999999999994,
          0.46499999999999997,
          0.495,
          0.525,
          0.5549999999999999,
          0.585,
          0.615,
          0.645,
          0.6749999999999999,
          0.705,
          0.735,
          0.765,
          0.7949999999999999,
          0.825,
          0.855,
          0.885,
          0.9149999999999999,
          0.945,
          0.975,
          1.005,
          1.0350000000000001,
          1.065,
          1.095,
          1.125,
          1.1549999999999998,
          1.185,
          1.2149999999999999,
          1.245,
          1.275,
          1.305,
          1.335,
          1.3649999999999998,
          1.395,
          1.4249999999999998,
          1.455,
          1.4849999999999999
         ],
         "xaxis": "x2",
         "y": [
          2,
          0,
          0,
          34,
          0,
          0,
          40,
          0,
          0,
          0,
          33,
          0,
          0,
          13,
          0,
          0,
          21,
          0,
          0,
          0,
          9,
          0,
          0,
          6,
          0,
          0,
          2,
          0,
          0,
          0,
          4,
          0,
          0,
          2,
          0,
          0,
          0,
          0,
          0,
          0,
          2,
          0,
          0,
          3,
          0,
          0,
          1,
          0,
          0,
          1
         ],
         "yaxis": "y2"
        },
        {
         "marker": {
          "color": [
           "blue",
           "blue",
           "blue",
           "blue",
           "red",
           "blue",
           "blue",
           "blue",
           "blue",
           "blue",
           "blue",
           "blue",
           "blue",
           "blue",
           "blue",
           "blue",
           "blue",
           "blue",
           "blue",
           "blue",
           "blue",
           "blue",
           "blue",
           "blue",
           "blue",
           "blue",
           "blue",
           "blue",
           "blue",
           "blue",
           "blue",
           "blue",
           "blue",
           "blue",
           "blue",
           "blue",
           "blue",
           "blue",
           "blue",
           "blue",
           "blue",
           "blue",
           "blue",
           "blue",
           "blue",
           "blue",
           "blue",
           "blue",
           "blue",
           "blue"
          ]
         },
         "name": "Par Value Histogram",
         "type": "bar",
         "x": [
          0.29300000000000004,
          0.47900000000000004,
          0.665,
          0.8510000000000001,
          1.0370000000000001,
          1.223,
          1.4090000000000003,
          1.5950000000000002,
          1.7810000000000001,
          1.9670000000000003,
          2.1530000000000005,
          2.3390000000000004,
          2.5250000000000004,
          2.7110000000000003,
          2.8970000000000007,
          3.0830000000000006,
          3.2690000000000006,
          3.4550000000000005,
          3.641000000000001,
          3.827000000000001,
          4.013000000000001,
          4.199000000000001,
          4.385000000000001,
          4.571000000000001,
          4.757000000000001,
          4.9430000000000005,
          5.129000000000001,
          5.315000000000001,
          5.501000000000001,
          5.687000000000001,
          5.873000000000001,
          6.059000000000001,
          6.245000000000001,
          6.431000000000001,
          6.617000000000001,
          6.803000000000001,
          6.989000000000001,
          7.175000000000001,
          7.3610000000000015,
          7.5470000000000015,
          7.733000000000001,
          7.9190000000000005,
          8.105,
          8.291,
          8.477,
          8.663,
          8.849,
          9.035,
          9.221,
          9.407
         ],
         "xaxis": "x3",
         "y": [
          4,
          8,
          25,
          23,
          21,
          20,
          16,
          9,
          8,
          7,
          6,
          5,
          5,
          1,
          1,
          2,
          1,
          1,
          1,
          2,
          1,
          0,
          2,
          1,
          0,
          0,
          0,
          0,
          0,
          1,
          1,
          0,
          0,
          0,
          0,
          0,
          0,
          0,
          0,
          0,
          0,
          0,
          0,
          0,
          0,
          0,
          0,
          0,
          0,
          1
         ],
         "yaxis": "y3"
        },
        {
         "marker": {
          "color": [
           "blue",
           "blue",
           "blue",
           "red",
           "blue",
           "blue",
           "blue",
           "blue",
           "blue",
           "blue",
           "blue",
           "blue",
           "blue",
           "blue",
           "blue",
           "blue",
           "blue",
           "blue",
           "blue",
           "blue",
           "blue",
           "blue",
           "blue",
           "blue",
           "blue",
           "blue",
           "blue",
           "blue",
           "blue",
           "blue",
           "blue",
           "blue",
           "blue",
           "blue",
           "blue",
           "blue",
           "blue",
           "blue",
           "blue",
           "blue",
           "blue",
           "blue",
           "blue",
           "blue",
           "blue",
           "blue",
           "blue",
           "blue",
           "blue",
           "blue"
          ]
         },
         "name": "Trades Histogram",
         "type": "bar",
         "x": [
          250.31,
          278.93,
          307.55,
          336.17,
          364.79,
          393.41,
          422.03000000000003,
          450.65000000000003,
          479.27,
          507.89,
          536.51,
          565.13,
          593.75,
          622.37,
          650.99,
          679.61,
          708.23,
          736.8499999999999,
          765.47,
          794.0899999999999,
          822.71,
          851.3299999999999,
          879.95,
          908.5699999999999,
          937.19,
          965.81,
          994.4300000000001,
          1023.0500000000001,
          1051.67,
          1080.29,
          1108.9099999999999,
          1137.5300000000002,
          1166.15,
          1194.77,
          1223.3899999999999,
          1252.01,
          1280.63,
          1309.25,
          1337.87,
          1366.49,
          1395.1100000000001,
          1423.73,
          1452.35,
          1480.97,
          1509.5900000000001,
          1538.21,
          1566.83,
          1595.45,
          1624.0700000000002,
          1652.69
         ],
         "xaxis": "x4",
         "y": [
          4,
          5,
          1,
          14,
          14,
          19,
          21,
          13,
          12,
          11,
          8,
          7,
          10,
          4,
          0,
          3,
          5,
          0,
          3,
          3,
          0,
          3,
          0,
          1,
          1,
          2,
          2,
          0,
          2,
          0,
          0,
          0,
          1,
          1,
          0,
          0,
          0,
          0,
          1,
          0,
          1,
          0,
          0,
          0,
          0,
          0,
          0,
          0,
          0,
          1
         ],
         "yaxis": "y4"
        },
        {
         "marker": {
          "color": [
           "blue",
           "red",
           "blue",
           "blue",
           "blue",
           "blue",
           "blue",
           "blue",
           "blue",
           "blue",
           "blue",
           "blue",
           "blue",
           "blue",
           "blue",
           "blue",
           "blue",
           "blue",
           "blue",
           "blue",
           "blue",
           "blue",
           "blue",
           "blue",
           "blue",
           "blue",
           "blue",
           "blue",
           "blue",
           "blue",
           "blue",
           "blue",
           "blue",
           "blue",
           "blue",
           "blue",
           "blue",
           "blue",
           "blue",
           "blue",
           "blue",
           "blue",
           "blue",
           "blue",
           "blue",
           "blue",
           "blue",
           "blue",
           "blue",
           "blue"
          ]
         },
         "name": "Trades Histogram",
         "type": "bar",
         "x": [
          67.28999999999999,
          83.87,
          100.44999999999999,
          117.03,
          133.60999999999999,
          150.19,
          166.76999999999998,
          183.35,
          199.92999999999998,
          216.51,
          233.08999999999997,
          249.67,
          266.25,
          282.83,
          299.40999999999997,
          315.99,
          332.56999999999994,
          349.15,
          365.72999999999996,
          382.30999999999995,
          398.89,
          415.46999999999997,
          432.04999999999995,
          448.63,
          465.2099999999999,
          481.78999999999996,
          498.36999999999995,
          514.95,
          531.53,
          548.1099999999999,
          564.6899999999999,
          581.27,
          597.8499999999999,
          614.43,
          631.01,
          647.5899999999999,
          664.1699999999998,
          680.75,
          697.3299999999999,
          713.9099999999999,
          730.49,
          747.0699999999999,
          763.6499999999999,
          780.23,
          796.81,
          813.3899999999999,
          829.9699999999999,
          846.55,
          863.1299999999999,
          879.71
         ],
         "xaxis": "x5",
         "y": [
          2,
          4,
          12,
          22,
          21,
          12,
          17,
          17,
          7,
          4,
          4,
          6,
          5,
          4,
          3,
          1,
          3,
          1,
          2,
          2,
          2,
          1,
          2,
          1,
          2,
          0,
          2,
          2,
          0,
          1,
          1,
          1,
          1,
          1,
          0,
          1,
          1,
          1,
          1,
          0,
          0,
          0,
          1,
          0,
          0,
          0,
          0,
          0,
          1,
          1
         ],
         "yaxis": "y5"
        },
        {
         "marker": {
          "color": [
           "blue",
           "blue",
           "blue",
           "blue",
           "blue",
           "blue",
           "blue",
           "blue",
           "red",
           "blue",
           "blue",
           "blue",
           "blue",
           "blue",
           "blue",
           "blue",
           "blue",
           "blue",
           "blue",
           "blue",
           "blue",
           "blue",
           "blue",
           "blue",
           "blue",
           "blue",
           "blue",
           "blue",
           "blue",
           "blue",
           "blue",
           "blue",
           "blue",
           "blue",
           "blue",
           "blue",
           "blue",
           "blue",
           "blue",
           "blue",
           "blue",
           "blue",
           "blue",
           "blue",
           "blue",
           "blue",
           "blue",
           "blue",
           "blue",
           "blue"
          ]
         },
         "name": "Trades Histogram",
         "type": "bar",
         "x": [
          134.5,
          151.5,
          168.5,
          185.5,
          202.5,
          219.5,
          236.5,
          253.5,
          270.5,
          287.5,
          304.5,
          321.5,
          338.5,
          355.5,
          372.5,
          389.5,
          406.5,
          423.5,
          440.5,
          457.5,
          474.5,
          491.5,
          508.5,
          525.5,
          542.5,
          559.5,
          576.5,
          593.5,
          610.5,
          627.5,
          644.5,
          661.5,
          678.5,
          695.5,
          712.5,
          729.5,
          746.5,
          763.5,
          780.5,
          797.5,
          814.5,
          831.5,
          848.5,
          865.5,
          882.5,
          899.5,
          916.5,
          933.5,
          950.5,
          967.5
         ],
         "xaxis": "x6",
         "y": [
          1,
          0,
          3,
          9,
          11,
          16,
          22,
          19,
          29,
          17,
          10,
          12,
          5,
          0,
          2,
          0,
          2,
          2,
          2,
          1,
          1,
          0,
          0,
          1,
          0,
          0,
          0,
          0,
          0,
          0,
          0,
          1,
          1,
          0,
          0,
          2,
          0,
          0,
          0,
          1,
          0,
          0,
          0,
          1,
          0,
          0,
          1,
          0,
          0,
          1
         ],
         "yaxis": "y6"
        }
       ],
       "layout": {
        "annotations": [
         {
          "font": {
           "color": "black",
           "size": 10
          },
          "showarrow": false,
          "text": "Mean:2",
          "x": 1.8502890173410402,
          "xref": "x",
          "y": 35,
          "yref": "y"
         },
         {
          "font": {
           "color": "green",
           "size": 10
          },
          "showarrow": false,
          "text": "+1SD:3",
          "x": 3.1895418621634546,
          "xref": "x",
          "y": 35,
          "yref": "y"
         },
         {
          "font": {
           "color": "green",
           "size": 10
          },
          "showarrow": false,
          "text": "-1SD:1",
          "x": 0.5110361725186257,
          "xref": "x",
          "y": 35,
          "yref": "y"
         },
         {
          "font": {
           "color": "black",
           "size": 10
          },
          "showarrow": false,
          "text": "Mean:0",
          "x": 0.36416184971098264,
          "xref": "x2",
          "y": 51,
          "yref": "y2"
         },
         {
          "font": {
           "color": "green",
           "size": 10
          },
          "showarrow": false,
          "text": "+1SD:1",
          "x": 0.6502335439890059,
          "xref": "x2",
          "y": 51,
          "yref": "y2"
         },
         {
          "font": {
           "color": "green",
           "size": 10
          },
          "showarrow": false,
          "text": "-1SD:0",
          "x": 0.07809015543295938,
          "xref": "x2",
          "y": 51,
          "yref": "y2"
         },
         {
          "font": {
           "color": "black",
           "size": 10
          },
          "showarrow": false,
          "text": "Mean:1",
          "x": 1.4913294797687862,
          "xref": "x3",
          "y": 36,
          "yref": "y3"
         },
         {
          "font": {
           "color": "green",
           "size": 10
          },
          "showarrow": false,
          "text": "+1SD:3",
          "x": 2.6307873019093435,
          "xref": "x3",
          "y": 36,
          "yref": "y3"
         },
         {
          "font": {
           "color": "green",
           "size": 10
          },
          "showarrow": false,
          "text": "-1SD:0",
          "x": 0.35187165762822903,
          "xref": "x3",
          "y": 36,
          "yref": "y3"
         },
         {
          "font": {
           "color": "black",
           "size": 10
          },
          "showarrow": false,
          "text": "Mean:520",
          "x": 520.456647398844,
          "xref": "x4",
          "y": 32,
          "yref": "y4"
         },
         {
          "font": {
           "color": "green",
           "size": 10
          },
          "showarrow": false,
          "text": "+1SD:743",
          "x": 742.8564452536755,
          "xref": "x4",
          "y": 32,
          "yref": "y4"
         },
         {
          "font": {
           "color": "green",
           "size": 10
          },
          "showarrow": false,
          "text": "-1SD:298",
          "x": 298.05684954401255,
          "xref": "x4",
          "y": 32,
          "yref": "y4"
         },
         {
          "font": {
           "color": "black",
           "size": 10
          },
          "showarrow": false,
          "text": "Mean:229",
          "x": 229.16184971098266,
          "xref": "x5",
          "y": 33,
          "yref": "y5"
         },
         {
          "font": {
           "color": "green",
           "size": 10
          },
          "showarrow": false,
          "text": "+1SD:388",
          "x": 387.7799330054912,
          "xref": "x5",
          "y": 33,
          "yref": "y5"
         },
         {
          "font": {
           "color": "green",
           "size": 10
          },
          "showarrow": false,
          "text": "-1SD:71",
          "x": 70.54376641647414,
          "xref": "x5",
          "y": 33,
          "yref": "y5"
         },
         {
          "font": {
           "color": "black",
           "size": 10
          },
          "showarrow": false,
          "text": "Mean:291",
          "x": 291.29479768786126,
          "xref": "x6",
          "y": 40,
          "yref": "y6"
         },
         {
          "font": {
           "color": "green",
           "size": 10
          },
          "showarrow": false,
          "text": "+1SD:419",
          "x": 418.6328159612404,
          "xref": "x6",
          "y": 40,
          "yref": "y6"
         },
         {
          "font": {
           "color": "green",
           "size": 10
          },
          "showarrow": false,
          "text": "-1SD:164",
          "x": 163.95677941448213,
          "xref": "x6",
          "y": 40,
          "yref": "y6"
         },
         {
          "font": {
           "size": 13
          },
          "showarrow": false,
          "text": "Total Par Value in Billion",
          "x": 0.12,
          "xanchor": "center",
          "xref": "paper",
          "y": 1.05,
          "yref": "paper"
         },
         {
          "font": {
           "size": 13
          },
          "showarrow": false,
          "text": "ATS & Interdealer Par Value",
          "x": 0.5,
          "xanchor": "center",
          "xref": "paper",
          "y": 1.05,
          "yref": "paper"
         },
         {
          "font": {
           "size": 13
          },
          "showarrow": false,
          "text": "Dealer to Customer Par Value",
          "x": 0.85,
          "xanchor": "center",
          "xref": "paper",
          "y": 1.05,
          "yref": "paper"
         },
         {
          "font": {
           "size": 13
          },
          "showarrow": false,
          "text": "Total Number of Trades",
          "x": 0.12,
          "xanchor": "center",
          "xref": "paper",
          "y": 0.48,
          "yref": "paper"
         },
         {
          "font": {
           "size": 13
          },
          "showarrow": false,
          "text": "ATS & Interdealer Trades",
          "x": 0.5,
          "xanchor": "center",
          "xref": "paper",
          "y": 0.48,
          "yref": "paper"
         },
         {
          "font": {
           "size": 13
          },
          "showarrow": false,
          "text": "Dealer to Customer Trades",
          "x": 0.85,
          "xanchor": "center",
          "xref": "paper",
          "y": 0.48,
          "yref": "paper"
         }
        ],
        "font": {
         "family": "Times New Roman"
        },
        "height": 600,
        "shapes": [
         {
          "line": {
           "color": "black",
           "dash": "dot",
           "width": 2
          },
          "type": "line",
          "x0": 1.8502890173410402,
          "x1": 1.8502890173410402,
          "xref": "x",
          "y0": 0,
          "y1": 34,
          "yref": "y"
         },
         {
          "line": {
           "color": "green",
           "dash": "dot",
           "width": 2
          },
          "type": "line",
          "x0": 3.1895418621634546,
          "x1": 3.1895418621634546,
          "xref": "x",
          "y0": 0,
          "y1": 34,
          "yref": "y"
         },
         {
          "line": {
           "color": "green",
           "dash": "dot",
           "width": 2
          },
          "type": "line",
          "x0": 0.5110361725186257,
          "x1": 0.5110361725186257,
          "xref": "x",
          "y0": 0,
          "y1": 34,
          "yref": "y"
         },
         {
          "line": {
           "color": "black",
           "dash": "dot",
           "width": 2
          },
          "type": "line",
          "x0": 0.36416184971098264,
          "x1": 0.36416184971098264,
          "xref": "x2",
          "y0": 0,
          "y1": 50,
          "yref": "y2"
         },
         {
          "line": {
           "color": "green",
           "dash": "dot",
           "width": 2
          },
          "type": "line",
          "x0": 0.6502335439890059,
          "x1": 0.6502335439890059,
          "xref": "x2",
          "y0": 0,
          "y1": 50,
          "yref": "y2"
         },
         {
          "line": {
           "color": "green",
           "dash": "dot",
           "width": 2
          },
          "type": "line",
          "x0": 0.07809015543295938,
          "x1": 0.07809015543295938,
          "xref": "x2",
          "y0": 0,
          "y1": 50,
          "yref": "y2"
         },
         {
          "line": {
           "color": "black",
           "dash": "dot",
           "width": 2
          },
          "type": "line",
          "x0": 1.4913294797687862,
          "x1": 1.4913294797687862,
          "xref": "x3",
          "y0": 0,
          "y1": 35,
          "yref": "y3"
         },
         {
          "line": {
           "color": "green",
           "dash": "dot",
           "width": 2
          },
          "type": "line",
          "x0": 2.6307873019093435,
          "x1": 2.6307873019093435,
          "xref": "x3",
          "y0": 0,
          "y1": 35,
          "yref": "y3"
         },
         {
          "line": {
           "color": "green",
           "dash": "dot",
           "width": 2
          },
          "type": "line",
          "x0": 0.35187165762822903,
          "x1": 0.35187165762822903,
          "xref": "x3",
          "y0": 0,
          "y1": 35,
          "yref": "y3"
         },
         {
          "line": {
           "color": "black",
           "dash": "dot",
           "width": 2
          },
          "type": "line",
          "x0": 520.456647398844,
          "x1": 520.456647398844,
          "xref": "x4",
          "y0": 0,
          "y1": 31,
          "yref": "y4"
         },
         {
          "line": {
           "color": "green",
           "dash": "dot",
           "width": 2
          },
          "type": "line",
          "x0": 742.8564452536755,
          "x1": 742.8564452536755,
          "xref": "x4",
          "y0": 0,
          "y1": 31,
          "yref": "y4"
         },
         {
          "line": {
           "color": "green",
           "dash": "dot",
           "width": 2
          },
          "type": "line",
          "x0": 298.05684954401255,
          "x1": 298.05684954401255,
          "xref": "x4",
          "y0": 0,
          "y1": 31,
          "yref": "y4"
         },
         {
          "line": {
           "color": "black",
           "dash": "dot",
           "width": 2
          },
          "type": "line",
          "x0": 229.16184971098266,
          "x1": 229.16184971098266,
          "xref": "x5",
          "y0": 0,
          "y1": 32,
          "yref": "y5"
         },
         {
          "line": {
           "color": "green",
           "dash": "dot",
           "width": 2
          },
          "type": "line",
          "x0": 387.7799330054912,
          "x1": 387.7799330054912,
          "xref": "x5",
          "y0": 0,
          "y1": 32,
          "yref": "y5"
         },
         {
          "line": {
           "color": "green",
           "dash": "dot",
           "width": 2
          },
          "type": "line",
          "x0": 70.54376641647414,
          "x1": 70.54376641647414,
          "xref": "x5",
          "y0": 0,
          "y1": 32,
          "yref": "y5"
         },
         {
          "line": {
           "color": "black",
           "dash": "dot",
           "width": 2
          },
          "type": "line",
          "x0": 291.29479768786126,
          "x1": 291.29479768786126,
          "xref": "x6",
          "y0": 0,
          "y1": 39,
          "yref": "y6"
         },
         {
          "line": {
           "color": "green",
           "dash": "dot",
           "width": 2
          },
          "type": "line",
          "x0": 418.6328159612404,
          "x1": 418.6328159612404,
          "xref": "x6",
          "y0": 0,
          "y1": 39,
          "yref": "y6"
         },
         {
          "line": {
           "color": "green",
           "dash": "dot",
           "width": 2
          },
          "type": "line",
          "x0": 163.95677941448213,
          "x1": 163.95677941448213,
          "xref": "x6",
          "y0": 0,
          "y1": 39,
          "yref": "y6"
         }
        ],
        "showlegend": false,
        "template": {
         "data": {
          "bar": [
           {
            "error_x": {
             "color": "#2a3f5f"
            },
            "error_y": {
             "color": "#2a3f5f"
            },
            "marker": {
             "line": {
              "color": "#E5ECF6",
              "width": 0.5
             },
             "pattern": {
              "fillmode": "overlay",
              "size": 10,
              "solidity": 0.2
             }
            },
            "type": "bar"
           }
          ],
          "barpolar": [
           {
            "marker": {
             "line": {
              "color": "#E5ECF6",
              "width": 0.5
             },
             "pattern": {
              "fillmode": "overlay",
              "size": 10,
              "solidity": 0.2
             }
            },
            "type": "barpolar"
           }
          ],
          "carpet": [
           {
            "aaxis": {
             "endlinecolor": "#2a3f5f",
             "gridcolor": "white",
             "linecolor": "white",
             "minorgridcolor": "white",
             "startlinecolor": "#2a3f5f"
            },
            "baxis": {
             "endlinecolor": "#2a3f5f",
             "gridcolor": "white",
             "linecolor": "white",
             "minorgridcolor": "white",
             "startlinecolor": "#2a3f5f"
            },
            "type": "carpet"
           }
          ],
          "choropleth": [
           {
            "colorbar": {
             "outlinewidth": 0,
             "ticks": ""
            },
            "type": "choropleth"
           }
          ],
          "contour": [
           {
            "colorbar": {
             "outlinewidth": 0,
             "ticks": ""
            },
            "colorscale": [
             [
              0,
              "#0d0887"
             ],
             [
              0.1111111111111111,
              "#46039f"
             ],
             [
              0.2222222222222222,
              "#7201a8"
             ],
             [
              0.3333333333333333,
              "#9c179e"
             ],
             [
              0.4444444444444444,
              "#bd3786"
             ],
             [
              0.5555555555555556,
              "#d8576b"
             ],
             [
              0.6666666666666666,
              "#ed7953"
             ],
             [
              0.7777777777777778,
              "#fb9f3a"
             ],
             [
              0.8888888888888888,
              "#fdca26"
             ],
             [
              1,
              "#f0f921"
             ]
            ],
            "type": "contour"
           }
          ],
          "contourcarpet": [
           {
            "colorbar": {
             "outlinewidth": 0,
             "ticks": ""
            },
            "type": "contourcarpet"
           }
          ],
          "heatmap": [
           {
            "colorbar": {
             "outlinewidth": 0,
             "ticks": ""
            },
            "colorscale": [
             [
              0,
              "#0d0887"
             ],
             [
              0.1111111111111111,
              "#46039f"
             ],
             [
              0.2222222222222222,
              "#7201a8"
             ],
             [
              0.3333333333333333,
              "#9c179e"
             ],
             [
              0.4444444444444444,
              "#bd3786"
             ],
             [
              0.5555555555555556,
              "#d8576b"
             ],
             [
              0.6666666666666666,
              "#ed7953"
             ],
             [
              0.7777777777777778,
              "#fb9f3a"
             ],
             [
              0.8888888888888888,
              "#fdca26"
             ],
             [
              1,
              "#f0f921"
             ]
            ],
            "type": "heatmap"
           }
          ],
          "heatmapgl": [
           {
            "colorbar": {
             "outlinewidth": 0,
             "ticks": ""
            },
            "colorscale": [
             [
              0,
              "#0d0887"
             ],
             [
              0.1111111111111111,
              "#46039f"
             ],
             [
              0.2222222222222222,
              "#7201a8"
             ],
             [
              0.3333333333333333,
              "#9c179e"
             ],
             [
              0.4444444444444444,
              "#bd3786"
             ],
             [
              0.5555555555555556,
              "#d8576b"
             ],
             [
              0.6666666666666666,
              "#ed7953"
             ],
             [
              0.7777777777777778,
              "#fb9f3a"
             ],
             [
              0.8888888888888888,
              "#fdca26"
             ],
             [
              1,
              "#f0f921"
             ]
            ],
            "type": "heatmapgl"
           }
          ],
          "histogram": [
           {
            "marker": {
             "pattern": {
              "fillmode": "overlay",
              "size": 10,
              "solidity": 0.2
             }
            },
            "type": "histogram"
           }
          ],
          "histogram2d": [
           {
            "colorbar": {
             "outlinewidth": 0,
             "ticks": ""
            },
            "colorscale": [
             [
              0,
              "#0d0887"
             ],
             [
              0.1111111111111111,
              "#46039f"
             ],
             [
              0.2222222222222222,
              "#7201a8"
             ],
             [
              0.3333333333333333,
              "#9c179e"
             ],
             [
              0.4444444444444444,
              "#bd3786"
             ],
             [
              0.5555555555555556,
              "#d8576b"
             ],
             [
              0.6666666666666666,
              "#ed7953"
             ],
             [
              0.7777777777777778,
              "#fb9f3a"
             ],
             [
              0.8888888888888888,
              "#fdca26"
             ],
             [
              1,
              "#f0f921"
             ]
            ],
            "type": "histogram2d"
           }
          ],
          "histogram2dcontour": [
           {
            "colorbar": {
             "outlinewidth": 0,
             "ticks": ""
            },
            "colorscale": [
             [
              0,
              "#0d0887"
             ],
             [
              0.1111111111111111,
              "#46039f"
             ],
             [
              0.2222222222222222,
              "#7201a8"
             ],
             [
              0.3333333333333333,
              "#9c179e"
             ],
             [
              0.4444444444444444,
              "#bd3786"
             ],
             [
              0.5555555555555556,
              "#d8576b"
             ],
             [
              0.6666666666666666,
              "#ed7953"
             ],
             [
              0.7777777777777778,
              "#fb9f3a"
             ],
             [
              0.8888888888888888,
              "#fdca26"
             ],
             [
              1,
              "#f0f921"
             ]
            ],
            "type": "histogram2dcontour"
           }
          ],
          "mesh3d": [
           {
            "colorbar": {
             "outlinewidth": 0,
             "ticks": ""
            },
            "type": "mesh3d"
           }
          ],
          "parcoords": [
           {
            "line": {
             "colorbar": {
              "outlinewidth": 0,
              "ticks": ""
             }
            },
            "type": "parcoords"
           }
          ],
          "pie": [
           {
            "automargin": true,
            "type": "pie"
           }
          ],
          "scatter": [
           {
            "fillpattern": {
             "fillmode": "overlay",
             "size": 10,
             "solidity": 0.2
            },
            "type": "scatter"
           }
          ],
          "scatter3d": [
           {
            "line": {
             "colorbar": {
              "outlinewidth": 0,
              "ticks": ""
             }
            },
            "marker": {
             "colorbar": {
              "outlinewidth": 0,
              "ticks": ""
             }
            },
            "type": "scatter3d"
           }
          ],
          "scattercarpet": [
           {
            "marker": {
             "colorbar": {
              "outlinewidth": 0,
              "ticks": ""
             }
            },
            "type": "scattercarpet"
           }
          ],
          "scattergeo": [
           {
            "marker": {
             "colorbar": {
              "outlinewidth": 0,
              "ticks": ""
             }
            },
            "type": "scattergeo"
           }
          ],
          "scattergl": [
           {
            "marker": {
             "colorbar": {
              "outlinewidth": 0,
              "ticks": ""
             }
            },
            "type": "scattergl"
           }
          ],
          "scattermapbox": [
           {
            "marker": {
             "colorbar": {
              "outlinewidth": 0,
              "ticks": ""
             }
            },
            "type": "scattermapbox"
           }
          ],
          "scatterpolar": [
           {
            "marker": {
             "colorbar": {
              "outlinewidth": 0,
              "ticks": ""
             }
            },
            "type": "scatterpolar"
           }
          ],
          "scatterpolargl": [
           {
            "marker": {
             "colorbar": {
              "outlinewidth": 0,
              "ticks": ""
             }
            },
            "type": "scatterpolargl"
           }
          ],
          "scatterternary": [
           {
            "marker": {
             "colorbar": {
              "outlinewidth": 0,
              "ticks": ""
             }
            },
            "type": "scatterternary"
           }
          ],
          "surface": [
           {
            "colorbar": {
             "outlinewidth": 0,
             "ticks": ""
            },
            "colorscale": [
             [
              0,
              "#0d0887"
             ],
             [
              0.1111111111111111,
              "#46039f"
             ],
             [
              0.2222222222222222,
              "#7201a8"
             ],
             [
              0.3333333333333333,
              "#9c179e"
             ],
             [
              0.4444444444444444,
              "#bd3786"
             ],
             [
              0.5555555555555556,
              "#d8576b"
             ],
             [
              0.6666666666666666,
              "#ed7953"
             ],
             [
              0.7777777777777778,
              "#fb9f3a"
             ],
             [
              0.8888888888888888,
              "#fdca26"
             ],
             [
              1,
              "#f0f921"
             ]
            ],
            "type": "surface"
           }
          ],
          "table": [
           {
            "cells": {
             "fill": {
              "color": "#EBF0F8"
             },
             "line": {
              "color": "white"
             }
            },
            "header": {
             "fill": {
              "color": "#C8D4E3"
             },
             "line": {
              "color": "white"
             }
            },
            "type": "table"
           }
          ]
         },
         "layout": {
          "annotationdefaults": {
           "arrowcolor": "#2a3f5f",
           "arrowhead": 0,
           "arrowwidth": 1
          },
          "autotypenumbers": "strict",
          "coloraxis": {
           "colorbar": {
            "outlinewidth": 0,
            "ticks": ""
           }
          },
          "colorscale": {
           "diverging": [
            [
             0,
             "#8e0152"
            ],
            [
             0.1,
             "#c51b7d"
            ],
            [
             0.2,
             "#de77ae"
            ],
            [
             0.3,
             "#f1b6da"
            ],
            [
             0.4,
             "#fde0ef"
            ],
            [
             0.5,
             "#f7f7f7"
            ],
            [
             0.6,
             "#e6f5d0"
            ],
            [
             0.7,
             "#b8e186"
            ],
            [
             0.8,
             "#7fbc41"
            ],
            [
             0.9,
             "#4d9221"
            ],
            [
             1,
             "#276419"
            ]
           ],
           "sequential": [
            [
             0,
             "#0d0887"
            ],
            [
             0.1111111111111111,
             "#46039f"
            ],
            [
             0.2222222222222222,
             "#7201a8"
            ],
            [
             0.3333333333333333,
             "#9c179e"
            ],
            [
             0.4444444444444444,
             "#bd3786"
            ],
            [
             0.5555555555555556,
             "#d8576b"
            ],
            [
             0.6666666666666666,
             "#ed7953"
            ],
            [
             0.7777777777777778,
             "#fb9f3a"
            ],
            [
             0.8888888888888888,
             "#fdca26"
            ],
            [
             1,
             "#f0f921"
            ]
           ],
           "sequentialminus": [
            [
             0,
             "#0d0887"
            ],
            [
             0.1111111111111111,
             "#46039f"
            ],
            [
             0.2222222222222222,
             "#7201a8"
            ],
            [
             0.3333333333333333,
             "#9c179e"
            ],
            [
             0.4444444444444444,
             "#bd3786"
            ],
            [
             0.5555555555555556,
             "#d8576b"
            ],
            [
             0.6666666666666666,
             "#ed7953"
            ],
            [
             0.7777777777777778,
             "#fb9f3a"
            ],
            [
             0.8888888888888888,
             "#fdca26"
            ],
            [
             1,
             "#f0f921"
            ]
           ]
          },
          "colorway": [
           "#636efa",
           "#EF553B",
           "#00cc96",
           "#ab63fa",
           "#FFA15A",
           "#19d3f3",
           "#FF6692",
           "#B6E880",
           "#FF97FF",
           "#FECB52"
          ],
          "font": {
           "color": "#2a3f5f"
          },
          "geo": {
           "bgcolor": "white",
           "lakecolor": "white",
           "landcolor": "#E5ECF6",
           "showlakes": true,
           "showland": true,
           "subunitcolor": "white"
          },
          "hoverlabel": {
           "align": "left"
          },
          "hovermode": "closest",
          "mapbox": {
           "style": "light"
          },
          "paper_bgcolor": "white",
          "plot_bgcolor": "#E5ECF6",
          "polar": {
           "angularaxis": {
            "gridcolor": "white",
            "linecolor": "white",
            "ticks": ""
           },
           "bgcolor": "#E5ECF6",
           "radialaxis": {
            "gridcolor": "white",
            "linecolor": "white",
            "ticks": ""
           }
          },
          "scene": {
           "xaxis": {
            "backgroundcolor": "#E5ECF6",
            "gridcolor": "white",
            "gridwidth": 2,
            "linecolor": "white",
            "showbackground": true,
            "ticks": "",
            "zerolinecolor": "white"
           },
           "yaxis": {
            "backgroundcolor": "#E5ECF6",
            "gridcolor": "white",
            "gridwidth": 2,
            "linecolor": "white",
            "showbackground": true,
            "ticks": "",
            "zerolinecolor": "white"
           },
           "zaxis": {
            "backgroundcolor": "#E5ECF6",
            "gridcolor": "white",
            "gridwidth": 2,
            "linecolor": "white",
            "showbackground": true,
            "ticks": "",
            "zerolinecolor": "white"
           }
          },
          "shapedefaults": {
           "line": {
            "color": "#2a3f5f"
           }
          },
          "ternary": {
           "aaxis": {
            "gridcolor": "white",
            "linecolor": "white",
            "ticks": ""
           },
           "baxis": {
            "gridcolor": "white",
            "linecolor": "white",
            "ticks": ""
           },
           "bgcolor": "#E5ECF6",
           "caxis": {
            "gridcolor": "white",
            "linecolor": "white",
            "ticks": ""
           }
          },
          "title": {
           "x": 0.05
          },
          "xaxis": {
           "automargin": true,
           "gridcolor": "white",
           "linecolor": "white",
           "ticks": "",
           "title": {
            "standoff": 15
           },
           "zerolinecolor": "white",
           "zerolinewidth": 2
          },
          "yaxis": {
           "automargin": true,
           "gridcolor": "white",
           "linecolor": "white",
           "ticks": "",
           "title": {
            "standoff": 15
           },
           "zerolinecolor": "white",
           "zerolinewidth": 2
          }
         }
        },
        "title": {
         "text": "> 5 and <= 10 years Off-the-run TRACE 180-day Dist, As of: 2024-09-18"
        },
        "width": 1400,
        "xaxis": {
         "anchor": "y",
         "domain": [
          0,
          0.29333333333333333
         ]
        },
        "xaxis2": {
         "anchor": "y2",
         "domain": [
          0.35333333333333333,
          0.6466666666666667
         ]
        },
        "xaxis3": {
         "anchor": "y3",
         "domain": [
          0.7066666666666667,
          1
         ]
        },
        "xaxis4": {
         "anchor": "y4",
         "domain": [
          0,
          0.29333333333333333
         ]
        },
        "xaxis5": {
         "anchor": "y5",
         "domain": [
          0.35333333333333333,
          0.6466666666666667
         ]
        },
        "xaxis6": {
         "anchor": "y6",
         "domain": [
          0.7066666666666667,
          1
         ]
        },
        "yaxis": {
         "anchor": "x",
         "domain": [
          0.545,
          1
         ]
        },
        "yaxis2": {
         "anchor": "x2",
         "domain": [
          0.545,
          1
         ]
        },
        "yaxis3": {
         "anchor": "x3",
         "domain": [
          0.545,
          1
         ]
        },
        "yaxis4": {
         "anchor": "x4",
         "domain": [
          0,
          0.455
         ]
        },
        "yaxis5": {
         "anchor": "x5",
         "domain": [
          0,
          0.455
         ]
        },
        "yaxis6": {
         "anchor": "x6",
         "domain": [
          0,
          0.455
         ]
        }
       }
      }
     },
     "metadata": {},
     "output_type": "display_data"
    },
    {
     "name": "stdout",
     "output_type": "stream",
     "text": [
      "Saved plot as tenor_10years_distribution_180_days.png\n"
     ]
    },
    {
     "data": {
      "application/vnd.plotly.v1+json": {
       "config": {
        "plotlyServerURL": "https://plot.ly"
       },
       "data": [
        {
         "marker": {
          "color": [
           "blue",
           "blue",
           "blue",
           "blue",
           "blue",
           "blue",
           "red",
           "blue",
           "blue",
           "blue",
           "blue",
           "blue",
           "blue",
           "blue",
           "blue",
           "blue",
           "blue",
           "blue",
           "blue",
           "blue",
           "blue",
           "blue",
           "blue",
           "blue",
           "blue",
           "blue",
           "blue",
           "blue",
           "blue",
           "blue",
           "blue",
           "blue",
           "blue",
           "blue",
           "blue",
           "blue",
           "blue",
           "blue",
           "blue",
           "blue",
           "blue",
           "blue",
           "blue",
           "blue",
           "blue",
           "blue",
           "blue",
           "blue",
           "blue",
           "blue"
          ]
         },
         "name": "Par Value Histogram",
         "type": "bar",
         "x": [
          0.39,
          0.57,
          0.75,
          0.93,
          1.1099999999999999,
          1.29,
          1.4700000000000002,
          1.65,
          1.83,
          2.01,
          2.1899999999999995,
          2.37,
          2.55,
          2.7299999999999995,
          2.9099999999999997,
          3.09,
          3.2699999999999996,
          3.4499999999999997,
          3.63,
          3.8099999999999996,
          3.9899999999999998,
          4.17,
          4.35,
          4.529999999999999,
          4.71,
          4.89,
          5.069999999999999,
          5.25,
          5.43,
          5.609999999999999,
          5.789999999999999,
          5.97,
          6.1499999999999995,
          6.33,
          6.51,
          6.6899999999999995,
          6.869999999999999,
          7.05,
          7.2299999999999995,
          7.409999999999999,
          7.59,
          7.77,
          7.949999999999999,
          8.129999999999999,
          8.31,
          8.49,
          8.67,
          8.850000000000001,
          9.030000000000001,
          9.21
         ],
         "xaxis": "x",
         "y": [
          4,
          14,
          19,
          26,
          17,
          22,
          15,
          16,
          13,
          5,
          5,
          3,
          0,
          2,
          0,
          0,
          0,
          1,
          3,
          0,
          1,
          0,
          2,
          0,
          1,
          1,
          1,
          0,
          0,
          0,
          0,
          1,
          0,
          0,
          0,
          0,
          0,
          0,
          0,
          0,
          0,
          0,
          0,
          0,
          0,
          0,
          0,
          0,
          0,
          1
         ],
         "yaxis": "y"
        },
        {
         "marker": {
          "color": [
           "blue",
           "blue",
           "blue",
           "blue",
           "red",
           "blue",
           "blue",
           "blue",
           "blue",
           "blue",
           "blue",
           "blue",
           "blue",
           "blue",
           "blue",
           "blue",
           "blue",
           "blue",
           "blue",
           "blue",
           "blue",
           "blue",
           "blue",
           "blue",
           "blue",
           "blue",
           "blue",
           "blue",
           "blue",
           "blue",
           "blue",
           "blue",
           "blue",
           "blue",
           "blue",
           "blue",
           "blue",
           "blue",
           "blue",
           "blue",
           "blue",
           "blue",
           "blue",
           "blue",
           "blue",
           "blue",
           "blue",
           "blue",
           "blue",
           "blue"
          ]
         },
         "name": "Par Value Histogram",
         "type": "bar",
         "x": [
          0.12000000000000001,
          0.16,
          0.2,
          0.24,
          0.28,
          0.32,
          0.36,
          0.4,
          0.44,
          0.48,
          0.52,
          0.56,
          0.6,
          0.64,
          0.6799999999999999,
          0.72,
          0.76,
          0.8,
          0.84,
          0.88,
          0.9199999999999999,
          0.96,
          1,
          1.04,
          1.08,
          1.12,
          1.1600000000000001,
          1.2000000000000002,
          1.2400000000000002,
          1.28,
          1.32,
          1.36,
          1.4000000000000001,
          1.4400000000000002,
          1.4800000000000002,
          1.52,
          1.56,
          1.6,
          1.6400000000000001,
          1.6800000000000002,
          1.7200000000000002,
          1.7600000000000002,
          1.8,
          1.84,
          1.8800000000000001,
          1.9200000000000002,
          1.9600000000000002,
          2,
          2.04,
          2.08
         ],
         "xaxis": "x2",
         "y": [
          6,
          0,
          31,
          0,
          46,
          0,
          0,
          32,
          0,
          0,
          22,
          0,
          10,
          0,
          0,
          10,
          0,
          4,
          0,
          0,
          2,
          0,
          1,
          0,
          0,
          1,
          0,
          0,
          0,
          0,
          1,
          0,
          3,
          0,
          1,
          0,
          0,
          2,
          0,
          0,
          0,
          0,
          0,
          0,
          0,
          0,
          0,
          0,
          0,
          1
         ],
         "yaxis": "y2"
        },
        {
         "marker": {
          "color": [
           "blue",
           "blue",
           "blue",
           "blue",
           "blue",
           "red",
           "blue",
           "blue",
           "blue",
           "blue",
           "blue",
           "blue",
           "blue",
           "blue",
           "blue",
           "blue",
           "blue",
           "blue",
           "blue",
           "blue",
           "blue",
           "blue",
           "blue",
           "blue",
           "blue",
           "blue",
           "blue",
           "blue",
           "blue",
           "blue",
           "blue",
           "blue",
           "blue",
           "blue",
           "blue",
           "blue",
           "blue",
           "blue",
           "blue",
           "blue",
           "blue",
           "blue",
           "blue",
           "blue",
           "blue",
           "blue",
           "blue",
           "blue",
           "blue",
           "blue"
          ]
         },
         "name": "Par Value Histogram",
         "type": "bar",
         "x": [
          0.27,
          0.41000000000000003,
          0.55,
          0.6900000000000001,
          0.8300000000000001,
          0.9700000000000001,
          1.11,
          1.25,
          1.3900000000000001,
          1.5300000000000002,
          1.67,
          1.81,
          1.9500000000000002,
          2.0900000000000003,
          2.2300000000000004,
          2.37,
          2.5100000000000007,
          2.6500000000000004,
          2.7900000000000005,
          2.9300000000000006,
          3.0700000000000003,
          3.2100000000000004,
          3.3500000000000005,
          3.49,
          3.630000000000001,
          3.7700000000000005,
          3.9100000000000006,
          4.050000000000001,
          4.19,
          4.33,
          4.470000000000001,
          4.610000000000001,
          4.75,
          4.890000000000001,
          5.030000000000001,
          5.170000000000001,
          5.3100000000000005,
          5.450000000000001,
          5.590000000000001,
          5.73,
          5.870000000000001,
          6.010000000000001,
          6.15,
          6.290000000000001,
          6.430000000000001,
          6.57,
          6.710000000000001,
          6.850000000000001,
          6.99,
          7.130000000000001
         ],
         "xaxis": "x3",
         "y": [
          11,
          7,
          32,
          15,
          38,
          7,
          15,
          19,
          5,
          5,
          2,
          2,
          2,
          1,
          3,
          0,
          0,
          1,
          1,
          0,
          0,
          2,
          2,
          0,
          0,
          1,
          0,
          0,
          0,
          0,
          0,
          0,
          1,
          0,
          0,
          0,
          0,
          0,
          0,
          0,
          0,
          0,
          0,
          0,
          0,
          0,
          0,
          0,
          0,
          1
         ],
         "yaxis": "y3"
        },
        {
         "marker": {
          "color": [
           "blue",
           "blue",
           "blue",
           "blue",
           "blue",
           "blue",
           "red",
           "blue",
           "blue",
           "blue",
           "blue",
           "blue",
           "blue",
           "blue",
           "blue",
           "blue",
           "blue",
           "blue",
           "blue",
           "blue",
           "blue",
           "blue",
           "blue",
           "blue",
           "blue",
           "blue",
           "blue",
           "blue",
           "blue",
           "blue",
           "blue",
           "blue",
           "blue",
           "blue",
           "blue",
           "blue",
           "blue",
           "blue",
           "blue",
           "blue",
           "blue",
           "blue",
           "blue",
           "blue",
           "blue",
           "blue",
           "blue",
           "blue",
           "blue",
           "blue"
          ]
         },
         "name": "Trades Histogram",
         "type": "bar",
         "x": [
          268.81,
          302.43,
          336.05,
          369.67,
          403.29,
          436.90999999999997,
          470.53,
          504.15,
          537.77,
          571.39,
          605.01,
          638.6299999999999,
          672.25,
          705.8699999999999,
          739.49,
          773.1099999999999,
          806.73,
          840.3499999999999,
          873.97,
          907.5899999999999,
          941.21,
          974.8299999999999,
          1008.45,
          1042.07,
          1075.69,
          1109.31,
          1142.9299999999998,
          1176.5499999999997,
          1210.17,
          1243.79,
          1277.4099999999999,
          1311.03,
          1344.6499999999999,
          1378.27,
          1411.8899999999999,
          1445.5099999999998,
          1479.1299999999999,
          1512.75,
          1546.37,
          1579.9899999999998,
          1613.61,
          1647.23,
          1680.85,
          1714.4699999999998,
          1748.09,
          1781.71,
          1815.33,
          1848.9499999999998,
          1882.5699999999997,
          1916.19
         ],
         "xaxis": "x4",
         "y": [
          2,
          3,
          4,
          7,
          12,
          14,
          17,
          21,
          20,
          9,
          6,
          11,
          5,
          9,
          3,
          5,
          6,
          1,
          1,
          3,
          1,
          3,
          0,
          1,
          1,
          1,
          0,
          0,
          1,
          0,
          0,
          2,
          1,
          1,
          0,
          0,
          0,
          0,
          0,
          1,
          0,
          0,
          0,
          0,
          0,
          0,
          0,
          0,
          0,
          1
         ],
         "yaxis": "y4"
        },
        {
         "marker": {
          "color": [
           "blue",
           "blue",
           "blue",
           "blue",
           "blue",
           "blue",
           "blue",
           "blue",
           "red",
           "blue",
           "blue",
           "blue",
           "blue",
           "blue",
           "blue",
           "blue",
           "blue",
           "blue",
           "blue",
           "blue",
           "blue",
           "blue",
           "blue",
           "blue",
           "blue",
           "blue",
           "blue",
           "blue",
           "blue",
           "blue",
           "blue",
           "blue",
           "blue",
           "blue",
           "blue",
           "blue",
           "blue",
           "blue",
           "blue",
           "blue",
           "blue",
           "blue",
           "blue",
           "blue",
           "blue",
           "blue",
           "blue",
           "blue",
           "blue",
           "blue"
          ]
         },
         "name": "Trades Histogram",
         "type": "bar",
         "x": [
          88.99000000000001,
          104.97,
          120.95,
          136.93,
          152.91000000000003,
          168.89,
          184.87,
          200.85000000000002,
          216.82999999999998,
          232.81,
          248.79,
          264.77,
          280.75,
          296.73,
          312.71000000000004,
          328.69000000000005,
          344.67,
          360.65,
          376.63,
          392.61,
          408.59000000000003,
          424.57,
          440.55,
          456.53,
          472.51,
          488.49,
          504.47,
          520.45,
          536.4300000000001,
          552.4100000000001,
          568.3900000000001,
          584.37,
          600.35,
          616.33,
          632.3100000000001,
          648.29,
          664.27,
          680.25,
          696.23,
          712.21,
          728.19,
          744.1700000000001,
          760.15,
          776.13,
          792.11,
          808.09,
          824.07,
          840.05,
          856.03,
          872.01
         ],
         "xaxis": "x5",
         "y": [
          2,
          3,
          1,
          5,
          9,
          8,
          15,
          15,
          14,
          14,
          6,
          11,
          7,
          8,
          8,
          4,
          3,
          3,
          8,
          0,
          1,
          1,
          3,
          4,
          4,
          3,
          2,
          3,
          1,
          2,
          0,
          1,
          0,
          1,
          1,
          0,
          0,
          0,
          0,
          0,
          0,
          0,
          0,
          0,
          0,
          0,
          0,
          1,
          0,
          1
         ],
         "yaxis": "y5"
        },
        {
         "marker": {
          "color": [
           "blue",
           "blue",
           "blue",
           "blue",
           "blue",
           "red",
           "blue",
           "blue",
           "blue",
           "blue",
           "blue",
           "blue",
           "blue",
           "blue",
           "blue",
           "blue",
           "blue",
           "blue",
           "blue",
           "blue",
           "blue",
           "blue",
           "blue",
           "blue",
           "blue",
           "blue",
           "blue",
           "blue",
           "blue",
           "blue",
           "blue",
           "blue",
           "blue",
           "blue",
           "blue",
           "blue",
           "blue",
           "blue",
           "blue",
           "blue",
           "blue",
           "blue",
           "blue",
           "blue",
           "blue",
           "blue",
           "blue",
           "blue",
           "blue",
           "blue"
          ]
         },
         "name": "Trades Histogram",
         "type": "bar",
         "x": [
          165.96,
          183.88,
          201.8,
          219.72,
          237.64000000000001,
          255.56,
          273.48,
          291.4,
          309.32000000000005,
          327.24,
          345.16,
          363.08000000000004,
          381,
          398.92,
          416.84000000000003,
          434.76,
          452.68000000000006,
          470.6,
          488.52000000000004,
          506.44000000000005,
          524.3600000000001,
          542.28,
          560.2,
          578.1200000000001,
          596.04,
          613.96,
          631.8800000000001,
          649.8,
          667.72,
          685.6400000000001,
          703.5600000000001,
          721.48,
          739.4000000000001,
          757.32,
          775.24,
          793.1600000000001,
          811.0800000000002,
          829,
          846.9200000000001,
          864.8400000000001,
          882.76,
          900.6800000000001,
          918.6000000000001,
          936.52,
          954.44,
          972.3600000000001,
          990.2800000000001,
          1008.2,
          1026.12,
          1044.04
         ],
         "xaxis": "x6",
         "y": [
          2,
          6,
          8,
          7,
          19,
          27,
          20,
          16,
          15,
          15,
          6,
          11,
          4,
          0,
          0,
          2,
          2,
          1,
          2,
          1,
          0,
          0,
          0,
          0,
          1,
          0,
          0,
          0,
          0,
          1,
          0,
          0,
          0,
          1,
          0,
          0,
          0,
          1,
          1,
          0,
          0,
          0,
          1,
          0,
          1,
          1,
          0,
          0,
          0,
          1
         ],
         "yaxis": "y6"
        }
       ],
       "layout": {
        "annotations": [
         {
          "font": {
           "color": "black",
           "size": 10
          },
          "showarrow": false,
          "text": "Mean:1",
          "x": 1.4855491329479769,
          "xref": "x",
          "y": 37,
          "yref": "y"
         },
         {
          "font": {
           "color": "green",
           "size": 10
          },
          "showarrow": false,
          "text": "+1SD:3",
          "x": 2.569840203739704,
          "xref": "x",
          "y": 37,
          "yref": "y"
         },
         {
          "font": {
           "color": "green",
           "size": 10
          },
          "showarrow": false,
          "text": "-1SD:0",
          "x": 0.4012580621562498,
          "xref": "x",
          "y": 37,
          "yref": "y"
         },
         {
          "font": {
           "color": "black",
           "size": 10
          },
          "showarrow": false,
          "text": "Mean:0",
          "x": 0.4439306358381502,
          "xref": "x2",
          "y": 57,
          "yref": "y2"
         },
         {
          "font": {
           "color": "green",
           "size": 10
          },
          "showarrow": false,
          "text": "+1SD:1",
          "x": 0.749997680210851,
          "xref": "x2",
          "y": 57,
          "yref": "y2"
         },
         {
          "font": {
           "color": "green",
           "size": 10
          },
          "showarrow": false,
          "text": "-1SD:0",
          "x": 0.1378635914654494,
          "xref": "x2",
          "y": 57,
          "yref": "y2"
         },
         {
          "font": {
           "color": "black",
           "size": 10
          },
          "showarrow": false,
          "text": "Mean:1",
          "x": 1.0456647398843932,
          "xref": "x3",
          "y": 49,
          "yref": "y3"
         },
         {
          "font": {
           "color": "green",
           "size": 10
          },
          "showarrow": false,
          "text": "+1SD:2",
          "x": 1.867509726727011,
          "xref": "x3",
          "y": 49,
          "yref": "y3"
         },
         {
          "font": {
           "color": "green",
           "size": 10
          },
          "showarrow": false,
          "text": "-1SD:0",
          "x": 0.22381975304177537,
          "xref": "x3",
          "y": 49,
          "yref": "y3"
         },
         {
          "font": {
           "color": "black",
           "size": 10
          },
          "showarrow": false,
          "text": "Mean:599",
          "x": 599.0809248554913,
          "xref": "x4",
          "y": 32,
          "yref": "y4"
         },
         {
          "font": {
           "color": "green",
           "size": 10
          },
          "showarrow": false,
          "text": "+1SD:840",
          "x": 839.7978798268961,
          "xref": "x4",
          "y": 32,
          "yref": "y4"
         },
         {
          "font": {
           "color": "green",
           "size": 10
          },
          "showarrow": false,
          "text": "-1SD:358",
          "x": 358.3639698840865,
          "xref": "x4",
          "y": 32,
          "yref": "y4"
         },
         {
          "font": {
           "color": "black",
           "size": 10
          },
          "showarrow": false,
          "text": "Mean:283",
          "x": 283.01734104046244,
          "xref": "x5",
          "y": 26,
          "yref": "y5"
         },
         {
          "font": {
           "color": "green",
           "size": 10
          },
          "showarrow": false,
          "text": "+1SD:414",
          "x": 414.2566306772744,
          "xref": "x5",
          "y": 26,
          "yref": "y5"
         },
         {
          "font": {
           "color": "green",
           "size": 10
          },
          "showarrow": false,
          "text": "-1SD:152",
          "x": 151.7780514036505,
          "xref": "x5",
          "y": 26,
          "yref": "y5"
         },
         {
          "font": {
           "color": "black",
           "size": 10
          },
          "showarrow": false,
          "text": "Mean:316",
          "x": 316.0635838150289,
          "xref": "x6",
          "y": 38,
          "yref": "y6"
         },
         {
          "font": {
           "color": "green",
           "size": 10
          },
          "showarrow": false,
          "text": "+1SD:459",
          "x": 458.8462170382681,
          "xref": "x6",
          "y": 38,
          "yref": "y6"
         },
         {
          "font": {
           "color": "green",
           "size": 10
          },
          "showarrow": false,
          "text": "-1SD:173",
          "x": 173.2809505917897,
          "xref": "x6",
          "y": 38,
          "yref": "y6"
         },
         {
          "font": {
           "size": 13
          },
          "showarrow": false,
          "text": "Total Par Value in Billion",
          "x": 0.12,
          "xanchor": "center",
          "xref": "paper",
          "y": 1.05,
          "yref": "paper"
         },
         {
          "font": {
           "size": 13
          },
          "showarrow": false,
          "text": "ATS & Interdealer Par Value",
          "x": 0.5,
          "xanchor": "center",
          "xref": "paper",
          "y": 1.05,
          "yref": "paper"
         },
         {
          "font": {
           "size": 13
          },
          "showarrow": false,
          "text": "Dealer to Customer Par Value",
          "x": 0.85,
          "xanchor": "center",
          "xref": "paper",
          "y": 1.05,
          "yref": "paper"
         },
         {
          "font": {
           "size": 13
          },
          "showarrow": false,
          "text": "Total Number of Trades",
          "x": 0.12,
          "xanchor": "center",
          "xref": "paper",
          "y": 0.48,
          "yref": "paper"
         },
         {
          "font": {
           "size": 13
          },
          "showarrow": false,
          "text": "ATS & Interdealer Trades",
          "x": 0.5,
          "xanchor": "center",
          "xref": "paper",
          "y": 0.48,
          "yref": "paper"
         },
         {
          "font": {
           "size": 13
          },
          "showarrow": false,
          "text": "Dealer to Customer Trades",
          "x": 0.85,
          "xanchor": "center",
          "xref": "paper",
          "y": 0.48,
          "yref": "paper"
         }
        ],
        "font": {
         "family": "Times New Roman"
        },
        "height": 600,
        "shapes": [
         {
          "line": {
           "color": "black",
           "dash": "dot",
           "width": 2
          },
          "type": "line",
          "x0": 1.4855491329479769,
          "x1": 1.4855491329479769,
          "xref": "x",
          "y0": 0,
          "y1": 36,
          "yref": "y"
         },
         {
          "line": {
           "color": "green",
           "dash": "dot",
           "width": 2
          },
          "type": "line",
          "x0": 2.569840203739704,
          "x1": 2.569840203739704,
          "xref": "x",
          "y0": 0,
          "y1": 36,
          "yref": "y"
         },
         {
          "line": {
           "color": "green",
           "dash": "dot",
           "width": 2
          },
          "type": "line",
          "x0": 0.4012580621562498,
          "x1": 0.4012580621562498,
          "xref": "x",
          "y0": 0,
          "y1": 36,
          "yref": "y"
         },
         {
          "line": {
           "color": "black",
           "dash": "dot",
           "width": 2
          },
          "type": "line",
          "x0": 0.4439306358381502,
          "x1": 0.4439306358381502,
          "xref": "x2",
          "y0": 0,
          "y1": 56,
          "yref": "y2"
         },
         {
          "line": {
           "color": "green",
           "dash": "dot",
           "width": 2
          },
          "type": "line",
          "x0": 0.749997680210851,
          "x1": 0.749997680210851,
          "xref": "x2",
          "y0": 0,
          "y1": 56,
          "yref": "y2"
         },
         {
          "line": {
           "color": "green",
           "dash": "dot",
           "width": 2
          },
          "type": "line",
          "x0": 0.1378635914654494,
          "x1": 0.1378635914654494,
          "xref": "x2",
          "y0": 0,
          "y1": 56,
          "yref": "y2"
         },
         {
          "line": {
           "color": "black",
           "dash": "dot",
           "width": 2
          },
          "type": "line",
          "x0": 1.0456647398843932,
          "x1": 1.0456647398843932,
          "xref": "x3",
          "y0": 0,
          "y1": 48,
          "yref": "y3"
         },
         {
          "line": {
           "color": "green",
           "dash": "dot",
           "width": 2
          },
          "type": "line",
          "x0": 1.867509726727011,
          "x1": 1.867509726727011,
          "xref": "x3",
          "y0": 0,
          "y1": 48,
          "yref": "y3"
         },
         {
          "line": {
           "color": "green",
           "dash": "dot",
           "width": 2
          },
          "type": "line",
          "x0": 0.22381975304177537,
          "x1": 0.22381975304177537,
          "xref": "x3",
          "y0": 0,
          "y1": 48,
          "yref": "y3"
         },
         {
          "line": {
           "color": "black",
           "dash": "dot",
           "width": 2
          },
          "type": "line",
          "x0": 599.0809248554913,
          "x1": 599.0809248554913,
          "xref": "x4",
          "y0": 0,
          "y1": 31,
          "yref": "y4"
         },
         {
          "line": {
           "color": "green",
           "dash": "dot",
           "width": 2
          },
          "type": "line",
          "x0": 839.7978798268961,
          "x1": 839.7978798268961,
          "xref": "x4",
          "y0": 0,
          "y1": 31,
          "yref": "y4"
         },
         {
          "line": {
           "color": "green",
           "dash": "dot",
           "width": 2
          },
          "type": "line",
          "x0": 358.3639698840865,
          "x1": 358.3639698840865,
          "xref": "x4",
          "y0": 0,
          "y1": 31,
          "yref": "y4"
         },
         {
          "line": {
           "color": "black",
           "dash": "dot",
           "width": 2
          },
          "type": "line",
          "x0": 283.01734104046244,
          "x1": 283.01734104046244,
          "xref": "x5",
          "y0": 0,
          "y1": 25,
          "yref": "y5"
         },
         {
          "line": {
           "color": "green",
           "dash": "dot",
           "width": 2
          },
          "type": "line",
          "x0": 414.2566306772744,
          "x1": 414.2566306772744,
          "xref": "x5",
          "y0": 0,
          "y1": 25,
          "yref": "y5"
         },
         {
          "line": {
           "color": "green",
           "dash": "dot",
           "width": 2
          },
          "type": "line",
          "x0": 151.7780514036505,
          "x1": 151.7780514036505,
          "xref": "x5",
          "y0": 0,
          "y1": 25,
          "yref": "y5"
         },
         {
          "line": {
           "color": "black",
           "dash": "dot",
           "width": 2
          },
          "type": "line",
          "x0": 316.0635838150289,
          "x1": 316.0635838150289,
          "xref": "x6",
          "y0": 0,
          "y1": 37,
          "yref": "y6"
         },
         {
          "line": {
           "color": "green",
           "dash": "dot",
           "width": 2
          },
          "type": "line",
          "x0": 458.8462170382681,
          "x1": 458.8462170382681,
          "xref": "x6",
          "y0": 0,
          "y1": 37,
          "yref": "y6"
         },
         {
          "line": {
           "color": "green",
           "dash": "dot",
           "width": 2
          },
          "type": "line",
          "x0": 173.2809505917897,
          "x1": 173.2809505917897,
          "xref": "x6",
          "y0": 0,
          "y1": 37,
          "yref": "y6"
         }
        ],
        "showlegend": false,
        "template": {
         "data": {
          "bar": [
           {
            "error_x": {
             "color": "#2a3f5f"
            },
            "error_y": {
             "color": "#2a3f5f"
            },
            "marker": {
             "line": {
              "color": "#E5ECF6",
              "width": 0.5
             },
             "pattern": {
              "fillmode": "overlay",
              "size": 10,
              "solidity": 0.2
             }
            },
            "type": "bar"
           }
          ],
          "barpolar": [
           {
            "marker": {
             "line": {
              "color": "#E5ECF6",
              "width": 0.5
             },
             "pattern": {
              "fillmode": "overlay",
              "size": 10,
              "solidity": 0.2
             }
            },
            "type": "barpolar"
           }
          ],
          "carpet": [
           {
            "aaxis": {
             "endlinecolor": "#2a3f5f",
             "gridcolor": "white",
             "linecolor": "white",
             "minorgridcolor": "white",
             "startlinecolor": "#2a3f5f"
            },
            "baxis": {
             "endlinecolor": "#2a3f5f",
             "gridcolor": "white",
             "linecolor": "white",
             "minorgridcolor": "white",
             "startlinecolor": "#2a3f5f"
            },
            "type": "carpet"
           }
          ],
          "choropleth": [
           {
            "colorbar": {
             "outlinewidth": 0,
             "ticks": ""
            },
            "type": "choropleth"
           }
          ],
          "contour": [
           {
            "colorbar": {
             "outlinewidth": 0,
             "ticks": ""
            },
            "colorscale": [
             [
              0,
              "#0d0887"
             ],
             [
              0.1111111111111111,
              "#46039f"
             ],
             [
              0.2222222222222222,
              "#7201a8"
             ],
             [
              0.3333333333333333,
              "#9c179e"
             ],
             [
              0.4444444444444444,
              "#bd3786"
             ],
             [
              0.5555555555555556,
              "#d8576b"
             ],
             [
              0.6666666666666666,
              "#ed7953"
             ],
             [
              0.7777777777777778,
              "#fb9f3a"
             ],
             [
              0.8888888888888888,
              "#fdca26"
             ],
             [
              1,
              "#f0f921"
             ]
            ],
            "type": "contour"
           }
          ],
          "contourcarpet": [
           {
            "colorbar": {
             "outlinewidth": 0,
             "ticks": ""
            },
            "type": "contourcarpet"
           }
          ],
          "heatmap": [
           {
            "colorbar": {
             "outlinewidth": 0,
             "ticks": ""
            },
            "colorscale": [
             [
              0,
              "#0d0887"
             ],
             [
              0.1111111111111111,
              "#46039f"
             ],
             [
              0.2222222222222222,
              "#7201a8"
             ],
             [
              0.3333333333333333,
              "#9c179e"
             ],
             [
              0.4444444444444444,
              "#bd3786"
             ],
             [
              0.5555555555555556,
              "#d8576b"
             ],
             [
              0.6666666666666666,
              "#ed7953"
             ],
             [
              0.7777777777777778,
              "#fb9f3a"
             ],
             [
              0.8888888888888888,
              "#fdca26"
             ],
             [
              1,
              "#f0f921"
             ]
            ],
            "type": "heatmap"
           }
          ],
          "heatmapgl": [
           {
            "colorbar": {
             "outlinewidth": 0,
             "ticks": ""
            },
            "colorscale": [
             [
              0,
              "#0d0887"
             ],
             [
              0.1111111111111111,
              "#46039f"
             ],
             [
              0.2222222222222222,
              "#7201a8"
             ],
             [
              0.3333333333333333,
              "#9c179e"
             ],
             [
              0.4444444444444444,
              "#bd3786"
             ],
             [
              0.5555555555555556,
              "#d8576b"
             ],
             [
              0.6666666666666666,
              "#ed7953"
             ],
             [
              0.7777777777777778,
              "#fb9f3a"
             ],
             [
              0.8888888888888888,
              "#fdca26"
             ],
             [
              1,
              "#f0f921"
             ]
            ],
            "type": "heatmapgl"
           }
          ],
          "histogram": [
           {
            "marker": {
             "pattern": {
              "fillmode": "overlay",
              "size": 10,
              "solidity": 0.2
             }
            },
            "type": "histogram"
           }
          ],
          "histogram2d": [
           {
            "colorbar": {
             "outlinewidth": 0,
             "ticks": ""
            },
            "colorscale": [
             [
              0,
              "#0d0887"
             ],
             [
              0.1111111111111111,
              "#46039f"
             ],
             [
              0.2222222222222222,
              "#7201a8"
             ],
             [
              0.3333333333333333,
              "#9c179e"
             ],
             [
              0.4444444444444444,
              "#bd3786"
             ],
             [
              0.5555555555555556,
              "#d8576b"
             ],
             [
              0.6666666666666666,
              "#ed7953"
             ],
             [
              0.7777777777777778,
              "#fb9f3a"
             ],
             [
              0.8888888888888888,
              "#fdca26"
             ],
             [
              1,
              "#f0f921"
             ]
            ],
            "type": "histogram2d"
           }
          ],
          "histogram2dcontour": [
           {
            "colorbar": {
             "outlinewidth": 0,
             "ticks": ""
            },
            "colorscale": [
             [
              0,
              "#0d0887"
             ],
             [
              0.1111111111111111,
              "#46039f"
             ],
             [
              0.2222222222222222,
              "#7201a8"
             ],
             [
              0.3333333333333333,
              "#9c179e"
             ],
             [
              0.4444444444444444,
              "#bd3786"
             ],
             [
              0.5555555555555556,
              "#d8576b"
             ],
             [
              0.6666666666666666,
              "#ed7953"
             ],
             [
              0.7777777777777778,
              "#fb9f3a"
             ],
             [
              0.8888888888888888,
              "#fdca26"
             ],
             [
              1,
              "#f0f921"
             ]
            ],
            "type": "histogram2dcontour"
           }
          ],
          "mesh3d": [
           {
            "colorbar": {
             "outlinewidth": 0,
             "ticks": ""
            },
            "type": "mesh3d"
           }
          ],
          "parcoords": [
           {
            "line": {
             "colorbar": {
              "outlinewidth": 0,
              "ticks": ""
             }
            },
            "type": "parcoords"
           }
          ],
          "pie": [
           {
            "automargin": true,
            "type": "pie"
           }
          ],
          "scatter": [
           {
            "fillpattern": {
             "fillmode": "overlay",
             "size": 10,
             "solidity": 0.2
            },
            "type": "scatter"
           }
          ],
          "scatter3d": [
           {
            "line": {
             "colorbar": {
              "outlinewidth": 0,
              "ticks": ""
             }
            },
            "marker": {
             "colorbar": {
              "outlinewidth": 0,
              "ticks": ""
             }
            },
            "type": "scatter3d"
           }
          ],
          "scattercarpet": [
           {
            "marker": {
             "colorbar": {
              "outlinewidth": 0,
              "ticks": ""
             }
            },
            "type": "scattercarpet"
           }
          ],
          "scattergeo": [
           {
            "marker": {
             "colorbar": {
              "outlinewidth": 0,
              "ticks": ""
             }
            },
            "type": "scattergeo"
           }
          ],
          "scattergl": [
           {
            "marker": {
             "colorbar": {
              "outlinewidth": 0,
              "ticks": ""
             }
            },
            "type": "scattergl"
           }
          ],
          "scattermapbox": [
           {
            "marker": {
             "colorbar": {
              "outlinewidth": 0,
              "ticks": ""
             }
            },
            "type": "scattermapbox"
           }
          ],
          "scatterpolar": [
           {
            "marker": {
             "colorbar": {
              "outlinewidth": 0,
              "ticks": ""
             }
            },
            "type": "scatterpolar"
           }
          ],
          "scatterpolargl": [
           {
            "marker": {
             "colorbar": {
              "outlinewidth": 0,
              "ticks": ""
             }
            },
            "type": "scatterpolargl"
           }
          ],
          "scatterternary": [
           {
            "marker": {
             "colorbar": {
              "outlinewidth": 0,
              "ticks": ""
             }
            },
            "type": "scatterternary"
           }
          ],
          "surface": [
           {
            "colorbar": {
             "outlinewidth": 0,
             "ticks": ""
            },
            "colorscale": [
             [
              0,
              "#0d0887"
             ],
             [
              0.1111111111111111,
              "#46039f"
             ],
             [
              0.2222222222222222,
              "#7201a8"
             ],
             [
              0.3333333333333333,
              "#9c179e"
             ],
             [
              0.4444444444444444,
              "#bd3786"
             ],
             [
              0.5555555555555556,
              "#d8576b"
             ],
             [
              0.6666666666666666,
              "#ed7953"
             ],
             [
              0.7777777777777778,
              "#fb9f3a"
             ],
             [
              0.8888888888888888,
              "#fdca26"
             ],
             [
              1,
              "#f0f921"
             ]
            ],
            "type": "surface"
           }
          ],
          "table": [
           {
            "cells": {
             "fill": {
              "color": "#EBF0F8"
             },
             "line": {
              "color": "white"
             }
            },
            "header": {
             "fill": {
              "color": "#C8D4E3"
             },
             "line": {
              "color": "white"
             }
            },
            "type": "table"
           }
          ]
         },
         "layout": {
          "annotationdefaults": {
           "arrowcolor": "#2a3f5f",
           "arrowhead": 0,
           "arrowwidth": 1
          },
          "autotypenumbers": "strict",
          "coloraxis": {
           "colorbar": {
            "outlinewidth": 0,
            "ticks": ""
           }
          },
          "colorscale": {
           "diverging": [
            [
             0,
             "#8e0152"
            ],
            [
             0.1,
             "#c51b7d"
            ],
            [
             0.2,
             "#de77ae"
            ],
            [
             0.3,
             "#f1b6da"
            ],
            [
             0.4,
             "#fde0ef"
            ],
            [
             0.5,
             "#f7f7f7"
            ],
            [
             0.6,
             "#e6f5d0"
            ],
            [
             0.7,
             "#b8e186"
            ],
            [
             0.8,
             "#7fbc41"
            ],
            [
             0.9,
             "#4d9221"
            ],
            [
             1,
             "#276419"
            ]
           ],
           "sequential": [
            [
             0,
             "#0d0887"
            ],
            [
             0.1111111111111111,
             "#46039f"
            ],
            [
             0.2222222222222222,
             "#7201a8"
            ],
            [
             0.3333333333333333,
             "#9c179e"
            ],
            [
             0.4444444444444444,
             "#bd3786"
            ],
            [
             0.5555555555555556,
             "#d8576b"
            ],
            [
             0.6666666666666666,
             "#ed7953"
            ],
            [
             0.7777777777777778,
             "#fb9f3a"
            ],
            [
             0.8888888888888888,
             "#fdca26"
            ],
            [
             1,
             "#f0f921"
            ]
           ],
           "sequentialminus": [
            [
             0,
             "#0d0887"
            ],
            [
             0.1111111111111111,
             "#46039f"
            ],
            [
             0.2222222222222222,
             "#7201a8"
            ],
            [
             0.3333333333333333,
             "#9c179e"
            ],
            [
             0.4444444444444444,
             "#bd3786"
            ],
            [
             0.5555555555555556,
             "#d8576b"
            ],
            [
             0.6666666666666666,
             "#ed7953"
            ],
            [
             0.7777777777777778,
             "#fb9f3a"
            ],
            [
             0.8888888888888888,
             "#fdca26"
            ],
            [
             1,
             "#f0f921"
            ]
           ]
          },
          "colorway": [
           "#636efa",
           "#EF553B",
           "#00cc96",
           "#ab63fa",
           "#FFA15A",
           "#19d3f3",
           "#FF6692",
           "#B6E880",
           "#FF97FF",
           "#FECB52"
          ],
          "font": {
           "color": "#2a3f5f"
          },
          "geo": {
           "bgcolor": "white",
           "lakecolor": "white",
           "landcolor": "#E5ECF6",
           "showlakes": true,
           "showland": true,
           "subunitcolor": "white"
          },
          "hoverlabel": {
           "align": "left"
          },
          "hovermode": "closest",
          "mapbox": {
           "style": "light"
          },
          "paper_bgcolor": "white",
          "plot_bgcolor": "#E5ECF6",
          "polar": {
           "angularaxis": {
            "gridcolor": "white",
            "linecolor": "white",
            "ticks": ""
           },
           "bgcolor": "#E5ECF6",
           "radialaxis": {
            "gridcolor": "white",
            "linecolor": "white",
            "ticks": ""
           }
          },
          "scene": {
           "xaxis": {
            "backgroundcolor": "#E5ECF6",
            "gridcolor": "white",
            "gridwidth": 2,
            "linecolor": "white",
            "showbackground": true,
            "ticks": "",
            "zerolinecolor": "white"
           },
           "yaxis": {
            "backgroundcolor": "#E5ECF6",
            "gridcolor": "white",
            "gridwidth": 2,
            "linecolor": "white",
            "showbackground": true,
            "ticks": "",
            "zerolinecolor": "white"
           },
           "zaxis": {
            "backgroundcolor": "#E5ECF6",
            "gridcolor": "white",
            "gridwidth": 2,
            "linecolor": "white",
            "showbackground": true,
            "ticks": "",
            "zerolinecolor": "white"
           }
          },
          "shapedefaults": {
           "line": {
            "color": "#2a3f5f"
           }
          },
          "ternary": {
           "aaxis": {
            "gridcolor": "white",
            "linecolor": "white",
            "ticks": ""
           },
           "baxis": {
            "gridcolor": "white",
            "linecolor": "white",
            "ticks": ""
           },
           "bgcolor": "#E5ECF6",
           "caxis": {
            "gridcolor": "white",
            "linecolor": "white",
            "ticks": ""
           }
          },
          "title": {
           "x": 0.05
          },
          "xaxis": {
           "automargin": true,
           "gridcolor": "white",
           "linecolor": "white",
           "ticks": "",
           "title": {
            "standoff": 15
           },
           "zerolinecolor": "white",
           "zerolinewidth": 2
          },
          "yaxis": {
           "automargin": true,
           "gridcolor": "white",
           "linecolor": "white",
           "ticks": "",
           "title": {
            "standoff": 15
           },
           "zerolinecolor": "white",
           "zerolinewidth": 2
          }
         }
        },
        "title": {
         "text": "> 10 years TRACE 180-day Dist, As of: 2024-09-18"
        },
        "width": 1400,
        "xaxis": {
         "anchor": "y",
         "domain": [
          0,
          0.29333333333333333
         ]
        },
        "xaxis2": {
         "anchor": "y2",
         "domain": [
          0.35333333333333333,
          0.6466666666666667
         ]
        },
        "xaxis3": {
         "anchor": "y3",
         "domain": [
          0.7066666666666667,
          1
         ]
        },
        "xaxis4": {
         "anchor": "y4",
         "domain": [
          0,
          0.29333333333333333
         ]
        },
        "xaxis5": {
         "anchor": "y5",
         "domain": [
          0.35333333333333333,
          0.6466666666666667
         ]
        },
        "xaxis6": {
         "anchor": "y6",
         "domain": [
          0.7066666666666667,
          1
         ]
        },
        "yaxis": {
         "anchor": "x",
         "domain": [
          0.545,
          1
         ]
        },
        "yaxis2": {
         "anchor": "x2",
         "domain": [
          0.545,
          1
         ]
        },
        "yaxis3": {
         "anchor": "x3",
         "domain": [
          0.545,
          1
         ]
        },
        "yaxis4": {
         "anchor": "x4",
         "domain": [
          0,
          0.455
         ]
        },
        "yaxis5": {
         "anchor": "x5",
         "domain": [
          0,
          0.455
         ]
        },
        "yaxis6": {
         "anchor": "x6",
         "domain": [
          0,
          0.455
         ]
        }
       }
      }
     },
     "metadata": {},
     "output_type": "display_data"
    },
    {
     "name": "stdout",
     "output_type": "stream",
     "text": [
      "Saved plot as tenor_10yearsOntherun_distribution_180_days.png\n"
     ]
    },
    {
     "data": {
      "application/vnd.plotly.v1+json": {
       "config": {
        "plotlyServerURL": "https://plot.ly"
       },
       "data": [
        {
         "marker": {
          "color": [
           "blue",
           "blue",
           "red",
           "blue",
           "blue",
           "blue",
           "blue",
           "blue",
           "blue",
           "blue",
           "blue",
           "blue",
           "blue",
           "blue",
           "blue",
           "blue",
           "blue",
           "blue",
           "blue",
           "blue",
           "blue",
           "blue",
           "blue",
           "blue",
           "blue",
           "blue",
           "blue",
           "blue",
           "blue",
           "blue",
           "blue",
           "blue",
           "blue",
           "blue",
           "blue",
           "blue",
           "blue",
           "blue",
           "blue",
           "blue",
           "blue",
           "blue",
           "blue",
           "blue",
           "blue",
           "blue",
           "blue",
           "blue",
           "blue",
           "blue"
          ]
         },
         "name": "Par Value Histogram",
         "type": "bar",
         "x": [
          0.264,
          0.392,
          0.52,
          0.648,
          0.776,
          0.904,
          1.032,
          1.1600000000000001,
          1.288,
          1.416,
          1.544,
          1.672,
          1.8,
          1.928,
          2.056,
          2.184,
          2.3120000000000003,
          2.4400000000000004,
          2.5680000000000005,
          2.696,
          2.8240000000000003,
          2.952,
          3.08,
          3.208,
          3.3360000000000003,
          3.4640000000000004,
          3.5920000000000005,
          3.72,
          3.8480000000000003,
          3.976,
          4.104,
          4.232,
          4.36,
          4.488,
          4.6160000000000005,
          4.744000000000001,
          4.872,
          5,
          5.128,
          5.256,
          5.384,
          5.5120000000000005,
          5.640000000000001,
          5.768000000000001,
          5.896,
          6.024,
          6.152,
          6.28,
          6.408,
          6.536
         ],
         "xaxis": "x",
         "y": [
          12,
          15,
          23,
          40,
          26,
          14,
          8,
          9,
          6,
          4,
          4,
          1,
          2,
          1,
          1,
          1,
          1,
          1,
          0,
          0,
          0,
          0,
          0,
          0,
          1,
          0,
          0,
          0,
          1,
          0,
          0,
          0,
          0,
          1,
          0,
          0,
          0,
          0,
          0,
          0,
          0,
          0,
          0,
          0,
          0,
          0,
          0,
          0,
          0,
          1
         ],
         "yaxis": "y"
        },
        {
         "marker": {
          "color": [
           "blue",
           "blue",
           "blue",
           "blue",
           "blue",
           "red",
           "blue",
           "blue",
           "blue",
           "blue",
           "blue",
           "blue",
           "blue",
           "blue",
           "blue",
           "blue",
           "blue",
           "blue",
           "blue",
           "blue",
           "blue",
           "blue",
           "blue",
           "blue",
           "blue",
           "blue",
           "blue",
           "blue",
           "blue",
           "blue",
           "blue",
           "blue",
           "blue",
           "blue",
           "blue",
           "blue",
           "blue",
           "blue",
           "blue",
           "blue",
           "blue",
           "blue",
           "blue",
           "blue",
           "blue",
           "blue",
           "blue",
           "blue",
           "blue",
           "blue"
          ]
         },
         "name": "Par Value Histogram",
         "type": "bar",
         "x": [
          0.017,
          0.051000000000000004,
          0.085,
          0.11900000000000001,
          0.15300000000000002,
          0.187,
          0.22100000000000003,
          0.255,
          0.28900000000000003,
          0.32300000000000006,
          0.357,
          0.391,
          0.42500000000000004,
          0.4590000000000001,
          0.493,
          0.527,
          0.561,
          0.5950000000000001,
          0.629,
          0.663,
          0.6970000000000001,
          0.7310000000000001,
          0.765,
          0.799,
          0.8330000000000001,
          0.8670000000000001,
          0.901,
          0.935,
          0.9690000000000001,
          1.0030000000000001,
          1.037,
          1.0710000000000002,
          1.105,
          1.1390000000000002,
          1.173,
          1.2070000000000003,
          1.241,
          1.275,
          1.3090000000000002,
          1.343,
          1.3770000000000002,
          1.411,
          1.4450000000000003,
          1.479,
          1.513,
          1.5470000000000002,
          1.581,
          1.6150000000000002,
          1.649,
          1.683
         ],
         "xaxis": "x2",
         "y": [
          1,
          0,
          19,
          0,
          0,
          55,
          0,
          0,
          44,
          0,
          0,
          23,
          0,
          0,
          14,
          0,
          0,
          7,
          0,
          0,
          0,
          0,
          0,
          2,
          0,
          0,
          5,
          0,
          0,
          0,
          0,
          0,
          0,
          0,
          0,
          1,
          0,
          0,
          0,
          0,
          0,
          0,
          0,
          0,
          1,
          0,
          0,
          0,
          0,
          1
         ],
         "yaxis": "y2"
        },
        {
         "marker": {
          "color": [
           "blue",
           "blue",
           "red",
           "blue",
           "blue",
           "blue",
           "blue",
           "blue",
           "blue",
           "blue",
           "blue",
           "blue",
           "blue",
           "blue",
           "blue",
           "blue",
           "blue",
           "blue",
           "blue",
           "blue",
           "blue",
           "blue",
           "blue",
           "blue",
           "blue",
           "blue",
           "blue",
           "blue",
           "blue",
           "blue",
           "blue",
           "blue",
           "blue",
           "blue",
           "blue",
           "blue",
           "blue",
           "blue",
           "blue",
           "blue",
           "blue",
           "blue",
           "blue",
           "blue",
           "blue",
           "blue",
           "blue",
           "blue",
           "blue",
           "blue"
          ]
         },
         "name": "Par Value Histogram",
         "type": "bar",
         "x": [
          0.14800000000000002,
          0.24400000000000002,
          0.34,
          0.43600000000000005,
          0.532,
          0.6280000000000001,
          0.7240000000000001,
          0.8200000000000001,
          0.9160000000000001,
          1.0120000000000002,
          1.1080000000000003,
          1.2040000000000002,
          1.3000000000000003,
          1.3960000000000004,
          1.4920000000000004,
          1.5880000000000003,
          1.6840000000000004,
          1.7800000000000002,
          1.8760000000000003,
          1.9720000000000004,
          2.0680000000000005,
          2.1640000000000006,
          2.2600000000000007,
          2.3560000000000003,
          2.4520000000000004,
          2.5480000000000005,
          2.6440000000000006,
          2.7400000000000007,
          2.8360000000000003,
          2.9320000000000004,
          3.0280000000000005,
          3.1240000000000006,
          3.2200000000000006,
          3.3160000000000007,
          3.412000000000001,
          3.508000000000001,
          3.6040000000000005,
          3.7000000000000006,
          3.7960000000000007,
          3.892000000000001,
          3.9880000000000004,
          4.0840000000000005,
          4.180000000000001,
          4.276000000000001,
          4.372,
          4.468,
          4.564,
          4.66,
          4.756,
          4.852
         ],
         "xaxis": "x3",
         "y": [
          4,
          27,
          28,
          28,
          31,
          17,
          8,
          6,
          8,
          5,
          3,
          0,
          2,
          0,
          0,
          1,
          1,
          0,
          0,
          0,
          0,
          0,
          1,
          0,
          0,
          0,
          1,
          0,
          0,
          0,
          0,
          0,
          0,
          0,
          1,
          0,
          0,
          0,
          0,
          0,
          0,
          0,
          0,
          0,
          0,
          0,
          0,
          0,
          0,
          1
         ],
         "yaxis": "y3"
        },
        {
         "marker": {
          "color": [
           "blue",
           "blue",
           "blue",
           "blue",
           "blue",
           "blue",
           "blue",
           "blue",
           "blue",
           "blue",
           "red",
           "blue",
           "blue",
           "blue",
           "blue",
           "blue",
           "blue",
           "blue",
           "blue",
           "blue",
           "blue",
           "blue",
           "blue",
           "blue",
           "blue",
           "blue",
           "blue",
           "blue",
           "blue",
           "blue",
           "blue",
           "blue",
           "blue",
           "blue",
           "blue",
           "blue",
           "blue",
           "blue",
           "blue",
           "blue",
           "blue",
           "blue",
           "blue",
           "blue",
           "blue",
           "blue",
           "blue",
           "blue",
           "blue",
           "blue"
          ]
         },
         "name": "Trades Histogram",
         "type": "bar",
         "x": [
          54.17,
          62.510000000000005,
          70.85,
          79.19,
          87.53,
          95.87,
          104.21,
          112.55,
          120.89,
          129.23000000000002,
          137.57,
          145.91,
          154.25,
          162.59,
          170.93,
          179.26999999999998,
          187.61,
          195.95,
          204.29000000000002,
          212.63,
          220.97,
          229.31,
          237.64999999999998,
          245.99,
          254.32999999999998,
          262.67,
          271.01,
          279.35,
          287.69,
          296.03,
          304.37,
          312.71000000000004,
          321.04999999999995,
          329.39,
          337.73,
          346.07,
          354.40999999999997,
          362.75,
          371.09000000000003,
          379.43,
          387.77,
          396.11,
          404.45,
          412.78999999999996,
          421.13,
          429.47,
          437.81,
          446.15,
          454.49,
          462.83
         ],
         "xaxis": "x4",
         "y": [
          3,
          1,
          3,
          12,
          15,
          20,
          13,
          15,
          17,
          15,
          9,
          9,
          9,
          7,
          3,
          5,
          1,
          4,
          1,
          1,
          2,
          0,
          0,
          0,
          1,
          1,
          0,
          1,
          0,
          0,
          1,
          0,
          0,
          0,
          0,
          0,
          0,
          0,
          0,
          0,
          0,
          0,
          0,
          0,
          1,
          0,
          1,
          0,
          1,
          1
         ],
         "yaxis": "y4"
        },
        {
         "marker": {
          "color": [
           "blue",
           "blue",
           "blue",
           "blue",
           "blue",
           "blue",
           "blue",
           "blue",
           "blue",
           "blue",
           "blue",
           "blue",
           "red",
           "blue",
           "blue",
           "blue",
           "blue",
           "blue",
           "blue",
           "blue",
           "blue",
           "blue",
           "blue",
           "blue",
           "blue",
           "blue",
           "blue",
           "blue",
           "blue",
           "blue",
           "blue",
           "blue",
           "blue",
           "blue",
           "blue",
           "blue",
           "blue",
           "blue",
           "blue",
           "blue",
           "blue",
           "blue",
           "blue",
           "blue",
           "blue",
           "blue",
           "blue",
           "blue",
           "blue",
           "blue"
          ]
         },
         "name": "Trades Histogram",
         "type": "bar",
         "x": [
          21.15,
          25.450000000000003,
          29.75,
          34.05,
          38.35,
          42.65,
          46.949999999999996,
          51.25,
          55.55,
          59.849999999999994,
          64.15,
          68.44999999999999,
          72.75,
          77.05,
          81.35,
          85.65,
          89.94999999999999,
          94.25,
          98.55,
          102.85,
          107.15,
          111.44999999999999,
          115.75,
          120.04999999999998,
          124.35,
          128.65,
          132.95,
          137.25,
          141.54999999999998,
          145.85,
          150.14999999999998,
          154.45,
          158.75,
          163.05,
          167.35,
          171.64999999999998,
          175.95,
          180.25,
          184.55,
          188.85,
          193.14999999999998,
          197.45,
          201.75,
          206.05,
          210.35,
          214.64999999999998,
          218.95,
          223.25,
          227.54999999999998,
          231.85
         ],
         "xaxis": "x5",
         "y": [
          2,
          0,
          3,
          3,
          6,
          10,
          18,
          15,
          16,
          13,
          23,
          10,
          12,
          11,
          2,
          4,
          3,
          2,
          3,
          4,
          2,
          2,
          0,
          1,
          1,
          0,
          0,
          0,
          2,
          1,
          0,
          0,
          0,
          0,
          0,
          0,
          0,
          0,
          0,
          1,
          1,
          0,
          0,
          1,
          0,
          0,
          0,
          0,
          0,
          1
         ],
         "yaxis": "y5"
        },
        {
         "marker": {
          "color": [
           "blue",
           "blue",
           "blue",
           "blue",
           "blue",
           "blue",
           "blue",
           "red",
           "blue",
           "blue",
           "blue",
           "blue",
           "blue",
           "blue",
           "blue",
           "blue",
           "blue",
           "blue",
           "blue",
           "blue",
           "blue",
           "blue",
           "blue",
           "blue",
           "blue",
           "blue",
           "blue",
           "blue",
           "blue",
           "blue",
           "blue",
           "blue",
           "blue",
           "blue",
           "blue",
           "blue",
           "blue",
           "blue",
           "blue",
           "blue",
           "blue",
           "blue",
           "blue",
           "blue",
           "blue",
           "blue",
           "blue",
           "blue",
           "blue",
           "blue"
          ]
         },
         "name": "Trades Histogram",
         "type": "bar",
         "x": [
          29.36,
          34.08,
          38.8,
          43.519999999999996,
          48.239999999999995,
          52.959999999999994,
          57.68,
          62.39999999999999,
          67.11999999999999,
          71.83999999999999,
          76.55999999999999,
          81.28,
          86,
          90.72,
          95.44,
          100.16,
          104.88,
          109.6,
          114.32,
          119.03999999999999,
          123.75999999999999,
          128.48,
          133.2,
          137.92000000000002,
          142.64,
          147.36,
          152.07999999999998,
          156.8,
          161.51999999999998,
          166.24,
          170.95999999999998,
          175.68,
          180.39999999999998,
          185.12,
          189.83999999999997,
          194.56,
          199.27999999999997,
          204,
          208.71999999999997,
          213.44,
          218.15999999999997,
          222.88,
          227.59999999999997,
          232.32,
          237.03999999999996,
          241.76,
          246.47999999999996,
          251.2,
          255.92,
          260.64
         ],
         "xaxis": "x6",
         "y": [
          3,
          13,
          13,
          15,
          27,
          16,
          9,
          10,
          17,
          9,
          6,
          8,
          5,
          5,
          3,
          4,
          1,
          0,
          1,
          0,
          1,
          0,
          0,
          1,
          0,
          0,
          0,
          2,
          0,
          0,
          0,
          0,
          0,
          0,
          0,
          0,
          0,
          1,
          0,
          0,
          0,
          0,
          1,
          0,
          0,
          0,
          0,
          0,
          0,
          2
         ],
         "yaxis": "y6"
        }
       ],
       "layout": {
        "annotations": [
         {
          "font": {
           "color": "black",
           "size": 10
          },
          "showarrow": false,
          "text": "Mean:1",
          "x": 0.8815028901734104,
          "xref": "x",
          "y": 51,
          "yref": "y"
         },
         {
          "font": {
           "color": "green",
           "size": 10
          },
          "showarrow": false,
          "text": "+1SD:2",
          "x": 1.6045376363725818,
          "xref": "x",
          "y": 51,
          "yref": "y"
         },
         {
          "font": {
           "color": "green",
           "size": 10
          },
          "showarrow": false,
          "text": "-1SD:0",
          "x": 0.15846814397423903,
          "xref": "x",
          "y": 51,
          "yref": "y"
         },
         {
          "font": {
           "color": "black",
           "size": 10
          },
          "showarrow": false,
          "text": "Mean:0",
          "x": 0.32947976878612717,
          "xref": "x2",
          "y": 66,
          "yref": "y2"
         },
         {
          "font": {
           "color": "green",
           "size": 10
          },
          "showarrow": false,
          "text": "+1SD:1",
          "x": 0.5598307598203894,
          "xref": "x2",
          "y": 66,
          "yref": "y2"
         },
         {
          "font": {
           "color": "green",
           "size": 10
          },
          "showarrow": false,
          "text": "-1SD:0",
          "x": 0.0991287777518649,
          "xref": "x2",
          "y": 66,
          "yref": "y2"
         },
         {
          "font": {
           "color": "black",
           "size": 10
          },
          "showarrow": false,
          "text": "Mean:1",
          "x": 0.5554913294797688,
          "xref": "x3",
          "y": 42,
          "yref": "y3"
         },
         {
          "font": {
           "color": "green",
           "size": 10
          },
          "showarrow": false,
          "text": "+1SD:1",
          "x": 1.0818337268685636,
          "xref": "x3",
          "y": 42,
          "yref": "y3"
         },
         {
          "font": {
           "color": "green",
           "size": 10
          },
          "showarrow": false,
          "text": "-1SD:0",
          "x": 0.029148932090974022,
          "xref": "x3",
          "y": 42,
          "yref": "y3"
         },
         {
          "font": {
           "color": "black",
           "size": 10
          },
          "showarrow": false,
          "text": "Mean:132",
          "x": 132.09248554913296,
          "xref": "x4",
          "y": 31,
          "yref": "y4"
         },
         {
          "font": {
           "color": "green",
           "size": 10
          },
          "showarrow": false,
          "text": "+1SD:195",
          "x": 195.2035684701514,
          "xref": "x4",
          "y": 31,
          "yref": "y4"
         },
         {
          "font": {
           "color": "green",
           "size": 10
          },
          "showarrow": false,
          "text": "-1SD:69",
          "x": 68.98140262811452,
          "xref": "x4",
          "y": 31,
          "yref": "y4"
         },
         {
          "font": {
           "color": "black",
           "size": 10
          },
          "showarrow": false,
          "text": "Mean:67",
          "x": 67.27745664739885,
          "xref": "x5",
          "y": 34,
          "yref": "y5"
         },
         {
          "font": {
           "color": "green",
           "size": 10
          },
          "showarrow": false,
          "text": "+1SD:98",
          "x": 97.53136119461666,
          "xref": "x5",
          "y": 34,
          "yref": "y5"
         },
         {
          "font": {
           "color": "green",
           "size": 10
          },
          "showarrow": false,
          "text": "-1SD:37",
          "x": 37.023552100181035,
          "xref": "x5",
          "y": 34,
          "yref": "y5"
         },
         {
          "font": {
           "color": "black",
           "size": 10
          },
          "showarrow": false,
          "text": "Mean:65",
          "x": 64.81502890173411,
          "xref": "x6",
          "y": 38,
          "yref": "y6"
         },
         {
          "font": {
           "color": "green",
           "size": 10
          },
          "showarrow": false,
          "text": "+1SD:100",
          "x": 99.98892234434948,
          "xref": "x6",
          "y": 38,
          "yref": "y6"
         },
         {
          "font": {
           "color": "green",
           "size": 10
          },
          "showarrow": false,
          "text": "-1SD:30",
          "x": 29.64113545911875,
          "xref": "x6",
          "y": 38,
          "yref": "y6"
         },
         {
          "font": {
           "size": 13
          },
          "showarrow": false,
          "text": "Total Par Value in Billion",
          "x": 0.12,
          "xanchor": "center",
          "xref": "paper",
          "y": 1.05,
          "yref": "paper"
         },
         {
          "font": {
           "size": 13
          },
          "showarrow": false,
          "text": "ATS & Interdealer Par Value",
          "x": 0.5,
          "xanchor": "center",
          "xref": "paper",
          "y": 1.05,
          "yref": "paper"
         },
         {
          "font": {
           "size": 13
          },
          "showarrow": false,
          "text": "Dealer to Customer Par Value",
          "x": 0.85,
          "xanchor": "center",
          "xref": "paper",
          "y": 1.05,
          "yref": "paper"
         },
         {
          "font": {
           "size": 13
          },
          "showarrow": false,
          "text": "Total Number of Trades",
          "x": 0.12,
          "xanchor": "center",
          "xref": "paper",
          "y": 0.48,
          "yref": "paper"
         },
         {
          "font": {
           "size": 13
          },
          "showarrow": false,
          "text": "ATS & Interdealer Trades",
          "x": 0.5,
          "xanchor": "center",
          "xref": "paper",
          "y": 0.48,
          "yref": "paper"
         },
         {
          "font": {
           "size": 13
          },
          "showarrow": false,
          "text": "Dealer to Customer Trades",
          "x": 0.85,
          "xanchor": "center",
          "xref": "paper",
          "y": 0.48,
          "yref": "paper"
         }
        ],
        "font": {
         "family": "Times New Roman"
        },
        "height": 600,
        "shapes": [
         {
          "line": {
           "color": "black",
           "dash": "dot",
           "width": 2
          },
          "type": "line",
          "x0": 0.8815028901734104,
          "x1": 0.8815028901734104,
          "xref": "x",
          "y0": 0,
          "y1": 50,
          "yref": "y"
         },
         {
          "line": {
           "color": "green",
           "dash": "dot",
           "width": 2
          },
          "type": "line",
          "x0": 1.6045376363725818,
          "x1": 1.6045376363725818,
          "xref": "x",
          "y0": 0,
          "y1": 50,
          "yref": "y"
         },
         {
          "line": {
           "color": "green",
           "dash": "dot",
           "width": 2
          },
          "type": "line",
          "x0": 0.15846814397423903,
          "x1": 0.15846814397423903,
          "xref": "x",
          "y0": 0,
          "y1": 50,
          "yref": "y"
         },
         {
          "line": {
           "color": "black",
           "dash": "dot",
           "width": 2
          },
          "type": "line",
          "x0": 0.32947976878612717,
          "x1": 0.32947976878612717,
          "xref": "x2",
          "y0": 0,
          "y1": 65,
          "yref": "y2"
         },
         {
          "line": {
           "color": "green",
           "dash": "dot",
           "width": 2
          },
          "type": "line",
          "x0": 0.5598307598203894,
          "x1": 0.5598307598203894,
          "xref": "x2",
          "y0": 0,
          "y1": 65,
          "yref": "y2"
         },
         {
          "line": {
           "color": "green",
           "dash": "dot",
           "width": 2
          },
          "type": "line",
          "x0": 0.0991287777518649,
          "x1": 0.0991287777518649,
          "xref": "x2",
          "y0": 0,
          "y1": 65,
          "yref": "y2"
         },
         {
          "line": {
           "color": "black",
           "dash": "dot",
           "width": 2
          },
          "type": "line",
          "x0": 0.5554913294797688,
          "x1": 0.5554913294797688,
          "xref": "x3",
          "y0": 0,
          "y1": 41,
          "yref": "y3"
         },
         {
          "line": {
           "color": "green",
           "dash": "dot",
           "width": 2
          },
          "type": "line",
          "x0": 1.0818337268685636,
          "x1": 1.0818337268685636,
          "xref": "x3",
          "y0": 0,
          "y1": 41,
          "yref": "y3"
         },
         {
          "line": {
           "color": "green",
           "dash": "dot",
           "width": 2
          },
          "type": "line",
          "x0": 0.029148932090974022,
          "x1": 0.029148932090974022,
          "xref": "x3",
          "y0": 0,
          "y1": 41,
          "yref": "y3"
         },
         {
          "line": {
           "color": "black",
           "dash": "dot",
           "width": 2
          },
          "type": "line",
          "x0": 132.09248554913296,
          "x1": 132.09248554913296,
          "xref": "x4",
          "y0": 0,
          "y1": 30,
          "yref": "y4"
         },
         {
          "line": {
           "color": "green",
           "dash": "dot",
           "width": 2
          },
          "type": "line",
          "x0": 195.2035684701514,
          "x1": 195.2035684701514,
          "xref": "x4",
          "y0": 0,
          "y1": 30,
          "yref": "y4"
         },
         {
          "line": {
           "color": "green",
           "dash": "dot",
           "width": 2
          },
          "type": "line",
          "x0": 68.98140262811452,
          "x1": 68.98140262811452,
          "xref": "x4",
          "y0": 0,
          "y1": 30,
          "yref": "y4"
         },
         {
          "line": {
           "color": "black",
           "dash": "dot",
           "width": 2
          },
          "type": "line",
          "x0": 67.27745664739885,
          "x1": 67.27745664739885,
          "xref": "x5",
          "y0": 0,
          "y1": 33,
          "yref": "y5"
         },
         {
          "line": {
           "color": "green",
           "dash": "dot",
           "width": 2
          },
          "type": "line",
          "x0": 97.53136119461666,
          "x1": 97.53136119461666,
          "xref": "x5",
          "y0": 0,
          "y1": 33,
          "yref": "y5"
         },
         {
          "line": {
           "color": "green",
           "dash": "dot",
           "width": 2
          },
          "type": "line",
          "x0": 37.023552100181035,
          "x1": 37.023552100181035,
          "xref": "x5",
          "y0": 0,
          "y1": 33,
          "yref": "y5"
         },
         {
          "line": {
           "color": "black",
           "dash": "dot",
           "width": 2
          },
          "type": "line",
          "x0": 64.81502890173411,
          "x1": 64.81502890173411,
          "xref": "x6",
          "y0": 0,
          "y1": 37,
          "yref": "y6"
         },
         {
          "line": {
           "color": "green",
           "dash": "dot",
           "width": 2
          },
          "type": "line",
          "x0": 99.98892234434948,
          "x1": 99.98892234434948,
          "xref": "x6",
          "y0": 0,
          "y1": 37,
          "yref": "y6"
         },
         {
          "line": {
           "color": "green",
           "dash": "dot",
           "width": 2
          },
          "type": "line",
          "x0": 29.64113545911875,
          "x1": 29.64113545911875,
          "xref": "x6",
          "y0": 0,
          "y1": 37,
          "yref": "y6"
         }
        ],
        "showlegend": false,
        "template": {
         "data": {
          "bar": [
           {
            "error_x": {
             "color": "#2a3f5f"
            },
            "error_y": {
             "color": "#2a3f5f"
            },
            "marker": {
             "line": {
              "color": "#E5ECF6",
              "width": 0.5
             },
             "pattern": {
              "fillmode": "overlay",
              "size": 10,
              "solidity": 0.2
             }
            },
            "type": "bar"
           }
          ],
          "barpolar": [
           {
            "marker": {
             "line": {
              "color": "#E5ECF6",
              "width": 0.5
             },
             "pattern": {
              "fillmode": "overlay",
              "size": 10,
              "solidity": 0.2
             }
            },
            "type": "barpolar"
           }
          ],
          "carpet": [
           {
            "aaxis": {
             "endlinecolor": "#2a3f5f",
             "gridcolor": "white",
             "linecolor": "white",
             "minorgridcolor": "white",
             "startlinecolor": "#2a3f5f"
            },
            "baxis": {
             "endlinecolor": "#2a3f5f",
             "gridcolor": "white",
             "linecolor": "white",
             "minorgridcolor": "white",
             "startlinecolor": "#2a3f5f"
            },
            "type": "carpet"
           }
          ],
          "choropleth": [
           {
            "colorbar": {
             "outlinewidth": 0,
             "ticks": ""
            },
            "type": "choropleth"
           }
          ],
          "contour": [
           {
            "colorbar": {
             "outlinewidth": 0,
             "ticks": ""
            },
            "colorscale": [
             [
              0,
              "#0d0887"
             ],
             [
              0.1111111111111111,
              "#46039f"
             ],
             [
              0.2222222222222222,
              "#7201a8"
             ],
             [
              0.3333333333333333,
              "#9c179e"
             ],
             [
              0.4444444444444444,
              "#bd3786"
             ],
             [
              0.5555555555555556,
              "#d8576b"
             ],
             [
              0.6666666666666666,
              "#ed7953"
             ],
             [
              0.7777777777777778,
              "#fb9f3a"
             ],
             [
              0.8888888888888888,
              "#fdca26"
             ],
             [
              1,
              "#f0f921"
             ]
            ],
            "type": "contour"
           }
          ],
          "contourcarpet": [
           {
            "colorbar": {
             "outlinewidth": 0,
             "ticks": ""
            },
            "type": "contourcarpet"
           }
          ],
          "heatmap": [
           {
            "colorbar": {
             "outlinewidth": 0,
             "ticks": ""
            },
            "colorscale": [
             [
              0,
              "#0d0887"
             ],
             [
              0.1111111111111111,
              "#46039f"
             ],
             [
              0.2222222222222222,
              "#7201a8"
             ],
             [
              0.3333333333333333,
              "#9c179e"
             ],
             [
              0.4444444444444444,
              "#bd3786"
             ],
             [
              0.5555555555555556,
              "#d8576b"
             ],
             [
              0.6666666666666666,
              "#ed7953"
             ],
             [
              0.7777777777777778,
              "#fb9f3a"
             ],
             [
              0.8888888888888888,
              "#fdca26"
             ],
             [
              1,
              "#f0f921"
             ]
            ],
            "type": "heatmap"
           }
          ],
          "heatmapgl": [
           {
            "colorbar": {
             "outlinewidth": 0,
             "ticks": ""
            },
            "colorscale": [
             [
              0,
              "#0d0887"
             ],
             [
              0.1111111111111111,
              "#46039f"
             ],
             [
              0.2222222222222222,
              "#7201a8"
             ],
             [
              0.3333333333333333,
              "#9c179e"
             ],
             [
              0.4444444444444444,
              "#bd3786"
             ],
             [
              0.5555555555555556,
              "#d8576b"
             ],
             [
              0.6666666666666666,
              "#ed7953"
             ],
             [
              0.7777777777777778,
              "#fb9f3a"
             ],
             [
              0.8888888888888888,
              "#fdca26"
             ],
             [
              1,
              "#f0f921"
             ]
            ],
            "type": "heatmapgl"
           }
          ],
          "histogram": [
           {
            "marker": {
             "pattern": {
              "fillmode": "overlay",
              "size": 10,
              "solidity": 0.2
             }
            },
            "type": "histogram"
           }
          ],
          "histogram2d": [
           {
            "colorbar": {
             "outlinewidth": 0,
             "ticks": ""
            },
            "colorscale": [
             [
              0,
              "#0d0887"
             ],
             [
              0.1111111111111111,
              "#46039f"
             ],
             [
              0.2222222222222222,
              "#7201a8"
             ],
             [
              0.3333333333333333,
              "#9c179e"
             ],
             [
              0.4444444444444444,
              "#bd3786"
             ],
             [
              0.5555555555555556,
              "#d8576b"
             ],
             [
              0.6666666666666666,
              "#ed7953"
             ],
             [
              0.7777777777777778,
              "#fb9f3a"
             ],
             [
              0.8888888888888888,
              "#fdca26"
             ],
             [
              1,
              "#f0f921"
             ]
            ],
            "type": "histogram2d"
           }
          ],
          "histogram2dcontour": [
           {
            "colorbar": {
             "outlinewidth": 0,
             "ticks": ""
            },
            "colorscale": [
             [
              0,
              "#0d0887"
             ],
             [
              0.1111111111111111,
              "#46039f"
             ],
             [
              0.2222222222222222,
              "#7201a8"
             ],
             [
              0.3333333333333333,
              "#9c179e"
             ],
             [
              0.4444444444444444,
              "#bd3786"
             ],
             [
              0.5555555555555556,
              "#d8576b"
             ],
             [
              0.6666666666666666,
              "#ed7953"
             ],
             [
              0.7777777777777778,
              "#fb9f3a"
             ],
             [
              0.8888888888888888,
              "#fdca26"
             ],
             [
              1,
              "#f0f921"
             ]
            ],
            "type": "histogram2dcontour"
           }
          ],
          "mesh3d": [
           {
            "colorbar": {
             "outlinewidth": 0,
             "ticks": ""
            },
            "type": "mesh3d"
           }
          ],
          "parcoords": [
           {
            "line": {
             "colorbar": {
              "outlinewidth": 0,
              "ticks": ""
             }
            },
            "type": "parcoords"
           }
          ],
          "pie": [
           {
            "automargin": true,
            "type": "pie"
           }
          ],
          "scatter": [
           {
            "fillpattern": {
             "fillmode": "overlay",
             "size": 10,
             "solidity": 0.2
            },
            "type": "scatter"
           }
          ],
          "scatter3d": [
           {
            "line": {
             "colorbar": {
              "outlinewidth": 0,
              "ticks": ""
             }
            },
            "marker": {
             "colorbar": {
              "outlinewidth": 0,
              "ticks": ""
             }
            },
            "type": "scatter3d"
           }
          ],
          "scattercarpet": [
           {
            "marker": {
             "colorbar": {
              "outlinewidth": 0,
              "ticks": ""
             }
            },
            "type": "scattercarpet"
           }
          ],
          "scattergeo": [
           {
            "marker": {
             "colorbar": {
              "outlinewidth": 0,
              "ticks": ""
             }
            },
            "type": "scattergeo"
           }
          ],
          "scattergl": [
           {
            "marker": {
             "colorbar": {
              "outlinewidth": 0,
              "ticks": ""
             }
            },
            "type": "scattergl"
           }
          ],
          "scattermapbox": [
           {
            "marker": {
             "colorbar": {
              "outlinewidth": 0,
              "ticks": ""
             }
            },
            "type": "scattermapbox"
           }
          ],
          "scatterpolar": [
           {
            "marker": {
             "colorbar": {
              "outlinewidth": 0,
              "ticks": ""
             }
            },
            "type": "scatterpolar"
           }
          ],
          "scatterpolargl": [
           {
            "marker": {
             "colorbar": {
              "outlinewidth": 0,
              "ticks": ""
             }
            },
            "type": "scatterpolargl"
           }
          ],
          "scatterternary": [
           {
            "marker": {
             "colorbar": {
              "outlinewidth": 0,
              "ticks": ""
             }
            },
            "type": "scatterternary"
           }
          ],
          "surface": [
           {
            "colorbar": {
             "outlinewidth": 0,
             "ticks": ""
            },
            "colorscale": [
             [
              0,
              "#0d0887"
             ],
             [
              0.1111111111111111,
              "#46039f"
             ],
             [
              0.2222222222222222,
              "#7201a8"
             ],
             [
              0.3333333333333333,
              "#9c179e"
             ],
             [
              0.4444444444444444,
              "#bd3786"
             ],
             [
              0.5555555555555556,
              "#d8576b"
             ],
             [
              0.6666666666666666,
              "#ed7953"
             ],
             [
              0.7777777777777778,
              "#fb9f3a"
             ],
             [
              0.8888888888888888,
              "#fdca26"
             ],
             [
              1,
              "#f0f921"
             ]
            ],
            "type": "surface"
           }
          ],
          "table": [
           {
            "cells": {
             "fill": {
              "color": "#EBF0F8"
             },
             "line": {
              "color": "white"
             }
            },
            "header": {
             "fill": {
              "color": "#C8D4E3"
             },
             "line": {
              "color": "white"
             }
            },
            "type": "table"
           }
          ]
         },
         "layout": {
          "annotationdefaults": {
           "arrowcolor": "#2a3f5f",
           "arrowhead": 0,
           "arrowwidth": 1
          },
          "autotypenumbers": "strict",
          "coloraxis": {
           "colorbar": {
            "outlinewidth": 0,
            "ticks": ""
           }
          },
          "colorscale": {
           "diverging": [
            [
             0,
             "#8e0152"
            ],
            [
             0.1,
             "#c51b7d"
            ],
            [
             0.2,
             "#de77ae"
            ],
            [
             0.3,
             "#f1b6da"
            ],
            [
             0.4,
             "#fde0ef"
            ],
            [
             0.5,
             "#f7f7f7"
            ],
            [
             0.6,
             "#e6f5d0"
            ],
            [
             0.7,
             "#b8e186"
            ],
            [
             0.8,
             "#7fbc41"
            ],
            [
             0.9,
             "#4d9221"
            ],
            [
             1,
             "#276419"
            ]
           ],
           "sequential": [
            [
             0,
             "#0d0887"
            ],
            [
             0.1111111111111111,
             "#46039f"
            ],
            [
             0.2222222222222222,
             "#7201a8"
            ],
            [
             0.3333333333333333,
             "#9c179e"
            ],
            [
             0.4444444444444444,
             "#bd3786"
            ],
            [
             0.5555555555555556,
             "#d8576b"
            ],
            [
             0.6666666666666666,
             "#ed7953"
            ],
            [
             0.7777777777777778,
             "#fb9f3a"
            ],
            [
             0.8888888888888888,
             "#fdca26"
            ],
            [
             1,
             "#f0f921"
            ]
           ],
           "sequentialminus": [
            [
             0,
             "#0d0887"
            ],
            [
             0.1111111111111111,
             "#46039f"
            ],
            [
             0.2222222222222222,
             "#7201a8"
            ],
            [
             0.3333333333333333,
             "#9c179e"
            ],
            [
             0.4444444444444444,
             "#bd3786"
            ],
            [
             0.5555555555555556,
             "#d8576b"
            ],
            [
             0.6666666666666666,
             "#ed7953"
            ],
            [
             0.7777777777777778,
             "#fb9f3a"
            ],
            [
             0.8888888888888888,
             "#fdca26"
            ],
            [
             1,
             "#f0f921"
            ]
           ]
          },
          "colorway": [
           "#636efa",
           "#EF553B",
           "#00cc96",
           "#ab63fa",
           "#FFA15A",
           "#19d3f3",
           "#FF6692",
           "#B6E880",
           "#FF97FF",
           "#FECB52"
          ],
          "font": {
           "color": "#2a3f5f"
          },
          "geo": {
           "bgcolor": "white",
           "lakecolor": "white",
           "landcolor": "#E5ECF6",
           "showlakes": true,
           "showland": true,
           "subunitcolor": "white"
          },
          "hoverlabel": {
           "align": "left"
          },
          "hovermode": "closest",
          "mapbox": {
           "style": "light"
          },
          "paper_bgcolor": "white",
          "plot_bgcolor": "#E5ECF6",
          "polar": {
           "angularaxis": {
            "gridcolor": "white",
            "linecolor": "white",
            "ticks": ""
           },
           "bgcolor": "#E5ECF6",
           "radialaxis": {
            "gridcolor": "white",
            "linecolor": "white",
            "ticks": ""
           }
          },
          "scene": {
           "xaxis": {
            "backgroundcolor": "#E5ECF6",
            "gridcolor": "white",
            "gridwidth": 2,
            "linecolor": "white",
            "showbackground": true,
            "ticks": "",
            "zerolinecolor": "white"
           },
           "yaxis": {
            "backgroundcolor": "#E5ECF6",
            "gridcolor": "white",
            "gridwidth": 2,
            "linecolor": "white",
            "showbackground": true,
            "ticks": "",
            "zerolinecolor": "white"
           },
           "zaxis": {
            "backgroundcolor": "#E5ECF6",
            "gridcolor": "white",
            "gridwidth": 2,
            "linecolor": "white",
            "showbackground": true,
            "ticks": "",
            "zerolinecolor": "white"
           }
          },
          "shapedefaults": {
           "line": {
            "color": "#2a3f5f"
           }
          },
          "ternary": {
           "aaxis": {
            "gridcolor": "white",
            "linecolor": "white",
            "ticks": ""
           },
           "baxis": {
            "gridcolor": "white",
            "linecolor": "white",
            "ticks": ""
           },
           "bgcolor": "#E5ECF6",
           "caxis": {
            "gridcolor": "white",
            "linecolor": "white",
            "ticks": ""
           }
          },
          "title": {
           "x": 0.05
          },
          "xaxis": {
           "automargin": true,
           "gridcolor": "white",
           "linecolor": "white",
           "ticks": "",
           "title": {
            "standoff": 15
           },
           "zerolinecolor": "white",
           "zerolinewidth": 2
          },
          "yaxis": {
           "automargin": true,
           "gridcolor": "white",
           "linecolor": "white",
           "ticks": "",
           "title": {
            "standoff": 15
           },
           "zerolinecolor": "white",
           "zerolinewidth": 2
          }
         }
        },
        "title": {
         "text": "> 10 years On-the-run TRACE 180-day Dist, As of: 2024-09-18"
        },
        "width": 1400,
        "xaxis": {
         "anchor": "y",
         "domain": [
          0,
          0.29333333333333333
         ]
        },
        "xaxis2": {
         "anchor": "y2",
         "domain": [
          0.35333333333333333,
          0.6466666666666667
         ]
        },
        "xaxis3": {
         "anchor": "y3",
         "domain": [
          0.7066666666666667,
          1
         ]
        },
        "xaxis4": {
         "anchor": "y4",
         "domain": [
          0,
          0.29333333333333333
         ]
        },
        "xaxis5": {
         "anchor": "y5",
         "domain": [
          0.35333333333333333,
          0.6466666666666667
         ]
        },
        "xaxis6": {
         "anchor": "y6",
         "domain": [
          0.7066666666666667,
          1
         ]
        },
        "yaxis": {
         "anchor": "x",
         "domain": [
          0.545,
          1
         ]
        },
        "yaxis2": {
         "anchor": "x2",
         "domain": [
          0.545,
          1
         ]
        },
        "yaxis3": {
         "anchor": "x3",
         "domain": [
          0.545,
          1
         ]
        },
        "yaxis4": {
         "anchor": "x4",
         "domain": [
          0,
          0.455
         ]
        },
        "yaxis5": {
         "anchor": "x5",
         "domain": [
          0,
          0.455
         ]
        },
        "yaxis6": {
         "anchor": "x6",
         "domain": [
          0,
          0.455
         ]
        }
       }
      }
     },
     "metadata": {},
     "output_type": "display_data"
    },
    {
     "name": "stdout",
     "output_type": "stream",
     "text": [
      "Saved plot as tenor_10yearsOfftherun_distribution_180_days.png\n"
     ]
    },
    {
     "data": {
      "application/vnd.plotly.v1+json": {
       "config": {
        "plotlyServerURL": "https://plot.ly"
       },
       "data": [
        {
         "marker": {
          "color": [
           "blue",
           "blue",
           "blue",
           "blue",
           "blue",
           "blue",
           "blue",
           "blue",
           "blue",
           "blue",
           "blue",
           "blue",
           "red",
           "blue",
           "blue",
           "blue",
           "blue",
           "blue",
           "blue",
           "blue",
           "blue",
           "blue",
           "blue",
           "blue",
           "blue",
           "blue",
           "blue",
           "blue",
           "blue",
           "blue",
           "blue",
           "blue",
           "blue",
           "blue",
           "blue",
           "blue",
           "blue",
           "blue",
           "blue",
           "blue",
           "blue",
           "blue",
           "blue",
           "blue",
           "blue",
           "blue",
           "blue",
           "blue",
           "blue",
           "blue"
          ]
         },
         "name": "Par Value Histogram",
         "type": "bar",
         "x": [
          0.127,
          0.181,
          0.235,
          0.289,
          0.34299999999999997,
          0.39699999999999996,
          0.45099999999999996,
          0.5049999999999999,
          0.5589999999999999,
          0.613,
          0.6669999999999998,
          0.7209999999999999,
          0.7749999999999999,
          0.829,
          0.8829999999999998,
          0.9369999999999998,
          0.9909999999999999,
          1.045,
          1.0989999999999998,
          1.153,
          1.2069999999999999,
          1.261,
          1.315,
          1.3689999999999998,
          1.423,
          1.4769999999999999,
          1.531,
          1.585,
          1.6389999999999998,
          1.6929999999999998,
          1.7469999999999999,
          1.8009999999999997,
          1.855,
          1.9089999999999998,
          1.9629999999999999,
          2.0169999999999995,
          2.0709999999999997,
          2.125,
          2.179,
          2.2329999999999997,
          2.287,
          2.3409999999999997,
          2.3949999999999996,
          2.449,
          2.5029999999999997,
          2.5569999999999995,
          2.6109999999999998,
          2.665,
          2.7189999999999994,
          2.7729999999999997
         ],
         "xaxis": "x",
         "y": [
          9,
          16,
          0,
          34,
          0,
          24,
          0,
          22,
          0,
          16,
          0,
          7,
          12,
          0,
          10,
          0,
          5,
          0,
          2,
          0,
          2,
          0,
          2,
          0,
          0,
          2,
          0,
          1,
          0,
          2,
          0,
          0,
          0,
          1,
          0,
          1,
          0,
          1,
          1,
          0,
          0,
          0,
          0,
          0,
          1,
          0,
          1,
          0,
          0,
          1
         ],
         "yaxis": "y"
        },
        {
         "marker": {
          "color": [
           "blue",
           "blue",
           "blue",
           "blue",
           "blue",
           "blue",
           "blue",
           "red",
           "blue",
           "blue",
           "blue",
           "blue",
           "blue",
           "blue",
           "blue",
           "blue",
           "blue",
           "blue",
           "blue",
           "blue",
           "blue",
           "blue",
           "blue",
           "blue",
           "blue",
           "blue",
           "blue",
           "blue",
           "blue",
           "blue",
           "blue",
           "blue",
           "blue",
           "blue",
           "blue",
           "blue",
           "blue",
           "blue",
           "blue",
           "blue",
           "blue",
           "blue",
           "blue",
           "blue",
           "blue",
           "blue",
           "blue",
           "blue",
           "blue",
           "blue"
          ]
         },
         "name": "Par Value Histogram",
         "type": "bar",
         "x": [
          0.006999999999999999,
          0.020999999999999998,
          0.034999999999999996,
          0.048999999999999995,
          0.063,
          0.07699999999999999,
          0.091,
          0.10499999999999998,
          0.119,
          0.133,
          0.14699999999999996,
          0.16099999999999998,
          0.175,
          0.189,
          0.20299999999999996,
          0.21699999999999997,
          0.23099999999999998,
          0.245,
          0.259,
          0.27299999999999996,
          0.287,
          0.30099999999999993,
          0.31499999999999995,
          0.32899999999999996,
          0.34299999999999997,
          0.357,
          0.371,
          0.38499999999999995,
          0.39899999999999997,
          0.4129999999999999,
          0.42699999999999994,
          0.44099999999999995,
          0.45499999999999996,
          0.469,
          0.483,
          0.497,
          0.5109999999999999,
          0.5249999999999999,
          0.5389999999999999,
          0.5529999999999999,
          0.567,
          0.581,
          0.595,
          0.609,
          0.6229999999999999,
          0.6369999999999999,
          0.6509999999999999,
          0.6649999999999999,
          0.6789999999999999,
          0.693
         ],
         "xaxis": "x2",
         "y": [
          60,
          0,
          0,
          0,
          0,
          0,
          0,
          74,
          0,
          0,
          0,
          0,
          0,
          0,
          25,
          0,
          0,
          0,
          0,
          0,
          0,
          6,
          0,
          0,
          0,
          0,
          0,
          0,
          4,
          0,
          0,
          0,
          0,
          0,
          0,
          2,
          0,
          0,
          0,
          0,
          0,
          0,
          1,
          0,
          0,
          0,
          0,
          0,
          0,
          1
         ],
         "yaxis": "y2"
        },
        {
         "marker": {
          "color": [
           "blue",
           "blue",
           "blue",
           "blue",
           "blue",
           "blue",
           "blue",
           "blue",
           "blue",
           "blue",
           "blue",
           "blue",
           "blue",
           "red",
           "blue",
           "blue",
           "blue",
           "blue",
           "blue",
           "blue",
           "blue",
           "blue",
           "blue",
           "blue",
           "blue",
           "blue",
           "blue",
           "blue",
           "blue",
           "blue",
           "blue",
           "blue",
           "blue",
           "blue",
           "blue",
           "blue",
           "blue",
           "blue",
           "blue",
           "blue",
           "blue",
           "blue",
           "blue",
           "blue",
           "blue",
           "blue",
           "blue",
           "blue",
           "blue",
           "blue"
          ]
         },
         "name": "Par Value Histogram",
         "type": "bar",
         "x": [
          0.12200000000000001,
          0.166,
          0.21000000000000002,
          0.254,
          0.298,
          0.34199999999999997,
          0.386,
          0.43,
          0.474,
          0.518,
          0.5619999999999999,
          0.606,
          0.6499999999999999,
          0.694,
          0.738,
          0.7819999999999999,
          0.826,
          0.8699999999999999,
          0.9139999999999999,
          0.958,
          1.002,
          1.046,
          1.09,
          1.1340000000000001,
          1.178,
          1.222,
          1.266,
          1.31,
          1.354,
          1.3980000000000001,
          1.442,
          1.486,
          1.53,
          1.574,
          1.6179999999999999,
          1.662,
          1.706,
          1.75,
          1.794,
          1.838,
          1.882,
          1.926,
          1.97,
          2.0140000000000002,
          2.058,
          2.1020000000000003,
          2.146,
          2.1900000000000004,
          2.234,
          2.2779999999999996
         ],
         "xaxis": "x3",
         "y": [
          16,
          0,
          32,
          0,
          32,
          0,
          23,
          0,
          0,
          21,
          0,
          9,
          0,
          13,
          0,
          8,
          0,
          0,
          2,
          0,
          3,
          0,
          2,
          0,
          0,
          1,
          0,
          2,
          0,
          2,
          0,
          1,
          0,
          0,
          1,
          0,
          1,
          0,
          0,
          0,
          1,
          0,
          0,
          1,
          0,
          1,
          0,
          0,
          0,
          1
         ],
         "yaxis": "y3"
        },
        {
         "marker": {
          "color": [
           "blue",
           "blue",
           "blue",
           "blue",
           "blue",
           "blue",
           "red",
           "blue",
           "blue",
           "blue",
           "blue",
           "blue",
           "blue",
           "blue",
           "blue",
           "blue",
           "blue",
           "blue",
           "blue",
           "blue",
           "blue",
           "blue",
           "blue",
           "blue",
           "blue",
           "blue",
           "blue",
           "blue",
           "blue",
           "blue",
           "blue",
           "blue",
           "blue",
           "blue",
           "blue",
           "blue",
           "blue",
           "blue",
           "blue",
           "blue",
           "blue",
           "blue",
           "blue",
           "blue",
           "blue",
           "blue",
           "blue",
           "blue",
           "blue",
           "blue"
          ]
         },
         "name": "Trades Histogram",
         "type": "bar",
         "x": [
          181.12,
          207.36,
          233.6,
          259.84,
          286.08,
          312.32,
          338.55999999999995,
          364.79999999999995,
          391.03999999999996,
          417.28,
          443.52,
          469.76,
          496,
          522.24,
          548.4799999999999,
          574.7199999999999,
          600.9599999999999,
          627.1999999999999,
          653.4399999999999,
          679.68,
          705.92,
          732.16,
          758.4,
          784.64,
          810.88,
          837.12,
          863.3599999999999,
          889.5999999999999,
          915.8399999999999,
          942.0799999999999,
          968.3199999999999,
          994.56,
          1020.8,
          1047.04,
          1073.28,
          1099.52,
          1125.76,
          1152,
          1178.2399999999998,
          1204.48,
          1230.7199999999998,
          1256.96,
          1283.1999999999998,
          1309.44,
          1335.6799999999998,
          1361.92,
          1388.1599999999999,
          1414.4,
          1440.6399999999999,
          1466.88
         ],
         "xaxis": "x4",
         "y": [
          2,
          2,
          2,
          5,
          8,
          18,
          16,
          16,
          15,
          10,
          14,
          9,
          8,
          5,
          8,
          3,
          3,
          0,
          5,
          3,
          4,
          3,
          0,
          1,
          1,
          2,
          2,
          1,
          0,
          1,
          0,
          1,
          1,
          0,
          0,
          1,
          1,
          0,
          0,
          0,
          0,
          0,
          1,
          0,
          0,
          0,
          0,
          0,
          0,
          1
         ],
         "yaxis": "y4"
        },
        {
         "marker": {
          "color": [
           "blue",
           "blue",
           "blue",
           "blue",
           "blue",
           "blue",
           "blue",
           "red",
           "blue",
           "blue",
           "blue",
           "blue",
           "blue",
           "blue",
           "blue",
           "blue",
           "blue",
           "blue",
           "blue",
           "blue",
           "blue",
           "blue",
           "blue",
           "blue",
           "blue",
           "blue",
           "blue",
           "blue",
           "blue",
           "blue",
           "blue",
           "blue",
           "blue",
           "blue",
           "blue",
           "blue",
           "blue",
           "blue",
           "blue",
           "blue",
           "blue",
           "blue",
           "blue",
           "blue",
           "blue",
           "blue",
           "blue",
           "blue",
           "blue",
           "blue"
          ]
         },
         "name": "Trades Histogram",
         "type": "bar",
         "x": [
          49.96,
          63.88,
          77.8,
          91.72,
          105.64,
          119.56,
          133.48,
          147.4,
          161.32,
          175.24,
          189.16,
          203.07999999999998,
          217,
          230.92000000000002,
          244.84,
          258.76,
          272.68,
          286.6,
          300.52,
          314.44,
          328.36,
          342.28,
          356.20000000000005,
          370.12,
          384.03999999999996,
          397.96000000000004,
          411.88,
          425.79999999999995,
          439.72,
          453.64,
          467.56,
          481.48,
          495.4,
          509.32,
          523.24,
          537.1600000000001,
          551.0799999999999,
          565,
          578.9200000000001,
          592.8399999999999,
          606.76,
          620.6800000000001,
          634.5999999999999,
          648.52,
          662.44,
          676.36,
          690.28,
          704.2,
          718.12,
          732.04
         ],
         "xaxis": "x5",
         "y": [
          1,
          3,
          3,
          7,
          7,
          16,
          9,
          21,
          12,
          9,
          5,
          8,
          10,
          8,
          7,
          6,
          4,
          1,
          5,
          5,
          1,
          1,
          2,
          1,
          1,
          3,
          4,
          5,
          0,
          0,
          2,
          1,
          1,
          1,
          0,
          0,
          0,
          1,
          0,
          0,
          0,
          0,
          0,
          0,
          0,
          0,
          1,
          0,
          0,
          1
         ],
         "yaxis": "y5"
        },
        {
         "marker": {
          "color": [
           "blue",
           "blue",
           "blue",
           "blue",
           "red",
           "blue",
           "blue",
           "blue",
           "blue",
           "blue",
           "blue",
           "blue",
           "blue",
           "blue",
           "blue",
           "blue",
           "blue",
           "blue",
           "blue",
           "blue",
           "blue",
           "blue",
           "blue",
           "blue",
           "blue",
           "blue",
           "blue",
           "blue",
           "blue",
           "blue",
           "blue",
           "blue",
           "blue",
           "blue",
           "blue",
           "blue",
           "blue",
           "blue",
           "blue",
           "blue",
           "blue",
           "blue",
           "blue",
           "blue",
           "blue",
           "blue",
           "blue",
           "blue",
           "blue",
           "blue"
          ]
         },
         "name": "Trades Histogram",
         "type": "bar",
         "x": [
          125.06,
          139.18,
          153.3,
          167.42000000000002,
          181.54,
          195.66,
          209.77999999999997,
          223.89999999999998,
          238.01999999999998,
          252.14,
          266.26,
          280.38,
          294.5,
          308.62,
          322.73999999999995,
          336.85999999999996,
          350.97999999999996,
          365.09999999999997,
          379.21999999999997,
          393.34,
          407.46,
          421.58,
          435.7,
          449.82,
          463.94,
          478.06,
          492.17999999999995,
          506.29999999999995,
          520.42,
          534.54,
          548.66,
          562.78,
          576.9,
          591.02,
          605.14,
          619.26,
          633.3799999999999,
          647.5,
          661.6199999999999,
          675.74,
          689.8599999999999,
          703.98,
          718.0999999999999,
          732.22,
          746.3399999999999,
          760.46,
          774.5799999999999,
          788.7,
          802.8199999999999,
          816.94
         ],
         "xaxis": "x6",
         "y": [
          2,
          4,
          7,
          9,
          13,
          23,
          19,
          16,
          24,
          13,
          10,
          7,
          5,
          2,
          2,
          1,
          0,
          1,
          3,
          0,
          1,
          2,
          0,
          0,
          0,
          1,
          0,
          0,
          0,
          0,
          0,
          0,
          0,
          1,
          0,
          0,
          0,
          1,
          0,
          1,
          1,
          0,
          1,
          0,
          0,
          0,
          0,
          1,
          0,
          2
         ],
         "yaxis": "y6"
        }
       ],
       "layout": {
        "annotations": [
         {
          "font": {
           "color": "black",
           "size": 10
          },
          "showarrow": false,
          "text": "Mean:1",
          "x": 0.6028901734104046,
          "xref": "x",
          "y": 45,
          "yref": "y"
         },
         {
          "font": {
           "color": "green",
           "size": 10
          },
          "showarrow": false,
          "text": "+1SD:1",
          "x": 1.0804111980560034,
          "xref": "x",
          "y": 45,
          "yref": "y"
         },
         {
          "font": {
           "color": "green",
           "size": 10
          },
          "showarrow": false,
          "text": "-1SD:0",
          "x": 0.12536914876480576,
          "xref": "x",
          "y": 45,
          "yref": "y"
         },
         {
          "font": {
           "color": "black",
           "size": 10
          },
          "showarrow": false,
          "text": "Mean:0",
          "x": 0.1046242774566474,
          "xref": "x2",
          "y": 85,
          "yref": "y2"
         },
         {
          "font": {
           "color": "green",
           "size": 10
          },
          "showarrow": false,
          "text": "+1SD:0",
          "x": 0.22182428381982963,
          "xref": "x2",
          "y": 85,
          "yref": "y2"
         },
         {
          "font": {
           "color": "green",
           "size": 10
          },
          "showarrow": false,
          "text": "-1SD:-0",
          "x": -0.012575728906534828,
          "xref": "x2",
          "y": 85,
          "yref": "y2"
         },
         {
          "font": {
           "color": "black",
           "size": 10
          },
          "showarrow": false,
          "text": "Mean:0",
          "x": 0.49075144508670526,
          "xref": "x3",
          "y": 43,
          "yref": "y3"
         },
         {
          "font": {
           "color": "green",
           "size": 10
          },
          "showarrow": false,
          "text": "+1SD:1",
          "x": 0.8865764948402076,
          "xref": "x3",
          "y": 43,
          "yref": "y3"
         },
         {
          "font": {
           "color": "green",
           "size": 10
          },
          "showarrow": false,
          "text": "-1SD:0",
          "x": 0.0949263953332029,
          "xref": "x3",
          "y": 43,
          "yref": "y3"
         },
         {
          "font": {
           "color": "black",
           "size": 10
          },
          "showarrow": false,
          "text": "Mean:467",
          "x": 466.9884393063584,
          "xref": "x4",
          "y": 29,
          "yref": "y4"
         },
         {
          "font": {
           "color": "green",
           "size": 10
          },
          "showarrow": false,
          "text": "+1SD:669",
          "x": 669.0974635230384,
          "xref": "x4",
          "y": 29,
          "yref": "y4"
         },
         {
          "font": {
           "color": "green",
           "size": 10
          },
          "showarrow": false,
          "text": "-1SD:265",
          "x": 264.87941508967833,
          "xref": "x4",
          "y": 29,
          "yref": "y4"
         },
         {
          "font": {
           "color": "black",
           "size": 10
          },
          "showarrow": false,
          "text": "Mean:216",
          "x": 215.7398843930636,
          "xref": "x5",
          "y": 32,
          "yref": "y5"
         },
         {
          "font": {
           "color": "green",
           "size": 10
          },
          "showarrow": false,
          "text": "+1SD:334",
          "x": 333.66567899930163,
          "xref": "x5",
          "y": 32,
          "yref": "y5"
         },
         {
          "font": {
           "color": "green",
           "size": 10
          },
          "showarrow": false,
          "text": "-1SD:98",
          "x": 97.81408978682553,
          "xref": "x5",
          "y": 32,
          "yref": "y5"
         },
         {
          "font": {
           "color": "black",
           "size": 10
          },
          "showarrow": false,
          "text": "Mean:251",
          "x": 251.2485549132948,
          "xref": "x6",
          "y": 35,
          "yref": "y6"
         },
         {
          "font": {
           "color": "green",
           "size": 10
          },
          "showarrow": false,
          "text": "+1SD:370",
          "x": 369.735360894186,
          "xref": "x6",
          "y": 35,
          "yref": "y6"
         },
         {
          "font": {
           "color": "green",
           "size": 10
          },
          "showarrow": false,
          "text": "-1SD:133",
          "x": 132.76174893240366,
          "xref": "x6",
          "y": 35,
          "yref": "y6"
         },
         {
          "font": {
           "size": 13
          },
          "showarrow": false,
          "text": "Total Par Value in Billion",
          "x": 0.12,
          "xanchor": "center",
          "xref": "paper",
          "y": 1.05,
          "yref": "paper"
         },
         {
          "font": {
           "size": 13
          },
          "showarrow": false,
          "text": "ATS & Interdealer Par Value",
          "x": 0.5,
          "xanchor": "center",
          "xref": "paper",
          "y": 1.05,
          "yref": "paper"
         },
         {
          "font": {
           "size": 13
          },
          "showarrow": false,
          "text": "Dealer to Customer Par Value",
          "x": 0.85,
          "xanchor": "center",
          "xref": "paper",
          "y": 1.05,
          "yref": "paper"
         },
         {
          "font": {
           "size": 13
          },
          "showarrow": false,
          "text": "Total Number of Trades",
          "x": 0.12,
          "xanchor": "center",
          "xref": "paper",
          "y": 0.48,
          "yref": "paper"
         },
         {
          "font": {
           "size": 13
          },
          "showarrow": false,
          "text": "ATS & Interdealer Trades",
          "x": 0.5,
          "xanchor": "center",
          "xref": "paper",
          "y": 0.48,
          "yref": "paper"
         },
         {
          "font": {
           "size": 13
          },
          "showarrow": false,
          "text": "Dealer to Customer Trades",
          "x": 0.85,
          "xanchor": "center",
          "xref": "paper",
          "y": 0.48,
          "yref": "paper"
         }
        ],
        "font": {
         "family": "Times New Roman"
        },
        "height": 600,
        "shapes": [
         {
          "line": {
           "color": "black",
           "dash": "dot",
           "width": 2
          },
          "type": "line",
          "x0": 0.6028901734104046,
          "x1": 0.6028901734104046,
          "xref": "x",
          "y0": 0,
          "y1": 44,
          "yref": "y"
         },
         {
          "line": {
           "color": "green",
           "dash": "dot",
           "width": 2
          },
          "type": "line",
          "x0": 1.0804111980560034,
          "x1": 1.0804111980560034,
          "xref": "x",
          "y0": 0,
          "y1": 44,
          "yref": "y"
         },
         {
          "line": {
           "color": "green",
           "dash": "dot",
           "width": 2
          },
          "type": "line",
          "x0": 0.12536914876480576,
          "x1": 0.12536914876480576,
          "xref": "x",
          "y0": 0,
          "y1": 44,
          "yref": "y"
         },
         {
          "line": {
           "color": "black",
           "dash": "dot",
           "width": 2
          },
          "type": "line",
          "x0": 0.1046242774566474,
          "x1": 0.1046242774566474,
          "xref": "x2",
          "y0": 0,
          "y1": 84,
          "yref": "y2"
         },
         {
          "line": {
           "color": "green",
           "dash": "dot",
           "width": 2
          },
          "type": "line",
          "x0": 0.22182428381982963,
          "x1": 0.22182428381982963,
          "xref": "x2",
          "y0": 0,
          "y1": 84,
          "yref": "y2"
         },
         {
          "line": {
           "color": "green",
           "dash": "dot",
           "width": 2
          },
          "type": "line",
          "x0": -0.012575728906534828,
          "x1": -0.012575728906534828,
          "xref": "x2",
          "y0": 0,
          "y1": 84,
          "yref": "y2"
         },
         {
          "line": {
           "color": "black",
           "dash": "dot",
           "width": 2
          },
          "type": "line",
          "x0": 0.49075144508670526,
          "x1": 0.49075144508670526,
          "xref": "x3",
          "y0": 0,
          "y1": 42,
          "yref": "y3"
         },
         {
          "line": {
           "color": "green",
           "dash": "dot",
           "width": 2
          },
          "type": "line",
          "x0": 0.8865764948402076,
          "x1": 0.8865764948402076,
          "xref": "x3",
          "y0": 0,
          "y1": 42,
          "yref": "y3"
         },
         {
          "line": {
           "color": "green",
           "dash": "dot",
           "width": 2
          },
          "type": "line",
          "x0": 0.0949263953332029,
          "x1": 0.0949263953332029,
          "xref": "x3",
          "y0": 0,
          "y1": 42,
          "yref": "y3"
         },
         {
          "line": {
           "color": "black",
           "dash": "dot",
           "width": 2
          },
          "type": "line",
          "x0": 466.9884393063584,
          "x1": 466.9884393063584,
          "xref": "x4",
          "y0": 0,
          "y1": 28,
          "yref": "y4"
         },
         {
          "line": {
           "color": "green",
           "dash": "dot",
           "width": 2
          },
          "type": "line",
          "x0": 669.0974635230384,
          "x1": 669.0974635230384,
          "xref": "x4",
          "y0": 0,
          "y1": 28,
          "yref": "y4"
         },
         {
          "line": {
           "color": "green",
           "dash": "dot",
           "width": 2
          },
          "type": "line",
          "x0": 264.87941508967833,
          "x1": 264.87941508967833,
          "xref": "x4",
          "y0": 0,
          "y1": 28,
          "yref": "y4"
         },
         {
          "line": {
           "color": "black",
           "dash": "dot",
           "width": 2
          },
          "type": "line",
          "x0": 215.7398843930636,
          "x1": 215.7398843930636,
          "xref": "x5",
          "y0": 0,
          "y1": 31,
          "yref": "y5"
         },
         {
          "line": {
           "color": "green",
           "dash": "dot",
           "width": 2
          },
          "type": "line",
          "x0": 333.66567899930163,
          "x1": 333.66567899930163,
          "xref": "x5",
          "y0": 0,
          "y1": 31,
          "yref": "y5"
         },
         {
          "line": {
           "color": "green",
           "dash": "dot",
           "width": 2
          },
          "type": "line",
          "x0": 97.81408978682553,
          "x1": 97.81408978682553,
          "xref": "x5",
          "y0": 0,
          "y1": 31,
          "yref": "y5"
         },
         {
          "line": {
           "color": "black",
           "dash": "dot",
           "width": 2
          },
          "type": "line",
          "x0": 251.2485549132948,
          "x1": 251.2485549132948,
          "xref": "x6",
          "y0": 0,
          "y1": 34,
          "yref": "y6"
         },
         {
          "line": {
           "color": "green",
           "dash": "dot",
           "width": 2
          },
          "type": "line",
          "x0": 369.735360894186,
          "x1": 369.735360894186,
          "xref": "x6",
          "y0": 0,
          "y1": 34,
          "yref": "y6"
         },
         {
          "line": {
           "color": "green",
           "dash": "dot",
           "width": 2
          },
          "type": "line",
          "x0": 132.76174893240366,
          "x1": 132.76174893240366,
          "xref": "x6",
          "y0": 0,
          "y1": 34,
          "yref": "y6"
         }
        ],
        "showlegend": false,
        "template": {
         "data": {
          "bar": [
           {
            "error_x": {
             "color": "#2a3f5f"
            },
            "error_y": {
             "color": "#2a3f5f"
            },
            "marker": {
             "line": {
              "color": "#E5ECF6",
              "width": 0.5
             },
             "pattern": {
              "fillmode": "overlay",
              "size": 10,
              "solidity": 0.2
             }
            },
            "type": "bar"
           }
          ],
          "barpolar": [
           {
            "marker": {
             "line": {
              "color": "#E5ECF6",
              "width": 0.5
             },
             "pattern": {
              "fillmode": "overlay",
              "size": 10,
              "solidity": 0.2
             }
            },
            "type": "barpolar"
           }
          ],
          "carpet": [
           {
            "aaxis": {
             "endlinecolor": "#2a3f5f",
             "gridcolor": "white",
             "linecolor": "white",
             "minorgridcolor": "white",
             "startlinecolor": "#2a3f5f"
            },
            "baxis": {
             "endlinecolor": "#2a3f5f",
             "gridcolor": "white",
             "linecolor": "white",
             "minorgridcolor": "white",
             "startlinecolor": "#2a3f5f"
            },
            "type": "carpet"
           }
          ],
          "choropleth": [
           {
            "colorbar": {
             "outlinewidth": 0,
             "ticks": ""
            },
            "type": "choropleth"
           }
          ],
          "contour": [
           {
            "colorbar": {
             "outlinewidth": 0,
             "ticks": ""
            },
            "colorscale": [
             [
              0,
              "#0d0887"
             ],
             [
              0.1111111111111111,
              "#46039f"
             ],
             [
              0.2222222222222222,
              "#7201a8"
             ],
             [
              0.3333333333333333,
              "#9c179e"
             ],
             [
              0.4444444444444444,
              "#bd3786"
             ],
             [
              0.5555555555555556,
              "#d8576b"
             ],
             [
              0.6666666666666666,
              "#ed7953"
             ],
             [
              0.7777777777777778,
              "#fb9f3a"
             ],
             [
              0.8888888888888888,
              "#fdca26"
             ],
             [
              1,
              "#f0f921"
             ]
            ],
            "type": "contour"
           }
          ],
          "contourcarpet": [
           {
            "colorbar": {
             "outlinewidth": 0,
             "ticks": ""
            },
            "type": "contourcarpet"
           }
          ],
          "heatmap": [
           {
            "colorbar": {
             "outlinewidth": 0,
             "ticks": ""
            },
            "colorscale": [
             [
              0,
              "#0d0887"
             ],
             [
              0.1111111111111111,
              "#46039f"
             ],
             [
              0.2222222222222222,
              "#7201a8"
             ],
             [
              0.3333333333333333,
              "#9c179e"
             ],
             [
              0.4444444444444444,
              "#bd3786"
             ],
             [
              0.5555555555555556,
              "#d8576b"
             ],
             [
              0.6666666666666666,
              "#ed7953"
             ],
             [
              0.7777777777777778,
              "#fb9f3a"
             ],
             [
              0.8888888888888888,
              "#fdca26"
             ],
             [
              1,
              "#f0f921"
             ]
            ],
            "type": "heatmap"
           }
          ],
          "heatmapgl": [
           {
            "colorbar": {
             "outlinewidth": 0,
             "ticks": ""
            },
            "colorscale": [
             [
              0,
              "#0d0887"
             ],
             [
              0.1111111111111111,
              "#46039f"
             ],
             [
              0.2222222222222222,
              "#7201a8"
             ],
             [
              0.3333333333333333,
              "#9c179e"
             ],
             [
              0.4444444444444444,
              "#bd3786"
             ],
             [
              0.5555555555555556,
              "#d8576b"
             ],
             [
              0.6666666666666666,
              "#ed7953"
             ],
             [
              0.7777777777777778,
              "#fb9f3a"
             ],
             [
              0.8888888888888888,
              "#fdca26"
             ],
             [
              1,
              "#f0f921"
             ]
            ],
            "type": "heatmapgl"
           }
          ],
          "histogram": [
           {
            "marker": {
             "pattern": {
              "fillmode": "overlay",
              "size": 10,
              "solidity": 0.2
             }
            },
            "type": "histogram"
           }
          ],
          "histogram2d": [
           {
            "colorbar": {
             "outlinewidth": 0,
             "ticks": ""
            },
            "colorscale": [
             [
              0,
              "#0d0887"
             ],
             [
              0.1111111111111111,
              "#46039f"
             ],
             [
              0.2222222222222222,
              "#7201a8"
             ],
             [
              0.3333333333333333,
              "#9c179e"
             ],
             [
              0.4444444444444444,
              "#bd3786"
             ],
             [
              0.5555555555555556,
              "#d8576b"
             ],
             [
              0.6666666666666666,
              "#ed7953"
             ],
             [
              0.7777777777777778,
              "#fb9f3a"
             ],
             [
              0.8888888888888888,
              "#fdca26"
             ],
             [
              1,
              "#f0f921"
             ]
            ],
            "type": "histogram2d"
           }
          ],
          "histogram2dcontour": [
           {
            "colorbar": {
             "outlinewidth": 0,
             "ticks": ""
            },
            "colorscale": [
             [
              0,
              "#0d0887"
             ],
             [
              0.1111111111111111,
              "#46039f"
             ],
             [
              0.2222222222222222,
              "#7201a8"
             ],
             [
              0.3333333333333333,
              "#9c179e"
             ],
             [
              0.4444444444444444,
              "#bd3786"
             ],
             [
              0.5555555555555556,
              "#d8576b"
             ],
             [
              0.6666666666666666,
              "#ed7953"
             ],
             [
              0.7777777777777778,
              "#fb9f3a"
             ],
             [
              0.8888888888888888,
              "#fdca26"
             ],
             [
              1,
              "#f0f921"
             ]
            ],
            "type": "histogram2dcontour"
           }
          ],
          "mesh3d": [
           {
            "colorbar": {
             "outlinewidth": 0,
             "ticks": ""
            },
            "type": "mesh3d"
           }
          ],
          "parcoords": [
           {
            "line": {
             "colorbar": {
              "outlinewidth": 0,
              "ticks": ""
             }
            },
            "type": "parcoords"
           }
          ],
          "pie": [
           {
            "automargin": true,
            "type": "pie"
           }
          ],
          "scatter": [
           {
            "fillpattern": {
             "fillmode": "overlay",
             "size": 10,
             "solidity": 0.2
            },
            "type": "scatter"
           }
          ],
          "scatter3d": [
           {
            "line": {
             "colorbar": {
              "outlinewidth": 0,
              "ticks": ""
             }
            },
            "marker": {
             "colorbar": {
              "outlinewidth": 0,
              "ticks": ""
             }
            },
            "type": "scatter3d"
           }
          ],
          "scattercarpet": [
           {
            "marker": {
             "colorbar": {
              "outlinewidth": 0,
              "ticks": ""
             }
            },
            "type": "scattercarpet"
           }
          ],
          "scattergeo": [
           {
            "marker": {
             "colorbar": {
              "outlinewidth": 0,
              "ticks": ""
             }
            },
            "type": "scattergeo"
           }
          ],
          "scattergl": [
           {
            "marker": {
             "colorbar": {
              "outlinewidth": 0,
              "ticks": ""
             }
            },
            "type": "scattergl"
           }
          ],
          "scattermapbox": [
           {
            "marker": {
             "colorbar": {
              "outlinewidth": 0,
              "ticks": ""
             }
            },
            "type": "scattermapbox"
           }
          ],
          "scatterpolar": [
           {
            "marker": {
             "colorbar": {
              "outlinewidth": 0,
              "ticks": ""
             }
            },
            "type": "scatterpolar"
           }
          ],
          "scatterpolargl": [
           {
            "marker": {
             "colorbar": {
              "outlinewidth": 0,
              "ticks": ""
             }
            },
            "type": "scatterpolargl"
           }
          ],
          "scatterternary": [
           {
            "marker": {
             "colorbar": {
              "outlinewidth": 0,
              "ticks": ""
             }
            },
            "type": "scatterternary"
           }
          ],
          "surface": [
           {
            "colorbar": {
             "outlinewidth": 0,
             "ticks": ""
            },
            "colorscale": [
             [
              0,
              "#0d0887"
             ],
             [
              0.1111111111111111,
              "#46039f"
             ],
             [
              0.2222222222222222,
              "#7201a8"
             ],
             [
              0.3333333333333333,
              "#9c179e"
             ],
             [
              0.4444444444444444,
              "#bd3786"
             ],
             [
              0.5555555555555556,
              "#d8576b"
             ],
             [
              0.6666666666666666,
              "#ed7953"
             ],
             [
              0.7777777777777778,
              "#fb9f3a"
             ],
             [
              0.8888888888888888,
              "#fdca26"
             ],
             [
              1,
              "#f0f921"
             ]
            ],
            "type": "surface"
           }
          ],
          "table": [
           {
            "cells": {
             "fill": {
              "color": "#EBF0F8"
             },
             "line": {
              "color": "white"
             }
            },
            "header": {
             "fill": {
              "color": "#C8D4E3"
             },
             "line": {
              "color": "white"
             }
            },
            "type": "table"
           }
          ]
         },
         "layout": {
          "annotationdefaults": {
           "arrowcolor": "#2a3f5f",
           "arrowhead": 0,
           "arrowwidth": 1
          },
          "autotypenumbers": "strict",
          "coloraxis": {
           "colorbar": {
            "outlinewidth": 0,
            "ticks": ""
           }
          },
          "colorscale": {
           "diverging": [
            [
             0,
             "#8e0152"
            ],
            [
             0.1,
             "#c51b7d"
            ],
            [
             0.2,
             "#de77ae"
            ],
            [
             0.3,
             "#f1b6da"
            ],
            [
             0.4,
             "#fde0ef"
            ],
            [
             0.5,
             "#f7f7f7"
            ],
            [
             0.6,
             "#e6f5d0"
            ],
            [
             0.7,
             "#b8e186"
            ],
            [
             0.8,
             "#7fbc41"
            ],
            [
             0.9,
             "#4d9221"
            ],
            [
             1,
             "#276419"
            ]
           ],
           "sequential": [
            [
             0,
             "#0d0887"
            ],
            [
             0.1111111111111111,
             "#46039f"
            ],
            [
             0.2222222222222222,
             "#7201a8"
            ],
            [
             0.3333333333333333,
             "#9c179e"
            ],
            [
             0.4444444444444444,
             "#bd3786"
            ],
            [
             0.5555555555555556,
             "#d8576b"
            ],
            [
             0.6666666666666666,
             "#ed7953"
            ],
            [
             0.7777777777777778,
             "#fb9f3a"
            ],
            [
             0.8888888888888888,
             "#fdca26"
            ],
            [
             1,
             "#f0f921"
            ]
           ],
           "sequentialminus": [
            [
             0,
             "#0d0887"
            ],
            [
             0.1111111111111111,
             "#46039f"
            ],
            [
             0.2222222222222222,
             "#7201a8"
            ],
            [
             0.3333333333333333,
             "#9c179e"
            ],
            [
             0.4444444444444444,
             "#bd3786"
            ],
            [
             0.5555555555555556,
             "#d8576b"
            ],
            [
             0.6666666666666666,
             "#ed7953"
            ],
            [
             0.7777777777777778,
             "#fb9f3a"
            ],
            [
             0.8888888888888888,
             "#fdca26"
            ],
            [
             1,
             "#f0f921"
            ]
           ]
          },
          "colorway": [
           "#636efa",
           "#EF553B",
           "#00cc96",
           "#ab63fa",
           "#FFA15A",
           "#19d3f3",
           "#FF6692",
           "#B6E880",
           "#FF97FF",
           "#FECB52"
          ],
          "font": {
           "color": "#2a3f5f"
          },
          "geo": {
           "bgcolor": "white",
           "lakecolor": "white",
           "landcolor": "#E5ECF6",
           "showlakes": true,
           "showland": true,
           "subunitcolor": "white"
          },
          "hoverlabel": {
           "align": "left"
          },
          "hovermode": "closest",
          "mapbox": {
           "style": "light"
          },
          "paper_bgcolor": "white",
          "plot_bgcolor": "#E5ECF6",
          "polar": {
           "angularaxis": {
            "gridcolor": "white",
            "linecolor": "white",
            "ticks": ""
           },
           "bgcolor": "#E5ECF6",
           "radialaxis": {
            "gridcolor": "white",
            "linecolor": "white",
            "ticks": ""
           }
          },
          "scene": {
           "xaxis": {
            "backgroundcolor": "#E5ECF6",
            "gridcolor": "white",
            "gridwidth": 2,
            "linecolor": "white",
            "showbackground": true,
            "ticks": "",
            "zerolinecolor": "white"
           },
           "yaxis": {
            "backgroundcolor": "#E5ECF6",
            "gridcolor": "white",
            "gridwidth": 2,
            "linecolor": "white",
            "showbackground": true,
            "ticks": "",
            "zerolinecolor": "white"
           },
           "zaxis": {
            "backgroundcolor": "#E5ECF6",
            "gridcolor": "white",
            "gridwidth": 2,
            "linecolor": "white",
            "showbackground": true,
            "ticks": "",
            "zerolinecolor": "white"
           }
          },
          "shapedefaults": {
           "line": {
            "color": "#2a3f5f"
           }
          },
          "ternary": {
           "aaxis": {
            "gridcolor": "white",
            "linecolor": "white",
            "ticks": ""
           },
           "baxis": {
            "gridcolor": "white",
            "linecolor": "white",
            "ticks": ""
           },
           "bgcolor": "#E5ECF6",
           "caxis": {
            "gridcolor": "white",
            "linecolor": "white",
            "ticks": ""
           }
          },
          "title": {
           "x": 0.05
          },
          "xaxis": {
           "automargin": true,
           "gridcolor": "white",
           "linecolor": "white",
           "ticks": "",
           "title": {
            "standoff": 15
           },
           "zerolinecolor": "white",
           "zerolinewidth": 2
          },
          "yaxis": {
           "automargin": true,
           "gridcolor": "white",
           "linecolor": "white",
           "ticks": "",
           "title": {
            "standoff": 15
           },
           "zerolinecolor": "white",
           "zerolinewidth": 2
          }
         }
        },
        "title": {
         "text": "> 10 years Off-the-run TRACE 180-day Dist, As of: 2024-09-18"
        },
        "width": 1400,
        "xaxis": {
         "anchor": "y",
         "domain": [
          0,
          0.29333333333333333
         ]
        },
        "xaxis2": {
         "anchor": "y2",
         "domain": [
          0.35333333333333333,
          0.6466666666666667
         ]
        },
        "xaxis3": {
         "anchor": "y3",
         "domain": [
          0.7066666666666667,
          1
         ]
        },
        "xaxis4": {
         "anchor": "y4",
         "domain": [
          0,
          0.29333333333333333
         ]
        },
        "xaxis5": {
         "anchor": "y5",
         "domain": [
          0.35333333333333333,
          0.6466666666666667
         ]
        },
        "xaxis6": {
         "anchor": "y6",
         "domain": [
          0.7066666666666667,
          1
         ]
        },
        "yaxis": {
         "anchor": "x",
         "domain": [
          0.545,
          1
         ]
        },
        "yaxis2": {
         "anchor": "x2",
         "domain": [
          0.545,
          1
         ]
        },
        "yaxis3": {
         "anchor": "x3",
         "domain": [
          0.545,
          1
         ]
        },
        "yaxis4": {
         "anchor": "x4",
         "domain": [
          0,
          0.455
         ]
        },
        "yaxis5": {
         "anchor": "x5",
         "domain": [
          0,
          0.455
         ]
        },
        "yaxis6": {
         "anchor": "x6",
         "domain": [
          0,
          0.455
         ]
        }
       }
      }
     },
     "metadata": {},
     "output_type": "display_data"
    }
   ],
   "source": [
    "plot_hist(df_180, 180)"
   ]
  }
 ],
 "metadata": {
  "kernelspec": {
   "display_name": "Python 3",
   "language": "python",
   "name": "python3"
  },
  "language_info": {
   "codemirror_mode": {
    "name": "ipython",
    "version": 3
   },
   "file_extension": ".py",
   "mimetype": "text/x-python",
   "name": "python",
   "nbconvert_exporter": "python",
   "pygments_lexer": "ipython3",
   "version": "3.10.11"
  }
 },
 "nbformat": 4,
 "nbformat_minor": 2
}
